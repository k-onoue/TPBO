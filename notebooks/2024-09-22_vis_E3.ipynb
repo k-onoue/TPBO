{
 "cells": [
  {
   "cell_type": "code",
   "execution_count": 1,
   "metadata": {},
   "outputs": [],
   "source": [
    "import ast\n",
    "import os\n",
    "import re\n",
    "\n",
    "import numpy as np\n",
    "import pandas as pd\n",
    "import plotly.express as px\n",
    "import plotly.graph_objects as go\n",
    "\n",
    "from _import_from_src import search_log_files\n",
    "from _import_from_src import LogParser\n",
    "from _import_from_src import LOG_DIR\n",
    "\n",
    "target = os.path.join(LOG_DIR, 'E2')\n",
    "\n",
    "color_dict = {\n",
    "    'GP': px.colors.qualitative.Plotly[0],\n",
    "    'TP': px.colors.qualitative.Plotly[1],\n",
    "    'AGT': px.colors.qualitative.Plotly[2],\n",
    "}"
   ]
  },
  {
   "cell_type": "code",
   "execution_count": 57,
   "metadata": {},
   "outputs": [],
   "source": [
    "class LogParser:\n",
    "    def __init__(self, file_path):\n",
    "        self.file_path = file_path\n",
    "        self.settings = {}\n",
    "        self.initial_data = {\"X_initial\": [], \"y_initial\": []}\n",
    "        self.bo_data = {\"X_new\": [], \"y_new\": [], \"Beta\": [], \"Iteration\": []}\n",
    "        self.objective = None\n",
    "\n",
    "    def _combine_log_entries(self):\n",
    "        with open(self.file_path, \"r\") as file:  # 修正: self.log_file → self.file_path\n",
    "            lines = file.readlines()\n",
    "\n",
    "        timestamp_pattern = r\"\\d{4}-\\d{2}-\\d{2} \\d{2}:\\d{2}:\\d{2},\\d{3} - \"\n",
    "\n",
    "        combined_lines = []\n",
    "        current_entry = \"\"\n",
    "\n",
    "        for line in lines:\n",
    "            if re.match(timestamp_pattern, line):\n",
    "                if current_entry:\n",
    "                    combined_lines.append(current_entry.strip())\n",
    "                current_entry = line.strip()\n",
    "            else:\n",
    "                current_entry += \" \" + line.strip()\n",
    "\n",
    "        if current_entry:\n",
    "            combined_lines.append(current_entry.strip())\n",
    "\n",
    "        return combined_lines\n",
    "\n",
    "    def _parse_settings(self, line):\n",
    "        settings_str = line.split(\"settings:\")[1].strip()\n",
    "        try:\n",
    "            # Parse the settings safely\n",
    "            self.settings = self._safe_parse_settings(settings_str)\n",
    "            \n",
    "            # More flexible regex to capture the class name of the objective_function\n",
    "            obj_func_match = re.search(r\"objective_function':\\s*<.*?\\.([A-Za-z0-9_]+)\\s+object\\s+at\", settings_str)\n",
    "            \n",
    "            if obj_func_match:\n",
    "                objective_function_name = obj_func_match.group(1)\n",
    "                print(f\"Objective Function: {objective_function_name}\")\n",
    "            else:\n",
    "                print(\"Objective Function not found in settings.\")\n",
    "                \n",
    "        except SyntaxError as e:\n",
    "            print(f\"Failed to parse settings: {e}\")\n",
    "            self.settings = settings_str\n",
    "\n",
    "    def _safe_parse_settings(self, settings_str):\n",
    "        # array と <function>, <class> の部分を文字列に置換\n",
    "        settings_str = re.sub(r\"<function\\s+\\w+\\s+at\\s+0x[0-9a-fA-F]+>\", \"'<function>'\", settings_str)\n",
    "        settings_str = re.sub(r\"<class\\s+'\\w+\\.\\w+'>\", \"'<class>'\", settings_str)\n",
    "        settings_str = re.sub(r\"<\\w+\\.\\w+\\s+object\\s+at\\s+0x[0-9a-fA-F]+>\", \"'<object>'\", settings_str)\n",
    "        \n",
    "        # 辞書を文字列から生成（evalは使わず安全なast.literal_evalを使う）\n",
    "        settings_dict = ast.literal_eval(settings_str)\n",
    "        \n",
    "        return settings_dict\n",
    "\n",
    "    def parse_log_file(self):\n",
    "        combined_lines = self._combine_log_entries()\n",
    "        current_data = {}\n",
    "        \n",
    "        for line in combined_lines:\n",
    "            # Parse settings\n",
    "            if \"Start BO with settings:\" in line:\n",
    "                settings_str = re.search(r\"Start BO with settings: (.*)\", line).group(1)\n",
    "\n",
    "                try:\n",
    "                    self._parse_settings(line)\n",
    "                except Exception as e:\n",
    "                    print(f\"Failed to parse settings: {e}\")\n",
    "                    self.settings = settings_str\n",
    "            \n",
    "            # Parse X_initial and y_initial\n",
    "            elif \"X initial:\" in line:\n",
    "                x_initial_str = re.search(r\"X initial: (\\[.*?\\])\", line).group(1)\n",
    "                self.initial_data[\"X_initial\"].append(self._extract_float_list(x_initial_str))\n",
    "            elif \"y initial:\" in line:\n",
    "                y_initial_str = re.search(r\"y initial: (\\[.*?\\])\", line).group(1)\n",
    "                self.initial_data[\"y_initial\"].append(self._extract_float_list(y_initial_str))\n",
    "\n",
    "            # Parse Beta, Iteration, X_new, and y_new\n",
    "            elif \"Beta:\" in line:\n",
    "                current_data[\"Beta\"] = float(re.search(r\"Beta: ([-+]?\\d*\\.\\d+|\\d+)\", line).group(1))\n",
    "            elif \"Iteration:\" in line:\n",
    "                current_data[\"Iteration\"] = int(re.search(r\"Iteration: (\\d+) /\", line).group(1))\n",
    "            elif \"X new:\" in line:\n",
    "                current_data[\"X_new\"] = self._extract_float_list(re.search(r\"X new: (\\[\\[.*?\\]\\])\", line).group(1))\n",
    "            elif \"y new:\" in line:\n",
    "                current_data[\"y_new\"] = self._extract_float_list(re.search(r\"y new: (\\[\\[.*?\\]\\])\", line).group(1))\n",
    "\n",
    "                # Check if all required fields are in `current_data`\n",
    "                if all(key in current_data for key in [\"Beta\", \"Iteration\", \"X_new\", \"y_new\"]):\n",
    "                    # Append the current data to `self.bo_data`\n",
    "                    self.bo_data[\"Beta\"].append(current_data[\"Beta\"])\n",
    "                    self.bo_data[\"Iteration\"].append(current_data[\"Iteration\"])\n",
    "                    self.bo_data[\"X_new\"].append(current_data[\"X_new\"])\n",
    "                    self.bo_data[\"y_new\"].append(current_data[\"y_new\"])\n",
    "\n",
    "                    # Clear current_data for the next entry\n",
    "                    current_data.clear()\n",
    "        \n",
    "        # pandas DataFrame に変換\n",
    "        self.initial_data = pd.DataFrame(self.initial_data)\n",
    "        self.bo_data = pd.DataFrame(self.bo_data)\n",
    "\n",
    "        self.initial_data[\"X_initial\"] = self.initial_data[\"X_initial\"].apply(np.array)\n",
    "        self.initial_data[\"y_initial\"] = self.initial_data[\"y_initial\"].apply(np.array)\n",
    "        self.initial_data[\"y_initial\"] = self.initial_data[\"y_initial\"].apply(float)\n",
    "\n",
    "        self.bo_data[\"X_new\"] = self.bo_data[\"X_new\"].apply(np.array)\n",
    "        self.bo_data[\"y_new\"] = self.bo_data[\"y_new\"].apply(np.array)\n",
    "        self.bo_data[\"y_new\"] = self.bo_data[\"y_new\"].apply(float)\n",
    "        \n",
    "\n",
    "    def _extract_float_list(self, array_str):\n",
    "        # Updated regex pattern to capture numbers in scientific notation as well\n",
    "        number_pattern = r\"[-+]?\\d*\\.\\d+(?:[eE][-+]?\\d+)?|\\d+\"\n",
    "        numbers = re.findall(number_pattern, array_str)\n",
    "        return [float(num) for num in numbers]\n",
    "    \n",
    "    def create_combined_dataframe(self):\n",
    "        beta_init = self.bo_data['Beta'].iloc[0]\n",
    "\n",
    "        df_init = self.initial_data.copy()\n",
    "        df_init['X_new'] = df_init['X_initial']\n",
    "        df_init['y_new'] = df_init['y_initial']\n",
    "        df_init.drop(columns=['X_initial', 'y_initial'], inplace=True)\n",
    "        df_init['y_best'] = df_init['y_new'].min()\n",
    "        df_init['Beta'] = beta_init\n",
    "        df_init['Beta:n'] = beta_init / len(df_init)\n",
    "        df_init['Iteration'] = 0\n",
    "\n",
    "        df_main = self.bo_data.copy()\n",
    "        df_main['y_best'] = df_main['y_new'].cummin()\n",
    "        df_main['y_best'] = np.minimum(df_main['y_best'], df_init['y_best'].iloc[0])\n",
    "        df_main['Beta:n'] = df_main['Beta'] / (len(df_init) + df_main.index)\n",
    "\n",
    "        df = pd.concat([df_init, df_main])\n",
    "        return df \n",
    "    \n",
    "# Create a history plot for bo_data using Plotly\n",
    "def history_plot(bo_data):\n",
    "    fig = go.Figure()\n",
    "\n",
    "    # Plot y_new as blue dots\n",
    "    fig.add_trace(go.Scatter(\n",
    "        x=bo_data['Iteration'],\n",
    "        y=bo_data['y_new'],\n",
    "        mode='markers',\n",
    "        name='y_new',\n",
    "        marker=dict(color='blue')\n",
    "    ))\n",
    "\n",
    "    # Plot y_best as a blue line\n",
    "    fig.add_trace(go.Scatter(\n",
    "        x=bo_data['Iteration'],\n",
    "        y=bo_data['y_best'],\n",
    "        mode='lines',\n",
    "        name='y_best',\n",
    "        line=dict(color='blue')\n",
    "    ))\n",
    "\n",
    "    # Highlight points where Beta:n >= 1 with orange dots\n",
    "    high_beta_mask = bo_data['Beta:n'] >= 1\n",
    "    fig.add_trace(go.Scatter(\n",
    "        x=bo_data['Iteration'][high_beta_mask],\n",
    "        y=bo_data['y_new'][high_beta_mask],\n",
    "        mode='markers',\n",
    "        name='y_new (Beta:n >= 1)',\n",
    "        marker=dict(color='orange')\n",
    "    ))\n",
    "\n",
    "    # Customize the layout\n",
    "    fig.update_layout(\n",
    "        title=\"Bayesian Optimization History\",\n",
    "        xaxis_title=\"Iteration\",\n",
    "        yaxis_title=\"Function Value\",\n",
    "        legend_title=\"Metrics\"\n",
    "    )\n",
    "\n",
    "    fig.show()\n",
    "\n",
    "\n",
    "def process_dataframes(dataframes):\n",
    "    # Find the minimum number of rows across all DataFrames\n",
    "    min_rows = min(df.shape[0] for df in dataframes)\n",
    "    max_rows = max(df.shape[0] for df in dataframes)\n",
    "\n",
    "    # Truncate each DataFrame to the minimum number of rows\n",
    "    truncated_dfs = [df[['y_best', 'Iteration', 'Beta']].head(min_rows) for df in dataframes]\n",
    "\n",
    "    # Concatenate the truncated DataFrames along the row axis\n",
    "    concatenated_df = pd.concat(truncated_dfs)\n",
    "\n",
    "    # Group by the iteration and calculate the mean and std for y_best\n",
    "    result_df = concatenated_df.groupby('Iteration').agg(\n",
    "        y_best_mean=('y_best', 'mean'),\n",
    "        y_best_std=('y_best', 'std'),\n",
    "        beta_mean=('Beta', 'mean'),\n",
    "        beta_std=('Beta', 'std')\n",
    "    ).reset_index()\n",
    "\n",
    "    # Print the minimum and maximum row counts\n",
    "    print(f\"Minimum number of rows: {min_rows}\")\n",
    "    print(f\"Maximum number of rows: {max_rows}\")\n",
    "    \n",
    "    return result_df\n",
    "\n",
    "def add_history_plot_with_error_bars(fig, model_name, bo_data):\n",
    "    # Plot y_best without error bars (for mean line and markers)\n",
    "    fig.add_trace(go.Scatter(\n",
    "        x=bo_data['Iteration'],\n",
    "        y=bo_data['y_best_mean'],\n",
    "        mode='lines+markers',\n",
    "        name=f\"{model_name} (Mean)\",\n",
    "        line=dict(color=color_dict[model_name])\n",
    "    ))\n",
    "\n",
    "    # Plot the same y_best with error bars and reduced opacity for the second trace\n",
    "    fig.add_trace(go.Scatter(\n",
    "        x=bo_data['Iteration'],\n",
    "        y=bo_data['y_best_mean'],\n",
    "        mode='lines+markers',\n",
    "        name=f\"{model_name} (Error Bars)\",\n",
    "        line=dict(color=color_dict[model_name]),\n",
    "        opacity=0.3,  # Reduce opacity for the second trace (error bars)\n",
    "        error_y=dict(\n",
    "            type='data',  # Error type is 'data', which means we provide error bars as data\n",
    "            array=bo_data['y_best_std'],  # Use standard deviation as error bars\n",
    "            visible=True  # Make sure error bars are visible\n",
    "        ),\n",
    "        showlegend=False  # Hide this trace from the legend\n",
    "    ))\n",
    "\n",
    "# Function to create and store result_df for each model\n",
    "def create_result_df_dict(target, models, keywards):\n",
    "    result_df_dict = {}\n",
    "    \n",
    "    # Loop through each model to process files and create result_df\n",
    "    for model_name in models:\n",
    "        # Update keywards with the current model name\n",
    "        updated_keywards = [model_name] + keywards  # Replace the first item with model_name\n",
    "        \n",
    "        # Search for log files\n",
    "        filename_list = search_log_files(target, updated_keywards)\n",
    "        filepath_list = [os.path.join(target, filename) for filename in filename_list]\n",
    "        \n",
    "        # Initialize an empty list to hold dataframes\n",
    "        dataframes = []\n",
    "        \n",
    "        # Parse each log file and create dataframes\n",
    "        for filepath in filepath_list:\n",
    "            parser = LogParser(filepath)\n",
    "            parser.parse_log_file()\n",
    "            df = parser.create_combined_dataframe()\n",
    "            dataframes.append(df)\n",
    "        \n",
    "        # Process the dataframes and store the result in result_df_dict\n",
    "        result_df = process_dataframes(dataframes)\n",
    "        result_df_dict[model_name] = result_df  # Store the result in the dictionary with the model name as key\n",
    "    \n",
    "    return result_df_dict"
   ]
  },
  {
   "cell_type": "code",
   "execution_count": 16,
   "metadata": {},
   "outputs": [
    {
     "data": {
      "text/plain": [
       "['2024-09-21_22-15-14_roposed_bo_SinusoidalSynthetic_AGT_EI_seed0.log',\n",
       " '2024-09-21_22-15-14_roposed_bo_SinusoidalSynthetic_AGT_EI_seed1.log',\n",
       " '2024-09-21_22-15-14_roposed_bo_SinusoidalSynthetic_AGT_EI_seed2.log',\n",
       " '2024-09-21_22-15-14_roposed_bo_SinusoidalSynthetic_AGT_EI_seed3.log',\n",
       " '2024-09-21_22-15-14_roposed_bo_SinusoidalSynthetic_AGT_EI_seed4.log']"
      ]
     },
     "execution_count": 16,
     "metadata": {},
     "output_type": "execute_result"
    }
   ],
   "source": [
    "keywards = [\"AGT\", 'Sinusoidal', 'EI']\n",
    "filename_list = search_log_files(target, keywards)\n",
    "filename_list"
   ]
  },
  {
   "cell_type": "code",
   "execution_count": 22,
   "metadata": {},
   "outputs": [
    {
     "name": "stdout",
     "output_type": "stream",
     "text": [
      "Failed to parse settings: invalid syntax (<unknown>, line 1)\n"
     ]
    },
    {
     "data": {
      "text/html": [
       "<div>\n",
       "<style scoped>\n",
       "    .dataframe tbody tr th:only-of-type {\n",
       "        vertical-align: middle;\n",
       "    }\n",
       "\n",
       "    .dataframe tbody tr th {\n",
       "        vertical-align: top;\n",
       "    }\n",
       "\n",
       "    .dataframe thead th {\n",
       "        text-align: right;\n",
       "    }\n",
       "</style>\n",
       "<table border=\"1\" class=\"dataframe\">\n",
       "  <thead>\n",
       "    <tr style=\"text-align: right;\">\n",
       "      <th></th>\n",
       "      <th>X_new</th>\n",
       "      <th>y_new</th>\n",
       "      <th>y_best</th>\n",
       "      <th>Beta</th>\n",
       "      <th>Beta:n</th>\n",
       "      <th>Iteration</th>\n",
       "    </tr>\n",
       "  </thead>\n",
       "  <tbody>\n",
       "    <tr>\n",
       "      <th>0</th>\n",
       "      <td>[6.97321758]</td>\n",
       "      <td>21.465557</td>\n",
       "      <td>-21.104920</td>\n",
       "      <td>2.168405</td>\n",
       "      <td>0.542101</td>\n",
       "      <td>0</td>\n",
       "    </tr>\n",
       "    <tr>\n",
       "      <th>1</th>\n",
       "      <td>[8.8004753]</td>\n",
       "      <td>-18.257951</td>\n",
       "      <td>-21.104920</td>\n",
       "      <td>2.168405</td>\n",
       "      <td>0.542101</td>\n",
       "      <td>0</td>\n",
       "    </tr>\n",
       "    <tr>\n",
       "      <th>2</th>\n",
       "      <td>[7.89199717]</td>\n",
       "      <td>-8.354414</td>\n",
       "      <td>-21.104920</td>\n",
       "      <td>2.168405</td>\n",
       "      <td>0.542101</td>\n",
       "      <td>0</td>\n",
       "    </tr>\n",
       "    <tr>\n",
       "      <th>3</th>\n",
       "      <td>[6.00610279]</td>\n",
       "      <td>-21.104920</td>\n",
       "      <td>-21.104920</td>\n",
       "      <td>2.168405</td>\n",
       "      <td>0.542101</td>\n",
       "      <td>0</td>\n",
       "    </tr>\n",
       "    <tr>\n",
       "      <th>0</th>\n",
       "      <td>[5.0]</td>\n",
       "      <td>15.382359</td>\n",
       "      <td>-21.104920</td>\n",
       "      <td>2.168405</td>\n",
       "      <td>0.542101</td>\n",
       "      <td>1</td>\n",
       "    </tr>\n",
       "    <tr>\n",
       "      <th>1</th>\n",
       "      <td>[10.0]</td>\n",
       "      <td>-6.801930</td>\n",
       "      <td>-21.104920</td>\n",
       "      <td>2.909167</td>\n",
       "      <td>0.581833</td>\n",
       "      <td>2</td>\n",
       "    </tr>\n",
       "    <tr>\n",
       "      <th>2</th>\n",
       "      <td>[9.3801155]</td>\n",
       "      <td>69.193214</td>\n",
       "      <td>-21.104920</td>\n",
       "      <td>3.665157</td>\n",
       "      <td>0.610859</td>\n",
       "      <td>3</td>\n",
       "    </tr>\n",
       "    <tr>\n",
       "      <th>3</th>\n",
       "      <td>[5.9179335]</td>\n",
       "      <td>-16.470800</td>\n",
       "      <td>-21.104920</td>\n",
       "      <td>4.449562</td>\n",
       "      <td>0.635652</td>\n",
       "      <td>4</td>\n",
       "    </tr>\n",
       "    <tr>\n",
       "      <th>4</th>\n",
       "      <td>[5.710989]</td>\n",
       "      <td>-3.512074</td>\n",
       "      <td>-21.104920</td>\n",
       "      <td>5.288769</td>\n",
       "      <td>0.661096</td>\n",
       "      <td>5</td>\n",
       "    </tr>\n",
       "    <tr>\n",
       "      <th>5</th>\n",
       "      <td>[5.963643]</td>\n",
       "      <td>-18.985937</td>\n",
       "      <td>-21.104920</td>\n",
       "      <td>6.313912</td>\n",
       "      <td>0.701546</td>\n",
       "      <td>6</td>\n",
       "    </tr>\n",
       "    <tr>\n",
       "      <th>6</th>\n",
       "      <td>[5.9807587]</td>\n",
       "      <td>-19.867760</td>\n",
       "      <td>-21.104920</td>\n",
       "      <td>7.222850</td>\n",
       "      <td>0.722285</td>\n",
       "      <td>7</td>\n",
       "    </tr>\n",
       "    <tr>\n",
       "      <th>7</th>\n",
       "      <td>[6.026289]</td>\n",
       "      <td>-22.026580</td>\n",
       "      <td>-22.026580</td>\n",
       "      <td>8.255849</td>\n",
       "      <td>0.750532</td>\n",
       "      <td>8</td>\n",
       "    </tr>\n",
       "    <tr>\n",
       "      <th>8</th>\n",
       "      <td>[6.0614367]</td>\n",
       "      <td>-23.483122</td>\n",
       "      <td>-23.483122</td>\n",
       "      <td>9.626034</td>\n",
       "      <td>0.802169</td>\n",
       "      <td>9</td>\n",
       "    </tr>\n",
       "    <tr>\n",
       "      <th>9</th>\n",
       "      <td>[6.123271]</td>\n",
       "      <td>-25.532665</td>\n",
       "      <td>-25.532665</td>\n",
       "      <td>11.129195</td>\n",
       "      <td>0.856092</td>\n",
       "      <td>10</td>\n",
       "    </tr>\n",
       "    <tr>\n",
       "      <th>10</th>\n",
       "      <td>[8.428096]</td>\n",
       "      <td>-54.343422</td>\n",
       "      <td>-54.343422</td>\n",
       "      <td>13.207597</td>\n",
       "      <td>0.943400</td>\n",
       "      <td>11</td>\n",
       "    </tr>\n",
       "    <tr>\n",
       "      <th>11</th>\n",
       "      <td>[8.418853]</td>\n",
       "      <td>-54.446380</td>\n",
       "      <td>-54.446380</td>\n",
       "      <td>17.695820</td>\n",
       "      <td>1.179721</td>\n",
       "      <td>12</td>\n",
       "    </tr>\n",
       "    <tr>\n",
       "      <th>12</th>\n",
       "      <td>[8.419733]</td>\n",
       "      <td>-54.438324</td>\n",
       "      <td>-54.446380</td>\n",
       "      <td>30.691776</td>\n",
       "      <td>1.918236</td>\n",
       "      <td>13</td>\n",
       "    </tr>\n",
       "    <tr>\n",
       "      <th>13</th>\n",
       "      <td>[8.422982]</td>\n",
       "      <td>-54.405420</td>\n",
       "      <td>-54.446380</td>\n",
       "      <td>11.667412</td>\n",
       "      <td>0.686318</td>\n",
       "      <td>14</td>\n",
       "    </tr>\n",
       "    <tr>\n",
       "      <th>14</th>\n",
       "      <td>[8.427637]</td>\n",
       "      <td>-54.349483</td>\n",
       "      <td>-54.446380</td>\n",
       "      <td>7.213192</td>\n",
       "      <td>0.400733</td>\n",
       "      <td>15</td>\n",
       "    </tr>\n",
       "    <tr>\n",
       "      <th>15</th>\n",
       "      <td>[8.514275]</td>\n",
       "      <td>-51.405360</td>\n",
       "      <td>-54.446380</td>\n",
       "      <td>6.786021</td>\n",
       "      <td>0.357159</td>\n",
       "      <td>16</td>\n",
       "    </tr>\n",
       "    <tr>\n",
       "      <th>16</th>\n",
       "      <td>[8.153106]</td>\n",
       "      <td>-41.315407</td>\n",
       "      <td>-54.446380</td>\n",
       "      <td>7.234157</td>\n",
       "      <td>0.361708</td>\n",
       "      <td>17</td>\n",
       "    </tr>\n",
       "    <tr>\n",
       "      <th>17</th>\n",
       "      <td>[8.153106]</td>\n",
       "      <td>-41.315407</td>\n",
       "      <td>-54.446380</td>\n",
       "      <td>7.720907</td>\n",
       "      <td>0.367662</td>\n",
       "      <td>18</td>\n",
       "    </tr>\n",
       "    <tr>\n",
       "      <th>18</th>\n",
       "      <td>[8.153106]</td>\n",
       "      <td>-41.315407</td>\n",
       "      <td>-54.446380</td>\n",
       "      <td>7.832802</td>\n",
       "      <td>0.356036</td>\n",
       "      <td>19</td>\n",
       "    </tr>\n",
       "    <tr>\n",
       "      <th>19</th>\n",
       "      <td>[8.153106]</td>\n",
       "      <td>-41.315407</td>\n",
       "      <td>-54.446380</td>\n",
       "      <td>7.784879</td>\n",
       "      <td>0.338473</td>\n",
       "      <td>20</td>\n",
       "    </tr>\n",
       "    <tr>\n",
       "      <th>20</th>\n",
       "      <td>[8.153106]</td>\n",
       "      <td>-41.315407</td>\n",
       "      <td>-54.446380</td>\n",
       "      <td>7.714990</td>\n",
       "      <td>0.321458</td>\n",
       "      <td>21</td>\n",
       "    </tr>\n",
       "    <tr>\n",
       "      <th>21</th>\n",
       "      <td>[8.153106]</td>\n",
       "      <td>-41.315407</td>\n",
       "      <td>-54.446380</td>\n",
       "      <td>7.607889</td>\n",
       "      <td>0.304316</td>\n",
       "      <td>22</td>\n",
       "    </tr>\n",
       "    <tr>\n",
       "      <th>22</th>\n",
       "      <td>[7.4308853]</td>\n",
       "      <td>38.033800</td>\n",
       "      <td>-54.446380</td>\n",
       "      <td>7.541901</td>\n",
       "      <td>0.290073</td>\n",
       "      <td>23</td>\n",
       "    </tr>\n",
       "    <tr>\n",
       "      <th>23</th>\n",
       "      <td>[8.153106]</td>\n",
       "      <td>-41.315407</td>\n",
       "      <td>-54.446380</td>\n",
       "      <td>7.756112</td>\n",
       "      <td>0.287263</td>\n",
       "      <td>24</td>\n",
       "    </tr>\n",
       "    <tr>\n",
       "      <th>24</th>\n",
       "      <td>[7.410524]</td>\n",
       "      <td>38.682440</td>\n",
       "      <td>-54.446380</td>\n",
       "      <td>7.815338</td>\n",
       "      <td>0.279119</td>\n",
       "      <td>25</td>\n",
       "    </tr>\n",
       "    <tr>\n",
       "      <th>25</th>\n",
       "      <td>[7.410524]</td>\n",
       "      <td>38.682440</td>\n",
       "      <td>-54.446380</td>\n",
       "      <td>7.660635</td>\n",
       "      <td>0.264160</td>\n",
       "      <td>26</td>\n",
       "    </tr>\n",
       "    <tr>\n",
       "      <th>26</th>\n",
       "      <td>[7.410524]</td>\n",
       "      <td>38.682440</td>\n",
       "      <td>-54.446380</td>\n",
       "      <td>7.433941</td>\n",
       "      <td>0.247798</td>\n",
       "      <td>27</td>\n",
       "    </tr>\n",
       "    <tr>\n",
       "      <th>27</th>\n",
       "      <td>[7.410524]</td>\n",
       "      <td>38.682440</td>\n",
       "      <td>-54.446380</td>\n",
       "      <td>7.111986</td>\n",
       "      <td>0.229419</td>\n",
       "      <td>28</td>\n",
       "    </tr>\n",
       "    <tr>\n",
       "      <th>28</th>\n",
       "      <td>[7.410524]</td>\n",
       "      <td>38.682440</td>\n",
       "      <td>-54.446380</td>\n",
       "      <td>6.911323</td>\n",
       "      <td>0.215979</td>\n",
       "      <td>29</td>\n",
       "    </tr>\n",
       "    <tr>\n",
       "      <th>29</th>\n",
       "      <td>[7.410524]</td>\n",
       "      <td>38.682440</td>\n",
       "      <td>-54.446380</td>\n",
       "      <td>6.679212</td>\n",
       "      <td>0.202400</td>\n",
       "      <td>30</td>\n",
       "    </tr>\n",
       "    <tr>\n",
       "      <th>30</th>\n",
       "      <td>[7.410524]</td>\n",
       "      <td>38.682440</td>\n",
       "      <td>-54.446380</td>\n",
       "      <td>6.692859</td>\n",
       "      <td>0.196849</td>\n",
       "      <td>31</td>\n",
       "    </tr>\n",
       "    <tr>\n",
       "      <th>31</th>\n",
       "      <td>[6.744807]</td>\n",
       "      <td>-0.508806</td>\n",
       "      <td>-54.446380</td>\n",
       "      <td>7.240136</td>\n",
       "      <td>0.206861</td>\n",
       "      <td>32</td>\n",
       "    </tr>\n",
       "    <tr>\n",
       "      <th>32</th>\n",
       "      <td>[6.744807]</td>\n",
       "      <td>-0.508806</td>\n",
       "      <td>-54.446380</td>\n",
       "      <td>4.056988</td>\n",
       "      <td>0.112694</td>\n",
       "      <td>33</td>\n",
       "    </tr>\n",
       "    <tr>\n",
       "      <th>33</th>\n",
       "      <td>[6.744807]</td>\n",
       "      <td>-0.508806</td>\n",
       "      <td>-54.446380</td>\n",
       "      <td>2.996253</td>\n",
       "      <td>0.080980</td>\n",
       "      <td>34</td>\n",
       "    </tr>\n",
       "    <tr>\n",
       "      <th>34</th>\n",
       "      <td>[6.744807]</td>\n",
       "      <td>-0.508806</td>\n",
       "      <td>-54.446380</td>\n",
       "      <td>4.949550</td>\n",
       "      <td>0.130251</td>\n",
       "      <td>35</td>\n",
       "    </tr>\n",
       "    <tr>\n",
       "      <th>35</th>\n",
       "      <td>[6.744807]</td>\n",
       "      <td>-0.508806</td>\n",
       "      <td>-54.446380</td>\n",
       "      <td>5.550133</td>\n",
       "      <td>0.142311</td>\n",
       "      <td>36</td>\n",
       "    </tr>\n",
       "    <tr>\n",
       "      <th>36</th>\n",
       "      <td>[6.744807]</td>\n",
       "      <td>-0.508806</td>\n",
       "      <td>-54.446380</td>\n",
       "      <td>15.632674</td>\n",
       "      <td>0.390817</td>\n",
       "      <td>37</td>\n",
       "    </tr>\n",
       "    <tr>\n",
       "      <th>37</th>\n",
       "      <td>[6.744807]</td>\n",
       "      <td>-0.508806</td>\n",
       "      <td>-54.446380</td>\n",
       "      <td>3.737901</td>\n",
       "      <td>0.091168</td>\n",
       "      <td>38</td>\n",
       "    </tr>\n",
       "    <tr>\n",
       "      <th>38</th>\n",
       "      <td>[6.744807]</td>\n",
       "      <td>-0.508806</td>\n",
       "      <td>-54.446380</td>\n",
       "      <td>4.269948</td>\n",
       "      <td>0.101665</td>\n",
       "      <td>39</td>\n",
       "    </tr>\n",
       "    <tr>\n",
       "      <th>39</th>\n",
       "      <td>[6.744807]</td>\n",
       "      <td>-0.508806</td>\n",
       "      <td>-54.446380</td>\n",
       "      <td>5.701714</td>\n",
       "      <td>0.132598</td>\n",
       "      <td>40</td>\n",
       "    </tr>\n",
       "    <tr>\n",
       "      <th>40</th>\n",
       "      <td>[6.744807]</td>\n",
       "      <td>-0.508806</td>\n",
       "      <td>-54.446380</td>\n",
       "      <td>7.581368</td>\n",
       "      <td>0.172304</td>\n",
       "      <td>41</td>\n",
       "    </tr>\n",
       "    <tr>\n",
       "      <th>41</th>\n",
       "      <td>[6.744807]</td>\n",
       "      <td>-0.508806</td>\n",
       "      <td>-54.446380</td>\n",
       "      <td>4.191688</td>\n",
       "      <td>0.093149</td>\n",
       "      <td>42</td>\n",
       "    </tr>\n",
       "    <tr>\n",
       "      <th>42</th>\n",
       "      <td>[6.744807]</td>\n",
       "      <td>-0.508806</td>\n",
       "      <td>-54.446380</td>\n",
       "      <td>4.013425</td>\n",
       "      <td>0.087248</td>\n",
       "      <td>43</td>\n",
       "    </tr>\n",
       "    <tr>\n",
       "      <th>43</th>\n",
       "      <td>[6.744807]</td>\n",
       "      <td>-0.508806</td>\n",
       "      <td>-54.446380</td>\n",
       "      <td>9.622496</td>\n",
       "      <td>0.204734</td>\n",
       "      <td>44</td>\n",
       "    </tr>\n",
       "    <tr>\n",
       "      <th>44</th>\n",
       "      <td>[6.744807]</td>\n",
       "      <td>-0.508806</td>\n",
       "      <td>-54.446380</td>\n",
       "      <td>8.193051</td>\n",
       "      <td>0.170689</td>\n",
       "      <td>45</td>\n",
       "    </tr>\n",
       "    <tr>\n",
       "      <th>45</th>\n",
       "      <td>[6.744807]</td>\n",
       "      <td>-0.508806</td>\n",
       "      <td>-54.446380</td>\n",
       "      <td>5.411491</td>\n",
       "      <td>0.110439</td>\n",
       "      <td>46</td>\n",
       "    </tr>\n",
       "  </tbody>\n",
       "</table>\n",
       "</div>"
      ],
      "text/plain": [
       "           X_new      y_new     y_best       Beta    Beta:n  Iteration\n",
       "0   [6.97321758]  21.465557 -21.104920   2.168405  0.542101          0\n",
       "1    [8.8004753] -18.257951 -21.104920   2.168405  0.542101          0\n",
       "2   [7.89199717]  -8.354414 -21.104920   2.168405  0.542101          0\n",
       "3   [6.00610279] -21.104920 -21.104920   2.168405  0.542101          0\n",
       "0          [5.0]  15.382359 -21.104920   2.168405  0.542101          1\n",
       "1         [10.0]  -6.801930 -21.104920   2.909167  0.581833          2\n",
       "2    [9.3801155]  69.193214 -21.104920   3.665157  0.610859          3\n",
       "3    [5.9179335] -16.470800 -21.104920   4.449562  0.635652          4\n",
       "4     [5.710989]  -3.512074 -21.104920   5.288769  0.661096          5\n",
       "5     [5.963643] -18.985937 -21.104920   6.313912  0.701546          6\n",
       "6    [5.9807587] -19.867760 -21.104920   7.222850  0.722285          7\n",
       "7     [6.026289] -22.026580 -22.026580   8.255849  0.750532          8\n",
       "8    [6.0614367] -23.483122 -23.483122   9.626034  0.802169          9\n",
       "9     [6.123271] -25.532665 -25.532665  11.129195  0.856092         10\n",
       "10    [8.428096] -54.343422 -54.343422  13.207597  0.943400         11\n",
       "11    [8.418853] -54.446380 -54.446380  17.695820  1.179721         12\n",
       "12    [8.419733] -54.438324 -54.446380  30.691776  1.918236         13\n",
       "13    [8.422982] -54.405420 -54.446380  11.667412  0.686318         14\n",
       "14    [8.427637] -54.349483 -54.446380   7.213192  0.400733         15\n",
       "15    [8.514275] -51.405360 -54.446380   6.786021  0.357159         16\n",
       "16    [8.153106] -41.315407 -54.446380   7.234157  0.361708         17\n",
       "17    [8.153106] -41.315407 -54.446380   7.720907  0.367662         18\n",
       "18    [8.153106] -41.315407 -54.446380   7.832802  0.356036         19\n",
       "19    [8.153106] -41.315407 -54.446380   7.784879  0.338473         20\n",
       "20    [8.153106] -41.315407 -54.446380   7.714990  0.321458         21\n",
       "21    [8.153106] -41.315407 -54.446380   7.607889  0.304316         22\n",
       "22   [7.4308853]  38.033800 -54.446380   7.541901  0.290073         23\n",
       "23    [8.153106] -41.315407 -54.446380   7.756112  0.287263         24\n",
       "24    [7.410524]  38.682440 -54.446380   7.815338  0.279119         25\n",
       "25    [7.410524]  38.682440 -54.446380   7.660635  0.264160         26\n",
       "26    [7.410524]  38.682440 -54.446380   7.433941  0.247798         27\n",
       "27    [7.410524]  38.682440 -54.446380   7.111986  0.229419         28\n",
       "28    [7.410524]  38.682440 -54.446380   6.911323  0.215979         29\n",
       "29    [7.410524]  38.682440 -54.446380   6.679212  0.202400         30\n",
       "30    [7.410524]  38.682440 -54.446380   6.692859  0.196849         31\n",
       "31    [6.744807]  -0.508806 -54.446380   7.240136  0.206861         32\n",
       "32    [6.744807]  -0.508806 -54.446380   4.056988  0.112694         33\n",
       "33    [6.744807]  -0.508806 -54.446380   2.996253  0.080980         34\n",
       "34    [6.744807]  -0.508806 -54.446380   4.949550  0.130251         35\n",
       "35    [6.744807]  -0.508806 -54.446380   5.550133  0.142311         36\n",
       "36    [6.744807]  -0.508806 -54.446380  15.632674  0.390817         37\n",
       "37    [6.744807]  -0.508806 -54.446380   3.737901  0.091168         38\n",
       "38    [6.744807]  -0.508806 -54.446380   4.269948  0.101665         39\n",
       "39    [6.744807]  -0.508806 -54.446380   5.701714  0.132598         40\n",
       "40    [6.744807]  -0.508806 -54.446380   7.581368  0.172304         41\n",
       "41    [6.744807]  -0.508806 -54.446380   4.191688  0.093149         42\n",
       "42    [6.744807]  -0.508806 -54.446380   4.013425  0.087248         43\n",
       "43    [6.744807]  -0.508806 -54.446380   9.622496  0.204734         44\n",
       "44    [6.744807]  -0.508806 -54.446380   8.193051  0.170689         45\n",
       "45    [6.744807]  -0.508806 -54.446380   5.411491  0.110439         46"
      ]
     },
     "execution_count": 22,
     "metadata": {},
     "output_type": "execute_result"
    }
   ],
   "source": [
    "filename = '2024-09-21_22-15-14_roposed_bo_SinusoidalSynthetic_AGT_EI_seed0.log'\n",
    "file_path = os.path.join(target, filename)\n",
    "\n",
    "parser = LogParser(file_path)\n",
    "parser.parse_log_file()\n",
    "df = parser.create_combined_dataframe()\n",
    "df"
   ]
  },
  {
   "cell_type": "code",
   "execution_count": 23,
   "metadata": {},
   "outputs": [
    {
     "data": {
      "application/vnd.plotly.v1+json": {
       "config": {
        "plotlyServerURL": "https://plot.ly"
       },
       "data": [
        {
         "marker": {
          "color": "blue"
         },
         "mode": "markers",
         "name": "y_new",
         "type": "scatter",
         "x": [
          0,
          0,
          0,
          0,
          1,
          2,
          3,
          4,
          5,
          6,
          7,
          8,
          9,
          10,
          11,
          12,
          13,
          14,
          15,
          16,
          17,
          18,
          19,
          20,
          21,
          22,
          23,
          24,
          25,
          26,
          27,
          28,
          29,
          30,
          31,
          32,
          33,
          34,
          35,
          36,
          37,
          38,
          39,
          40,
          41,
          42,
          43,
          44,
          45,
          46
         ],
         "y": [
          21.4655575,
          -18.25795082,
          -8.35441415,
          -21.10491996,
          15.3823595,
          -6.8019304,
          69.193214,
          -16.4708,
          -3.5120742,
          -18.985937,
          -19.86776,
          -22.02658,
          -23.483122,
          -25.532665,
          -54.343422,
          -54.44638,
          -54.438324,
          -54.40542,
          -54.349483,
          -51.40536,
          -41.315407,
          -41.315407,
          -41.315407,
          -41.315407,
          -41.315407,
          -41.315407,
          38.0338,
          -41.315407,
          38.68244,
          38.68244,
          38.68244,
          38.68244,
          38.68244,
          38.68244,
          38.68244,
          -0.50880647,
          -0.50880647,
          -0.50880647,
          -0.50880647,
          -0.50880647,
          -0.50880647,
          -0.50880647,
          -0.50880647,
          -0.50880647,
          -0.50880647,
          -0.50880647,
          -0.50880647,
          -0.50880647,
          -0.50880647,
          -0.50880647
         ]
        },
        {
         "line": {
          "color": "blue"
         },
         "mode": "lines",
         "name": "y_best",
         "type": "scatter",
         "x": [
          0,
          0,
          0,
          0,
          1,
          2,
          3,
          4,
          5,
          6,
          7,
          8,
          9,
          10,
          11,
          12,
          13,
          14,
          15,
          16,
          17,
          18,
          19,
          20,
          21,
          22,
          23,
          24,
          25,
          26,
          27,
          28,
          29,
          30,
          31,
          32,
          33,
          34,
          35,
          36,
          37,
          38,
          39,
          40,
          41,
          42,
          43,
          44,
          45,
          46
         ],
         "y": [
          -21.10491996,
          -21.10491996,
          -21.10491996,
          -21.10491996,
          -21.10491996,
          -21.10491996,
          -21.10491996,
          -21.10491996,
          -21.10491996,
          -21.10491996,
          -21.10491996,
          -22.02658,
          -23.483122,
          -25.532665,
          -54.343422,
          -54.44638,
          -54.44638,
          -54.44638,
          -54.44638,
          -54.44638,
          -54.44638,
          -54.44638,
          -54.44638,
          -54.44638,
          -54.44638,
          -54.44638,
          -54.44638,
          -54.44638,
          -54.44638,
          -54.44638,
          -54.44638,
          -54.44638,
          -54.44638,
          -54.44638,
          -54.44638,
          -54.44638,
          -54.44638,
          -54.44638,
          -54.44638,
          -54.44638,
          -54.44638,
          -54.44638,
          -54.44638,
          -54.44638,
          -54.44638,
          -54.44638,
          -54.44638,
          -54.44638,
          -54.44638,
          -54.44638
         ]
        },
        {
         "marker": {
          "color": "orange"
         },
         "mode": "markers",
         "name": "y_new (Beta:n >= 1)",
         "type": "scatter",
         "x": [
          12,
          13
         ],
         "y": [
          -54.44638,
          -54.438324
         ]
        }
       ],
       "layout": {
        "legend": {
         "title": {
          "text": "Metrics"
         }
        },
        "template": {
         "data": {
          "bar": [
           {
            "error_x": {
             "color": "#2a3f5f"
            },
            "error_y": {
             "color": "#2a3f5f"
            },
            "marker": {
             "line": {
              "color": "#E5ECF6",
              "width": 0.5
             },
             "pattern": {
              "fillmode": "overlay",
              "size": 10,
              "solidity": 0.2
             }
            },
            "type": "bar"
           }
          ],
          "barpolar": [
           {
            "marker": {
             "line": {
              "color": "#E5ECF6",
              "width": 0.5
             },
             "pattern": {
              "fillmode": "overlay",
              "size": 10,
              "solidity": 0.2
             }
            },
            "type": "barpolar"
           }
          ],
          "carpet": [
           {
            "aaxis": {
             "endlinecolor": "#2a3f5f",
             "gridcolor": "white",
             "linecolor": "white",
             "minorgridcolor": "white",
             "startlinecolor": "#2a3f5f"
            },
            "baxis": {
             "endlinecolor": "#2a3f5f",
             "gridcolor": "white",
             "linecolor": "white",
             "minorgridcolor": "white",
             "startlinecolor": "#2a3f5f"
            },
            "type": "carpet"
           }
          ],
          "choropleth": [
           {
            "colorbar": {
             "outlinewidth": 0,
             "ticks": ""
            },
            "type": "choropleth"
           }
          ],
          "contour": [
           {
            "colorbar": {
             "outlinewidth": 0,
             "ticks": ""
            },
            "colorscale": [
             [
              0,
              "#0d0887"
             ],
             [
              0.1111111111111111,
              "#46039f"
             ],
             [
              0.2222222222222222,
              "#7201a8"
             ],
             [
              0.3333333333333333,
              "#9c179e"
             ],
             [
              0.4444444444444444,
              "#bd3786"
             ],
             [
              0.5555555555555556,
              "#d8576b"
             ],
             [
              0.6666666666666666,
              "#ed7953"
             ],
             [
              0.7777777777777778,
              "#fb9f3a"
             ],
             [
              0.8888888888888888,
              "#fdca26"
             ],
             [
              1,
              "#f0f921"
             ]
            ],
            "type": "contour"
           }
          ],
          "contourcarpet": [
           {
            "colorbar": {
             "outlinewidth": 0,
             "ticks": ""
            },
            "type": "contourcarpet"
           }
          ],
          "heatmap": [
           {
            "colorbar": {
             "outlinewidth": 0,
             "ticks": ""
            },
            "colorscale": [
             [
              0,
              "#0d0887"
             ],
             [
              0.1111111111111111,
              "#46039f"
             ],
             [
              0.2222222222222222,
              "#7201a8"
             ],
             [
              0.3333333333333333,
              "#9c179e"
             ],
             [
              0.4444444444444444,
              "#bd3786"
             ],
             [
              0.5555555555555556,
              "#d8576b"
             ],
             [
              0.6666666666666666,
              "#ed7953"
             ],
             [
              0.7777777777777778,
              "#fb9f3a"
             ],
             [
              0.8888888888888888,
              "#fdca26"
             ],
             [
              1,
              "#f0f921"
             ]
            ],
            "type": "heatmap"
           }
          ],
          "heatmapgl": [
           {
            "colorbar": {
             "outlinewidth": 0,
             "ticks": ""
            },
            "colorscale": [
             [
              0,
              "#0d0887"
             ],
             [
              0.1111111111111111,
              "#46039f"
             ],
             [
              0.2222222222222222,
              "#7201a8"
             ],
             [
              0.3333333333333333,
              "#9c179e"
             ],
             [
              0.4444444444444444,
              "#bd3786"
             ],
             [
              0.5555555555555556,
              "#d8576b"
             ],
             [
              0.6666666666666666,
              "#ed7953"
             ],
             [
              0.7777777777777778,
              "#fb9f3a"
             ],
             [
              0.8888888888888888,
              "#fdca26"
             ],
             [
              1,
              "#f0f921"
             ]
            ],
            "type": "heatmapgl"
           }
          ],
          "histogram": [
           {
            "marker": {
             "pattern": {
              "fillmode": "overlay",
              "size": 10,
              "solidity": 0.2
             }
            },
            "type": "histogram"
           }
          ],
          "histogram2d": [
           {
            "colorbar": {
             "outlinewidth": 0,
             "ticks": ""
            },
            "colorscale": [
             [
              0,
              "#0d0887"
             ],
             [
              0.1111111111111111,
              "#46039f"
             ],
             [
              0.2222222222222222,
              "#7201a8"
             ],
             [
              0.3333333333333333,
              "#9c179e"
             ],
             [
              0.4444444444444444,
              "#bd3786"
             ],
             [
              0.5555555555555556,
              "#d8576b"
             ],
             [
              0.6666666666666666,
              "#ed7953"
             ],
             [
              0.7777777777777778,
              "#fb9f3a"
             ],
             [
              0.8888888888888888,
              "#fdca26"
             ],
             [
              1,
              "#f0f921"
             ]
            ],
            "type": "histogram2d"
           }
          ],
          "histogram2dcontour": [
           {
            "colorbar": {
             "outlinewidth": 0,
             "ticks": ""
            },
            "colorscale": [
             [
              0,
              "#0d0887"
             ],
             [
              0.1111111111111111,
              "#46039f"
             ],
             [
              0.2222222222222222,
              "#7201a8"
             ],
             [
              0.3333333333333333,
              "#9c179e"
             ],
             [
              0.4444444444444444,
              "#bd3786"
             ],
             [
              0.5555555555555556,
              "#d8576b"
             ],
             [
              0.6666666666666666,
              "#ed7953"
             ],
             [
              0.7777777777777778,
              "#fb9f3a"
             ],
             [
              0.8888888888888888,
              "#fdca26"
             ],
             [
              1,
              "#f0f921"
             ]
            ],
            "type": "histogram2dcontour"
           }
          ],
          "mesh3d": [
           {
            "colorbar": {
             "outlinewidth": 0,
             "ticks": ""
            },
            "type": "mesh3d"
           }
          ],
          "parcoords": [
           {
            "line": {
             "colorbar": {
              "outlinewidth": 0,
              "ticks": ""
             }
            },
            "type": "parcoords"
           }
          ],
          "pie": [
           {
            "automargin": true,
            "type": "pie"
           }
          ],
          "scatter": [
           {
            "fillpattern": {
             "fillmode": "overlay",
             "size": 10,
             "solidity": 0.2
            },
            "type": "scatter"
           }
          ],
          "scatter3d": [
           {
            "line": {
             "colorbar": {
              "outlinewidth": 0,
              "ticks": ""
             }
            },
            "marker": {
             "colorbar": {
              "outlinewidth": 0,
              "ticks": ""
             }
            },
            "type": "scatter3d"
           }
          ],
          "scattercarpet": [
           {
            "marker": {
             "colorbar": {
              "outlinewidth": 0,
              "ticks": ""
             }
            },
            "type": "scattercarpet"
           }
          ],
          "scattergeo": [
           {
            "marker": {
             "colorbar": {
              "outlinewidth": 0,
              "ticks": ""
             }
            },
            "type": "scattergeo"
           }
          ],
          "scattergl": [
           {
            "marker": {
             "colorbar": {
              "outlinewidth": 0,
              "ticks": ""
             }
            },
            "type": "scattergl"
           }
          ],
          "scattermapbox": [
           {
            "marker": {
             "colorbar": {
              "outlinewidth": 0,
              "ticks": ""
             }
            },
            "type": "scattermapbox"
           }
          ],
          "scatterpolar": [
           {
            "marker": {
             "colorbar": {
              "outlinewidth": 0,
              "ticks": ""
             }
            },
            "type": "scatterpolar"
           }
          ],
          "scatterpolargl": [
           {
            "marker": {
             "colorbar": {
              "outlinewidth": 0,
              "ticks": ""
             }
            },
            "type": "scatterpolargl"
           }
          ],
          "scatterternary": [
           {
            "marker": {
             "colorbar": {
              "outlinewidth": 0,
              "ticks": ""
             }
            },
            "type": "scatterternary"
           }
          ],
          "surface": [
           {
            "colorbar": {
             "outlinewidth": 0,
             "ticks": ""
            },
            "colorscale": [
             [
              0,
              "#0d0887"
             ],
             [
              0.1111111111111111,
              "#46039f"
             ],
             [
              0.2222222222222222,
              "#7201a8"
             ],
             [
              0.3333333333333333,
              "#9c179e"
             ],
             [
              0.4444444444444444,
              "#bd3786"
             ],
             [
              0.5555555555555556,
              "#d8576b"
             ],
             [
              0.6666666666666666,
              "#ed7953"
             ],
             [
              0.7777777777777778,
              "#fb9f3a"
             ],
             [
              0.8888888888888888,
              "#fdca26"
             ],
             [
              1,
              "#f0f921"
             ]
            ],
            "type": "surface"
           }
          ],
          "table": [
           {
            "cells": {
             "fill": {
              "color": "#EBF0F8"
             },
             "line": {
              "color": "white"
             }
            },
            "header": {
             "fill": {
              "color": "#C8D4E3"
             },
             "line": {
              "color": "white"
             }
            },
            "type": "table"
           }
          ]
         },
         "layout": {
          "annotationdefaults": {
           "arrowcolor": "#2a3f5f",
           "arrowhead": 0,
           "arrowwidth": 1
          },
          "autotypenumbers": "strict",
          "coloraxis": {
           "colorbar": {
            "outlinewidth": 0,
            "ticks": ""
           }
          },
          "colorscale": {
           "diverging": [
            [
             0,
             "#8e0152"
            ],
            [
             0.1,
             "#c51b7d"
            ],
            [
             0.2,
             "#de77ae"
            ],
            [
             0.3,
             "#f1b6da"
            ],
            [
             0.4,
             "#fde0ef"
            ],
            [
             0.5,
             "#f7f7f7"
            ],
            [
             0.6,
             "#e6f5d0"
            ],
            [
             0.7,
             "#b8e186"
            ],
            [
             0.8,
             "#7fbc41"
            ],
            [
             0.9,
             "#4d9221"
            ],
            [
             1,
             "#276419"
            ]
           ],
           "sequential": [
            [
             0,
             "#0d0887"
            ],
            [
             0.1111111111111111,
             "#46039f"
            ],
            [
             0.2222222222222222,
             "#7201a8"
            ],
            [
             0.3333333333333333,
             "#9c179e"
            ],
            [
             0.4444444444444444,
             "#bd3786"
            ],
            [
             0.5555555555555556,
             "#d8576b"
            ],
            [
             0.6666666666666666,
             "#ed7953"
            ],
            [
             0.7777777777777778,
             "#fb9f3a"
            ],
            [
             0.8888888888888888,
             "#fdca26"
            ],
            [
             1,
             "#f0f921"
            ]
           ],
           "sequentialminus": [
            [
             0,
             "#0d0887"
            ],
            [
             0.1111111111111111,
             "#46039f"
            ],
            [
             0.2222222222222222,
             "#7201a8"
            ],
            [
             0.3333333333333333,
             "#9c179e"
            ],
            [
             0.4444444444444444,
             "#bd3786"
            ],
            [
             0.5555555555555556,
             "#d8576b"
            ],
            [
             0.6666666666666666,
             "#ed7953"
            ],
            [
             0.7777777777777778,
             "#fb9f3a"
            ],
            [
             0.8888888888888888,
             "#fdca26"
            ],
            [
             1,
             "#f0f921"
            ]
           ]
          },
          "colorway": [
           "#636efa",
           "#EF553B",
           "#00cc96",
           "#ab63fa",
           "#FFA15A",
           "#19d3f3",
           "#FF6692",
           "#B6E880",
           "#FF97FF",
           "#FECB52"
          ],
          "font": {
           "color": "#2a3f5f"
          },
          "geo": {
           "bgcolor": "white",
           "lakecolor": "white",
           "landcolor": "#E5ECF6",
           "showlakes": true,
           "showland": true,
           "subunitcolor": "white"
          },
          "hoverlabel": {
           "align": "left"
          },
          "hovermode": "closest",
          "mapbox": {
           "style": "light"
          },
          "paper_bgcolor": "white",
          "plot_bgcolor": "#E5ECF6",
          "polar": {
           "angularaxis": {
            "gridcolor": "white",
            "linecolor": "white",
            "ticks": ""
           },
           "bgcolor": "#E5ECF6",
           "radialaxis": {
            "gridcolor": "white",
            "linecolor": "white",
            "ticks": ""
           }
          },
          "scene": {
           "xaxis": {
            "backgroundcolor": "#E5ECF6",
            "gridcolor": "white",
            "gridwidth": 2,
            "linecolor": "white",
            "showbackground": true,
            "ticks": "",
            "zerolinecolor": "white"
           },
           "yaxis": {
            "backgroundcolor": "#E5ECF6",
            "gridcolor": "white",
            "gridwidth": 2,
            "linecolor": "white",
            "showbackground": true,
            "ticks": "",
            "zerolinecolor": "white"
           },
           "zaxis": {
            "backgroundcolor": "#E5ECF6",
            "gridcolor": "white",
            "gridwidth": 2,
            "linecolor": "white",
            "showbackground": true,
            "ticks": "",
            "zerolinecolor": "white"
           }
          },
          "shapedefaults": {
           "line": {
            "color": "#2a3f5f"
           }
          },
          "ternary": {
           "aaxis": {
            "gridcolor": "white",
            "linecolor": "white",
            "ticks": ""
           },
           "baxis": {
            "gridcolor": "white",
            "linecolor": "white",
            "ticks": ""
           },
           "bgcolor": "#E5ECF6",
           "caxis": {
            "gridcolor": "white",
            "linecolor": "white",
            "ticks": ""
           }
          },
          "title": {
           "x": 0.05
          },
          "xaxis": {
           "automargin": true,
           "gridcolor": "white",
           "linecolor": "white",
           "ticks": "",
           "title": {
            "standoff": 15
           },
           "zerolinecolor": "white",
           "zerolinewidth": 2
          },
          "yaxis": {
           "automargin": true,
           "gridcolor": "white",
           "linecolor": "white",
           "ticks": "",
           "title": {
            "standoff": 15
           },
           "zerolinecolor": "white",
           "zerolinewidth": 2
          }
         }
        },
        "title": {
         "text": "Bayesian Optimization History"
        },
        "xaxis": {
         "title": {
          "text": "Iteration"
         }
        },
        "yaxis": {
         "title": {
          "text": "Function Value"
         }
        }
       }
      }
     },
     "metadata": {},
     "output_type": "display_data"
    }
   ],
   "source": [
    "# Apply the function to plot the bo_data\n",
    "history_plot(df)"
   ]
  },
  {
   "cell_type": "code",
   "execution_count": null,
   "metadata": {},
   "outputs": [],
   "source": []
  },
  {
   "cell_type": "code",
   "execution_count": 49,
   "metadata": {},
   "outputs": [
    {
     "name": "stdout",
     "output_type": "stream",
     "text": [
      "['2024-09-21_22-15-14_roposed_bo_SinusoidalSynthetic_AGT_EI_seed0.log', '2024-09-21_22-15-14_roposed_bo_SinusoidalSynthetic_AGT_EI_seed1.log', '2024-09-21_22-15-14_roposed_bo_SinusoidalSynthetic_AGT_EI_seed2.log', '2024-09-21_22-15-14_roposed_bo_SinusoidalSynthetic_AGT_EI_seed3.log', '2024-09-21_22-15-14_roposed_bo_SinusoidalSynthetic_AGT_EI_seed4.log']\n",
      "Failed to parse settings: invalid syntax (<unknown>, line 1)\n",
      "Failed to parse settings: invalid syntax (<unknown>, line 1)\n",
      "Failed to parse settings: invalid syntax (<unknown>, line 1)\n",
      "Failed to parse settings: invalid syntax (<unknown>, line 1)\n",
      "Failed to parse settings: invalid syntax (<unknown>, line 1)\n",
      "Minimum number of rows: 50\n",
      "Maximum number of rows: 51\n"
     ]
    },
    {
     "data": {
      "text/html": [
       "<div>\n",
       "<style scoped>\n",
       "    .dataframe tbody tr th:only-of-type {\n",
       "        vertical-align: middle;\n",
       "    }\n",
       "\n",
       "    .dataframe tbody tr th {\n",
       "        vertical-align: top;\n",
       "    }\n",
       "\n",
       "    .dataframe thead th {\n",
       "        text-align: right;\n",
       "    }\n",
       "</style>\n",
       "<table border=\"1\" class=\"dataframe\">\n",
       "  <thead>\n",
       "    <tr style=\"text-align: right;\">\n",
       "      <th></th>\n",
       "      <th>Iteration</th>\n",
       "      <th>y_best_mean</th>\n",
       "      <th>y_best_std</th>\n",
       "      <th>beta_mean</th>\n",
       "      <th>beta_std</th>\n",
       "    </tr>\n",
       "  </thead>\n",
       "  <tbody>\n",
       "    <tr>\n",
       "      <th>0</th>\n",
       "      <td>0</td>\n",
       "      <td>-17.146889</td>\n",
       "      <td>8.036184</td>\n",
       "      <td>2.166456</td>\n",
       "      <td>0.016498</td>\n",
       "    </tr>\n",
       "    <tr>\n",
       "      <th>1</th>\n",
       "      <td>1</td>\n",
       "      <td>-17.798055</td>\n",
       "      <td>7.527830</td>\n",
       "      <td>2.166456</td>\n",
       "      <td>0.017978</td>\n",
       "    </tr>\n",
       "    <tr>\n",
       "      <th>2</th>\n",
       "      <td>2</td>\n",
       "      <td>-17.798055</td>\n",
       "      <td>7.527830</td>\n",
       "      <td>2.939141</td>\n",
       "      <td>0.046523</td>\n",
       "    </tr>\n",
       "    <tr>\n",
       "      <th>3</th>\n",
       "      <td>3</td>\n",
       "      <td>-17.798055</td>\n",
       "      <td>7.527830</td>\n",
       "      <td>3.817778</td>\n",
       "      <td>0.132035</td>\n",
       "    </tr>\n",
       "    <tr>\n",
       "      <th>4</th>\n",
       "      <td>4</td>\n",
       "      <td>-17.798055</td>\n",
       "      <td>7.527830</td>\n",
       "      <td>4.735809</td>\n",
       "      <td>0.198703</td>\n",
       "    </tr>\n",
       "    <tr>\n",
       "      <th>5</th>\n",
       "      <td>5</td>\n",
       "      <td>-18.527262</td>\n",
       "      <td>7.582573</td>\n",
       "      <td>5.788246</td>\n",
       "      <td>0.439637</td>\n",
       "    </tr>\n",
       "    <tr>\n",
       "      <th>6</th>\n",
       "      <td>6</td>\n",
       "      <td>-19.910740</td>\n",
       "      <td>7.838349</td>\n",
       "      <td>6.614577</td>\n",
       "      <td>0.329828</td>\n",
       "    </tr>\n",
       "    <tr>\n",
       "      <th>7</th>\n",
       "      <td>7</td>\n",
       "      <td>-24.984307</td>\n",
       "      <td>2.431712</td>\n",
       "      <td>7.585626</td>\n",
       "      <td>0.698519</td>\n",
       "    </tr>\n",
       "    <tr>\n",
       "      <th>8</th>\n",
       "      <td>8</td>\n",
       "      <td>-25.585718</td>\n",
       "      <td>2.114341</td>\n",
       "      <td>8.491489</td>\n",
       "      <td>1.300994</td>\n",
       "    </tr>\n",
       "    <tr>\n",
       "      <th>9</th>\n",
       "      <td>9</td>\n",
       "      <td>-26.112342</td>\n",
       "      <td>1.555310</td>\n",
       "      <td>9.969388</td>\n",
       "      <td>2.538477</td>\n",
       "    </tr>\n",
       "    <tr>\n",
       "      <th>10</th>\n",
       "      <td>10</td>\n",
       "      <td>-30.770645</td>\n",
       "      <td>9.235218</td>\n",
       "      <td>11.924230</td>\n",
       "      <td>3.848705</td>\n",
       "    </tr>\n",
       "    <tr>\n",
       "      <th>11</th>\n",
       "      <td>11</td>\n",
       "      <td>-37.590457</td>\n",
       "      <td>14.441850</td>\n",
       "      <td>13.235436</td>\n",
       "      <td>5.323585</td>\n",
       "    </tr>\n",
       "    <tr>\n",
       "      <th>12</th>\n",
       "      <td>12</td>\n",
       "      <td>-38.101934</td>\n",
       "      <td>14.761949</td>\n",
       "      <td>13.677927</td>\n",
       "      <td>7.699986</td>\n",
       "    </tr>\n",
       "    <tr>\n",
       "      <th>13</th>\n",
       "      <td>13</td>\n",
       "      <td>-38.158600</td>\n",
       "      <td>14.839048</td>\n",
       "      <td>17.691152</td>\n",
       "      <td>11.821889</td>\n",
       "    </tr>\n",
       "    <tr>\n",
       "      <th>14</th>\n",
       "      <td>14</td>\n",
       "      <td>-48.233207</td>\n",
       "      <td>11.741219</td>\n",
       "      <td>11.746730</td>\n",
       "      <td>8.939505</td>\n",
       "    </tr>\n",
       "    <tr>\n",
       "      <th>15</th>\n",
       "      <td>15</td>\n",
       "      <td>-53.944655</td>\n",
       "      <td>0.834262</td>\n",
       "      <td>8.092593</td>\n",
       "      <td>2.315911</td>\n",
       "    </tr>\n",
       "    <tr>\n",
       "      <th>16</th>\n",
       "      <td>16</td>\n",
       "      <td>-54.133466</td>\n",
       "      <td>0.494159</td>\n",
       "      <td>7.423469</td>\n",
       "      <td>1.002726</td>\n",
       "    </tr>\n",
       "    <tr>\n",
       "      <th>17</th>\n",
       "      <td>17</td>\n",
       "      <td>-54.341290</td>\n",
       "      <td>0.346925</td>\n",
       "      <td>7.350527</td>\n",
       "      <td>0.483919</td>\n",
       "    </tr>\n",
       "    <tr>\n",
       "      <th>18</th>\n",
       "      <td>18</td>\n",
       "      <td>-54.341290</td>\n",
       "      <td>0.346925</td>\n",
       "      <td>7.512726</td>\n",
       "      <td>0.385735</td>\n",
       "    </tr>\n",
       "    <tr>\n",
       "      <th>19</th>\n",
       "      <td>19</td>\n",
       "      <td>-54.341290</td>\n",
       "      <td>0.346925</td>\n",
       "      <td>7.769839</td>\n",
       "      <td>0.256460</td>\n",
       "    </tr>\n",
       "    <tr>\n",
       "      <th>20</th>\n",
       "      <td>20</td>\n",
       "      <td>-54.341290</td>\n",
       "      <td>0.346925</td>\n",
       "      <td>7.892688</td>\n",
       "      <td>0.193949</td>\n",
       "    </tr>\n",
       "    <tr>\n",
       "      <th>21</th>\n",
       "      <td>21</td>\n",
       "      <td>-54.341290</td>\n",
       "      <td>0.346925</td>\n",
       "      <td>7.942452</td>\n",
       "      <td>0.296394</td>\n",
       "    </tr>\n",
       "    <tr>\n",
       "      <th>22</th>\n",
       "      <td>22</td>\n",
       "      <td>-54.341290</td>\n",
       "      <td>0.346925</td>\n",
       "      <td>7.984766</td>\n",
       "      <td>0.462462</td>\n",
       "    </tr>\n",
       "    <tr>\n",
       "      <th>23</th>\n",
       "      <td>23</td>\n",
       "      <td>-54.341290</td>\n",
       "      <td>0.346925</td>\n",
       "      <td>7.723487</td>\n",
       "      <td>0.219919</td>\n",
       "    </tr>\n",
       "    <tr>\n",
       "      <th>24</th>\n",
       "      <td>24</td>\n",
       "      <td>-54.341290</td>\n",
       "      <td>0.346925</td>\n",
       "      <td>7.572058</td>\n",
       "      <td>0.193868</td>\n",
       "    </tr>\n",
       "    <tr>\n",
       "      <th>25</th>\n",
       "      <td>25</td>\n",
       "      <td>-54.341290</td>\n",
       "      <td>0.346925</td>\n",
       "      <td>7.469075</td>\n",
       "      <td>0.299470</td>\n",
       "    </tr>\n",
       "    <tr>\n",
       "      <th>26</th>\n",
       "      <td>26</td>\n",
       "      <td>-54.341290</td>\n",
       "      <td>0.346925</td>\n",
       "      <td>7.193234</td>\n",
       "      <td>0.288432</td>\n",
       "    </tr>\n",
       "    <tr>\n",
       "      <th>27</th>\n",
       "      <td>27</td>\n",
       "      <td>-54.341290</td>\n",
       "      <td>0.346925</td>\n",
       "      <td>7.049556</td>\n",
       "      <td>0.280812</td>\n",
       "    </tr>\n",
       "    <tr>\n",
       "      <th>28</th>\n",
       "      <td>28</td>\n",
       "      <td>-54.341290</td>\n",
       "      <td>0.346925</td>\n",
       "      <td>6.786982</td>\n",
       "      <td>0.221772</td>\n",
       "    </tr>\n",
       "    <tr>\n",
       "      <th>29</th>\n",
       "      <td>29</td>\n",
       "      <td>-54.341290</td>\n",
       "      <td>0.346925</td>\n",
       "      <td>6.536625</td>\n",
       "      <td>0.235045</td>\n",
       "    </tr>\n",
       "    <tr>\n",
       "      <th>30</th>\n",
       "      <td>30</td>\n",
       "      <td>-54.341290</td>\n",
       "      <td>0.346925</td>\n",
       "      <td>6.386796</td>\n",
       "      <td>0.259562</td>\n",
       "    </tr>\n",
       "    <tr>\n",
       "      <th>31</th>\n",
       "      <td>31</td>\n",
       "      <td>-54.341290</td>\n",
       "      <td>0.346925</td>\n",
       "      <td>6.231206</td>\n",
       "      <td>0.296914</td>\n",
       "    </tr>\n",
       "    <tr>\n",
       "      <th>32</th>\n",
       "      <td>32</td>\n",
       "      <td>-54.341290</td>\n",
       "      <td>0.346925</td>\n",
       "      <td>6.251104</td>\n",
       "      <td>0.598358</td>\n",
       "    </tr>\n",
       "    <tr>\n",
       "      <th>33</th>\n",
       "      <td>33</td>\n",
       "      <td>-54.341290</td>\n",
       "      <td>0.346925</td>\n",
       "      <td>5.583346</td>\n",
       "      <td>1.065100</td>\n",
       "    </tr>\n",
       "    <tr>\n",
       "      <th>34</th>\n",
       "      <td>34</td>\n",
       "      <td>-54.341290</td>\n",
       "      <td>0.346925</td>\n",
       "      <td>6.379492</td>\n",
       "      <td>2.334168</td>\n",
       "    </tr>\n",
       "    <tr>\n",
       "      <th>35</th>\n",
       "      <td>35</td>\n",
       "      <td>-54.341290</td>\n",
       "      <td>0.346925</td>\n",
       "      <td>6.183834</td>\n",
       "      <td>1.474458</td>\n",
       "    </tr>\n",
       "    <tr>\n",
       "      <th>36</th>\n",
       "      <td>36</td>\n",
       "      <td>-54.341290</td>\n",
       "      <td>0.346925</td>\n",
       "      <td>6.360584</td>\n",
       "      <td>2.909100</td>\n",
       "    </tr>\n",
       "    <tr>\n",
       "      <th>37</th>\n",
       "      <td>37</td>\n",
       "      <td>-54.341290</td>\n",
       "      <td>0.346925</td>\n",
       "      <td>6.703324</td>\n",
       "      <td>5.046502</td>\n",
       "    </tr>\n",
       "    <tr>\n",
       "      <th>38</th>\n",
       "      <td>38</td>\n",
       "      <td>-54.341290</td>\n",
       "      <td>0.346925</td>\n",
       "      <td>9.466343</td>\n",
       "      <td>7.698163</td>\n",
       "    </tr>\n",
       "    <tr>\n",
       "      <th>39</th>\n",
       "      <td>39</td>\n",
       "      <td>-54.341290</td>\n",
       "      <td>0.346925</td>\n",
       "      <td>4.273967</td>\n",
       "      <td>1.346590</td>\n",
       "    </tr>\n",
       "    <tr>\n",
       "      <th>40</th>\n",
       "      <td>40</td>\n",
       "      <td>-54.341290</td>\n",
       "      <td>0.346925</td>\n",
       "      <td>5.645798</td>\n",
       "      <td>2.760710</td>\n",
       "    </tr>\n",
       "    <tr>\n",
       "      <th>41</th>\n",
       "      <td>41</td>\n",
       "      <td>-54.341290</td>\n",
       "      <td>0.346925</td>\n",
       "      <td>6.290444</td>\n",
       "      <td>1.116563</td>\n",
       "    </tr>\n",
       "    <tr>\n",
       "      <th>42</th>\n",
       "      <td>42</td>\n",
       "      <td>-54.341290</td>\n",
       "      <td>0.346925</td>\n",
       "      <td>5.362520</td>\n",
       "      <td>1.016300</td>\n",
       "    </tr>\n",
       "    <tr>\n",
       "      <th>43</th>\n",
       "      <td>43</td>\n",
       "      <td>-54.341290</td>\n",
       "      <td>0.346925</td>\n",
       "      <td>6.883113</td>\n",
       "      <td>1.864560</td>\n",
       "    </tr>\n",
       "    <tr>\n",
       "      <th>44</th>\n",
       "      <td>44</td>\n",
       "      <td>-54.341290</td>\n",
       "      <td>0.346925</td>\n",
       "      <td>5.184655</td>\n",
       "      <td>2.660831</td>\n",
       "    </tr>\n",
       "    <tr>\n",
       "      <th>45</th>\n",
       "      <td>45</td>\n",
       "      <td>-54.341290</td>\n",
       "      <td>0.346925</td>\n",
       "      <td>6.036699</td>\n",
       "      <td>2.069865</td>\n",
       "    </tr>\n",
       "    <tr>\n",
       "      <th>46</th>\n",
       "      <td>46</td>\n",
       "      <td>-54.341290</td>\n",
       "      <td>0.346925</td>\n",
       "      <td>5.376141</td>\n",
       "      <td>2.037932</td>\n",
       "    </tr>\n",
       "  </tbody>\n",
       "</table>\n",
       "</div>"
      ],
      "text/plain": [
       "    Iteration  y_best_mean  y_best_std  beta_mean   beta_std\n",
       "0           0   -17.146889    8.036184   2.166456   0.016498\n",
       "1           1   -17.798055    7.527830   2.166456   0.017978\n",
       "2           2   -17.798055    7.527830   2.939141   0.046523\n",
       "3           3   -17.798055    7.527830   3.817778   0.132035\n",
       "4           4   -17.798055    7.527830   4.735809   0.198703\n",
       "5           5   -18.527262    7.582573   5.788246   0.439637\n",
       "6           6   -19.910740    7.838349   6.614577   0.329828\n",
       "7           7   -24.984307    2.431712   7.585626   0.698519\n",
       "8           8   -25.585718    2.114341   8.491489   1.300994\n",
       "9           9   -26.112342    1.555310   9.969388   2.538477\n",
       "10         10   -30.770645    9.235218  11.924230   3.848705\n",
       "11         11   -37.590457   14.441850  13.235436   5.323585\n",
       "12         12   -38.101934   14.761949  13.677927   7.699986\n",
       "13         13   -38.158600   14.839048  17.691152  11.821889\n",
       "14         14   -48.233207   11.741219  11.746730   8.939505\n",
       "15         15   -53.944655    0.834262   8.092593   2.315911\n",
       "16         16   -54.133466    0.494159   7.423469   1.002726\n",
       "17         17   -54.341290    0.346925   7.350527   0.483919\n",
       "18         18   -54.341290    0.346925   7.512726   0.385735\n",
       "19         19   -54.341290    0.346925   7.769839   0.256460\n",
       "20         20   -54.341290    0.346925   7.892688   0.193949\n",
       "21         21   -54.341290    0.346925   7.942452   0.296394\n",
       "22         22   -54.341290    0.346925   7.984766   0.462462\n",
       "23         23   -54.341290    0.346925   7.723487   0.219919\n",
       "24         24   -54.341290    0.346925   7.572058   0.193868\n",
       "25         25   -54.341290    0.346925   7.469075   0.299470\n",
       "26         26   -54.341290    0.346925   7.193234   0.288432\n",
       "27         27   -54.341290    0.346925   7.049556   0.280812\n",
       "28         28   -54.341290    0.346925   6.786982   0.221772\n",
       "29         29   -54.341290    0.346925   6.536625   0.235045\n",
       "30         30   -54.341290    0.346925   6.386796   0.259562\n",
       "31         31   -54.341290    0.346925   6.231206   0.296914\n",
       "32         32   -54.341290    0.346925   6.251104   0.598358\n",
       "33         33   -54.341290    0.346925   5.583346   1.065100\n",
       "34         34   -54.341290    0.346925   6.379492   2.334168\n",
       "35         35   -54.341290    0.346925   6.183834   1.474458\n",
       "36         36   -54.341290    0.346925   6.360584   2.909100\n",
       "37         37   -54.341290    0.346925   6.703324   5.046502\n",
       "38         38   -54.341290    0.346925   9.466343   7.698163\n",
       "39         39   -54.341290    0.346925   4.273967   1.346590\n",
       "40         40   -54.341290    0.346925   5.645798   2.760710\n",
       "41         41   -54.341290    0.346925   6.290444   1.116563\n",
       "42         42   -54.341290    0.346925   5.362520   1.016300\n",
       "43         43   -54.341290    0.346925   6.883113   1.864560\n",
       "44         44   -54.341290    0.346925   5.184655   2.660831\n",
       "45         45   -54.341290    0.346925   6.036699   2.069865\n",
       "46         46   -54.341290    0.346925   5.376141   2.037932"
      ]
     },
     "execution_count": 49,
     "metadata": {},
     "output_type": "execute_result"
    }
   ],
   "source": [
    "target = os.path.join(LOG_DIR, 'E2')\n",
    "keywards = [\"AGT\", 'Sinusoidal', 'EI']\n",
    "filename_list = search_log_files(target, keywards)\n",
    "print(filename_list)\n",
    "filepath_list = [os.path.join(target, filename) for filename in filename_list]\n",
    "\n",
    "dataframes = []\n",
    "for filepath in filepath_list:\n",
    "    parser = LogParser(filepath)\n",
    "    parser.parse_log_file()\n",
    "    df = parser.create_combined_dataframe()\n",
    "    dataframes.append(df)\n",
    "\n",
    "result_df = process_dataframes(dataframes)\n",
    "result_df"
   ]
  },
  {
   "cell_type": "code",
   "execution_count": 33,
   "metadata": {},
   "outputs": [
    {
     "name": "stdout",
     "output_type": "stream",
     "text": [
      "['2024-09-21_22-18-31_vanilla_bo_SinusoidalSynthetic_GP_EI_seed0.log', '2024-09-21_22-18-31_vanilla_bo_SinusoidalSynthetic_GP_EI_seed1.log', '2024-09-21_22-18-31_vanilla_bo_SinusoidalSynthetic_GP_EI_seed2.log', '2024-09-21_22-18-31_vanilla_bo_SinusoidalSynthetic_GP_EI_seed3.log', '2024-09-21_22-18-31_vanilla_bo_SinusoidalSynthetic_GP_EI_seed4.log']\n",
      "Failed to parse settings: invalid syntax (<unknown>, line 1)\n",
      "Failed to parse settings: invalid syntax (<unknown>, line 1)\n",
      "Failed to parse settings: invalid syntax (<unknown>, line 1)\n",
      "Failed to parse settings: invalid syntax (<unknown>, line 1)\n",
      "Failed to parse settings: invalid syntax (<unknown>, line 1)\n",
      "Minimum number of rows: 54\n",
      "Maximum number of rows: 57\n"
     ]
    },
    {
     "data": {
      "text/html": [
       "<div>\n",
       "<style scoped>\n",
       "    .dataframe tbody tr th:only-of-type {\n",
       "        vertical-align: middle;\n",
       "    }\n",
       "\n",
       "    .dataframe tbody tr th {\n",
       "        vertical-align: top;\n",
       "    }\n",
       "\n",
       "    .dataframe thead th {\n",
       "        text-align: right;\n",
       "    }\n",
       "</style>\n",
       "<table border=\"1\" class=\"dataframe\">\n",
       "  <thead>\n",
       "    <tr style=\"text-align: right;\">\n",
       "      <th></th>\n",
       "      <th>Iteration</th>\n",
       "      <th>y_best_mean</th>\n",
       "      <th>y_best_std</th>\n",
       "      <th>beta_best_mean</th>\n",
       "      <th>beta_best_std</th>\n",
       "    </tr>\n",
       "  </thead>\n",
       "  <tbody>\n",
       "    <tr>\n",
       "      <th>0</th>\n",
       "      <td>0</td>\n",
       "      <td>-17.838015</td>\n",
       "      <td>10.742664</td>\n",
       "      <td>1.513816</td>\n",
       "      <td>0.097179</td>\n",
       "    </tr>\n",
       "    <tr>\n",
       "      <th>1</th>\n",
       "      <td>1</td>\n",
       "      <td>-17.838015</td>\n",
       "      <td>11.706547</td>\n",
       "      <td>1.513816</td>\n",
       "      <td>0.105898</td>\n",
       "    </tr>\n",
       "    <tr>\n",
       "      <th>2</th>\n",
       "      <td>2</td>\n",
       "      <td>-20.942302</td>\n",
       "      <td>11.864001</td>\n",
       "      <td>2.009857</td>\n",
       "      <td>0.127321</td>\n",
       "    </tr>\n",
       "    <tr>\n",
       "      <th>3</th>\n",
       "      <td>3</td>\n",
       "      <td>-26.102104</td>\n",
       "      <td>1.336442</td>\n",
       "      <td>2.554289</td>\n",
       "      <td>0.218241</td>\n",
       "    </tr>\n",
       "    <tr>\n",
       "      <th>4</th>\n",
       "      <td>4</td>\n",
       "      <td>-30.241123</td>\n",
       "      <td>8.901708</td>\n",
       "      <td>3.240603</td>\n",
       "      <td>0.289511</td>\n",
       "    </tr>\n",
       "    <tr>\n",
       "      <th>5</th>\n",
       "      <td>5</td>\n",
       "      <td>-32.380389</td>\n",
       "      <td>11.997093</td>\n",
       "      <td>4.003917</td>\n",
       "      <td>0.197782</td>\n",
       "    </tr>\n",
       "    <tr>\n",
       "      <th>6</th>\n",
       "      <td>6</td>\n",
       "      <td>-32.414893</td>\n",
       "      <td>11.977719</td>\n",
       "      <td>4.887326</td>\n",
       "      <td>0.267062</td>\n",
       "    </tr>\n",
       "    <tr>\n",
       "      <th>7</th>\n",
       "      <td>7</td>\n",
       "      <td>-36.491183</td>\n",
       "      <td>13.143462</td>\n",
       "      <td>5.922597</td>\n",
       "      <td>0.807427</td>\n",
       "    </tr>\n",
       "    <tr>\n",
       "      <th>8</th>\n",
       "      <td>8</td>\n",
       "      <td>-37.821600</td>\n",
       "      <td>14.774109</td>\n",
       "      <td>6.174757</td>\n",
       "      <td>0.773586</td>\n",
       "    </tr>\n",
       "    <tr>\n",
       "      <th>9</th>\n",
       "      <td>9</td>\n",
       "      <td>-37.976847</td>\n",
       "      <td>14.751085</td>\n",
       "      <td>7.045220</td>\n",
       "      <td>2.190604</td>\n",
       "    </tr>\n",
       "    <tr>\n",
       "      <th>10</th>\n",
       "      <td>10</td>\n",
       "      <td>-37.976847</td>\n",
       "      <td>14.751085</td>\n",
       "      <td>6.661037</td>\n",
       "      <td>1.547138</td>\n",
       "    </tr>\n",
       "    <tr>\n",
       "      <th>11</th>\n",
       "      <td>11</td>\n",
       "      <td>-42.198387</td>\n",
       "      <td>13.922155</td>\n",
       "      <td>6.560431</td>\n",
       "      <td>0.413038</td>\n",
       "    </tr>\n",
       "    <tr>\n",
       "      <th>12</th>\n",
       "      <td>12</td>\n",
       "      <td>-47.666429</td>\n",
       "      <td>11.657927</td>\n",
       "      <td>7.126874</td>\n",
       "      <td>0.779508</td>\n",
       "    </tr>\n",
       "    <tr>\n",
       "      <th>13</th>\n",
       "      <td>13</td>\n",
       "      <td>-47.666429</td>\n",
       "      <td>11.657927</td>\n",
       "      <td>7.295409</td>\n",
       "      <td>0.614145</td>\n",
       "    </tr>\n",
       "    <tr>\n",
       "      <th>14</th>\n",
       "      <td>14</td>\n",
       "      <td>-48.717833</td>\n",
       "      <td>11.973579</td>\n",
       "      <td>8.012511</td>\n",
       "      <td>1.063635</td>\n",
       "    </tr>\n",
       "    <tr>\n",
       "      <th>15</th>\n",
       "      <td>15</td>\n",
       "      <td>-48.732063</td>\n",
       "      <td>11.981237</td>\n",
       "      <td>8.132388</td>\n",
       "      <td>0.443008</td>\n",
       "    </tr>\n",
       "    <tr>\n",
       "      <th>16</th>\n",
       "      <td>16</td>\n",
       "      <td>-48.749801</td>\n",
       "      <td>11.991017</td>\n",
       "      <td>8.491088</td>\n",
       "      <td>0.349481</td>\n",
       "    </tr>\n",
       "    <tr>\n",
       "      <th>17</th>\n",
       "      <td>17</td>\n",
       "      <td>-48.749801</td>\n",
       "      <td>11.991017</td>\n",
       "      <td>8.751993</td>\n",
       "      <td>0.451572</td>\n",
       "    </tr>\n",
       "    <tr>\n",
       "      <th>18</th>\n",
       "      <td>18</td>\n",
       "      <td>-54.111915</td>\n",
       "      <td>0.533272</td>\n",
       "      <td>9.164418</td>\n",
       "      <td>0.598241</td>\n",
       "    </tr>\n",
       "    <tr>\n",
       "      <th>19</th>\n",
       "      <td>19</td>\n",
       "      <td>-54.111915</td>\n",
       "      <td>0.533272</td>\n",
       "      <td>9.614435</td>\n",
       "      <td>0.621530</td>\n",
       "    </tr>\n",
       "    <tr>\n",
       "      <th>20</th>\n",
       "      <td>20</td>\n",
       "      <td>-54.111915</td>\n",
       "      <td>0.533272</td>\n",
       "      <td>10.104871</td>\n",
       "      <td>0.705599</td>\n",
       "    </tr>\n",
       "    <tr>\n",
       "      <th>21</th>\n",
       "      <td>21</td>\n",
       "      <td>-54.111915</td>\n",
       "      <td>0.533272</td>\n",
       "      <td>10.531608</td>\n",
       "      <td>0.996405</td>\n",
       "    </tr>\n",
       "    <tr>\n",
       "      <th>22</th>\n",
       "      <td>22</td>\n",
       "      <td>-54.111915</td>\n",
       "      <td>0.533272</td>\n",
       "      <td>10.945306</td>\n",
       "      <td>1.068210</td>\n",
       "    </tr>\n",
       "    <tr>\n",
       "      <th>23</th>\n",
       "      <td>23</td>\n",
       "      <td>-54.111915</td>\n",
       "      <td>0.533272</td>\n",
       "      <td>10.983000</td>\n",
       "      <td>0.871448</td>\n",
       "    </tr>\n",
       "    <tr>\n",
       "      <th>24</th>\n",
       "      <td>24</td>\n",
       "      <td>-54.111915</td>\n",
       "      <td>0.533272</td>\n",
       "      <td>11.068293</td>\n",
       "      <td>0.865361</td>\n",
       "    </tr>\n",
       "    <tr>\n",
       "      <th>25</th>\n",
       "      <td>25</td>\n",
       "      <td>-54.111915</td>\n",
       "      <td>0.533272</td>\n",
       "      <td>11.114439</td>\n",
       "      <td>0.809686</td>\n",
       "    </tr>\n",
       "    <tr>\n",
       "      <th>26</th>\n",
       "      <td>26</td>\n",
       "      <td>-54.111915</td>\n",
       "      <td>0.533272</td>\n",
       "      <td>11.055157</td>\n",
       "      <td>0.914290</td>\n",
       "    </tr>\n",
       "    <tr>\n",
       "      <th>27</th>\n",
       "      <td>27</td>\n",
       "      <td>-54.111915</td>\n",
       "      <td>0.533272</td>\n",
       "      <td>11.174473</td>\n",
       "      <td>0.953216</td>\n",
       "    </tr>\n",
       "    <tr>\n",
       "      <th>28</th>\n",
       "      <td>28</td>\n",
       "      <td>-54.111915</td>\n",
       "      <td>0.533272</td>\n",
       "      <td>11.159367</td>\n",
       "      <td>1.065852</td>\n",
       "    </tr>\n",
       "    <tr>\n",
       "      <th>29</th>\n",
       "      <td>29</td>\n",
       "      <td>-54.111915</td>\n",
       "      <td>0.533272</td>\n",
       "      <td>11.618681</td>\n",
       "      <td>1.991829</td>\n",
       "    </tr>\n",
       "    <tr>\n",
       "      <th>30</th>\n",
       "      <td>30</td>\n",
       "      <td>-54.111915</td>\n",
       "      <td>0.533272</td>\n",
       "      <td>11.643966</td>\n",
       "      <td>1.313300</td>\n",
       "    </tr>\n",
       "    <tr>\n",
       "      <th>31</th>\n",
       "      <td>31</td>\n",
       "      <td>-54.111915</td>\n",
       "      <td>0.533272</td>\n",
       "      <td>11.575364</td>\n",
       "      <td>1.140135</td>\n",
       "    </tr>\n",
       "    <tr>\n",
       "      <th>32</th>\n",
       "      <td>32</td>\n",
       "      <td>-54.111915</td>\n",
       "      <td>0.533272</td>\n",
       "      <td>12.852100</td>\n",
       "      <td>2.341574</td>\n",
       "    </tr>\n",
       "    <tr>\n",
       "      <th>33</th>\n",
       "      <td>33</td>\n",
       "      <td>-54.111915</td>\n",
       "      <td>0.533272</td>\n",
       "      <td>10.998275</td>\n",
       "      <td>2.400472</td>\n",
       "    </tr>\n",
       "    <tr>\n",
       "      <th>34</th>\n",
       "      <td>34</td>\n",
       "      <td>-54.111915</td>\n",
       "      <td>0.533272</td>\n",
       "      <td>10.290286</td>\n",
       "      <td>2.465984</td>\n",
       "    </tr>\n",
       "    <tr>\n",
       "      <th>35</th>\n",
       "      <td>35</td>\n",
       "      <td>-54.111915</td>\n",
       "      <td>0.533272</td>\n",
       "      <td>10.144932</td>\n",
       "      <td>3.512264</td>\n",
       "    </tr>\n",
       "    <tr>\n",
       "      <th>36</th>\n",
       "      <td>36</td>\n",
       "      <td>-54.111915</td>\n",
       "      <td>0.533272</td>\n",
       "      <td>13.581614</td>\n",
       "      <td>1.895413</td>\n",
       "    </tr>\n",
       "    <tr>\n",
       "      <th>37</th>\n",
       "      <td>37</td>\n",
       "      <td>-54.111915</td>\n",
       "      <td>0.533272</td>\n",
       "      <td>15.004029</td>\n",
       "      <td>2.675672</td>\n",
       "    </tr>\n",
       "    <tr>\n",
       "      <th>38</th>\n",
       "      <td>38</td>\n",
       "      <td>-54.111915</td>\n",
       "      <td>0.533272</td>\n",
       "      <td>12.510863</td>\n",
       "      <td>3.353412</td>\n",
       "    </tr>\n",
       "    <tr>\n",
       "      <th>39</th>\n",
       "      <td>39</td>\n",
       "      <td>-54.111915</td>\n",
       "      <td>0.533272</td>\n",
       "      <td>14.208906</td>\n",
       "      <td>3.953706</td>\n",
       "    </tr>\n",
       "    <tr>\n",
       "      <th>40</th>\n",
       "      <td>40</td>\n",
       "      <td>-54.111915</td>\n",
       "      <td>0.533272</td>\n",
       "      <td>15.699282</td>\n",
       "      <td>7.506378</td>\n",
       "    </tr>\n",
       "    <tr>\n",
       "      <th>41</th>\n",
       "      <td>41</td>\n",
       "      <td>-54.111915</td>\n",
       "      <td>0.533272</td>\n",
       "      <td>12.495157</td>\n",
       "      <td>1.451154</td>\n",
       "    </tr>\n",
       "    <tr>\n",
       "      <th>42</th>\n",
       "      <td>42</td>\n",
       "      <td>-54.111915</td>\n",
       "      <td>0.533272</td>\n",
       "      <td>13.853162</td>\n",
       "      <td>4.478884</td>\n",
       "    </tr>\n",
       "    <tr>\n",
       "      <th>43</th>\n",
       "      <td>43</td>\n",
       "      <td>-54.111915</td>\n",
       "      <td>0.533272</td>\n",
       "      <td>15.001612</td>\n",
       "      <td>6.924245</td>\n",
       "    </tr>\n",
       "    <tr>\n",
       "      <th>44</th>\n",
       "      <td>44</td>\n",
       "      <td>-54.111915</td>\n",
       "      <td>0.533272</td>\n",
       "      <td>14.788163</td>\n",
       "      <td>2.434111</td>\n",
       "    </tr>\n",
       "    <tr>\n",
       "      <th>45</th>\n",
       "      <td>45</td>\n",
       "      <td>-54.111915</td>\n",
       "      <td>0.533272</td>\n",
       "      <td>15.738476</td>\n",
       "      <td>7.480678</td>\n",
       "    </tr>\n",
       "    <tr>\n",
       "      <th>46</th>\n",
       "      <td>46</td>\n",
       "      <td>-54.111915</td>\n",
       "      <td>0.533272</td>\n",
       "      <td>14.562890</td>\n",
       "      <td>3.178703</td>\n",
       "    </tr>\n",
       "    <tr>\n",
       "      <th>47</th>\n",
       "      <td>47</td>\n",
       "      <td>-54.111915</td>\n",
       "      <td>0.533272</td>\n",
       "      <td>18.707463</td>\n",
       "      <td>8.038987</td>\n",
       "    </tr>\n",
       "    <tr>\n",
       "      <th>48</th>\n",
       "      <td>48</td>\n",
       "      <td>-54.111915</td>\n",
       "      <td>0.533272</td>\n",
       "      <td>18.414326</td>\n",
       "      <td>5.057529</td>\n",
       "    </tr>\n",
       "    <tr>\n",
       "      <th>49</th>\n",
       "      <td>49</td>\n",
       "      <td>-54.111915</td>\n",
       "      <td>0.533272</td>\n",
       "      <td>17.071204</td>\n",
       "      <td>6.076653</td>\n",
       "    </tr>\n",
       "    <tr>\n",
       "      <th>50</th>\n",
       "      <td>50</td>\n",
       "      <td>-54.111915</td>\n",
       "      <td>0.533272</td>\n",
       "      <td>19.090025</td>\n",
       "      <td>7.338315</td>\n",
       "    </tr>\n",
       "  </tbody>\n",
       "</table>\n",
       "</div>"
      ],
      "text/plain": [
       "    Iteration  y_best_mean  y_best_std  beta_best_mean  beta_best_std\n",
       "0           0   -17.838015   10.742664        1.513816       0.097179\n",
       "1           1   -17.838015   11.706547        1.513816       0.105898\n",
       "2           2   -20.942302   11.864001        2.009857       0.127321\n",
       "3           3   -26.102104    1.336442        2.554289       0.218241\n",
       "4           4   -30.241123    8.901708        3.240603       0.289511\n",
       "5           5   -32.380389   11.997093        4.003917       0.197782\n",
       "6           6   -32.414893   11.977719        4.887326       0.267062\n",
       "7           7   -36.491183   13.143462        5.922597       0.807427\n",
       "8           8   -37.821600   14.774109        6.174757       0.773586\n",
       "9           9   -37.976847   14.751085        7.045220       2.190604\n",
       "10         10   -37.976847   14.751085        6.661037       1.547138\n",
       "11         11   -42.198387   13.922155        6.560431       0.413038\n",
       "12         12   -47.666429   11.657927        7.126874       0.779508\n",
       "13         13   -47.666429   11.657927        7.295409       0.614145\n",
       "14         14   -48.717833   11.973579        8.012511       1.063635\n",
       "15         15   -48.732063   11.981237        8.132388       0.443008\n",
       "16         16   -48.749801   11.991017        8.491088       0.349481\n",
       "17         17   -48.749801   11.991017        8.751993       0.451572\n",
       "18         18   -54.111915    0.533272        9.164418       0.598241\n",
       "19         19   -54.111915    0.533272        9.614435       0.621530\n",
       "20         20   -54.111915    0.533272       10.104871       0.705599\n",
       "21         21   -54.111915    0.533272       10.531608       0.996405\n",
       "22         22   -54.111915    0.533272       10.945306       1.068210\n",
       "23         23   -54.111915    0.533272       10.983000       0.871448\n",
       "24         24   -54.111915    0.533272       11.068293       0.865361\n",
       "25         25   -54.111915    0.533272       11.114439       0.809686\n",
       "26         26   -54.111915    0.533272       11.055157       0.914290\n",
       "27         27   -54.111915    0.533272       11.174473       0.953216\n",
       "28         28   -54.111915    0.533272       11.159367       1.065852\n",
       "29         29   -54.111915    0.533272       11.618681       1.991829\n",
       "30         30   -54.111915    0.533272       11.643966       1.313300\n",
       "31         31   -54.111915    0.533272       11.575364       1.140135\n",
       "32         32   -54.111915    0.533272       12.852100       2.341574\n",
       "33         33   -54.111915    0.533272       10.998275       2.400472\n",
       "34         34   -54.111915    0.533272       10.290286       2.465984\n",
       "35         35   -54.111915    0.533272       10.144932       3.512264\n",
       "36         36   -54.111915    0.533272       13.581614       1.895413\n",
       "37         37   -54.111915    0.533272       15.004029       2.675672\n",
       "38         38   -54.111915    0.533272       12.510863       3.353412\n",
       "39         39   -54.111915    0.533272       14.208906       3.953706\n",
       "40         40   -54.111915    0.533272       15.699282       7.506378\n",
       "41         41   -54.111915    0.533272       12.495157       1.451154\n",
       "42         42   -54.111915    0.533272       13.853162       4.478884\n",
       "43         43   -54.111915    0.533272       15.001612       6.924245\n",
       "44         44   -54.111915    0.533272       14.788163       2.434111\n",
       "45         45   -54.111915    0.533272       15.738476       7.480678\n",
       "46         46   -54.111915    0.533272       14.562890       3.178703\n",
       "47         47   -54.111915    0.533272       18.707463       8.038987\n",
       "48         48   -54.111915    0.533272       18.414326       5.057529\n",
       "49         49   -54.111915    0.533272       17.071204       6.076653\n",
       "50         50   -54.111915    0.533272       19.090025       7.338315"
      ]
     },
     "execution_count": 33,
     "metadata": {},
     "output_type": "execute_result"
    }
   ],
   "source": [
    "target = os.path.join(LOG_DIR, 'E2')\n",
    "keywards = [\"GP\", 'Sinusoidal', 'EI']\n",
    "filename_list = search_log_files(target, keywards)\n",
    "print(filename_list)\n",
    "filepath_list = [os.path.join(target, filename) for filename in filename_list]\n",
    "\n",
    "dataframes = []\n",
    "for filepath in filepath_list:\n",
    "    parser = LogParser(filepath)\n",
    "    parser.parse_log_file()\n",
    "    df = parser.create_combined_dataframe()\n",
    "    dataframes.append(df)\n",
    "\n",
    "result_df = process_dataframes(dataframes)\n",
    "result_df"
   ]
  },
  {
   "cell_type": "code",
   "execution_count": 50,
   "metadata": {},
   "outputs": [
    {
     "name": "stdout",
     "output_type": "stream",
     "text": [
      "['2024-09-21_22-18-31_vanilla_bo_SinusoidalSynthetic_TP_EI_seed0.log', '2024-09-21_22-22-01_vanilla_bo_SinusoidalSynthetic_TP_EI_seed1.log', '2024-09-21_22-22-01_vanilla_bo_SinusoidalSynthetic_TP_EI_seed2.log', '2024-09-21_22-22-01_vanilla_bo_SinusoidalSynthetic_TP_EI_seed3.log', '2024-09-21_22-22-01_vanilla_bo_SinusoidalSynthetic_TP_EI_seed4.log']\n",
      "Failed to parse settings: invalid syntax (<unknown>, line 1)\n",
      "Failed to parse settings: invalid syntax (<unknown>, line 1)\n",
      "Failed to parse settings: invalid syntax (<unknown>, line 1)\n",
      "Failed to parse settings: invalid syntax (<unknown>, line 1)\n",
      "Failed to parse settings: invalid syntax (<unknown>, line 1)\n",
      "Minimum number of rows: 50\n",
      "Maximum number of rows: 56\n"
     ]
    },
    {
     "data": {
      "text/html": [
       "<div>\n",
       "<style scoped>\n",
       "    .dataframe tbody tr th:only-of-type {\n",
       "        vertical-align: middle;\n",
       "    }\n",
       "\n",
       "    .dataframe tbody tr th {\n",
       "        vertical-align: top;\n",
       "    }\n",
       "\n",
       "    .dataframe thead th {\n",
       "        text-align: right;\n",
       "    }\n",
       "</style>\n",
       "<table border=\"1\" class=\"dataframe\">\n",
       "  <thead>\n",
       "    <tr style=\"text-align: right;\">\n",
       "      <th></th>\n",
       "      <th>Iteration</th>\n",
       "      <th>y_best_mean</th>\n",
       "      <th>y_best_std</th>\n",
       "      <th>beta_mean</th>\n",
       "      <th>beta_std</th>\n",
       "    </tr>\n",
       "  </thead>\n",
       "  <tbody>\n",
       "    <tr>\n",
       "      <th>0</th>\n",
       "      <td>0</td>\n",
       "      <td>-39.265759</td>\n",
       "      <td>13.072124</td>\n",
       "      <td>2.173240</td>\n",
       "      <td>0.030504</td>\n",
       "    </tr>\n",
       "    <tr>\n",
       "      <th>1</th>\n",
       "      <td>1</td>\n",
       "      <td>-39.265759</td>\n",
       "      <td>14.245017</td>\n",
       "      <td>2.173240</td>\n",
       "      <td>0.033241</td>\n",
       "    </tr>\n",
       "    <tr>\n",
       "      <th>2</th>\n",
       "      <td>2</td>\n",
       "      <td>-39.265759</td>\n",
       "      <td>14.245017</td>\n",
       "      <td>2.963577</td>\n",
       "      <td>0.102731</td>\n",
       "    </tr>\n",
       "    <tr>\n",
       "      <th>3</th>\n",
       "      <td>3</td>\n",
       "      <td>-40.209085</td>\n",
       "      <td>12.965507</td>\n",
       "      <td>3.906513</td>\n",
       "      <td>0.236528</td>\n",
       "    </tr>\n",
       "    <tr>\n",
       "      <th>4</th>\n",
       "      <td>4</td>\n",
       "      <td>-40.885957</td>\n",
       "      <td>13.317178</td>\n",
       "      <td>4.894375</td>\n",
       "      <td>0.328746</td>\n",
       "    </tr>\n",
       "    <tr>\n",
       "      <th>5</th>\n",
       "      <td>5</td>\n",
       "      <td>-42.911349</td>\n",
       "      <td>14.919652</td>\n",
       "      <td>6.039124</td>\n",
       "      <td>0.702125</td>\n",
       "    </tr>\n",
       "    <tr>\n",
       "      <th>6</th>\n",
       "      <td>6</td>\n",
       "      <td>-43.473798</td>\n",
       "      <td>15.028472</td>\n",
       "      <td>7.509961</td>\n",
       "      <td>1.044225</td>\n",
       "    </tr>\n",
       "    <tr>\n",
       "      <th>7</th>\n",
       "      <td>7</td>\n",
       "      <td>-43.505324</td>\n",
       "      <td>15.057102</td>\n",
       "      <td>8.800836</td>\n",
       "      <td>0.913563</td>\n",
       "    </tr>\n",
       "    <tr>\n",
       "      <th>8</th>\n",
       "      <td>8</td>\n",
       "      <td>-43.550779</td>\n",
       "      <td>14.993953</td>\n",
       "      <td>9.436005</td>\n",
       "      <td>1.382060</td>\n",
       "    </tr>\n",
       "    <tr>\n",
       "      <th>9</th>\n",
       "      <td>9</td>\n",
       "      <td>-43.552102</td>\n",
       "      <td>14.995162</td>\n",
       "      <td>11.294768</td>\n",
       "      <td>1.362176</td>\n",
       "    </tr>\n",
       "    <tr>\n",
       "      <th>10</th>\n",
       "      <td>10</td>\n",
       "      <td>-49.004772</td>\n",
       "      <td>12.128125</td>\n",
       "      <td>14.196651</td>\n",
       "      <td>2.431133</td>\n",
       "    </tr>\n",
       "    <tr>\n",
       "      <th>11</th>\n",
       "      <td>11</td>\n",
       "      <td>-49.064568</td>\n",
       "      <td>12.160870</td>\n",
       "      <td>15.345766</td>\n",
       "      <td>5.814427</td>\n",
       "    </tr>\n",
       "    <tr>\n",
       "      <th>12</th>\n",
       "      <td>12</td>\n",
       "      <td>-49.069625</td>\n",
       "      <td>12.163702</td>\n",
       "      <td>13.372238</td>\n",
       "      <td>6.697382</td>\n",
       "    </tr>\n",
       "    <tr>\n",
       "      <th>13</th>\n",
       "      <td>13</td>\n",
       "      <td>-54.053306</td>\n",
       "      <td>1.019939</td>\n",
       "      <td>10.438774</td>\n",
       "      <td>3.730927</td>\n",
       "    </tr>\n",
       "    <tr>\n",
       "      <th>14</th>\n",
       "      <td>14</td>\n",
       "      <td>-54.053306</td>\n",
       "      <td>1.019939</td>\n",
       "      <td>12.686122</td>\n",
       "      <td>9.940308</td>\n",
       "    </tr>\n",
       "    <tr>\n",
       "      <th>15</th>\n",
       "      <td>15</td>\n",
       "      <td>-54.053306</td>\n",
       "      <td>1.019939</td>\n",
       "      <td>7.680821</td>\n",
       "      <td>1.240707</td>\n",
       "    </tr>\n",
       "    <tr>\n",
       "      <th>16</th>\n",
       "      <td>16</td>\n",
       "      <td>-54.514099</td>\n",
       "      <td>0.015758</td>\n",
       "      <td>7.646619</td>\n",
       "      <td>1.104477</td>\n",
       "    </tr>\n",
       "    <tr>\n",
       "      <th>17</th>\n",
       "      <td>17</td>\n",
       "      <td>-54.514099</td>\n",
       "      <td>0.015758</td>\n",
       "      <td>7.750595</td>\n",
       "      <td>1.038679</td>\n",
       "    </tr>\n",
       "    <tr>\n",
       "      <th>18</th>\n",
       "      <td>18</td>\n",
       "      <td>-54.514099</td>\n",
       "      <td>0.015758</td>\n",
       "      <td>7.737978</td>\n",
       "      <td>0.935986</td>\n",
       "    </tr>\n",
       "    <tr>\n",
       "      <th>19</th>\n",
       "      <td>19</td>\n",
       "      <td>-54.514099</td>\n",
       "      <td>0.015758</td>\n",
       "      <td>7.840163</td>\n",
       "      <td>1.014432</td>\n",
       "    </tr>\n",
       "    <tr>\n",
       "      <th>20</th>\n",
       "      <td>20</td>\n",
       "      <td>-54.514099</td>\n",
       "      <td>0.015758</td>\n",
       "      <td>8.046405</td>\n",
       "      <td>1.329317</td>\n",
       "    </tr>\n",
       "    <tr>\n",
       "      <th>21</th>\n",
       "      <td>21</td>\n",
       "      <td>-54.514099</td>\n",
       "      <td>0.015758</td>\n",
       "      <td>8.130689</td>\n",
       "      <td>1.590189</td>\n",
       "    </tr>\n",
       "    <tr>\n",
       "      <th>22</th>\n",
       "      <td>22</td>\n",
       "      <td>-54.514099</td>\n",
       "      <td>0.015758</td>\n",
       "      <td>8.054533</td>\n",
       "      <td>1.697656</td>\n",
       "    </tr>\n",
       "    <tr>\n",
       "      <th>23</th>\n",
       "      <td>23</td>\n",
       "      <td>-54.514099</td>\n",
       "      <td>0.015758</td>\n",
       "      <td>7.591545</td>\n",
       "      <td>1.718166</td>\n",
       "    </tr>\n",
       "    <tr>\n",
       "      <th>24</th>\n",
       "      <td>24</td>\n",
       "      <td>-54.514099</td>\n",
       "      <td>0.015758</td>\n",
       "      <td>7.382686</td>\n",
       "      <td>1.780794</td>\n",
       "    </tr>\n",
       "    <tr>\n",
       "      <th>25</th>\n",
       "      <td>25</td>\n",
       "      <td>-54.514099</td>\n",
       "      <td>0.015758</td>\n",
       "      <td>7.258895</td>\n",
       "      <td>1.896151</td>\n",
       "    </tr>\n",
       "    <tr>\n",
       "      <th>26</th>\n",
       "      <td>26</td>\n",
       "      <td>-54.514099</td>\n",
       "      <td>0.015758</td>\n",
       "      <td>7.009531</td>\n",
       "      <td>1.817470</td>\n",
       "    </tr>\n",
       "    <tr>\n",
       "      <th>27</th>\n",
       "      <td>27</td>\n",
       "      <td>-54.514099</td>\n",
       "      <td>0.015758</td>\n",
       "      <td>6.779997</td>\n",
       "      <td>1.768203</td>\n",
       "    </tr>\n",
       "    <tr>\n",
       "      <th>28</th>\n",
       "      <td>28</td>\n",
       "      <td>-54.514099</td>\n",
       "      <td>0.015758</td>\n",
       "      <td>6.647782</td>\n",
       "      <td>1.674889</td>\n",
       "    </tr>\n",
       "    <tr>\n",
       "      <th>29</th>\n",
       "      <td>29</td>\n",
       "      <td>-54.514099</td>\n",
       "      <td>0.015758</td>\n",
       "      <td>6.482184</td>\n",
       "      <td>1.752097</td>\n",
       "    </tr>\n",
       "    <tr>\n",
       "      <th>30</th>\n",
       "      <td>30</td>\n",
       "      <td>-54.514099</td>\n",
       "      <td>0.015758</td>\n",
       "      <td>6.379526</td>\n",
       "      <td>1.737873</td>\n",
       "    </tr>\n",
       "    <tr>\n",
       "      <th>31</th>\n",
       "      <td>31</td>\n",
       "      <td>-54.514099</td>\n",
       "      <td>0.015758</td>\n",
       "      <td>6.281141</td>\n",
       "      <td>1.347472</td>\n",
       "    </tr>\n",
       "    <tr>\n",
       "      <th>32</th>\n",
       "      <td>32</td>\n",
       "      <td>-54.514099</td>\n",
       "      <td>0.015758</td>\n",
       "      <td>5.467239</td>\n",
       "      <td>2.544009</td>\n",
       "    </tr>\n",
       "    <tr>\n",
       "      <th>33</th>\n",
       "      <td>33</td>\n",
       "      <td>-54.514099</td>\n",
       "      <td>0.015758</td>\n",
       "      <td>7.080044</td>\n",
       "      <td>0.473677</td>\n",
       "    </tr>\n",
       "    <tr>\n",
       "      <th>34</th>\n",
       "      <td>34</td>\n",
       "      <td>-54.514099</td>\n",
       "      <td>0.015758</td>\n",
       "      <td>5.715568</td>\n",
       "      <td>2.181362</td>\n",
       "    </tr>\n",
       "    <tr>\n",
       "      <th>35</th>\n",
       "      <td>35</td>\n",
       "      <td>-54.514099</td>\n",
       "      <td>0.015758</td>\n",
       "      <td>4.539750</td>\n",
       "      <td>2.389836</td>\n",
       "    </tr>\n",
       "    <tr>\n",
       "      <th>36</th>\n",
       "      <td>36</td>\n",
       "      <td>-54.514099</td>\n",
       "      <td>0.015758</td>\n",
       "      <td>6.786433</td>\n",
       "      <td>2.959754</td>\n",
       "    </tr>\n",
       "    <tr>\n",
       "      <th>37</th>\n",
       "      <td>37</td>\n",
       "      <td>-54.514099</td>\n",
       "      <td>0.015758</td>\n",
       "      <td>4.994594</td>\n",
       "      <td>2.301349</td>\n",
       "    </tr>\n",
       "    <tr>\n",
       "      <th>38</th>\n",
       "      <td>38</td>\n",
       "      <td>-54.514099</td>\n",
       "      <td>0.015758</td>\n",
       "      <td>5.611090</td>\n",
       "      <td>1.357277</td>\n",
       "    </tr>\n",
       "    <tr>\n",
       "      <th>39</th>\n",
       "      <td>39</td>\n",
       "      <td>-54.514099</td>\n",
       "      <td>0.015758</td>\n",
       "      <td>6.280238</td>\n",
       "      <td>2.484228</td>\n",
       "    </tr>\n",
       "    <tr>\n",
       "      <th>40</th>\n",
       "      <td>40</td>\n",
       "      <td>-54.514099</td>\n",
       "      <td>0.015758</td>\n",
       "      <td>6.984766</td>\n",
       "      <td>5.115399</td>\n",
       "    </tr>\n",
       "    <tr>\n",
       "      <th>41</th>\n",
       "      <td>41</td>\n",
       "      <td>-54.514099</td>\n",
       "      <td>0.015758</td>\n",
       "      <td>6.461398</td>\n",
       "      <td>3.835954</td>\n",
       "    </tr>\n",
       "    <tr>\n",
       "      <th>42</th>\n",
       "      <td>42</td>\n",
       "      <td>-54.514099</td>\n",
       "      <td>0.015758</td>\n",
       "      <td>9.105077</td>\n",
       "      <td>7.875156</td>\n",
       "    </tr>\n",
       "    <tr>\n",
       "      <th>43</th>\n",
       "      <td>43</td>\n",
       "      <td>-54.514099</td>\n",
       "      <td>0.015758</td>\n",
       "      <td>5.685352</td>\n",
       "      <td>1.958820</td>\n",
       "    </tr>\n",
       "    <tr>\n",
       "      <th>44</th>\n",
       "      <td>44</td>\n",
       "      <td>-54.514099</td>\n",
       "      <td>0.015758</td>\n",
       "      <td>4.990195</td>\n",
       "      <td>2.068570</td>\n",
       "    </tr>\n",
       "    <tr>\n",
       "      <th>45</th>\n",
       "      <td>45</td>\n",
       "      <td>-54.514099</td>\n",
       "      <td>0.015758</td>\n",
       "      <td>6.726042</td>\n",
       "      <td>3.920868</td>\n",
       "    </tr>\n",
       "    <tr>\n",
       "      <th>46</th>\n",
       "      <td>46</td>\n",
       "      <td>-54.514099</td>\n",
       "      <td>0.015758</td>\n",
       "      <td>5.934018</td>\n",
       "      <td>3.546636</td>\n",
       "    </tr>\n",
       "  </tbody>\n",
       "</table>\n",
       "</div>"
      ],
      "text/plain": [
       "    Iteration  y_best_mean  y_best_std  beta_mean  beta_std\n",
       "0           0   -39.265759   13.072124   2.173240  0.030504\n",
       "1           1   -39.265759   14.245017   2.173240  0.033241\n",
       "2           2   -39.265759   14.245017   2.963577  0.102731\n",
       "3           3   -40.209085   12.965507   3.906513  0.236528\n",
       "4           4   -40.885957   13.317178   4.894375  0.328746\n",
       "5           5   -42.911349   14.919652   6.039124  0.702125\n",
       "6           6   -43.473798   15.028472   7.509961  1.044225\n",
       "7           7   -43.505324   15.057102   8.800836  0.913563\n",
       "8           8   -43.550779   14.993953   9.436005  1.382060\n",
       "9           9   -43.552102   14.995162  11.294768  1.362176\n",
       "10         10   -49.004772   12.128125  14.196651  2.431133\n",
       "11         11   -49.064568   12.160870  15.345766  5.814427\n",
       "12         12   -49.069625   12.163702  13.372238  6.697382\n",
       "13         13   -54.053306    1.019939  10.438774  3.730927\n",
       "14         14   -54.053306    1.019939  12.686122  9.940308\n",
       "15         15   -54.053306    1.019939   7.680821  1.240707\n",
       "16         16   -54.514099    0.015758   7.646619  1.104477\n",
       "17         17   -54.514099    0.015758   7.750595  1.038679\n",
       "18         18   -54.514099    0.015758   7.737978  0.935986\n",
       "19         19   -54.514099    0.015758   7.840163  1.014432\n",
       "20         20   -54.514099    0.015758   8.046405  1.329317\n",
       "21         21   -54.514099    0.015758   8.130689  1.590189\n",
       "22         22   -54.514099    0.015758   8.054533  1.697656\n",
       "23         23   -54.514099    0.015758   7.591545  1.718166\n",
       "24         24   -54.514099    0.015758   7.382686  1.780794\n",
       "25         25   -54.514099    0.015758   7.258895  1.896151\n",
       "26         26   -54.514099    0.015758   7.009531  1.817470\n",
       "27         27   -54.514099    0.015758   6.779997  1.768203\n",
       "28         28   -54.514099    0.015758   6.647782  1.674889\n",
       "29         29   -54.514099    0.015758   6.482184  1.752097\n",
       "30         30   -54.514099    0.015758   6.379526  1.737873\n",
       "31         31   -54.514099    0.015758   6.281141  1.347472\n",
       "32         32   -54.514099    0.015758   5.467239  2.544009\n",
       "33         33   -54.514099    0.015758   7.080044  0.473677\n",
       "34         34   -54.514099    0.015758   5.715568  2.181362\n",
       "35         35   -54.514099    0.015758   4.539750  2.389836\n",
       "36         36   -54.514099    0.015758   6.786433  2.959754\n",
       "37         37   -54.514099    0.015758   4.994594  2.301349\n",
       "38         38   -54.514099    0.015758   5.611090  1.357277\n",
       "39         39   -54.514099    0.015758   6.280238  2.484228\n",
       "40         40   -54.514099    0.015758   6.984766  5.115399\n",
       "41         41   -54.514099    0.015758   6.461398  3.835954\n",
       "42         42   -54.514099    0.015758   9.105077  7.875156\n",
       "43         43   -54.514099    0.015758   5.685352  1.958820\n",
       "44         44   -54.514099    0.015758   4.990195  2.068570\n",
       "45         45   -54.514099    0.015758   6.726042  3.920868\n",
       "46         46   -54.514099    0.015758   5.934018  3.546636"
      ]
     },
     "execution_count": 50,
     "metadata": {},
     "output_type": "execute_result"
    }
   ],
   "source": [
    "target = os.path.join(LOG_DIR, 'E2')\n",
    "keywards = [\"TP\", 'Sinusoidal', 'EI']\n",
    "filename_list = search_log_files(target, keywards)\n",
    "print(filename_list)\n",
    "filepath_list = [os.path.join(target, filename) for filename in filename_list]\n",
    "\n",
    "dataframes = []\n",
    "for filepath in filepath_list:\n",
    "    parser = LogParser(filepath)\n",
    "    parser.parse_log_file()\n",
    "    df = parser.create_combined_dataframe()\n",
    "    dataframes.append(df)\n",
    "\n",
    "result_df = process_dataframes(dataframes)\n",
    "result_df"
   ]
  },
  {
   "cell_type": "code",
   "execution_count": null,
   "metadata": {},
   "outputs": [],
   "source": []
  },
  {
   "cell_type": "code",
   "execution_count": 51,
   "metadata": {},
   "outputs": [],
   "source": [
    "# Function to create and store result_df for each model\n",
    "def create_result_df_dict(target, models, keywards):\n",
    "    result_df_dict = {}\n",
    "    \n",
    "    # Loop through each model to process files and create result_df\n",
    "    for model_name in models:\n",
    "        # Update keywards with the current model name\n",
    "        updated_keywards = [model_name] + keywards  # Replace the first item with model_name\n",
    "        \n",
    "        # Search for log files\n",
    "        filename_list = search_log_files(target, updated_keywards)\n",
    "        filepath_list = [os.path.join(target, filename) for filename in filename_list]\n",
    "        \n",
    "        # Initialize an empty list to hold dataframes\n",
    "        dataframes = []\n",
    "        \n",
    "        # Parse each log file and create dataframes\n",
    "        for filepath in filepath_list:\n",
    "            parser = LogParser(filepath)\n",
    "            parser.parse_log_file()\n",
    "            df = parser.create_combined_dataframe()\n",
    "            dataframes.append(df)\n",
    "        \n",
    "        # Process the dataframes and store the result in result_df_dict\n",
    "        result_df = process_dataframes(dataframes)\n",
    "        result_df_dict[model_name] = result_df  # Store the result in the dictionary with the model name as key\n",
    "    \n",
    "    return result_df_dict"
   ]
  },
  {
   "cell_type": "code",
   "execution_count": 52,
   "metadata": {},
   "outputs": [
    {
     "name": "stdout",
     "output_type": "stream",
     "text": [
      "Failed to parse settings: invalid syntax (<unknown>, line 1)\n",
      "Failed to parse settings: invalid syntax (<unknown>, line 1)\n",
      "Failed to parse settings: invalid syntax (<unknown>, line 1)\n",
      "Failed to parse settings: invalid syntax (<unknown>, line 1)\n",
      "Failed to parse settings: invalid syntax (<unknown>, line 1)\n",
      "Minimum number of rows: 54\n",
      "Maximum number of rows: 57\n",
      "Failed to parse settings: invalid syntax (<unknown>, line 1)\n",
      "Failed to parse settings: invalid syntax (<unknown>, line 1)\n",
      "Failed to parse settings: invalid syntax (<unknown>, line 1)\n",
      "Failed to parse settings: invalid syntax (<unknown>, line 1)\n",
      "Failed to parse settings: invalid syntax (<unknown>, line 1)\n",
      "Minimum number of rows: 50\n",
      "Maximum number of rows: 56\n",
      "Failed to parse settings: invalid syntax (<unknown>, line 1)\n",
      "Failed to parse settings: invalid syntax (<unknown>, line 1)\n",
      "Failed to parse settings: invalid syntax (<unknown>, line 1)\n",
      "Failed to parse settings: invalid syntax (<unknown>, line 1)\n",
      "Failed to parse settings: invalid syntax (<unknown>, line 1)\n",
      "Minimum number of rows: 50\n",
      "Maximum number of rows: 51\n"
     ]
    }
   ],
   "source": []
  },
  {
   "cell_type": "code",
   "execution_count": 54,
   "metadata": {},
   "outputs": [],
   "source": []
  },
  {
   "cell_type": "markdown",
   "metadata": {},
   "source": [
    "# EI"
   ]
  },
  {
   "cell_type": "code",
   "execution_count": 60,
   "metadata": {},
   "outputs": [
    {
     "name": "stdout",
     "output_type": "stream",
     "text": [
      "Failed to parse settings: invalid syntax (<unknown>, line 1)\n",
      "Failed to parse settings: invalid syntax (<unknown>, line 1)\n",
      "Failed to parse settings: invalid syntax (<unknown>, line 1)\n",
      "Failed to parse settings: invalid syntax (<unknown>, line 1)\n",
      "Failed to parse settings: invalid syntax (<unknown>, line 1)\n",
      "Minimum number of rows: 54\n",
      "Maximum number of rows: 57\n",
      "Failed to parse settings: invalid syntax (<unknown>, line 1)\n",
      "Failed to parse settings: invalid syntax (<unknown>, line 1)\n",
      "Failed to parse settings: invalid syntax (<unknown>, line 1)\n",
      "Failed to parse settings: invalid syntax (<unknown>, line 1)\n",
      "Failed to parse settings: invalid syntax (<unknown>, line 1)\n",
      "Minimum number of rows: 50\n",
      "Maximum number of rows: 56\n",
      "Failed to parse settings: invalid syntax (<unknown>, line 1)\n",
      "Failed to parse settings: invalid syntax (<unknown>, line 1)\n",
      "Failed to parse settings: invalid syntax (<unknown>, line 1)\n",
      "Failed to parse settings: invalid syntax (<unknown>, line 1)\n",
      "Failed to parse settings: invalid syntax (<unknown>, line 1)\n",
      "Minimum number of rows: 50\n",
      "Maximum number of rows: 51\n"
     ]
    },
    {
     "data": {
      "application/vnd.plotly.v1+json": {
       "config": {
        "plotlyServerURL": "https://plot.ly"
       },
       "data": [
        {
         "line": {
          "color": "#636EFA"
         },
         "mode": "lines+markers",
         "name": "GP (Mean)",
         "type": "scatter",
         "x": [
          0,
          1,
          2,
          3,
          4,
          5,
          6,
          7,
          8,
          9,
          10,
          11,
          12,
          13,
          14,
          15,
          16,
          17,
          18,
          19,
          20,
          21,
          22,
          23,
          24,
          25,
          26,
          27,
          28,
          29,
          30,
          31,
          32,
          33,
          34,
          35,
          36,
          37,
          38,
          39,
          40,
          41,
          42,
          43,
          44,
          45,
          46,
          47,
          48,
          49,
          50
         ],
         "y": [
          -17.838014756,
          -17.838014756,
          -20.942301957999998,
          -26.102103974,
          -30.241123174000002,
          -32.380389122,
          -32.414892922,
          -36.491183,
          -37.821600000000004,
          -37.9768468,
          -37.9768468,
          -42.198386799999994,
          -47.6664286,
          -47.6664286,
          -48.7178332,
          -48.7320628,
          -48.7498012,
          -48.7498012,
          -54.1119148,
          -54.1119148,
          -54.1119148,
          -54.1119148,
          -54.1119148,
          -54.1119148,
          -54.1119148,
          -54.1119148,
          -54.1119148,
          -54.1119148,
          -54.1119148,
          -54.1119148,
          -54.1119148,
          -54.1119148,
          -54.1119148,
          -54.1119148,
          -54.1119148,
          -54.1119148,
          -54.1119148,
          -54.1119148,
          -54.1119148,
          -54.1119148,
          -54.1119148,
          -54.1119148,
          -54.1119148,
          -54.1119148,
          -54.1119148,
          -54.1119148,
          -54.1119148,
          -54.1119148,
          -54.1119148,
          -54.1119148,
          -54.1119148
         ]
        },
        {
         "error_y": {
          "array": [
           10.742664308467832,
           11.706547026248133,
           11.864000513348802,
           1.3364417058278693,
           8.901707981937937,
           11.997092693152451,
           11.977718592242578,
           13.143462350081409,
           14.774109084593306,
           14.751085433087786,
           14.751085433087786,
           13.922154572813957,
           11.657927323034583,
           11.657927323034583,
           11.9735792957993,
           11.981237054882428,
           11.991016752425846,
           11.991016752425846,
           0.5332717761003288,
           0.5332717761003288,
           0.5332717761003288,
           0.5332717761003288,
           0.5332717761003288,
           0.5332717761003288,
           0.5332717761003288,
           0.5332717761003288,
           0.5332717761003288,
           0.5332717761003288,
           0.5332717761003288,
           0.5332717761003288,
           0.5332717761003288,
           0.5332717761003288,
           0.5332717761003288,
           0.5332717761003288,
           0.5332717761003288,
           0.5332717761003288,
           0.5332717761003288,
           0.5332717761003288,
           0.5332717761003288,
           0.5332717761003288,
           0.5332717761003288,
           0.5332717761003288,
           0.5332717761003288,
           0.5332717761003288,
           0.5332717761003288,
           0.5332717761003288,
           0.5332717761003288,
           0.5332717761003288,
           0.5332717761003288,
           0.5332717761003288,
           0.5332717761003288
          ],
          "type": "data",
          "visible": true
         },
         "line": {
          "color": "#636EFA"
         },
         "mode": "lines+markers",
         "name": "GP (Error Bars)",
         "opacity": 0.3,
         "showlegend": false,
         "type": "scatter",
         "x": [
          0,
          1,
          2,
          3,
          4,
          5,
          6,
          7,
          8,
          9,
          10,
          11,
          12,
          13,
          14,
          15,
          16,
          17,
          18,
          19,
          20,
          21,
          22,
          23,
          24,
          25,
          26,
          27,
          28,
          29,
          30,
          31,
          32,
          33,
          34,
          35,
          36,
          37,
          38,
          39,
          40,
          41,
          42,
          43,
          44,
          45,
          46,
          47,
          48,
          49,
          50
         ],
         "y": [
          -17.838014756,
          -17.838014756,
          -20.942301957999998,
          -26.102103974,
          -30.241123174000002,
          -32.380389122,
          -32.414892922,
          -36.491183,
          -37.821600000000004,
          -37.9768468,
          -37.9768468,
          -42.198386799999994,
          -47.6664286,
          -47.6664286,
          -48.7178332,
          -48.7320628,
          -48.7498012,
          -48.7498012,
          -54.1119148,
          -54.1119148,
          -54.1119148,
          -54.1119148,
          -54.1119148,
          -54.1119148,
          -54.1119148,
          -54.1119148,
          -54.1119148,
          -54.1119148,
          -54.1119148,
          -54.1119148,
          -54.1119148,
          -54.1119148,
          -54.1119148,
          -54.1119148,
          -54.1119148,
          -54.1119148,
          -54.1119148,
          -54.1119148,
          -54.1119148,
          -54.1119148,
          -54.1119148,
          -54.1119148,
          -54.1119148,
          -54.1119148,
          -54.1119148,
          -54.1119148,
          -54.1119148,
          -54.1119148,
          -54.1119148,
          -54.1119148,
          -54.1119148
         ]
        },
        {
         "line": {
          "color": "#EF553B"
         },
         "mode": "lines+markers",
         "name": "TP (Mean)",
         "type": "scatter",
         "x": [
          0,
          1,
          2,
          3,
          4,
          5,
          6,
          7,
          8,
          9,
          10,
          11,
          12,
          13,
          14,
          15,
          16,
          17,
          18,
          19,
          20,
          21,
          22,
          23,
          24,
          25,
          26,
          27,
          28,
          29,
          30,
          31,
          32,
          33,
          34,
          35,
          36,
          37,
          38,
          39,
          40,
          41,
          42,
          43,
          44,
          45,
          46
         ],
         "y": [
          -39.265758818,
          -39.265758818,
          -39.265758818,
          -40.209085254,
          -40.885957462,
          -42.911349,
          -43.4737976,
          -43.5053238,
          -43.5507786,
          -43.552102000000005,
          -49.0047724,
          -49.0645678,
          -49.0696248,
          -54.053306199999994,
          -54.053306199999994,
          -54.053306199999994,
          -54.5140994,
          -54.5140994,
          -54.5140994,
          -54.5140994,
          -54.5140994,
          -54.5140994,
          -54.5140994,
          -54.5140994,
          -54.5140994,
          -54.5140994,
          -54.5140994,
          -54.5140994,
          -54.5140994,
          -54.5140994,
          -54.5140994,
          -54.5140994,
          -54.5140994,
          -54.5140994,
          -54.5140994,
          -54.5140994,
          -54.5140994,
          -54.5140994,
          -54.5140994,
          -54.5140994,
          -54.5140994,
          -54.5140994,
          -54.5140994,
          -54.5140994,
          -54.5140994,
          -54.5140994,
          -54.5140994
         ]
        },
        {
         "error_y": {
          "array": [
           13.072124076396593,
           14.245016956609428,
           14.245016956609428,
           12.965506866056149,
           13.317177920929321,
           14.919652479246693,
           15.028471918548682,
           15.057101816953447,
           14.993953089466476,
           14.995162238821925,
           12.128125348029505,
           12.160869647178906,
           12.163702251728221,
           1.0199390519514888,
           1.0199390519514888,
           1.0199390519514888,
           0.015758066800851466,
           0.015758066800851466,
           0.015758066800851466,
           0.015758066800851466,
           0.015758066800851466,
           0.015758066800851466,
           0.015758066800851466,
           0.015758066800851466,
           0.015758066800851466,
           0.015758066800851466,
           0.015758066800851466,
           0.015758066800851466,
           0.015758066800851466,
           0.015758066800851466,
           0.015758066800851466,
           0.015758066800851466,
           0.015758066800851466,
           0.015758066800851466,
           0.015758066800851466,
           0.015758066800851466,
           0.015758066800851466,
           0.015758066800851466,
           0.015758066800851466,
           0.015758066800851466,
           0.015758066800851466,
           0.015758066800851466,
           0.015758066800851466,
           0.015758066800851466,
           0.015758066800851466,
           0.015758066800851466,
           0.015758066800851466
          ],
          "type": "data",
          "visible": true
         },
         "line": {
          "color": "#EF553B"
         },
         "mode": "lines+markers",
         "name": "TP (Error Bars)",
         "opacity": 0.3,
         "showlegend": false,
         "type": "scatter",
         "x": [
          0,
          1,
          2,
          3,
          4,
          5,
          6,
          7,
          8,
          9,
          10,
          11,
          12,
          13,
          14,
          15,
          16,
          17,
          18,
          19,
          20,
          21,
          22,
          23,
          24,
          25,
          26,
          27,
          28,
          29,
          30,
          31,
          32,
          33,
          34,
          35,
          36,
          37,
          38,
          39,
          40,
          41,
          42,
          43,
          44,
          45,
          46
         ],
         "y": [
          -39.265758818,
          -39.265758818,
          -39.265758818,
          -40.209085254,
          -40.885957462,
          -42.911349,
          -43.4737976,
          -43.5053238,
          -43.5507786,
          -43.552102000000005,
          -49.0047724,
          -49.0645678,
          -49.0696248,
          -54.053306199999994,
          -54.053306199999994,
          -54.053306199999994,
          -54.5140994,
          -54.5140994,
          -54.5140994,
          -54.5140994,
          -54.5140994,
          -54.5140994,
          -54.5140994,
          -54.5140994,
          -54.5140994,
          -54.5140994,
          -54.5140994,
          -54.5140994,
          -54.5140994,
          -54.5140994,
          -54.5140994,
          -54.5140994,
          -54.5140994,
          -54.5140994,
          -54.5140994,
          -54.5140994,
          -54.5140994,
          -54.5140994,
          -54.5140994,
          -54.5140994,
          -54.5140994,
          -54.5140994,
          -54.5140994,
          -54.5140994,
          -54.5140994,
          -54.5140994,
          -54.5140994
         ]
        },
        {
         "line": {
          "color": "#00CC96"
         },
         "mode": "lines+markers",
         "name": "AGT (Mean)",
         "type": "scatter",
         "x": [
          0,
          1,
          2,
          3,
          4,
          5,
          6,
          7,
          8,
          9,
          10,
          11,
          12,
          13,
          14,
          15,
          16,
          17,
          18,
          19,
          20,
          21,
          22,
          23,
          24,
          25,
          26,
          27,
          28,
          29,
          30,
          31,
          32,
          33,
          34,
          35,
          36,
          37,
          38,
          39,
          40,
          41,
          42,
          43,
          44,
          45,
          46
         ],
         "y": [
          -17.14688924,
          -17.798054824,
          -17.798054824,
          -17.798054824,
          -17.798054824,
          -18.527261666,
          -19.910740466,
          -24.984307186000002,
          -25.585717994,
          -26.112342194,
          -30.770644794,
          -37.5904568,
          -38.101933599999995,
          -38.1586002,
          -48.2332066,
          -53.9446552,
          -54.133466,
          -54.34129,
          -54.34129,
          -54.34129,
          -54.34129,
          -54.34129,
          -54.34129,
          -54.34129,
          -54.34129,
          -54.34129,
          -54.34129,
          -54.34129,
          -54.34129,
          -54.34129,
          -54.34129,
          -54.34129,
          -54.34129,
          -54.34129,
          -54.34129,
          -54.34129,
          -54.34129,
          -54.34129,
          -54.34129,
          -54.34129,
          -54.34129,
          -54.34129,
          -54.34129,
          -54.34129,
          -54.34129,
          -54.34129,
          -54.34129
         ]
        },
        {
         "error_y": {
          "array": [
           8.036184155365188,
           7.527830111847461,
           7.527830111847461,
           7.527830111847461,
           7.527830111847461,
           7.582573238245199,
           7.838348946189069,
           2.4317120551763636,
           2.1143408472369782,
           1.555309885087,
           9.235218445912032,
           14.441849846204162,
           14.76194938244161,
           14.83904766103631,
           11.74121858787836,
           0.8342620722588903,
           0.49415861520821536,
           0.346924559673283,
           0.346924559673283,
           0.346924559673283,
           0.346924559673283,
           0.346924559673283,
           0.346924559673283,
           0.346924559673283,
           0.346924559673283,
           0.346924559673283,
           0.346924559673283,
           0.346924559673283,
           0.346924559673283,
           0.346924559673283,
           0.346924559673283,
           0.346924559673283,
           0.346924559673283,
           0.346924559673283,
           0.346924559673283,
           0.346924559673283,
           0.346924559673283,
           0.346924559673283,
           0.346924559673283,
           0.346924559673283,
           0.346924559673283,
           0.346924559673283,
           0.346924559673283,
           0.346924559673283,
           0.346924559673283,
           0.346924559673283,
           0.346924559673283
          ],
          "type": "data",
          "visible": true
         },
         "line": {
          "color": "#00CC96"
         },
         "mode": "lines+markers",
         "name": "AGT (Error Bars)",
         "opacity": 0.3,
         "showlegend": false,
         "type": "scatter",
         "x": [
          0,
          1,
          2,
          3,
          4,
          5,
          6,
          7,
          8,
          9,
          10,
          11,
          12,
          13,
          14,
          15,
          16,
          17,
          18,
          19,
          20,
          21,
          22,
          23,
          24,
          25,
          26,
          27,
          28,
          29,
          30,
          31,
          32,
          33,
          34,
          35,
          36,
          37,
          38,
          39,
          40,
          41,
          42,
          43,
          44,
          45,
          46
         ],
         "y": [
          -17.14688924,
          -17.798054824,
          -17.798054824,
          -17.798054824,
          -17.798054824,
          -18.527261666,
          -19.910740466,
          -24.984307186000002,
          -25.585717994,
          -26.112342194,
          -30.770644794,
          -37.5904568,
          -38.101933599999995,
          -38.1586002,
          -48.2332066,
          -53.9446552,
          -54.133466,
          -54.34129,
          -54.34129,
          -54.34129,
          -54.34129,
          -54.34129,
          -54.34129,
          -54.34129,
          -54.34129,
          -54.34129,
          -54.34129,
          -54.34129,
          -54.34129,
          -54.34129,
          -54.34129,
          -54.34129,
          -54.34129,
          -54.34129,
          -54.34129,
          -54.34129,
          -54.34129,
          -54.34129,
          -54.34129,
          -54.34129,
          -54.34129,
          -54.34129,
          -54.34129,
          -54.34129,
          -54.34129,
          -54.34129,
          -54.34129
         ]
        }
       ],
       "layout": {
        "template": {
         "data": {
          "bar": [
           {
            "error_x": {
             "color": "#2a3f5f"
            },
            "error_y": {
             "color": "#2a3f5f"
            },
            "marker": {
             "line": {
              "color": "#E5ECF6",
              "width": 0.5
             },
             "pattern": {
              "fillmode": "overlay",
              "size": 10,
              "solidity": 0.2
             }
            },
            "type": "bar"
           }
          ],
          "barpolar": [
           {
            "marker": {
             "line": {
              "color": "#E5ECF6",
              "width": 0.5
             },
             "pattern": {
              "fillmode": "overlay",
              "size": 10,
              "solidity": 0.2
             }
            },
            "type": "barpolar"
           }
          ],
          "carpet": [
           {
            "aaxis": {
             "endlinecolor": "#2a3f5f",
             "gridcolor": "white",
             "linecolor": "white",
             "minorgridcolor": "white",
             "startlinecolor": "#2a3f5f"
            },
            "baxis": {
             "endlinecolor": "#2a3f5f",
             "gridcolor": "white",
             "linecolor": "white",
             "minorgridcolor": "white",
             "startlinecolor": "#2a3f5f"
            },
            "type": "carpet"
           }
          ],
          "choropleth": [
           {
            "colorbar": {
             "outlinewidth": 0,
             "ticks": ""
            },
            "type": "choropleth"
           }
          ],
          "contour": [
           {
            "colorbar": {
             "outlinewidth": 0,
             "ticks": ""
            },
            "colorscale": [
             [
              0,
              "#0d0887"
             ],
             [
              0.1111111111111111,
              "#46039f"
             ],
             [
              0.2222222222222222,
              "#7201a8"
             ],
             [
              0.3333333333333333,
              "#9c179e"
             ],
             [
              0.4444444444444444,
              "#bd3786"
             ],
             [
              0.5555555555555556,
              "#d8576b"
             ],
             [
              0.6666666666666666,
              "#ed7953"
             ],
             [
              0.7777777777777778,
              "#fb9f3a"
             ],
             [
              0.8888888888888888,
              "#fdca26"
             ],
             [
              1,
              "#f0f921"
             ]
            ],
            "type": "contour"
           }
          ],
          "contourcarpet": [
           {
            "colorbar": {
             "outlinewidth": 0,
             "ticks": ""
            },
            "type": "contourcarpet"
           }
          ],
          "heatmap": [
           {
            "colorbar": {
             "outlinewidth": 0,
             "ticks": ""
            },
            "colorscale": [
             [
              0,
              "#0d0887"
             ],
             [
              0.1111111111111111,
              "#46039f"
             ],
             [
              0.2222222222222222,
              "#7201a8"
             ],
             [
              0.3333333333333333,
              "#9c179e"
             ],
             [
              0.4444444444444444,
              "#bd3786"
             ],
             [
              0.5555555555555556,
              "#d8576b"
             ],
             [
              0.6666666666666666,
              "#ed7953"
             ],
             [
              0.7777777777777778,
              "#fb9f3a"
             ],
             [
              0.8888888888888888,
              "#fdca26"
             ],
             [
              1,
              "#f0f921"
             ]
            ],
            "type": "heatmap"
           }
          ],
          "heatmapgl": [
           {
            "colorbar": {
             "outlinewidth": 0,
             "ticks": ""
            },
            "colorscale": [
             [
              0,
              "#0d0887"
             ],
             [
              0.1111111111111111,
              "#46039f"
             ],
             [
              0.2222222222222222,
              "#7201a8"
             ],
             [
              0.3333333333333333,
              "#9c179e"
             ],
             [
              0.4444444444444444,
              "#bd3786"
             ],
             [
              0.5555555555555556,
              "#d8576b"
             ],
             [
              0.6666666666666666,
              "#ed7953"
             ],
             [
              0.7777777777777778,
              "#fb9f3a"
             ],
             [
              0.8888888888888888,
              "#fdca26"
             ],
             [
              1,
              "#f0f921"
             ]
            ],
            "type": "heatmapgl"
           }
          ],
          "histogram": [
           {
            "marker": {
             "pattern": {
              "fillmode": "overlay",
              "size": 10,
              "solidity": 0.2
             }
            },
            "type": "histogram"
           }
          ],
          "histogram2d": [
           {
            "colorbar": {
             "outlinewidth": 0,
             "ticks": ""
            },
            "colorscale": [
             [
              0,
              "#0d0887"
             ],
             [
              0.1111111111111111,
              "#46039f"
             ],
             [
              0.2222222222222222,
              "#7201a8"
             ],
             [
              0.3333333333333333,
              "#9c179e"
             ],
             [
              0.4444444444444444,
              "#bd3786"
             ],
             [
              0.5555555555555556,
              "#d8576b"
             ],
             [
              0.6666666666666666,
              "#ed7953"
             ],
             [
              0.7777777777777778,
              "#fb9f3a"
             ],
             [
              0.8888888888888888,
              "#fdca26"
             ],
             [
              1,
              "#f0f921"
             ]
            ],
            "type": "histogram2d"
           }
          ],
          "histogram2dcontour": [
           {
            "colorbar": {
             "outlinewidth": 0,
             "ticks": ""
            },
            "colorscale": [
             [
              0,
              "#0d0887"
             ],
             [
              0.1111111111111111,
              "#46039f"
             ],
             [
              0.2222222222222222,
              "#7201a8"
             ],
             [
              0.3333333333333333,
              "#9c179e"
             ],
             [
              0.4444444444444444,
              "#bd3786"
             ],
             [
              0.5555555555555556,
              "#d8576b"
             ],
             [
              0.6666666666666666,
              "#ed7953"
             ],
             [
              0.7777777777777778,
              "#fb9f3a"
             ],
             [
              0.8888888888888888,
              "#fdca26"
             ],
             [
              1,
              "#f0f921"
             ]
            ],
            "type": "histogram2dcontour"
           }
          ],
          "mesh3d": [
           {
            "colorbar": {
             "outlinewidth": 0,
             "ticks": ""
            },
            "type": "mesh3d"
           }
          ],
          "parcoords": [
           {
            "line": {
             "colorbar": {
              "outlinewidth": 0,
              "ticks": ""
             }
            },
            "type": "parcoords"
           }
          ],
          "pie": [
           {
            "automargin": true,
            "type": "pie"
           }
          ],
          "scatter": [
           {
            "fillpattern": {
             "fillmode": "overlay",
             "size": 10,
             "solidity": 0.2
            },
            "type": "scatter"
           }
          ],
          "scatter3d": [
           {
            "line": {
             "colorbar": {
              "outlinewidth": 0,
              "ticks": ""
             }
            },
            "marker": {
             "colorbar": {
              "outlinewidth": 0,
              "ticks": ""
             }
            },
            "type": "scatter3d"
           }
          ],
          "scattercarpet": [
           {
            "marker": {
             "colorbar": {
              "outlinewidth": 0,
              "ticks": ""
             }
            },
            "type": "scattercarpet"
           }
          ],
          "scattergeo": [
           {
            "marker": {
             "colorbar": {
              "outlinewidth": 0,
              "ticks": ""
             }
            },
            "type": "scattergeo"
           }
          ],
          "scattergl": [
           {
            "marker": {
             "colorbar": {
              "outlinewidth": 0,
              "ticks": ""
             }
            },
            "type": "scattergl"
           }
          ],
          "scattermapbox": [
           {
            "marker": {
             "colorbar": {
              "outlinewidth": 0,
              "ticks": ""
             }
            },
            "type": "scattermapbox"
           }
          ],
          "scatterpolar": [
           {
            "marker": {
             "colorbar": {
              "outlinewidth": 0,
              "ticks": ""
             }
            },
            "type": "scatterpolar"
           }
          ],
          "scatterpolargl": [
           {
            "marker": {
             "colorbar": {
              "outlinewidth": 0,
              "ticks": ""
             }
            },
            "type": "scatterpolargl"
           }
          ],
          "scatterternary": [
           {
            "marker": {
             "colorbar": {
              "outlinewidth": 0,
              "ticks": ""
             }
            },
            "type": "scatterternary"
           }
          ],
          "surface": [
           {
            "colorbar": {
             "outlinewidth": 0,
             "ticks": ""
            },
            "colorscale": [
             [
              0,
              "#0d0887"
             ],
             [
              0.1111111111111111,
              "#46039f"
             ],
             [
              0.2222222222222222,
              "#7201a8"
             ],
             [
              0.3333333333333333,
              "#9c179e"
             ],
             [
              0.4444444444444444,
              "#bd3786"
             ],
             [
              0.5555555555555556,
              "#d8576b"
             ],
             [
              0.6666666666666666,
              "#ed7953"
             ],
             [
              0.7777777777777778,
              "#fb9f3a"
             ],
             [
              0.8888888888888888,
              "#fdca26"
             ],
             [
              1,
              "#f0f921"
             ]
            ],
            "type": "surface"
           }
          ],
          "table": [
           {
            "cells": {
             "fill": {
              "color": "#EBF0F8"
             },
             "line": {
              "color": "white"
             }
            },
            "header": {
             "fill": {
              "color": "#C8D4E3"
             },
             "line": {
              "color": "white"
             }
            },
            "type": "table"
           }
          ]
         },
         "layout": {
          "annotationdefaults": {
           "arrowcolor": "#2a3f5f",
           "arrowhead": 0,
           "arrowwidth": 1
          },
          "autotypenumbers": "strict",
          "coloraxis": {
           "colorbar": {
            "outlinewidth": 0,
            "ticks": ""
           }
          },
          "colorscale": {
           "diverging": [
            [
             0,
             "#8e0152"
            ],
            [
             0.1,
             "#c51b7d"
            ],
            [
             0.2,
             "#de77ae"
            ],
            [
             0.3,
             "#f1b6da"
            ],
            [
             0.4,
             "#fde0ef"
            ],
            [
             0.5,
             "#f7f7f7"
            ],
            [
             0.6,
             "#e6f5d0"
            ],
            [
             0.7,
             "#b8e186"
            ],
            [
             0.8,
             "#7fbc41"
            ],
            [
             0.9,
             "#4d9221"
            ],
            [
             1,
             "#276419"
            ]
           ],
           "sequential": [
            [
             0,
             "#0d0887"
            ],
            [
             0.1111111111111111,
             "#46039f"
            ],
            [
             0.2222222222222222,
             "#7201a8"
            ],
            [
             0.3333333333333333,
             "#9c179e"
            ],
            [
             0.4444444444444444,
             "#bd3786"
            ],
            [
             0.5555555555555556,
             "#d8576b"
            ],
            [
             0.6666666666666666,
             "#ed7953"
            ],
            [
             0.7777777777777778,
             "#fb9f3a"
            ],
            [
             0.8888888888888888,
             "#fdca26"
            ],
            [
             1,
             "#f0f921"
            ]
           ],
           "sequentialminus": [
            [
             0,
             "#0d0887"
            ],
            [
             0.1111111111111111,
             "#46039f"
            ],
            [
             0.2222222222222222,
             "#7201a8"
            ],
            [
             0.3333333333333333,
             "#9c179e"
            ],
            [
             0.4444444444444444,
             "#bd3786"
            ],
            [
             0.5555555555555556,
             "#d8576b"
            ],
            [
             0.6666666666666666,
             "#ed7953"
            ],
            [
             0.7777777777777778,
             "#fb9f3a"
            ],
            [
             0.8888888888888888,
             "#fdca26"
            ],
            [
             1,
             "#f0f921"
            ]
           ]
          },
          "colorway": [
           "#636efa",
           "#EF553B",
           "#00cc96",
           "#ab63fa",
           "#FFA15A",
           "#19d3f3",
           "#FF6692",
           "#B6E880",
           "#FF97FF",
           "#FECB52"
          ],
          "font": {
           "color": "#2a3f5f"
          },
          "geo": {
           "bgcolor": "white",
           "lakecolor": "white",
           "landcolor": "#E5ECF6",
           "showlakes": true,
           "showland": true,
           "subunitcolor": "white"
          },
          "hoverlabel": {
           "align": "left"
          },
          "hovermode": "closest",
          "mapbox": {
           "style": "light"
          },
          "paper_bgcolor": "white",
          "plot_bgcolor": "#E5ECF6",
          "polar": {
           "angularaxis": {
            "gridcolor": "white",
            "linecolor": "white",
            "ticks": ""
           },
           "bgcolor": "#E5ECF6",
           "radialaxis": {
            "gridcolor": "white",
            "linecolor": "white",
            "ticks": ""
           }
          },
          "scene": {
           "xaxis": {
            "backgroundcolor": "#E5ECF6",
            "gridcolor": "white",
            "gridwidth": 2,
            "linecolor": "white",
            "showbackground": true,
            "ticks": "",
            "zerolinecolor": "white"
           },
           "yaxis": {
            "backgroundcolor": "#E5ECF6",
            "gridcolor": "white",
            "gridwidth": 2,
            "linecolor": "white",
            "showbackground": true,
            "ticks": "",
            "zerolinecolor": "white"
           },
           "zaxis": {
            "backgroundcolor": "#E5ECF6",
            "gridcolor": "white",
            "gridwidth": 2,
            "linecolor": "white",
            "showbackground": true,
            "ticks": "",
            "zerolinecolor": "white"
           }
          },
          "shapedefaults": {
           "line": {
            "color": "#2a3f5f"
           }
          },
          "ternary": {
           "aaxis": {
            "gridcolor": "white",
            "linecolor": "white",
            "ticks": ""
           },
           "baxis": {
            "gridcolor": "white",
            "linecolor": "white",
            "ticks": ""
           },
           "bgcolor": "#E5ECF6",
           "caxis": {
            "gridcolor": "white",
            "linecolor": "white",
            "ticks": ""
           }
          },
          "title": {
           "x": 0.05
          },
          "xaxis": {
           "automargin": true,
           "gridcolor": "white",
           "linecolor": "white",
           "ticks": "",
           "title": {
            "standoff": 15
           },
           "zerolinecolor": "white",
           "zerolinewidth": 2
          },
          "yaxis": {
           "automargin": true,
           "gridcolor": "white",
           "linecolor": "white",
           "ticks": "",
           "title": {
            "standoff": 15
           },
           "zerolinecolor": "white",
           "zerolinewidth": 2
          }
         }
        },
        "title": {
         "text": "Bayesian Optimization History on SinusoidalSynthetic with EI Acquisition"
        },
        "xaxis": {
         "title": {
          "text": "Iteration"
         }
        },
        "yaxis": {
         "title": {
          "text": "Best Function Value"
         }
        }
       }
      }
     },
     "metadata": {},
     "output_type": "display_data"
    }
   ],
   "source": [
    "target = os.path.join(LOG_DIR, 'E2')\n",
    "models = ['GP', 'TP', 'AGT']\n",
    "objective = 'SinusoidalSynthetic'\n",
    "acquisition = 'EI'\n",
    "keywards = [objective, acquisition]\n",
    "\n",
    "result_df_dict = create_result_df_dict(target, models, keywards)\n",
    "\n",
    "color_dict = {\n",
    "    'GP': px.colors.qualitative.Plotly[0],\n",
    "    'TP': px.colors.qualitative.Plotly[1],\n",
    "    'AGT': px.colors.qualitative.Plotly[2],\n",
    "}\n",
    "\n",
    "fig = go.Figure()\n",
    "\n",
    "for model_name, result_df in result_df_dict.items():\n",
    "    add_history_plot_with_error_bars(fig, model_name, result_df)\n",
    "\n",
    "# Customize the layout\n",
    "fig.update_layout(\n",
    "    title=f\"Bayesian Optimization History on {objective} with {acquisition} Acquisition\",\n",
    "    xaxis_title=\"Iteration\",\n",
    "    yaxis_title=\"Best Function Value\",\n",
    ")\n",
    "\n",
    "fig.show()"
   ]
  },
  {
   "cell_type": "code",
   "execution_count": null,
   "metadata": {},
   "outputs": [],
   "source": [
    "target = os.path.join(LOG_DIR, 'E2')\n",
    "models = ['GP', 'TP', 'AGT']\n",
    "objective = 'SinusoidalSynthetic'\n",
    "acquisition = 'EI'\n",
    "keywards = [objective, acquisition]\n",
    "\n",
    "result_df_dict = create_result_df_dict(target, models, keywards)\n",
    "\n",
    "color_dict = {\n",
    "    'GP': px.colors.qualitative.Plotly[0],\n",
    "    'TP': px.colors.qualitative.Plotly[1],\n",
    "    'AGT': px.colors.qualitative.Plotly[2],\n",
    "}\n",
    "\n",
    "fig = go.Figure()\n",
    "\n",
    "for model_name, result_df in result_df_dict.items():\n",
    "    add_history_plot_with_error_bars(fig, model_name, result_df)\n",
    "\n",
    "# Customize the layout\n",
    "fig.update_layout(\n",
    "    title=f\"Bayesian Optimization History on {objective} with {acquisition} Acquisition\",\n",
    "    xaxis_title=\"Iteration\",\n",
    "    yaxis_title=\"Best Function Value\",\n",
    ")\n",
    "\n",
    "fig.show()"
   ]
  },
  {
   "cell_type": "code",
   "execution_count": 61,
   "metadata": {},
   "outputs": [
    {
     "name": "stdout",
     "output_type": "stream",
     "text": [
      "Failed to parse settings: invalid syntax (<unknown>, line 1)\n",
      "Failed to parse settings: invalid syntax (<unknown>, line 1)\n",
      "Failed to parse settings: invalid syntax (<unknown>, line 1)\n",
      "Failed to parse settings: invalid syntax (<unknown>, line 1)\n",
      "Failed to parse settings: invalid syntax (<unknown>, line 1)\n",
      "Minimum number of rows: 63\n",
      "Maximum number of rows: 71\n",
      "Failed to parse settings: invalid syntax (<unknown>, line 1)\n",
      "Failed to parse settings: invalid syntax (<unknown>, line 1)\n",
      "Failed to parse settings: invalid syntax (<unknown>, line 1)\n",
      "Failed to parse settings: invalid syntax (<unknown>, line 1)\n",
      "Failed to parse settings: invalid syntax (<unknown>, line 1)\n",
      "Minimum number of rows: 53\n",
      "Maximum number of rows: 63\n",
      "Failed to parse settings: invalid syntax (<unknown>, line 1)\n",
      "Failed to parse settings: invalid syntax (<unknown>, line 1)\n",
      "Failed to parse settings: invalid syntax (<unknown>, line 1)\n",
      "Failed to parse settings: invalid syntax (<unknown>, line 1)\n",
      "Failed to parse settings: invalid syntax (<unknown>, line 1)\n",
      "Minimum number of rows: 57\n",
      "Maximum number of rows: 62\n"
     ]
    },
    {
     "data": {
      "application/vnd.plotly.v1+json": {
       "config": {
        "plotlyServerURL": "https://plot.ly"
       },
       "data": [
        {
         "line": {
          "color": "#636EFA"
         },
         "mode": "lines+markers",
         "name": "GP (Mean)",
         "type": "scatter",
         "x": [
          0,
          1,
          2,
          3,
          4,
          5,
          6,
          7,
          8,
          9,
          10,
          11,
          12,
          13,
          14,
          15,
          16,
          17,
          18,
          19,
          20,
          21,
          22,
          23,
          24,
          25,
          26,
          27,
          28,
          29,
          30,
          31,
          32,
          33,
          34,
          35,
          36,
          37,
          38,
          39,
          40,
          41,
          42,
          43,
          44,
          45,
          46,
          47,
          48,
          49,
          50,
          51,
          52,
          53,
          54,
          55,
          56,
          57,
          58,
          59
         ],
         "y": [
          14.802524217999999,
          12.949353841999999,
          10.005467894,
          10.005467894,
          10.005467894,
          5.339780696,
          5.329104516,
          4.037213516,
          3.2759003200000003,
          3.2759003200000003,
          2.22115184,
          2.22115184,
          2.22115184,
          2.22115184,
          2.21573888,
          2.09507866,
          2.09507866,
          2.06556816,
          1.36155776,
          1.2769477720000002,
          1.2769477720000002,
          1.2769477720000002,
          1.2769477720000002,
          1.2769477720000002,
          1.2769477720000002,
          1.2769477720000002,
          1.2769477720000002,
          1.2769477720000002,
          1.2769477720000002,
          1.2769477720000002,
          1.2769477720000002,
          1.2769477720000002,
          1.2769477720000002,
          1.2769477720000002,
          1.2769477720000002,
          1.2769477720000002,
          1.2769477720000002,
          1.2769477720000002,
          1.2769477720000002,
          1.2769477720000002,
          1.2769477720000002,
          1.2769477720000002,
          1.2769477720000002,
          1.2769477720000002,
          1.2769477720000002,
          1.2769477720000002,
          1.2769477720000002,
          1.2769477720000002,
          1.2769477720000002,
          1.2769477720000002,
          1.2769477720000002,
          1.2769477720000002,
          1.2769477720000002,
          1.2769477720000002,
          1.2769477720000002,
          1.2769477720000002,
          1.2769477720000002,
          1.2769477720000002,
          1.2769477720000002,
          1.2769477720000002
         ]
        },
        {
         "error_y": {
          "array": [
           5.413146403306331,
           7.437070435744964,
           8.021915427163824,
           8.021915427163824,
           8.021915427163824,
           3.9407840378369965,
           3.949586925793213,
           2.752798914870067,
           2.966115061611282,
           2.966115061611282,
           1.3534616491534708,
           1.3534616491534708,
           1.3534616491534708,
           1.3534616491534708,
           1.3508523767738712,
           1.4934679998751288,
           1.4934679998751288,
           1.448761198531859,
           0.9286521066378022,
           0.9724045084344456,
           0.9724045084344456,
           0.9724045084344456,
           0.9724045084344456,
           0.9724045084344456,
           0.9724045084344456,
           0.9724045084344456,
           0.9724045084344456,
           0.9724045084344456,
           0.9724045084344456,
           0.9724045084344456,
           0.9724045084344456,
           0.9724045084344456,
           0.9724045084344456,
           0.9724045084344456,
           0.9724045084344456,
           0.9724045084344456,
           0.9724045084344456,
           0.9724045084344456,
           0.9724045084344456,
           0.9724045084344456,
           0.9724045084344456,
           0.9724045084344456,
           0.9724045084344456,
           0.9724045084344456,
           0.9724045084344456,
           0.9724045084344456,
           0.9724045084344456,
           0.9724045084344456,
           0.9724045084344456,
           0.9724045084344456,
           0.9724045084344456,
           0.9724045084344456,
           0.9724045084344456,
           0.9724045084344456,
           0.9724045084344456,
           0.9724045084344456,
           0.9724045084344456,
           0.9724045084344456,
           0.9724045084344456,
           0.9724045084344456
          ],
          "type": "data",
          "visible": true
         },
         "line": {
          "color": "#636EFA"
         },
         "mode": "lines+markers",
         "name": "GP (Error Bars)",
         "opacity": 0.3,
         "showlegend": false,
         "type": "scatter",
         "x": [
          0,
          1,
          2,
          3,
          4,
          5,
          6,
          7,
          8,
          9,
          10,
          11,
          12,
          13,
          14,
          15,
          16,
          17,
          18,
          19,
          20,
          21,
          22,
          23,
          24,
          25,
          26,
          27,
          28,
          29,
          30,
          31,
          32,
          33,
          34,
          35,
          36,
          37,
          38,
          39,
          40,
          41,
          42,
          43,
          44,
          45,
          46,
          47,
          48,
          49,
          50,
          51,
          52,
          53,
          54,
          55,
          56,
          57,
          58,
          59
         ],
         "y": [
          14.802524217999999,
          12.949353841999999,
          10.005467894,
          10.005467894,
          10.005467894,
          5.339780696,
          5.329104516,
          4.037213516,
          3.2759003200000003,
          3.2759003200000003,
          2.22115184,
          2.22115184,
          2.22115184,
          2.22115184,
          2.21573888,
          2.09507866,
          2.09507866,
          2.06556816,
          1.36155776,
          1.2769477720000002,
          1.2769477720000002,
          1.2769477720000002,
          1.2769477720000002,
          1.2769477720000002,
          1.2769477720000002,
          1.2769477720000002,
          1.2769477720000002,
          1.2769477720000002,
          1.2769477720000002,
          1.2769477720000002,
          1.2769477720000002,
          1.2769477720000002,
          1.2769477720000002,
          1.2769477720000002,
          1.2769477720000002,
          1.2769477720000002,
          1.2769477720000002,
          1.2769477720000002,
          1.2769477720000002,
          1.2769477720000002,
          1.2769477720000002,
          1.2769477720000002,
          1.2769477720000002,
          1.2769477720000002,
          1.2769477720000002,
          1.2769477720000002,
          1.2769477720000002,
          1.2769477720000002,
          1.2769477720000002,
          1.2769477720000002,
          1.2769477720000002,
          1.2769477720000002,
          1.2769477720000002,
          1.2769477720000002,
          1.2769477720000002,
          1.2769477720000002,
          1.2769477720000002,
          1.2769477720000002,
          1.2769477720000002,
          1.2769477720000002
         ]
        },
        {
         "line": {
          "color": "#EF553B"
         },
         "mode": "lines+markers",
         "name": "TP (Mean)",
         "type": "scatter",
         "x": [
          0,
          1,
          2,
          3,
          4,
          5,
          6,
          7,
          8,
          9,
          10,
          11,
          12,
          13,
          14,
          15,
          16,
          17,
          18,
          19,
          20,
          21,
          22,
          23,
          24,
          25,
          26,
          27,
          28,
          29,
          30,
          31,
          32,
          33,
          34,
          35,
          36,
          37,
          38,
          39,
          40,
          41,
          42,
          43,
          44,
          45,
          46,
          47,
          48,
          49
         ],
         "y": [
          12.2674865,
          12.2674865,
          12.2674865,
          12.2674865,
          11.733804686,
          11.733804686,
          11.733804686,
          11.438759229999999,
          8.155792704,
          8.142484743999999,
          7.348590591999999,
          7.257574692,
          3.7464338999999995,
          3.61544278,
          3.28279328,
          2.8348865400000003,
          2.04983132,
          2.03031912,
          1.6663288900000002,
          1.6663288900000002,
          1.6663288900000002,
          1.44664897,
          1.44664897,
          1.44664897,
          1.44664897,
          1.44664897,
          1.44664897,
          1.44664897,
          1.44664897,
          1.44664897,
          1.44664897,
          1.44664897,
          1.44664897,
          1.44664897,
          1.44664897,
          1.44664897,
          1.44664897,
          1.44664897,
          1.44664897,
          1.44664897,
          1.44664897,
          1.44664897,
          1.44664897,
          1.44664897,
          1.44664897,
          1.44664897,
          1.44664897,
          1.44664897,
          1.44664897,
          1.44664897
         ]
        },
        {
         "error_y": {
          "array": [
           6.116724742044985,
           6.665546254007246,
           6.665546254007246,
           6.665546254007246,
           6.705963005463198,
           6.705963005463198,
           6.705963005463198,
           6.347255414051794,
           6.203835919545823,
           6.215003488910398,
           6.425936734549299,
           6.500841003011979,
           2.667432723365517,
           2.592004368512482,
           1.9781336887750576,
           1.9594218500725507,
           0.8260712045961123,
           0.8211322699397046,
           0.938474784113239,
           0.938474784113239,
           0.938474784113239,
           0.923020361752028,
           0.923020361752028,
           0.923020361752028,
           0.923020361752028,
           0.923020361752028,
           0.923020361752028,
           0.923020361752028,
           0.923020361752028,
           0.923020361752028,
           0.923020361752028,
           0.923020361752028,
           0.923020361752028,
           0.923020361752028,
           0.923020361752028,
           0.923020361752028,
           0.923020361752028,
           0.923020361752028,
           0.923020361752028,
           0.923020361752028,
           0.923020361752028,
           0.923020361752028,
           0.923020361752028,
           0.923020361752028,
           0.923020361752028,
           0.923020361752028,
           0.923020361752028,
           0.923020361752028,
           0.923020361752028,
           0.923020361752028
          ],
          "type": "data",
          "visible": true
         },
         "line": {
          "color": "#EF553B"
         },
         "mode": "lines+markers",
         "name": "TP (Error Bars)",
         "opacity": 0.3,
         "showlegend": false,
         "type": "scatter",
         "x": [
          0,
          1,
          2,
          3,
          4,
          5,
          6,
          7,
          8,
          9,
          10,
          11,
          12,
          13,
          14,
          15,
          16,
          17,
          18,
          19,
          20,
          21,
          22,
          23,
          24,
          25,
          26,
          27,
          28,
          29,
          30,
          31,
          32,
          33,
          34,
          35,
          36,
          37,
          38,
          39,
          40,
          41,
          42,
          43,
          44,
          45,
          46,
          47,
          48,
          49
         ],
         "y": [
          12.2674865,
          12.2674865,
          12.2674865,
          12.2674865,
          11.733804686,
          11.733804686,
          11.733804686,
          11.438759229999999,
          8.155792704,
          8.142484743999999,
          7.348590591999999,
          7.257574692,
          3.7464338999999995,
          3.61544278,
          3.28279328,
          2.8348865400000003,
          2.04983132,
          2.03031912,
          1.6663288900000002,
          1.6663288900000002,
          1.6663288900000002,
          1.44664897,
          1.44664897,
          1.44664897,
          1.44664897,
          1.44664897,
          1.44664897,
          1.44664897,
          1.44664897,
          1.44664897,
          1.44664897,
          1.44664897,
          1.44664897,
          1.44664897,
          1.44664897,
          1.44664897,
          1.44664897,
          1.44664897,
          1.44664897,
          1.44664897,
          1.44664897,
          1.44664897,
          1.44664897,
          1.44664897,
          1.44664897,
          1.44664897,
          1.44664897,
          1.44664897,
          1.44664897,
          1.44664897
         ]
        },
        {
         "line": {
          "color": "#00CC96"
         },
         "mode": "lines+markers",
         "name": "AGT (Mean)",
         "type": "scatter",
         "x": [
          0,
          1,
          2,
          3,
          4,
          5,
          6,
          7,
          8,
          9,
          10,
          11,
          12,
          13,
          14,
          15,
          16,
          17,
          18,
          19,
          20,
          21,
          22,
          23,
          24,
          25,
          26,
          27,
          28,
          29,
          30,
          31,
          32,
          33,
          34,
          35,
          36,
          37,
          38,
          39,
          40,
          41,
          42,
          43,
          44,
          45,
          46,
          47,
          48,
          49,
          50,
          51,
          52,
          53
         ],
         "y": [
          12.27758482,
          11.501557018,
          11.501557018,
          8.338289376,
          7.4589294960000005,
          7.332379938,
          7.1306555099999995,
          6.5140246500000005,
          6.48214141,
          6.48214141,
          3.6948672099999995,
          3.6948672099999995,
          3.6948672099999995,
          3.6948672099999995,
          3.6948672099999995,
          2.26114742,
          2.20110524,
          2.20110524,
          2.1944212999999997,
          1.744880024,
          1.4457948840000001,
          1.4457948840000001,
          1.081832316,
          1.081832316,
          1.059878924,
          1.059878924,
          1.059878924,
          1.059878924,
          1.059878924,
          1.059878924,
          1.059878924,
          1.059878924,
          1.059878924,
          1.059878924,
          1.059878924,
          1.059878924,
          1.059878924,
          1.059878924,
          1.059878924,
          1.059878924,
          1.059878924,
          1.059878924,
          1.059878924,
          1.059878924,
          1.059878924,
          1.059878924,
          1.059878924,
          1.059878924,
          1.059878924,
          1.059878924,
          1.059878924,
          1.059878924,
          1.059878924,
          1.059878924
         ]
        },
        {
         "error_y": {
          "array": [
           9.612545870292477,
           11.145258381302847,
           11.145258381302847,
           7.332990398225011,
           7.210097550084518,
           7.343004376893775,
           7.52543235184038,
           6.338886251899203,
           6.374614005080955,
           6.374614005080955,
           2.9434759548504896,
           2.9434759548504896,
           2.9434759548504896,
           2.9434759548504896,
           2.9434759548504896,
           1.3175870437783463,
           1.360106182439865,
           1.360106182439865,
           1.357067743426254,
           1.1411841659830195,
           1.0266450568430947,
           1.0266450568430947,
           0.7551352426623126,
           0.7551352426623126,
           0.7638128716236332,
           0.7638128716236332,
           0.7638128716236332,
           0.7638128716236332,
           0.7638128716236332,
           0.7638128716236332,
           0.7638128716236332,
           0.7638128716236332,
           0.7638128716236332,
           0.7638128716236332,
           0.7638128716236332,
           0.7638128716236332,
           0.7638128716236332,
           0.7638128716236332,
           0.7638128716236332,
           0.7638128716236332,
           0.7638128716236332,
           0.7638128716236332,
           0.7638128716236332,
           0.7638128716236332,
           0.7638128716236332,
           0.7638128716236332,
           0.7638128716236332,
           0.7638128716236332,
           0.7638128716236332,
           0.7638128716236332,
           0.7638128716236332,
           0.7638128716236332,
           0.7638128716236332,
           0.7638128716236332
          ],
          "type": "data",
          "visible": true
         },
         "line": {
          "color": "#00CC96"
         },
         "mode": "lines+markers",
         "name": "AGT (Error Bars)",
         "opacity": 0.3,
         "showlegend": false,
         "type": "scatter",
         "x": [
          0,
          1,
          2,
          3,
          4,
          5,
          6,
          7,
          8,
          9,
          10,
          11,
          12,
          13,
          14,
          15,
          16,
          17,
          18,
          19,
          20,
          21,
          22,
          23,
          24,
          25,
          26,
          27,
          28,
          29,
          30,
          31,
          32,
          33,
          34,
          35,
          36,
          37,
          38,
          39,
          40,
          41,
          42,
          43,
          44,
          45,
          46,
          47,
          48,
          49,
          50,
          51,
          52,
          53
         ],
         "y": [
          12.27758482,
          11.501557018,
          11.501557018,
          8.338289376,
          7.4589294960000005,
          7.332379938,
          7.1306555099999995,
          6.5140246500000005,
          6.48214141,
          6.48214141,
          3.6948672099999995,
          3.6948672099999995,
          3.6948672099999995,
          3.6948672099999995,
          3.6948672099999995,
          2.26114742,
          2.20110524,
          2.20110524,
          2.1944212999999997,
          1.744880024,
          1.4457948840000001,
          1.4457948840000001,
          1.081832316,
          1.081832316,
          1.059878924,
          1.059878924,
          1.059878924,
          1.059878924,
          1.059878924,
          1.059878924,
          1.059878924,
          1.059878924,
          1.059878924,
          1.059878924,
          1.059878924,
          1.059878924,
          1.059878924,
          1.059878924,
          1.059878924,
          1.059878924,
          1.059878924,
          1.059878924,
          1.059878924,
          1.059878924,
          1.059878924,
          1.059878924,
          1.059878924,
          1.059878924,
          1.059878924,
          1.059878924,
          1.059878924,
          1.059878924,
          1.059878924,
          1.059878924
         ]
        }
       ],
       "layout": {
        "template": {
         "data": {
          "bar": [
           {
            "error_x": {
             "color": "#2a3f5f"
            },
            "error_y": {
             "color": "#2a3f5f"
            },
            "marker": {
             "line": {
              "color": "#E5ECF6",
              "width": 0.5
             },
             "pattern": {
              "fillmode": "overlay",
              "size": 10,
              "solidity": 0.2
             }
            },
            "type": "bar"
           }
          ],
          "barpolar": [
           {
            "marker": {
             "line": {
              "color": "#E5ECF6",
              "width": 0.5
             },
             "pattern": {
              "fillmode": "overlay",
              "size": 10,
              "solidity": 0.2
             }
            },
            "type": "barpolar"
           }
          ],
          "carpet": [
           {
            "aaxis": {
             "endlinecolor": "#2a3f5f",
             "gridcolor": "white",
             "linecolor": "white",
             "minorgridcolor": "white",
             "startlinecolor": "#2a3f5f"
            },
            "baxis": {
             "endlinecolor": "#2a3f5f",
             "gridcolor": "white",
             "linecolor": "white",
             "minorgridcolor": "white",
             "startlinecolor": "#2a3f5f"
            },
            "type": "carpet"
           }
          ],
          "choropleth": [
           {
            "colorbar": {
             "outlinewidth": 0,
             "ticks": ""
            },
            "type": "choropleth"
           }
          ],
          "contour": [
           {
            "colorbar": {
             "outlinewidth": 0,
             "ticks": ""
            },
            "colorscale": [
             [
              0,
              "#0d0887"
             ],
             [
              0.1111111111111111,
              "#46039f"
             ],
             [
              0.2222222222222222,
              "#7201a8"
             ],
             [
              0.3333333333333333,
              "#9c179e"
             ],
             [
              0.4444444444444444,
              "#bd3786"
             ],
             [
              0.5555555555555556,
              "#d8576b"
             ],
             [
              0.6666666666666666,
              "#ed7953"
             ],
             [
              0.7777777777777778,
              "#fb9f3a"
             ],
             [
              0.8888888888888888,
              "#fdca26"
             ],
             [
              1,
              "#f0f921"
             ]
            ],
            "type": "contour"
           }
          ],
          "contourcarpet": [
           {
            "colorbar": {
             "outlinewidth": 0,
             "ticks": ""
            },
            "type": "contourcarpet"
           }
          ],
          "heatmap": [
           {
            "colorbar": {
             "outlinewidth": 0,
             "ticks": ""
            },
            "colorscale": [
             [
              0,
              "#0d0887"
             ],
             [
              0.1111111111111111,
              "#46039f"
             ],
             [
              0.2222222222222222,
              "#7201a8"
             ],
             [
              0.3333333333333333,
              "#9c179e"
             ],
             [
              0.4444444444444444,
              "#bd3786"
             ],
             [
              0.5555555555555556,
              "#d8576b"
             ],
             [
              0.6666666666666666,
              "#ed7953"
             ],
             [
              0.7777777777777778,
              "#fb9f3a"
             ],
             [
              0.8888888888888888,
              "#fdca26"
             ],
             [
              1,
              "#f0f921"
             ]
            ],
            "type": "heatmap"
           }
          ],
          "heatmapgl": [
           {
            "colorbar": {
             "outlinewidth": 0,
             "ticks": ""
            },
            "colorscale": [
             [
              0,
              "#0d0887"
             ],
             [
              0.1111111111111111,
              "#46039f"
             ],
             [
              0.2222222222222222,
              "#7201a8"
             ],
             [
              0.3333333333333333,
              "#9c179e"
             ],
             [
              0.4444444444444444,
              "#bd3786"
             ],
             [
              0.5555555555555556,
              "#d8576b"
             ],
             [
              0.6666666666666666,
              "#ed7953"
             ],
             [
              0.7777777777777778,
              "#fb9f3a"
             ],
             [
              0.8888888888888888,
              "#fdca26"
             ],
             [
              1,
              "#f0f921"
             ]
            ],
            "type": "heatmapgl"
           }
          ],
          "histogram": [
           {
            "marker": {
             "pattern": {
              "fillmode": "overlay",
              "size": 10,
              "solidity": 0.2
             }
            },
            "type": "histogram"
           }
          ],
          "histogram2d": [
           {
            "colorbar": {
             "outlinewidth": 0,
             "ticks": ""
            },
            "colorscale": [
             [
              0,
              "#0d0887"
             ],
             [
              0.1111111111111111,
              "#46039f"
             ],
             [
              0.2222222222222222,
              "#7201a8"
             ],
             [
              0.3333333333333333,
              "#9c179e"
             ],
             [
              0.4444444444444444,
              "#bd3786"
             ],
             [
              0.5555555555555556,
              "#d8576b"
             ],
             [
              0.6666666666666666,
              "#ed7953"
             ],
             [
              0.7777777777777778,
              "#fb9f3a"
             ],
             [
              0.8888888888888888,
              "#fdca26"
             ],
             [
              1,
              "#f0f921"
             ]
            ],
            "type": "histogram2d"
           }
          ],
          "histogram2dcontour": [
           {
            "colorbar": {
             "outlinewidth": 0,
             "ticks": ""
            },
            "colorscale": [
             [
              0,
              "#0d0887"
             ],
             [
              0.1111111111111111,
              "#46039f"
             ],
             [
              0.2222222222222222,
              "#7201a8"
             ],
             [
              0.3333333333333333,
              "#9c179e"
             ],
             [
              0.4444444444444444,
              "#bd3786"
             ],
             [
              0.5555555555555556,
              "#d8576b"
             ],
             [
              0.6666666666666666,
              "#ed7953"
             ],
             [
              0.7777777777777778,
              "#fb9f3a"
             ],
             [
              0.8888888888888888,
              "#fdca26"
             ],
             [
              1,
              "#f0f921"
             ]
            ],
            "type": "histogram2dcontour"
           }
          ],
          "mesh3d": [
           {
            "colorbar": {
             "outlinewidth": 0,
             "ticks": ""
            },
            "type": "mesh3d"
           }
          ],
          "parcoords": [
           {
            "line": {
             "colorbar": {
              "outlinewidth": 0,
              "ticks": ""
             }
            },
            "type": "parcoords"
           }
          ],
          "pie": [
           {
            "automargin": true,
            "type": "pie"
           }
          ],
          "scatter": [
           {
            "fillpattern": {
             "fillmode": "overlay",
             "size": 10,
             "solidity": 0.2
            },
            "type": "scatter"
           }
          ],
          "scatter3d": [
           {
            "line": {
             "colorbar": {
              "outlinewidth": 0,
              "ticks": ""
             }
            },
            "marker": {
             "colorbar": {
              "outlinewidth": 0,
              "ticks": ""
             }
            },
            "type": "scatter3d"
           }
          ],
          "scattercarpet": [
           {
            "marker": {
             "colorbar": {
              "outlinewidth": 0,
              "ticks": ""
             }
            },
            "type": "scattercarpet"
           }
          ],
          "scattergeo": [
           {
            "marker": {
             "colorbar": {
              "outlinewidth": 0,
              "ticks": ""
             }
            },
            "type": "scattergeo"
           }
          ],
          "scattergl": [
           {
            "marker": {
             "colorbar": {
              "outlinewidth": 0,
              "ticks": ""
             }
            },
            "type": "scattergl"
           }
          ],
          "scattermapbox": [
           {
            "marker": {
             "colorbar": {
              "outlinewidth": 0,
              "ticks": ""
             }
            },
            "type": "scattermapbox"
           }
          ],
          "scatterpolar": [
           {
            "marker": {
             "colorbar": {
              "outlinewidth": 0,
              "ticks": ""
             }
            },
            "type": "scatterpolar"
           }
          ],
          "scatterpolargl": [
           {
            "marker": {
             "colorbar": {
              "outlinewidth": 0,
              "ticks": ""
             }
            },
            "type": "scatterpolargl"
           }
          ],
          "scatterternary": [
           {
            "marker": {
             "colorbar": {
              "outlinewidth": 0,
              "ticks": ""
             }
            },
            "type": "scatterternary"
           }
          ],
          "surface": [
           {
            "colorbar": {
             "outlinewidth": 0,
             "ticks": ""
            },
            "colorscale": [
             [
              0,
              "#0d0887"
             ],
             [
              0.1111111111111111,
              "#46039f"
             ],
             [
              0.2222222222222222,
              "#7201a8"
             ],
             [
              0.3333333333333333,
              "#9c179e"
             ],
             [
              0.4444444444444444,
              "#bd3786"
             ],
             [
              0.5555555555555556,
              "#d8576b"
             ],
             [
              0.6666666666666666,
              "#ed7953"
             ],
             [
              0.7777777777777778,
              "#fb9f3a"
             ],
             [
              0.8888888888888888,
              "#fdca26"
             ],
             [
              1,
              "#f0f921"
             ]
            ],
            "type": "surface"
           }
          ],
          "table": [
           {
            "cells": {
             "fill": {
              "color": "#EBF0F8"
             },
             "line": {
              "color": "white"
             }
            },
            "header": {
             "fill": {
              "color": "#C8D4E3"
             },
             "line": {
              "color": "white"
             }
            },
            "type": "table"
           }
          ]
         },
         "layout": {
          "annotationdefaults": {
           "arrowcolor": "#2a3f5f",
           "arrowhead": 0,
           "arrowwidth": 1
          },
          "autotypenumbers": "strict",
          "coloraxis": {
           "colorbar": {
            "outlinewidth": 0,
            "ticks": ""
           }
          },
          "colorscale": {
           "diverging": [
            [
             0,
             "#8e0152"
            ],
            [
             0.1,
             "#c51b7d"
            ],
            [
             0.2,
             "#de77ae"
            ],
            [
             0.3,
             "#f1b6da"
            ],
            [
             0.4,
             "#fde0ef"
            ],
            [
             0.5,
             "#f7f7f7"
            ],
            [
             0.6,
             "#e6f5d0"
            ],
            [
             0.7,
             "#b8e186"
            ],
            [
             0.8,
             "#7fbc41"
            ],
            [
             0.9,
             "#4d9221"
            ],
            [
             1,
             "#276419"
            ]
           ],
           "sequential": [
            [
             0,
             "#0d0887"
            ],
            [
             0.1111111111111111,
             "#46039f"
            ],
            [
             0.2222222222222222,
             "#7201a8"
            ],
            [
             0.3333333333333333,
             "#9c179e"
            ],
            [
             0.4444444444444444,
             "#bd3786"
            ],
            [
             0.5555555555555556,
             "#d8576b"
            ],
            [
             0.6666666666666666,
             "#ed7953"
            ],
            [
             0.7777777777777778,
             "#fb9f3a"
            ],
            [
             0.8888888888888888,
             "#fdca26"
            ],
            [
             1,
             "#f0f921"
            ]
           ],
           "sequentialminus": [
            [
             0,
             "#0d0887"
            ],
            [
             0.1111111111111111,
             "#46039f"
            ],
            [
             0.2222222222222222,
             "#7201a8"
            ],
            [
             0.3333333333333333,
             "#9c179e"
            ],
            [
             0.4444444444444444,
             "#bd3786"
            ],
            [
             0.5555555555555556,
             "#d8576b"
            ],
            [
             0.6666666666666666,
             "#ed7953"
            ],
            [
             0.7777777777777778,
             "#fb9f3a"
            ],
            [
             0.8888888888888888,
             "#fdca26"
            ],
            [
             1,
             "#f0f921"
            ]
           ]
          },
          "colorway": [
           "#636efa",
           "#EF553B",
           "#00cc96",
           "#ab63fa",
           "#FFA15A",
           "#19d3f3",
           "#FF6692",
           "#B6E880",
           "#FF97FF",
           "#FECB52"
          ],
          "font": {
           "color": "#2a3f5f"
          },
          "geo": {
           "bgcolor": "white",
           "lakecolor": "white",
           "landcolor": "#E5ECF6",
           "showlakes": true,
           "showland": true,
           "subunitcolor": "white"
          },
          "hoverlabel": {
           "align": "left"
          },
          "hovermode": "closest",
          "mapbox": {
           "style": "light"
          },
          "paper_bgcolor": "white",
          "plot_bgcolor": "#E5ECF6",
          "polar": {
           "angularaxis": {
            "gridcolor": "white",
            "linecolor": "white",
            "ticks": ""
           },
           "bgcolor": "#E5ECF6",
           "radialaxis": {
            "gridcolor": "white",
            "linecolor": "white",
            "ticks": ""
           }
          },
          "scene": {
           "xaxis": {
            "backgroundcolor": "#E5ECF6",
            "gridcolor": "white",
            "gridwidth": 2,
            "linecolor": "white",
            "showbackground": true,
            "ticks": "",
            "zerolinecolor": "white"
           },
           "yaxis": {
            "backgroundcolor": "#E5ECF6",
            "gridcolor": "white",
            "gridwidth": 2,
            "linecolor": "white",
            "showbackground": true,
            "ticks": "",
            "zerolinecolor": "white"
           },
           "zaxis": {
            "backgroundcolor": "#E5ECF6",
            "gridcolor": "white",
            "gridwidth": 2,
            "linecolor": "white",
            "showbackground": true,
            "ticks": "",
            "zerolinecolor": "white"
           }
          },
          "shapedefaults": {
           "line": {
            "color": "#2a3f5f"
           }
          },
          "ternary": {
           "aaxis": {
            "gridcolor": "white",
            "linecolor": "white",
            "ticks": ""
           },
           "baxis": {
            "gridcolor": "white",
            "linecolor": "white",
            "ticks": ""
           },
           "bgcolor": "#E5ECF6",
           "caxis": {
            "gridcolor": "white",
            "linecolor": "white",
            "ticks": ""
           }
          },
          "title": {
           "x": 0.05
          },
          "xaxis": {
           "automargin": true,
           "gridcolor": "white",
           "linecolor": "white",
           "ticks": "",
           "title": {
            "standoff": 15
           },
           "zerolinecolor": "white",
           "zerolinewidth": 2
          },
          "yaxis": {
           "automargin": true,
           "gridcolor": "white",
           "linecolor": "white",
           "ticks": "",
           "title": {
            "standoff": 15
           },
           "zerolinecolor": "white",
           "zerolinewidth": 2
          }
         }
        },
        "title": {
         "text": "Bayesian Optimization History on BraninHoo with EI Acquisition"
        },
        "xaxis": {
         "title": {
          "text": "Iteration"
         }
        },
        "yaxis": {
         "title": {
          "text": "Best Function Value"
         }
        }
       }
      }
     },
     "metadata": {},
     "output_type": "display_data"
    }
   ],
   "source": [
    "target = os.path.join(LOG_DIR, 'E2')\n",
    "models = ['GP', 'TP', 'AGT']\n",
    "objective = 'BraninHoo'\n",
    "acquisition = 'EI'\n",
    "keywards = [objective, acquisition]\n",
    "\n",
    "result_df_dict = create_result_df_dict(target, models, keywards)\n",
    "\n",
    "color_dict = {\n",
    "    'GP': px.colors.qualitative.Plotly[0],\n",
    "    'TP': px.colors.qualitative.Plotly[1],\n",
    "    'AGT': px.colors.qualitative.Plotly[2],\n",
    "}\n",
    "\n",
    "fig = go.Figure()\n",
    "\n",
    "for model_name, result_df in result_df_dict.items():\n",
    "    add_history_plot_with_error_bars(fig, model_name, result_df)\n",
    "\n",
    "# Customize the layout\n",
    "fig.update_layout(\n",
    "    title=f\"Bayesian Optimization History on {objective} with {acquisition} Acquisition\",\n",
    "    xaxis_title=\"Iteration\",\n",
    "    yaxis_title=\"Best Function Value\",\n",
    ")\n",
    "\n",
    "fig.show()"
   ]
  },
  {
   "cell_type": "code",
   "execution_count": 62,
   "metadata": {},
   "outputs": [
    {
     "name": "stdout",
     "output_type": "stream",
     "text": [
      "Failed to parse settings: invalid syntax (<unknown>, line 1)\n",
      "Failed to parse settings: invalid syntax (<unknown>, line 1)\n",
      "Failed to parse settings: invalid syntax (<unknown>, line 1)\n",
      "Failed to parse settings: invalid syntax (<unknown>, line 1)\n",
      "Failed to parse settings: invalid syntax (<unknown>, line 1)\n",
      "Minimum number of rows: 94\n",
      "Maximum number of rows: 104\n",
      "Failed to parse settings: invalid syntax (<unknown>, line 1)\n",
      "Failed to parse settings: invalid syntax (<unknown>, line 1)\n",
      "Failed to parse settings: invalid syntax (<unknown>, line 1)\n",
      "Failed to parse settings: invalid syntax (<unknown>, line 1)\n",
      "Failed to parse settings: invalid syntax (<unknown>, line 1)\n",
      "Minimum number of rows: 104\n",
      "Maximum number of rows: 104\n",
      "Failed to parse settings: invalid syntax (<unknown>, line 1)\n",
      "Failed to parse settings: invalid syntax (<unknown>, line 1)\n",
      "Failed to parse settings: invalid syntax (<unknown>, line 1)\n",
      "Failed to parse settings: invalid syntax (<unknown>, line 1)\n",
      "Failed to parse settings: invalid syntax (<unknown>, line 1)\n",
      "Minimum number of rows: 104\n",
      "Maximum number of rows: 104\n"
     ]
    },
    {
     "data": {
      "application/vnd.plotly.v1+json": {
       "config": {
        "plotlyServerURL": "https://plot.ly"
       },
       "data": [
        {
         "line": {
          "color": "#636EFA"
         },
         "mode": "lines+markers",
         "name": "GP (Mean)",
         "type": "scatter",
         "x": [
          0,
          1,
          2,
          3,
          4,
          5,
          6,
          7,
          8,
          9,
          10,
          11,
          12,
          13,
          14,
          15,
          16,
          17,
          18,
          19,
          20,
          21,
          22,
          23,
          24,
          25,
          26,
          27,
          28,
          29,
          30,
          31,
          32,
          33,
          34,
          35,
          36,
          37,
          38,
          39,
          40,
          41,
          42,
          43,
          44,
          45,
          46,
          47,
          48,
          49,
          50,
          51,
          52,
          53,
          54,
          55,
          56,
          57,
          58,
          59,
          60,
          61,
          62,
          63,
          64,
          65,
          66,
          67,
          68,
          69,
          70,
          71,
          72,
          73,
          74,
          75,
          76,
          77,
          78,
          79,
          80,
          81,
          82,
          83,
          84,
          85,
          86,
          87,
          88,
          89,
          90
         ],
         "y": [
          -0.74193289,
          -0.74193289,
          -0.780018116,
          -0.786916622,
          -0.799584228,
          -0.9825319839999999,
          -1.070056492,
          -1.148191434,
          -1.148191434,
          -1.209841206,
          -1.336528318,
          -1.362442976,
          -1.545373374,
          -1.618637254,
          -1.6790276380000002,
          -1.7981814440000001,
          -2.02639259,
          -2.181227676,
          -2.24531843,
          -2.302468176,
          -2.348754316,
          -2.44206974,
          -2.44206974,
          -2.462082818,
          -2.488386058,
          -2.5341301119999997,
          -2.58945528,
          -2.59098303,
          -2.627149352,
          -2.6758265420000003,
          -2.7272676660000004,
          -2.789371622,
          -2.789423908,
          -2.828984508,
          -2.844592268,
          -2.878558634,
          -2.9120213,
          -2.9146795140000004,
          -2.9146795140000004,
          -2.9146795140000004,
          -2.9146795140000004,
          -2.9146795140000004,
          -2.9378068120000003,
          -2.9378068120000003,
          -2.969788054,
          -2.971668062,
          -2.971668062,
          -2.971668062,
          -2.971668062,
          -2.971668062,
          -2.995231244,
          -2.995231244,
          -2.995231244,
          -3.000594374,
          -3.000594374,
          -3.000594374,
          -3.000594374,
          -3.000594374,
          -3.000594374,
          -3.000594374,
          -3.000594374,
          -3.000594374,
          -3.000594374,
          -3.000594374,
          -3.000594374,
          -3.000594374,
          -3.000594374,
          -3.000594374,
          -3.000594374,
          -3.000594374,
          -3.000594374,
          -3.000594374,
          -3.000594374,
          -3.000594374,
          -3.000594374,
          -3.000594374,
          -3.000594374,
          -3.000594374,
          -3.000594374,
          -3.000594374,
          -3.000594374,
          -3.000594374,
          -3.000594374,
          -3.000594374,
          -3.000594374,
          -3.000594374,
          -3.000594374,
          -3.000594374,
          -3.000594374,
          -3.000594374,
          -3.000594374
         ]
        },
        {
         "error_y": {
          "array": [
           0.6841125627953739,
           0.7454943818079145,
           0.8075581325518042,
           0.8024317632028534,
           0.8015883446644431,
           0.7272886692817625,
           0.6701174326837277,
           0.6453310423379126,
           0.6453310423379126,
           0.6342107236166641,
           0.521633516973155,
           0.5193490789986301,
           0.587075437556415,
           0.48425007613437837,
           0.3959910208653702,
           0.4245019475390454,
           0.5089227728085942,
           0.37598989099525887,
           0.380482711651269,
           0.40587712800532383,
           0.4477005087392151,
           0.29597398448348056,
           0.29597398448348056,
           0.3033737789963304,
           0.2838287717473557,
           0.20776826439977544,
           0.1526642718107964,
           0.15436974492710281,
           0.16205717310135923,
           0.17346291101742156,
           0.20799125586212114,
           0.22689008966738552,
           0.2268946069504768,
           0.2540677976085112,
           0.267432789893293,
           0.23910465451798588,
           0.23405882511777396,
           0.23233261326301508,
           0.23233261326301508,
           0.23233261326301508,
           0.23233261326301508,
           0.23233261326301508,
           0.2693205289940723,
           0.2693205289940723,
           0.30479696264608896,
           0.30727315436762154,
           0.30727315436762154,
           0.30727315436762154,
           0.30727315436762154,
           0.30727315436762154,
           0.2798692024345471,
           0.2798692024345471,
           0.2798692024345471,
           0.2746638987800132,
           0.2746638987800132,
           0.2746638987800132,
           0.2746638987800132,
           0.2746638987800132,
           0.2746638987800132,
           0.2746638987800132,
           0.2746638987800132,
           0.2746638987800132,
           0.2746638987800132,
           0.2746638987800132,
           0.2746638987800132,
           0.2746638987800132,
           0.2746638987800132,
           0.2746638987800132,
           0.2746638987800132,
           0.2746638987800132,
           0.2746638987800132,
           0.2746638987800132,
           0.2746638987800132,
           0.2746638987800132,
           0.2746638987800132,
           0.2746638987800132,
           0.2746638987800132,
           0.2746638987800132,
           0.2746638987800132,
           0.2746638987800132,
           0.2746638987800132,
           0.2746638987800132,
           0.2746638987800132,
           0.2746638987800132,
           0.2746638987800132,
           0.2746638987800132,
           0.2746638987800132,
           0.2746638987800132,
           0.2746638987800132,
           0.2746638987800132,
           0.2746638987800132
          ],
          "type": "data",
          "visible": true
         },
         "line": {
          "color": "#636EFA"
         },
         "mode": "lines+markers",
         "name": "GP (Error Bars)",
         "opacity": 0.3,
         "showlegend": false,
         "type": "scatter",
         "x": [
          0,
          1,
          2,
          3,
          4,
          5,
          6,
          7,
          8,
          9,
          10,
          11,
          12,
          13,
          14,
          15,
          16,
          17,
          18,
          19,
          20,
          21,
          22,
          23,
          24,
          25,
          26,
          27,
          28,
          29,
          30,
          31,
          32,
          33,
          34,
          35,
          36,
          37,
          38,
          39,
          40,
          41,
          42,
          43,
          44,
          45,
          46,
          47,
          48,
          49,
          50,
          51,
          52,
          53,
          54,
          55,
          56,
          57,
          58,
          59,
          60,
          61,
          62,
          63,
          64,
          65,
          66,
          67,
          68,
          69,
          70,
          71,
          72,
          73,
          74,
          75,
          76,
          77,
          78,
          79,
          80,
          81,
          82,
          83,
          84,
          85,
          86,
          87,
          88,
          89,
          90
         ],
         "y": [
          -0.74193289,
          -0.74193289,
          -0.780018116,
          -0.786916622,
          -0.799584228,
          -0.9825319839999999,
          -1.070056492,
          -1.148191434,
          -1.148191434,
          -1.209841206,
          -1.336528318,
          -1.362442976,
          -1.545373374,
          -1.618637254,
          -1.6790276380000002,
          -1.7981814440000001,
          -2.02639259,
          -2.181227676,
          -2.24531843,
          -2.302468176,
          -2.348754316,
          -2.44206974,
          -2.44206974,
          -2.462082818,
          -2.488386058,
          -2.5341301119999997,
          -2.58945528,
          -2.59098303,
          -2.627149352,
          -2.6758265420000003,
          -2.7272676660000004,
          -2.789371622,
          -2.789423908,
          -2.828984508,
          -2.844592268,
          -2.878558634,
          -2.9120213,
          -2.9146795140000004,
          -2.9146795140000004,
          -2.9146795140000004,
          -2.9146795140000004,
          -2.9146795140000004,
          -2.9378068120000003,
          -2.9378068120000003,
          -2.969788054,
          -2.971668062,
          -2.971668062,
          -2.971668062,
          -2.971668062,
          -2.971668062,
          -2.995231244,
          -2.995231244,
          -2.995231244,
          -3.000594374,
          -3.000594374,
          -3.000594374,
          -3.000594374,
          -3.000594374,
          -3.000594374,
          -3.000594374,
          -3.000594374,
          -3.000594374,
          -3.000594374,
          -3.000594374,
          -3.000594374,
          -3.000594374,
          -3.000594374,
          -3.000594374,
          -3.000594374,
          -3.000594374,
          -3.000594374,
          -3.000594374,
          -3.000594374,
          -3.000594374,
          -3.000594374,
          -3.000594374,
          -3.000594374,
          -3.000594374,
          -3.000594374,
          -3.000594374,
          -3.000594374,
          -3.000594374,
          -3.000594374,
          -3.000594374,
          -3.000594374,
          -3.000594374,
          -3.000594374,
          -3.000594374,
          -3.000594374,
          -3.000594374,
          -3.000594374
         ]
        },
        {
         "line": {
          "color": "#EF553B"
         },
         "mode": "lines+markers",
         "name": "TP (Mean)",
         "type": "scatter",
         "x": [
          0,
          1,
          2,
          3,
          4,
          5,
          6,
          7,
          8,
          9,
          10,
          11,
          12,
          13,
          14,
          15,
          16,
          17,
          18,
          19,
          20,
          21,
          22,
          23,
          24,
          25,
          26,
          27,
          28,
          29,
          30,
          31,
          32,
          33,
          34,
          35,
          36,
          37,
          38,
          39,
          40,
          41,
          42,
          43,
          44,
          45,
          46,
          47,
          48,
          49,
          50,
          51,
          52,
          53,
          54,
          55,
          56,
          57,
          58,
          59,
          60,
          61,
          62,
          63,
          64,
          65,
          66,
          67,
          68,
          69,
          70,
          71,
          72,
          73,
          74,
          75,
          76,
          77,
          78,
          79,
          80,
          81,
          82,
          83,
          84,
          85,
          86,
          87,
          88,
          89,
          90,
          91,
          92,
          93,
          94,
          95,
          96,
          97,
          98,
          99,
          100
         ],
         "y": [
          -0.434951894,
          -0.436139678,
          -0.721888804,
          -0.721888804,
          -0.7220608580000001,
          -0.7220608580000001,
          -0.740642458,
          -0.7710276859999999,
          -1.2176792600000002,
          -1.3160416659999998,
          -1.5724163619999998,
          -1.674544366,
          -1.674544366,
          -1.712091062,
          -1.8870301259999998,
          -1.924398486,
          -1.931127846,
          -2.095966926,
          -2.095966926,
          -2.095966926,
          -2.114367664,
          -2.168322474,
          -2.168322474,
          -2.168322474,
          -2.170678092,
          -2.170678092,
          -2.170678092,
          -2.24956793,
          -2.276090328,
          -2.394625344,
          -2.4317654959999997,
          -2.4317654959999997,
          -2.4317654959999997,
          -2.64722697,
          -2.6624532739999998,
          -2.677822956,
          -2.683743392,
          -2.683743392,
          -2.738659796,
          -2.742891638,
          -2.74422003,
          -2.7499673380000003,
          -2.7499673380000003,
          -2.7499673380000003,
          -2.755103794,
          -2.7696922479999997,
          -2.7696922479999997,
          -2.7768646759999998,
          -2.781298432,
          -2.781298432,
          -2.81216613,
          -2.84698648,
          -2.866424052,
          -2.866424052,
          -2.878717242,
          -2.898554592,
          -2.9146917080000003,
          -2.92204057,
          -2.927906604,
          -2.9288891,
          -2.941362068,
          -2.957741068,
          -2.973647202,
          -2.976299544,
          -2.977869454,
          -2.990485724,
          -3.006404748,
          -3.105781298,
          -3.105781298,
          -3.120976924,
          -3.126224068,
          -3.126224068,
          -3.128763928,
          -3.128763928,
          -3.128763928,
          -3.128763928,
          -3.128763928,
          -3.128763928,
          -3.128763928,
          -3.128763928,
          -3.128763928,
          -3.128763928,
          -3.128763928,
          -3.128763928,
          -3.128763928,
          -3.128763928,
          -3.128763928,
          -3.128763928,
          -3.128763928,
          -3.128763928,
          -3.128763928,
          -3.128763928,
          -3.128763928,
          -3.128763928,
          -3.128763928,
          -3.128763928,
          -3.128763928,
          -3.128763928,
          -3.128763928,
          -3.128763928,
          -3.128763928
         ]
        },
        {
         "error_y": {
          "array": [
           0.1994537476658472,
           0.21598478632882634,
           0.4802778363619412,
           0.4802778363619412,
           0.48061954797057066,
           0.48061954797057066,
           0.4585815099007412,
           0.4345977100263324,
           0.6885371731213047,
           0.8152512834055637,
           0.7431317223627336,
           0.6430946157672842,
           0.6430946157672842,
           0.6166098873197273,
           0.5410125587312914,
           0.5292108963460869,
           0.5195012943751309,
           0.4500595216951997,
           0.4500595216951997,
           0.4500595216951997,
           0.4116303294712754,
           0.45796022833798583,
           0.45796022833798583,
           0.45796022833798583,
           0.4602949205280689,
           0.4602949205280689,
           0.4602949205280689,
           0.5479970374008131,
           0.4995635025988813,
           0.5363318551295673,
           0.5594002696568998,
           0.5594002696568998,
           0.5594002696568998,
           0.5203749041133243,
           0.5282862157915643,
           0.5440635842891358,
           0.5500984402401796,
           0.5500984402401796,
           0.5785395141764734,
           0.5817500246757975,
           0.5827858548072669,
           0.5830009854865633,
           0.5830009854865633,
           0.5830009854865633,
           0.5877814059550961,
           0.556493517598745,
           0.556493517598745,
           0.5576033288389995,
           0.5579509814415632,
           0.5579509814415632,
           0.5103147588638373,
           0.4709581078779966,
           0.4287848107166093,
           0.4287848107166093,
           0.43274279206365995,
           0.39236317579310437,
           0.357501340178832,
           0.3436484763388481,
           0.3310758756409286,
           0.3314373979994158,
           0.30483816145209663,
           0.27030471170595516,
           0.23736899443757029,
           0.23934080648240397,
           0.2361366016163069,
           0.2107412052248652,
           0.18880223092841208,
           0.11966401517045282,
           0.11966401517045282,
           0.13799438870918657,
           0.14413858551682454,
           0.14413858551682454,
           0.14735639095499128,
           0.14735639095499128,
           0.14735639095499128,
           0.14735639095499128,
           0.14735639095499128,
           0.14735639095499128,
           0.14735639095499128,
           0.14735639095499128,
           0.14735639095499128,
           0.14735639095499128,
           0.14735639095499128,
           0.14735639095499128,
           0.14735639095499128,
           0.14735639095499128,
           0.14735639095499128,
           0.14735639095499128,
           0.14735639095499128,
           0.14735639095499128,
           0.14735639095499128,
           0.14735639095499128,
           0.14735639095499128,
           0.14735639095499128,
           0.14735639095499128,
           0.14735639095499128,
           0.14735639095499128,
           0.14735639095499128,
           0.14735639095499128,
           0.14735639095499128,
           0.14735639095499128
          ],
          "type": "data",
          "visible": true
         },
         "line": {
          "color": "#EF553B"
         },
         "mode": "lines+markers",
         "name": "TP (Error Bars)",
         "opacity": 0.3,
         "showlegend": false,
         "type": "scatter",
         "x": [
          0,
          1,
          2,
          3,
          4,
          5,
          6,
          7,
          8,
          9,
          10,
          11,
          12,
          13,
          14,
          15,
          16,
          17,
          18,
          19,
          20,
          21,
          22,
          23,
          24,
          25,
          26,
          27,
          28,
          29,
          30,
          31,
          32,
          33,
          34,
          35,
          36,
          37,
          38,
          39,
          40,
          41,
          42,
          43,
          44,
          45,
          46,
          47,
          48,
          49,
          50,
          51,
          52,
          53,
          54,
          55,
          56,
          57,
          58,
          59,
          60,
          61,
          62,
          63,
          64,
          65,
          66,
          67,
          68,
          69,
          70,
          71,
          72,
          73,
          74,
          75,
          76,
          77,
          78,
          79,
          80,
          81,
          82,
          83,
          84,
          85,
          86,
          87,
          88,
          89,
          90,
          91,
          92,
          93,
          94,
          95,
          96,
          97,
          98,
          99,
          100
         ],
         "y": [
          -0.434951894,
          -0.436139678,
          -0.721888804,
          -0.721888804,
          -0.7220608580000001,
          -0.7220608580000001,
          -0.740642458,
          -0.7710276859999999,
          -1.2176792600000002,
          -1.3160416659999998,
          -1.5724163619999998,
          -1.674544366,
          -1.674544366,
          -1.712091062,
          -1.8870301259999998,
          -1.924398486,
          -1.931127846,
          -2.095966926,
          -2.095966926,
          -2.095966926,
          -2.114367664,
          -2.168322474,
          -2.168322474,
          -2.168322474,
          -2.170678092,
          -2.170678092,
          -2.170678092,
          -2.24956793,
          -2.276090328,
          -2.394625344,
          -2.4317654959999997,
          -2.4317654959999997,
          -2.4317654959999997,
          -2.64722697,
          -2.6624532739999998,
          -2.677822956,
          -2.683743392,
          -2.683743392,
          -2.738659796,
          -2.742891638,
          -2.74422003,
          -2.7499673380000003,
          -2.7499673380000003,
          -2.7499673380000003,
          -2.755103794,
          -2.7696922479999997,
          -2.7696922479999997,
          -2.7768646759999998,
          -2.781298432,
          -2.781298432,
          -2.81216613,
          -2.84698648,
          -2.866424052,
          -2.866424052,
          -2.878717242,
          -2.898554592,
          -2.9146917080000003,
          -2.92204057,
          -2.927906604,
          -2.9288891,
          -2.941362068,
          -2.957741068,
          -2.973647202,
          -2.976299544,
          -2.977869454,
          -2.990485724,
          -3.006404748,
          -3.105781298,
          -3.105781298,
          -3.120976924,
          -3.126224068,
          -3.126224068,
          -3.128763928,
          -3.128763928,
          -3.128763928,
          -3.128763928,
          -3.128763928,
          -3.128763928,
          -3.128763928,
          -3.128763928,
          -3.128763928,
          -3.128763928,
          -3.128763928,
          -3.128763928,
          -3.128763928,
          -3.128763928,
          -3.128763928,
          -3.128763928,
          -3.128763928,
          -3.128763928,
          -3.128763928,
          -3.128763928,
          -3.128763928,
          -3.128763928,
          -3.128763928,
          -3.128763928,
          -3.128763928,
          -3.128763928,
          -3.128763928,
          -3.128763928,
          -3.128763928
         ]
        },
        {
         "line": {
          "color": "#00CC96"
         },
         "mode": "lines+markers",
         "name": "AGT (Mean)",
         "type": "scatter",
         "x": [
          0,
          1,
          2,
          3,
          4,
          5,
          6,
          7,
          8,
          9,
          10,
          11,
          12,
          13,
          14,
          15,
          16,
          17,
          18,
          19,
          20,
          21,
          22,
          23,
          24,
          25,
          26,
          27,
          28,
          29,
          30,
          31,
          32,
          33,
          34,
          35,
          36,
          37,
          38,
          39,
          40,
          41,
          42,
          43,
          44,
          45,
          46,
          47,
          48,
          49,
          50,
          51,
          52,
          53,
          54,
          55,
          56,
          57,
          58,
          59,
          60,
          61,
          62,
          63,
          64,
          65,
          66,
          67,
          68,
          69,
          70,
          71,
          72,
          73,
          74,
          75,
          76,
          77,
          78,
          79,
          80,
          81,
          82,
          83,
          84,
          85,
          86,
          87,
          88,
          89,
          90,
          91,
          92,
          93,
          94,
          95,
          96,
          97,
          98,
          99,
          100
         ],
         "y": [
          -0.899249734,
          -0.9038637399999999,
          -0.9669952760000001,
          -1.150692904,
          -1.30081276,
          -1.340850662,
          -1.340850662,
          -1.346169426,
          -1.4607240559999999,
          -1.617142908,
          -1.6175719220000002,
          -1.6936256459999999,
          -1.6936256459999999,
          -1.959490538,
          -2.246276744,
          -2.246276744,
          -2.24644254,
          -2.25321241,
          -2.260936074,
          -2.26109065,
          -2.3101537,
          -2.3101537,
          -2.3191041599999997,
          -2.3248153940000003,
          -2.3248153940000003,
          -2.42368994,
          -2.42368994,
          -2.42368994,
          -2.475505038,
          -2.475991432,
          -2.475991432,
          -2.55989429,
          -2.64212468,
          -2.64212468,
          -2.65935788,
          -2.714881654,
          -2.734943634,
          -2.759440966,
          -2.759440966,
          -2.759440966,
          -2.7598038340000004,
          -2.762399546,
          -2.766578328,
          -2.770547234,
          -2.772404916,
          -2.774112128,
          -2.789766952,
          -2.789766952,
          -2.789989448,
          -2.791049072,
          -2.8151031840000003,
          -2.8151031840000003,
          -2.817741638,
          -2.817741638,
          -2.817741638,
          -2.821890634,
          -2.826196782,
          -2.826196782,
          -2.826196782,
          -2.826196782,
          -2.826196782,
          -2.833410894,
          -2.833410894,
          -2.8635666399999997,
          -2.864123284,
          -2.871409106,
          -2.871409106,
          -2.871409106,
          -2.871409106,
          -2.871409106,
          -2.8729281700000002,
          -2.8729281700000002,
          -2.8729281700000002,
          -2.8729281700000002,
          -2.878220562,
          -2.878220562,
          -2.878220562,
          -2.878220562,
          -2.878220562,
          -2.878220562,
          -2.878220562,
          -2.878220562,
          -2.878220562,
          -2.878220562,
          -2.878220562,
          -2.878220562,
          -2.878220562,
          -2.878220562,
          -2.878220562,
          -2.878220562,
          -2.878220562,
          -2.878220562,
          -2.878220562,
          -2.878220562,
          -2.878220562,
          -2.878220562,
          -2.878220562,
          -2.878220562,
          -2.878220562,
          -2.878220562,
          -2.878220562
         ]
        },
        {
         "error_y": {
          "array": [
           0.6652808410161782,
           0.7199140827534011,
           0.656494770332663,
           0.8132693670834339,
           0.8526626471083983,
           0.8726902122966566,
           0.8726902122966566,
           0.8682431370081605,
           0.7531753177705252,
           0.8559642346740559,
           0.8557210996210927,
           0.7746902339690618,
           0.7746902339690618,
           0.8035422633939917,
           0.6483033924155892,
           0.6483033924155892,
           0.6479539066056388,
           0.6522083212693278,
           0.6574542964891087,
           0.657535854976289,
           0.6920333229510075,
           0.6920333229510075,
           0.6733766471378528,
           0.6615134007715354,
           0.6615134007715354,
           0.7490501409908381,
           0.7490501409908381,
           0.7490501409908381,
           0.7884574864052123,
           0.7889597604077162,
           0.7889597604077162,
           0.7727432954728203,
           0.8109166129555421,
           0.8109166129555421,
           0.8130942636241437,
           0.7117596259867516,
           0.680789097658342,
           0.6272365777365941,
           0.6272365777365941,
           0.6272365777365941,
           0.6270387977880488,
           0.6273008431159416,
           0.630699887152149,
           0.6334327501631114,
           0.6336211895375038,
           0.6338183220205034,
           0.6366912710408659,
           0.6366912710408659,
           0.6368088051311218,
           0.6374662991242293,
           0.6455001948126045,
           0.6455001948126045,
           0.6474103772073037,
           0.6474103772073037,
           0.6474103772073037,
           0.6505110474005146,
           0.6538528337705584,
           0.6538528337705584,
           0.6538528337705584,
           0.6538528337705584,
           0.6538528337705584,
           0.6569182788843242,
           0.6569182788843242,
           0.6739156641842485,
           0.6741210588393484,
           0.677014716882876,
           0.677014716882876,
           0.677014716882876,
           0.677014716882876,
           0.677014716882876,
           0.6780914456242582,
           0.6780914456242582,
           0.6780914456242582,
           0.6780914456242582,
           0.6819616323671974,
           0.6819616323671974,
           0.6819616323671974,
           0.6819616323671974,
           0.6819616323671974,
           0.6819616323671974,
           0.6819616323671974,
           0.6819616323671974,
           0.6819616323671974,
           0.6819616323671974,
           0.6819616323671974,
           0.6819616323671974,
           0.6819616323671974,
           0.6819616323671974,
           0.6819616323671974,
           0.6819616323671974,
           0.6819616323671974,
           0.6819616323671974,
           0.6819616323671974,
           0.6819616323671974,
           0.6819616323671974,
           0.6819616323671974,
           0.6819616323671974,
           0.6819616323671974,
           0.6819616323671974,
           0.6819616323671974,
           0.6819616323671974
          ],
          "type": "data",
          "visible": true
         },
         "line": {
          "color": "#00CC96"
         },
         "mode": "lines+markers",
         "name": "AGT (Error Bars)",
         "opacity": 0.3,
         "showlegend": false,
         "type": "scatter",
         "x": [
          0,
          1,
          2,
          3,
          4,
          5,
          6,
          7,
          8,
          9,
          10,
          11,
          12,
          13,
          14,
          15,
          16,
          17,
          18,
          19,
          20,
          21,
          22,
          23,
          24,
          25,
          26,
          27,
          28,
          29,
          30,
          31,
          32,
          33,
          34,
          35,
          36,
          37,
          38,
          39,
          40,
          41,
          42,
          43,
          44,
          45,
          46,
          47,
          48,
          49,
          50,
          51,
          52,
          53,
          54,
          55,
          56,
          57,
          58,
          59,
          60,
          61,
          62,
          63,
          64,
          65,
          66,
          67,
          68,
          69,
          70,
          71,
          72,
          73,
          74,
          75,
          76,
          77,
          78,
          79,
          80,
          81,
          82,
          83,
          84,
          85,
          86,
          87,
          88,
          89,
          90,
          91,
          92,
          93,
          94,
          95,
          96,
          97,
          98,
          99,
          100
         ],
         "y": [
          -0.899249734,
          -0.9038637399999999,
          -0.9669952760000001,
          -1.150692904,
          -1.30081276,
          -1.340850662,
          -1.340850662,
          -1.346169426,
          -1.4607240559999999,
          -1.617142908,
          -1.6175719220000002,
          -1.6936256459999999,
          -1.6936256459999999,
          -1.959490538,
          -2.246276744,
          -2.246276744,
          -2.24644254,
          -2.25321241,
          -2.260936074,
          -2.26109065,
          -2.3101537,
          -2.3101537,
          -2.3191041599999997,
          -2.3248153940000003,
          -2.3248153940000003,
          -2.42368994,
          -2.42368994,
          -2.42368994,
          -2.475505038,
          -2.475991432,
          -2.475991432,
          -2.55989429,
          -2.64212468,
          -2.64212468,
          -2.65935788,
          -2.714881654,
          -2.734943634,
          -2.759440966,
          -2.759440966,
          -2.759440966,
          -2.7598038340000004,
          -2.762399546,
          -2.766578328,
          -2.770547234,
          -2.772404916,
          -2.774112128,
          -2.789766952,
          -2.789766952,
          -2.789989448,
          -2.791049072,
          -2.8151031840000003,
          -2.8151031840000003,
          -2.817741638,
          -2.817741638,
          -2.817741638,
          -2.821890634,
          -2.826196782,
          -2.826196782,
          -2.826196782,
          -2.826196782,
          -2.826196782,
          -2.833410894,
          -2.833410894,
          -2.8635666399999997,
          -2.864123284,
          -2.871409106,
          -2.871409106,
          -2.871409106,
          -2.871409106,
          -2.871409106,
          -2.8729281700000002,
          -2.8729281700000002,
          -2.8729281700000002,
          -2.8729281700000002,
          -2.878220562,
          -2.878220562,
          -2.878220562,
          -2.878220562,
          -2.878220562,
          -2.878220562,
          -2.878220562,
          -2.878220562,
          -2.878220562,
          -2.878220562,
          -2.878220562,
          -2.878220562,
          -2.878220562,
          -2.878220562,
          -2.878220562,
          -2.878220562,
          -2.878220562,
          -2.878220562,
          -2.878220562,
          -2.878220562,
          -2.878220562,
          -2.878220562,
          -2.878220562,
          -2.878220562,
          -2.878220562,
          -2.878220562,
          -2.878220562
         ]
        }
       ],
       "layout": {
        "template": {
         "data": {
          "bar": [
           {
            "error_x": {
             "color": "#2a3f5f"
            },
            "error_y": {
             "color": "#2a3f5f"
            },
            "marker": {
             "line": {
              "color": "#E5ECF6",
              "width": 0.5
             },
             "pattern": {
              "fillmode": "overlay",
              "size": 10,
              "solidity": 0.2
             }
            },
            "type": "bar"
           }
          ],
          "barpolar": [
           {
            "marker": {
             "line": {
              "color": "#E5ECF6",
              "width": 0.5
             },
             "pattern": {
              "fillmode": "overlay",
              "size": 10,
              "solidity": 0.2
             }
            },
            "type": "barpolar"
           }
          ],
          "carpet": [
           {
            "aaxis": {
             "endlinecolor": "#2a3f5f",
             "gridcolor": "white",
             "linecolor": "white",
             "minorgridcolor": "white",
             "startlinecolor": "#2a3f5f"
            },
            "baxis": {
             "endlinecolor": "#2a3f5f",
             "gridcolor": "white",
             "linecolor": "white",
             "minorgridcolor": "white",
             "startlinecolor": "#2a3f5f"
            },
            "type": "carpet"
           }
          ],
          "choropleth": [
           {
            "colorbar": {
             "outlinewidth": 0,
             "ticks": ""
            },
            "type": "choropleth"
           }
          ],
          "contour": [
           {
            "colorbar": {
             "outlinewidth": 0,
             "ticks": ""
            },
            "colorscale": [
             [
              0,
              "#0d0887"
             ],
             [
              0.1111111111111111,
              "#46039f"
             ],
             [
              0.2222222222222222,
              "#7201a8"
             ],
             [
              0.3333333333333333,
              "#9c179e"
             ],
             [
              0.4444444444444444,
              "#bd3786"
             ],
             [
              0.5555555555555556,
              "#d8576b"
             ],
             [
              0.6666666666666666,
              "#ed7953"
             ],
             [
              0.7777777777777778,
              "#fb9f3a"
             ],
             [
              0.8888888888888888,
              "#fdca26"
             ],
             [
              1,
              "#f0f921"
             ]
            ],
            "type": "contour"
           }
          ],
          "contourcarpet": [
           {
            "colorbar": {
             "outlinewidth": 0,
             "ticks": ""
            },
            "type": "contourcarpet"
           }
          ],
          "heatmap": [
           {
            "colorbar": {
             "outlinewidth": 0,
             "ticks": ""
            },
            "colorscale": [
             [
              0,
              "#0d0887"
             ],
             [
              0.1111111111111111,
              "#46039f"
             ],
             [
              0.2222222222222222,
              "#7201a8"
             ],
             [
              0.3333333333333333,
              "#9c179e"
             ],
             [
              0.4444444444444444,
              "#bd3786"
             ],
             [
              0.5555555555555556,
              "#d8576b"
             ],
             [
              0.6666666666666666,
              "#ed7953"
             ],
             [
              0.7777777777777778,
              "#fb9f3a"
             ],
             [
              0.8888888888888888,
              "#fdca26"
             ],
             [
              1,
              "#f0f921"
             ]
            ],
            "type": "heatmap"
           }
          ],
          "heatmapgl": [
           {
            "colorbar": {
             "outlinewidth": 0,
             "ticks": ""
            },
            "colorscale": [
             [
              0,
              "#0d0887"
             ],
             [
              0.1111111111111111,
              "#46039f"
             ],
             [
              0.2222222222222222,
              "#7201a8"
             ],
             [
              0.3333333333333333,
              "#9c179e"
             ],
             [
              0.4444444444444444,
              "#bd3786"
             ],
             [
              0.5555555555555556,
              "#d8576b"
             ],
             [
              0.6666666666666666,
              "#ed7953"
             ],
             [
              0.7777777777777778,
              "#fb9f3a"
             ],
             [
              0.8888888888888888,
              "#fdca26"
             ],
             [
              1,
              "#f0f921"
             ]
            ],
            "type": "heatmapgl"
           }
          ],
          "histogram": [
           {
            "marker": {
             "pattern": {
              "fillmode": "overlay",
              "size": 10,
              "solidity": 0.2
             }
            },
            "type": "histogram"
           }
          ],
          "histogram2d": [
           {
            "colorbar": {
             "outlinewidth": 0,
             "ticks": ""
            },
            "colorscale": [
             [
              0,
              "#0d0887"
             ],
             [
              0.1111111111111111,
              "#46039f"
             ],
             [
              0.2222222222222222,
              "#7201a8"
             ],
             [
              0.3333333333333333,
              "#9c179e"
             ],
             [
              0.4444444444444444,
              "#bd3786"
             ],
             [
              0.5555555555555556,
              "#d8576b"
             ],
             [
              0.6666666666666666,
              "#ed7953"
             ],
             [
              0.7777777777777778,
              "#fb9f3a"
             ],
             [
              0.8888888888888888,
              "#fdca26"
             ],
             [
              1,
              "#f0f921"
             ]
            ],
            "type": "histogram2d"
           }
          ],
          "histogram2dcontour": [
           {
            "colorbar": {
             "outlinewidth": 0,
             "ticks": ""
            },
            "colorscale": [
             [
              0,
              "#0d0887"
             ],
             [
              0.1111111111111111,
              "#46039f"
             ],
             [
              0.2222222222222222,
              "#7201a8"
             ],
             [
              0.3333333333333333,
              "#9c179e"
             ],
             [
              0.4444444444444444,
              "#bd3786"
             ],
             [
              0.5555555555555556,
              "#d8576b"
             ],
             [
              0.6666666666666666,
              "#ed7953"
             ],
             [
              0.7777777777777778,
              "#fb9f3a"
             ],
             [
              0.8888888888888888,
              "#fdca26"
             ],
             [
              1,
              "#f0f921"
             ]
            ],
            "type": "histogram2dcontour"
           }
          ],
          "mesh3d": [
           {
            "colorbar": {
             "outlinewidth": 0,
             "ticks": ""
            },
            "type": "mesh3d"
           }
          ],
          "parcoords": [
           {
            "line": {
             "colorbar": {
              "outlinewidth": 0,
              "ticks": ""
             }
            },
            "type": "parcoords"
           }
          ],
          "pie": [
           {
            "automargin": true,
            "type": "pie"
           }
          ],
          "scatter": [
           {
            "fillpattern": {
             "fillmode": "overlay",
             "size": 10,
             "solidity": 0.2
            },
            "type": "scatter"
           }
          ],
          "scatter3d": [
           {
            "line": {
             "colorbar": {
              "outlinewidth": 0,
              "ticks": ""
             }
            },
            "marker": {
             "colorbar": {
              "outlinewidth": 0,
              "ticks": ""
             }
            },
            "type": "scatter3d"
           }
          ],
          "scattercarpet": [
           {
            "marker": {
             "colorbar": {
              "outlinewidth": 0,
              "ticks": ""
             }
            },
            "type": "scattercarpet"
           }
          ],
          "scattergeo": [
           {
            "marker": {
             "colorbar": {
              "outlinewidth": 0,
              "ticks": ""
             }
            },
            "type": "scattergeo"
           }
          ],
          "scattergl": [
           {
            "marker": {
             "colorbar": {
              "outlinewidth": 0,
              "ticks": ""
             }
            },
            "type": "scattergl"
           }
          ],
          "scattermapbox": [
           {
            "marker": {
             "colorbar": {
              "outlinewidth": 0,
              "ticks": ""
             }
            },
            "type": "scattermapbox"
           }
          ],
          "scatterpolar": [
           {
            "marker": {
             "colorbar": {
              "outlinewidth": 0,
              "ticks": ""
             }
            },
            "type": "scatterpolar"
           }
          ],
          "scatterpolargl": [
           {
            "marker": {
             "colorbar": {
              "outlinewidth": 0,
              "ticks": ""
             }
            },
            "type": "scatterpolargl"
           }
          ],
          "scatterternary": [
           {
            "marker": {
             "colorbar": {
              "outlinewidth": 0,
              "ticks": ""
             }
            },
            "type": "scatterternary"
           }
          ],
          "surface": [
           {
            "colorbar": {
             "outlinewidth": 0,
             "ticks": ""
            },
            "colorscale": [
             [
              0,
              "#0d0887"
             ],
             [
              0.1111111111111111,
              "#46039f"
             ],
             [
              0.2222222222222222,
              "#7201a8"
             ],
             [
              0.3333333333333333,
              "#9c179e"
             ],
             [
              0.4444444444444444,
              "#bd3786"
             ],
             [
              0.5555555555555556,
              "#d8576b"
             ],
             [
              0.6666666666666666,
              "#ed7953"
             ],
             [
              0.7777777777777778,
              "#fb9f3a"
             ],
             [
              0.8888888888888888,
              "#fdca26"
             ],
             [
              1,
              "#f0f921"
             ]
            ],
            "type": "surface"
           }
          ],
          "table": [
           {
            "cells": {
             "fill": {
              "color": "#EBF0F8"
             },
             "line": {
              "color": "white"
             }
            },
            "header": {
             "fill": {
              "color": "#C8D4E3"
             },
             "line": {
              "color": "white"
             }
            },
            "type": "table"
           }
          ]
         },
         "layout": {
          "annotationdefaults": {
           "arrowcolor": "#2a3f5f",
           "arrowhead": 0,
           "arrowwidth": 1
          },
          "autotypenumbers": "strict",
          "coloraxis": {
           "colorbar": {
            "outlinewidth": 0,
            "ticks": ""
           }
          },
          "colorscale": {
           "diverging": [
            [
             0,
             "#8e0152"
            ],
            [
             0.1,
             "#c51b7d"
            ],
            [
             0.2,
             "#de77ae"
            ],
            [
             0.3,
             "#f1b6da"
            ],
            [
             0.4,
             "#fde0ef"
            ],
            [
             0.5,
             "#f7f7f7"
            ],
            [
             0.6,
             "#e6f5d0"
            ],
            [
             0.7,
             "#b8e186"
            ],
            [
             0.8,
             "#7fbc41"
            ],
            [
             0.9,
             "#4d9221"
            ],
            [
             1,
             "#276419"
            ]
           ],
           "sequential": [
            [
             0,
             "#0d0887"
            ],
            [
             0.1111111111111111,
             "#46039f"
            ],
            [
             0.2222222222222222,
             "#7201a8"
            ],
            [
             0.3333333333333333,
             "#9c179e"
            ],
            [
             0.4444444444444444,
             "#bd3786"
            ],
            [
             0.5555555555555556,
             "#d8576b"
            ],
            [
             0.6666666666666666,
             "#ed7953"
            ],
            [
             0.7777777777777778,
             "#fb9f3a"
            ],
            [
             0.8888888888888888,
             "#fdca26"
            ],
            [
             1,
             "#f0f921"
            ]
           ],
           "sequentialminus": [
            [
             0,
             "#0d0887"
            ],
            [
             0.1111111111111111,
             "#46039f"
            ],
            [
             0.2222222222222222,
             "#7201a8"
            ],
            [
             0.3333333333333333,
             "#9c179e"
            ],
            [
             0.4444444444444444,
             "#bd3786"
            ],
            [
             0.5555555555555556,
             "#d8576b"
            ],
            [
             0.6666666666666666,
             "#ed7953"
            ],
            [
             0.7777777777777778,
             "#fb9f3a"
            ],
            [
             0.8888888888888888,
             "#fdca26"
            ],
            [
             1,
             "#f0f921"
            ]
           ]
          },
          "colorway": [
           "#636efa",
           "#EF553B",
           "#00cc96",
           "#ab63fa",
           "#FFA15A",
           "#19d3f3",
           "#FF6692",
           "#B6E880",
           "#FF97FF",
           "#FECB52"
          ],
          "font": {
           "color": "#2a3f5f"
          },
          "geo": {
           "bgcolor": "white",
           "lakecolor": "white",
           "landcolor": "#E5ECF6",
           "showlakes": true,
           "showland": true,
           "subunitcolor": "white"
          },
          "hoverlabel": {
           "align": "left"
          },
          "hovermode": "closest",
          "mapbox": {
           "style": "light"
          },
          "paper_bgcolor": "white",
          "plot_bgcolor": "#E5ECF6",
          "polar": {
           "angularaxis": {
            "gridcolor": "white",
            "linecolor": "white",
            "ticks": ""
           },
           "bgcolor": "#E5ECF6",
           "radialaxis": {
            "gridcolor": "white",
            "linecolor": "white",
            "ticks": ""
           }
          },
          "scene": {
           "xaxis": {
            "backgroundcolor": "#E5ECF6",
            "gridcolor": "white",
            "gridwidth": 2,
            "linecolor": "white",
            "showbackground": true,
            "ticks": "",
            "zerolinecolor": "white"
           },
           "yaxis": {
            "backgroundcolor": "#E5ECF6",
            "gridcolor": "white",
            "gridwidth": 2,
            "linecolor": "white",
            "showbackground": true,
            "ticks": "",
            "zerolinecolor": "white"
           },
           "zaxis": {
            "backgroundcolor": "#E5ECF6",
            "gridcolor": "white",
            "gridwidth": 2,
            "linecolor": "white",
            "showbackground": true,
            "ticks": "",
            "zerolinecolor": "white"
           }
          },
          "shapedefaults": {
           "line": {
            "color": "#2a3f5f"
           }
          },
          "ternary": {
           "aaxis": {
            "gridcolor": "white",
            "linecolor": "white",
            "ticks": ""
           },
           "baxis": {
            "gridcolor": "white",
            "linecolor": "white",
            "ticks": ""
           },
           "bgcolor": "#E5ECF6",
           "caxis": {
            "gridcolor": "white",
            "linecolor": "white",
            "ticks": ""
           }
          },
          "title": {
           "x": 0.05
          },
          "xaxis": {
           "automargin": true,
           "gridcolor": "white",
           "linecolor": "white",
           "ticks": "",
           "title": {
            "standoff": 15
           },
           "zerolinecolor": "white",
           "zerolinewidth": 2
          },
          "yaxis": {
           "automargin": true,
           "gridcolor": "white",
           "linecolor": "white",
           "ticks": "",
           "title": {
            "standoff": 15
           },
           "zerolinecolor": "white",
           "zerolinewidth": 2
          }
         }
        },
        "title": {
         "text": "Bayesian Optimization History on Hartmann6 with EI Acquisition"
        },
        "xaxis": {
         "title": {
          "text": "Iteration"
         }
        },
        "yaxis": {
         "title": {
          "text": "Best Function Value"
         }
        }
       }
      }
     },
     "metadata": {},
     "output_type": "display_data"
    }
   ],
   "source": [
    "target = os.path.join(LOG_DIR, 'E2')\n",
    "models = ['GP', 'TP', 'AGT']\n",
    "objective = 'Hartmann6'\n",
    "acquisition = 'EI'\n",
    "keywards = [objective, acquisition]\n",
    "\n",
    "result_df_dict = create_result_df_dict(target, models, keywards)\n",
    "\n",
    "color_dict = {\n",
    "    'GP': px.colors.qualitative.Plotly[0],\n",
    "    'TP': px.colors.qualitative.Plotly[1],\n",
    "    'AGT': px.colors.qualitative.Plotly[2],\n",
    "}\n",
    "\n",
    "fig = go.Figure()\n",
    "\n",
    "for model_name, result_df in result_df_dict.items():\n",
    "    add_history_plot_with_error_bars(fig, model_name, result_df)\n",
    "\n",
    "# Customize the layout\n",
    "fig.update_layout(\n",
    "    title=f\"Bayesian Optimization History on {objective} with {acquisition} Acquisition\",\n",
    "    xaxis_title=\"Iteration\",\n",
    "    yaxis_title=\"Best Function Value\",\n",
    ")\n",
    "\n",
    "fig.show()"
   ]
  },
  {
   "cell_type": "code",
   "execution_count": null,
   "metadata": {},
   "outputs": [],
   "source": []
  },
  {
   "cell_type": "markdown",
   "metadata": {},
   "source": [
    "# UCB"
   ]
  },
  {
   "cell_type": "code",
   "execution_count": 63,
   "metadata": {},
   "outputs": [
    {
     "name": "stdout",
     "output_type": "stream",
     "text": [
      "Failed to parse settings: invalid syntax (<unknown>, line 1)\n",
      "Failed to parse settings: invalid syntax (<unknown>, line 1)\n",
      "Failed to parse settings: invalid syntax (<unknown>, line 1)\n",
      "Failed to parse settings: invalid syntax (<unknown>, line 1)\n",
      "Failed to parse settings: invalid syntax (<unknown>, line 1)\n",
      "Minimum number of rows: 52\n",
      "Maximum number of rows: 56\n",
      "Failed to parse settings: invalid syntax (<unknown>, line 1)\n",
      "Failed to parse settings: invalid syntax (<unknown>, line 1)\n",
      "Failed to parse settings: invalid syntax (<unknown>, line 1)\n",
      "Failed to parse settings: invalid syntax (<unknown>, line 1)\n",
      "Failed to parse settings: invalid syntax (<unknown>, line 1)\n",
      "Minimum number of rows: 45\n",
      "Maximum number of rows: 50\n",
      "Failed to parse settings: invalid syntax (<unknown>, line 1)\n",
      "Failed to parse settings: invalid syntax (<unknown>, line 1)\n",
      "Failed to parse settings: invalid syntax (<unknown>, line 1)\n",
      "Failed to parse settings: invalid syntax (<unknown>, line 1)\n",
      "Failed to parse settings: invalid syntax (<unknown>, line 1)\n",
      "Failed to parse settings: invalid syntax (<unknown>, line 1)\n",
      "Failed to parse settings: invalid syntax (<unknown>, line 1)\n",
      "Failed to parse settings: invalid syntax (<unknown>, line 1)\n",
      "Failed to parse settings: invalid syntax (<unknown>, line 1)\n",
      "Failed to parse settings: invalid syntax (<unknown>, line 1)\n",
      "Minimum number of rows: 45\n",
      "Maximum number of rows: 69\n"
     ]
    },
    {
     "data": {
      "application/vnd.plotly.v1+json": {
       "config": {
        "plotlyServerURL": "https://plot.ly"
       },
       "data": [
        {
         "line": {
          "color": "#636EFA"
         },
         "mode": "lines+markers",
         "name": "GP (Mean)",
         "type": "scatter",
         "x": [
          0,
          1,
          2,
          3,
          4,
          5,
          6,
          7,
          8,
          9,
          10,
          11,
          12,
          13,
          14,
          15,
          16,
          17,
          18,
          19,
          20,
          21,
          22,
          23,
          24,
          25,
          26,
          27,
          28,
          29,
          30,
          31,
          32,
          33,
          34,
          35,
          36,
          37,
          38,
          39,
          40,
          41,
          42,
          43,
          44,
          45,
          46,
          47,
          48
         ],
         "y": [
          -26.083323200000002,
          -26.083323199999995,
          -26.083323199999995,
          -26.764478385999997,
          -29.141761706,
          -33.732060286,
          -37.948420846,
          -43.5395282,
          -46.179241000000005,
          -47.7536876,
          -48.483518200000006,
          -48.6167364,
          -48.6640242,
          -48.6837278,
          -48.691145,
          -48.691145,
          -48.691145,
          -48.691145,
          -48.691145,
          -48.691145,
          -48.691145,
          -48.691145,
          -48.691145,
          -48.691145,
          -48.691145,
          -48.691145,
          -48.691145,
          -48.691145,
          -48.691145,
          -48.691145,
          -48.691145,
          -48.691145,
          -48.691145,
          -48.691145,
          -48.691145,
          -48.691145,
          -48.691145,
          -48.691145,
          -48.691145,
          -48.691145,
          -48.691145,
          -48.691145,
          -48.691145,
          -48.691766,
          -48.691766,
          -48.691766,
          -48.691766,
          -48.691766,
          -48.691766
         ]
        },
        {
         "error_y": {
          "array": [
           22.047019328385044,
           24.025182314679594,
           24.025182314679594,
           23.20122210319396,
           20.948565101396316,
           19.763589572084907,
           19.03448199621318,
           16.892969730218475,
           14.338094989799675,
           12.965099952030114,
           12.451168587703313,
           12.177591261208057,
           12.072040530650058,
           12.02806125308899,
           12.011505896193054,
           12.011505896193054,
           12.011505896193054,
           12.011505896193054,
           12.011505896193054,
           12.011505896193054,
           12.011505896193054,
           12.011505896193054,
           12.011505896193054,
           12.011505896193054,
           12.011505896193054,
           12.011505896193054,
           12.011505896193054,
           12.011505896193054,
           12.011505896193054,
           12.011505896193054,
           12.011505896193054,
           12.011505896193054,
           12.011505896193054,
           12.011505896193054,
           12.011505896193054,
           12.011505896193054,
           12.011505896193054,
           12.011505896193054,
           12.011505896193054,
           12.011505896193054,
           12.011505896193054,
           12.011505896193054,
           12.011505896193054,
           12.0118830645424,
           12.0118830645424,
           12.0118830645424,
           12.0118830645424,
           12.0118830645424,
           12.0118830645424
          ],
          "type": "data",
          "visible": true
         },
         "line": {
          "color": "#636EFA"
         },
         "mode": "lines+markers",
         "name": "GP (Error Bars)",
         "opacity": 0.3,
         "showlegend": false,
         "type": "scatter",
         "x": [
          0,
          1,
          2,
          3,
          4,
          5,
          6,
          7,
          8,
          9,
          10,
          11,
          12,
          13,
          14,
          15,
          16,
          17,
          18,
          19,
          20,
          21,
          22,
          23,
          24,
          25,
          26,
          27,
          28,
          29,
          30,
          31,
          32,
          33,
          34,
          35,
          36,
          37,
          38,
          39,
          40,
          41,
          42,
          43,
          44,
          45,
          46,
          47,
          48
         ],
         "y": [
          -26.083323200000002,
          -26.083323199999995,
          -26.083323199999995,
          -26.764478385999997,
          -29.141761706,
          -33.732060286,
          -37.948420846,
          -43.5395282,
          -46.179241000000005,
          -47.7536876,
          -48.483518200000006,
          -48.6167364,
          -48.6640242,
          -48.6837278,
          -48.691145,
          -48.691145,
          -48.691145,
          -48.691145,
          -48.691145,
          -48.691145,
          -48.691145,
          -48.691145,
          -48.691145,
          -48.691145,
          -48.691145,
          -48.691145,
          -48.691145,
          -48.691145,
          -48.691145,
          -48.691145,
          -48.691145,
          -48.691145,
          -48.691145,
          -48.691145,
          -48.691145,
          -48.691145,
          -48.691145,
          -48.691145,
          -48.691145,
          -48.691145,
          -48.691145,
          -48.691145,
          -48.691145,
          -48.691766,
          -48.691766,
          -48.691766,
          -48.691766,
          -48.691766,
          -48.691766
         ]
        },
        {
         "line": {
          "color": "#EF553B"
         },
         "mode": "lines+markers",
         "name": "TP (Mean)",
         "type": "scatter",
         "x": [
          0,
          1,
          2,
          3,
          4,
          5,
          6,
          7,
          8,
          9,
          10,
          11,
          12,
          13,
          14,
          15,
          16,
          17,
          18,
          19,
          20,
          21,
          22,
          23,
          24,
          25,
          26,
          27,
          28,
          29,
          30,
          31,
          32,
          33,
          34,
          35,
          36,
          37,
          38,
          39,
          40,
          41
         ],
         "y": [
          -35.583146784,
          -35.583146784,
          -35.583146784,
          -36.185463436,
          -36.396474236,
          -39.099129388,
          -39.177940388,
          -40.124949122,
          -41.638608921999996,
          -43.511752791999996,
          -44.490000392,
          -44.566389792,
          -44.566389792,
          -44.566389792,
          -44.566389792,
          -44.566389792,
          -45.405502592,
          -45.405502592,
          -45.405502592,
          -45.405502592,
          -45.405502592,
          -45.405502592,
          -45.405502592,
          -45.405502592,
          -45.405502592,
          -45.405502592,
          -45.405502592,
          -45.405502592,
          -45.405502592,
          -45.405502592,
          -45.405502592,
          -45.405502592,
          -45.405502592,
          -45.405502592,
          -45.405502592,
          -45.405502592,
          -45.405502592,
          -45.405502592,
          -45.405502592,
          -45.405502592,
          -45.405502592,
          -45.405502592
         ]
        },
        {
         "error_y": {
          "array": [
           9.39890308665825,
           10.242217183718958,
           10.242217183718958,
           11.230283587639594,
           11.593537318211798,
           13.745738111100746,
           13.846991321362136,
           13.724228771250726,
           13.84206180521842,
           12.88647554013161,
           12.182848823499917,
           12.045753717910683,
           12.045753717910683,
           12.045753717910683,
           12.045753717910683,
           12.045753717910683,
           12.677068687091543,
           12.677068687091543,
           12.677068687091543,
           12.677068687091543,
           12.677068687091543,
           12.677068687091543,
           12.677068687091543,
           12.677068687091543,
           12.677068687091543,
           12.677068687091543,
           12.677068687091543,
           12.677068687091543,
           12.677068687091543,
           12.677068687091543,
           12.677068687091543,
           12.677068687091543,
           12.677068687091543,
           12.677068687091543,
           12.677068687091543,
           12.677068687091543,
           12.677068687091543,
           12.677068687091543,
           12.677068687091543,
           12.677068687091543,
           12.677068687091543,
           12.677068687091543
          ],
          "type": "data",
          "visible": true
         },
         "line": {
          "color": "#EF553B"
         },
         "mode": "lines+markers",
         "name": "TP (Error Bars)",
         "opacity": 0.3,
         "showlegend": false,
         "type": "scatter",
         "x": [
          0,
          1,
          2,
          3,
          4,
          5,
          6,
          7,
          8,
          9,
          10,
          11,
          12,
          13,
          14,
          15,
          16,
          17,
          18,
          19,
          20,
          21,
          22,
          23,
          24,
          25,
          26,
          27,
          28,
          29,
          30,
          31,
          32,
          33,
          34,
          35,
          36,
          37,
          38,
          39,
          40,
          41
         ],
         "y": [
          -35.583146784,
          -35.583146784,
          -35.583146784,
          -36.185463436,
          -36.396474236,
          -39.099129388,
          -39.177940388,
          -40.124949122,
          -41.638608921999996,
          -43.511752791999996,
          -44.490000392,
          -44.566389792,
          -44.566389792,
          -44.566389792,
          -44.566389792,
          -44.566389792,
          -45.405502592,
          -45.405502592,
          -45.405502592,
          -45.405502592,
          -45.405502592,
          -45.405502592,
          -45.405502592,
          -45.405502592,
          -45.405502592,
          -45.405502592,
          -45.405502592,
          -45.405502592,
          -45.405502592,
          -45.405502592,
          -45.405502592,
          -45.405502592,
          -45.405502592,
          -45.405502592,
          -45.405502592,
          -45.405502592,
          -45.405502592,
          -45.405502592,
          -45.405502592,
          -45.405502592,
          -45.405502592,
          -45.405502592
         ]
        },
        {
         "line": {
          "color": "#00CC96"
         },
         "mode": "lines+markers",
         "name": "AGT (Mean)",
         "type": "scatter",
         "x": [
          0,
          1,
          2,
          3,
          4,
          5,
          6,
          7,
          8,
          9,
          10,
          11,
          12,
          13,
          14,
          15,
          16,
          17,
          18,
          19,
          20,
          21,
          22,
          23,
          24,
          25,
          26,
          27,
          28,
          29,
          30,
          31,
          32,
          33,
          34,
          35,
          36,
          37,
          38,
          39,
          40,
          41
         ],
         "y": [
          -39.651571974,
          -39.749291879,
          -39.791805479,
          -39.791805479,
          -39.791805479,
          -41.083656593,
          -41.116773893,
          -41.36018301,
          -41.66897421,
          -42.161300237,
          -42.811922921000004,
          -44.325810623,
          -46.349452223,
          -47.369538523,
          -47.495134923,
          -47.503820623,
          -47.503820623,
          -47.503820623,
          -47.503820623,
          -47.503820623,
          -47.503820623,
          -47.503820623,
          -47.503820623,
          -47.503820623,
          -47.503820623,
          -47.503820623,
          -47.503820623,
          -47.503820623,
          -47.503820623,
          -47.503820623,
          -47.503820623,
          -47.503820623,
          -47.503820623,
          -47.503820623,
          -47.503820623,
          -47.503820623,
          -47.503820623,
          -47.503820623,
          -47.503820623,
          -47.503820623,
          -47.503820623,
          -47.503820623
         ]
        },
        {
         "error_y": {
          "array": [
           12.75815953679624,
           13.385746348761186,
           13.434092437838236,
           13.434092437838236,
           13.434092437838236,
           14.19281257899895,
           14.22715964256311,
           13.788675163609936,
           13.275860053145255,
           12.580810619250068,
           12.086509680753933,
           12.428341306187422,
           11.128550801408103,
           11.31385389699094,
           11.382081931891788,
           11.387957470128734,
           11.387957470128734,
           11.387957470128734,
           11.387957470128734,
           11.387957470128734,
           11.387957470128734,
           11.387957470128734,
           11.387957470128734,
           11.387957470128734,
           11.387957470128734,
           11.387957470128734,
           11.387957470128734,
           11.387957470128734,
           11.387957470128734,
           11.387957470128734,
           11.387957470128734,
           11.387957470128734,
           11.387957470128734,
           11.387957470128734,
           11.387957470128734,
           11.387957470128734,
           11.387957470128734,
           11.387957470128734,
           11.387957470128734,
           11.387957470128734,
           11.387957470128734,
           11.387957470128734
          ],
          "type": "data",
          "visible": true
         },
         "line": {
          "color": "#00CC96"
         },
         "mode": "lines+markers",
         "name": "AGT (Error Bars)",
         "opacity": 0.3,
         "showlegend": false,
         "type": "scatter",
         "x": [
          0,
          1,
          2,
          3,
          4,
          5,
          6,
          7,
          8,
          9,
          10,
          11,
          12,
          13,
          14,
          15,
          16,
          17,
          18,
          19,
          20,
          21,
          22,
          23,
          24,
          25,
          26,
          27,
          28,
          29,
          30,
          31,
          32,
          33,
          34,
          35,
          36,
          37,
          38,
          39,
          40,
          41
         ],
         "y": [
          -39.651571974,
          -39.749291879,
          -39.791805479,
          -39.791805479,
          -39.791805479,
          -41.083656593,
          -41.116773893,
          -41.36018301,
          -41.66897421,
          -42.161300237,
          -42.811922921000004,
          -44.325810623,
          -46.349452223,
          -47.369538523,
          -47.495134923,
          -47.503820623,
          -47.503820623,
          -47.503820623,
          -47.503820623,
          -47.503820623,
          -47.503820623,
          -47.503820623,
          -47.503820623,
          -47.503820623,
          -47.503820623,
          -47.503820623,
          -47.503820623,
          -47.503820623,
          -47.503820623,
          -47.503820623,
          -47.503820623,
          -47.503820623,
          -47.503820623,
          -47.503820623,
          -47.503820623,
          -47.503820623,
          -47.503820623,
          -47.503820623,
          -47.503820623,
          -47.503820623,
          -47.503820623,
          -47.503820623
         ]
        }
       ],
       "layout": {
        "template": {
         "data": {
          "bar": [
           {
            "error_x": {
             "color": "#2a3f5f"
            },
            "error_y": {
             "color": "#2a3f5f"
            },
            "marker": {
             "line": {
              "color": "#E5ECF6",
              "width": 0.5
             },
             "pattern": {
              "fillmode": "overlay",
              "size": 10,
              "solidity": 0.2
             }
            },
            "type": "bar"
           }
          ],
          "barpolar": [
           {
            "marker": {
             "line": {
              "color": "#E5ECF6",
              "width": 0.5
             },
             "pattern": {
              "fillmode": "overlay",
              "size": 10,
              "solidity": 0.2
             }
            },
            "type": "barpolar"
           }
          ],
          "carpet": [
           {
            "aaxis": {
             "endlinecolor": "#2a3f5f",
             "gridcolor": "white",
             "linecolor": "white",
             "minorgridcolor": "white",
             "startlinecolor": "#2a3f5f"
            },
            "baxis": {
             "endlinecolor": "#2a3f5f",
             "gridcolor": "white",
             "linecolor": "white",
             "minorgridcolor": "white",
             "startlinecolor": "#2a3f5f"
            },
            "type": "carpet"
           }
          ],
          "choropleth": [
           {
            "colorbar": {
             "outlinewidth": 0,
             "ticks": ""
            },
            "type": "choropleth"
           }
          ],
          "contour": [
           {
            "colorbar": {
             "outlinewidth": 0,
             "ticks": ""
            },
            "colorscale": [
             [
              0,
              "#0d0887"
             ],
             [
              0.1111111111111111,
              "#46039f"
             ],
             [
              0.2222222222222222,
              "#7201a8"
             ],
             [
              0.3333333333333333,
              "#9c179e"
             ],
             [
              0.4444444444444444,
              "#bd3786"
             ],
             [
              0.5555555555555556,
              "#d8576b"
             ],
             [
              0.6666666666666666,
              "#ed7953"
             ],
             [
              0.7777777777777778,
              "#fb9f3a"
             ],
             [
              0.8888888888888888,
              "#fdca26"
             ],
             [
              1,
              "#f0f921"
             ]
            ],
            "type": "contour"
           }
          ],
          "contourcarpet": [
           {
            "colorbar": {
             "outlinewidth": 0,
             "ticks": ""
            },
            "type": "contourcarpet"
           }
          ],
          "heatmap": [
           {
            "colorbar": {
             "outlinewidth": 0,
             "ticks": ""
            },
            "colorscale": [
             [
              0,
              "#0d0887"
             ],
             [
              0.1111111111111111,
              "#46039f"
             ],
             [
              0.2222222222222222,
              "#7201a8"
             ],
             [
              0.3333333333333333,
              "#9c179e"
             ],
             [
              0.4444444444444444,
              "#bd3786"
             ],
             [
              0.5555555555555556,
              "#d8576b"
             ],
             [
              0.6666666666666666,
              "#ed7953"
             ],
             [
              0.7777777777777778,
              "#fb9f3a"
             ],
             [
              0.8888888888888888,
              "#fdca26"
             ],
             [
              1,
              "#f0f921"
             ]
            ],
            "type": "heatmap"
           }
          ],
          "heatmapgl": [
           {
            "colorbar": {
             "outlinewidth": 0,
             "ticks": ""
            },
            "colorscale": [
             [
              0,
              "#0d0887"
             ],
             [
              0.1111111111111111,
              "#46039f"
             ],
             [
              0.2222222222222222,
              "#7201a8"
             ],
             [
              0.3333333333333333,
              "#9c179e"
             ],
             [
              0.4444444444444444,
              "#bd3786"
             ],
             [
              0.5555555555555556,
              "#d8576b"
             ],
             [
              0.6666666666666666,
              "#ed7953"
             ],
             [
              0.7777777777777778,
              "#fb9f3a"
             ],
             [
              0.8888888888888888,
              "#fdca26"
             ],
             [
              1,
              "#f0f921"
             ]
            ],
            "type": "heatmapgl"
           }
          ],
          "histogram": [
           {
            "marker": {
             "pattern": {
              "fillmode": "overlay",
              "size": 10,
              "solidity": 0.2
             }
            },
            "type": "histogram"
           }
          ],
          "histogram2d": [
           {
            "colorbar": {
             "outlinewidth": 0,
             "ticks": ""
            },
            "colorscale": [
             [
              0,
              "#0d0887"
             ],
             [
              0.1111111111111111,
              "#46039f"
             ],
             [
              0.2222222222222222,
              "#7201a8"
             ],
             [
              0.3333333333333333,
              "#9c179e"
             ],
             [
              0.4444444444444444,
              "#bd3786"
             ],
             [
              0.5555555555555556,
              "#d8576b"
             ],
             [
              0.6666666666666666,
              "#ed7953"
             ],
             [
              0.7777777777777778,
              "#fb9f3a"
             ],
             [
              0.8888888888888888,
              "#fdca26"
             ],
             [
              1,
              "#f0f921"
             ]
            ],
            "type": "histogram2d"
           }
          ],
          "histogram2dcontour": [
           {
            "colorbar": {
             "outlinewidth": 0,
             "ticks": ""
            },
            "colorscale": [
             [
              0,
              "#0d0887"
             ],
             [
              0.1111111111111111,
              "#46039f"
             ],
             [
              0.2222222222222222,
              "#7201a8"
             ],
             [
              0.3333333333333333,
              "#9c179e"
             ],
             [
              0.4444444444444444,
              "#bd3786"
             ],
             [
              0.5555555555555556,
              "#d8576b"
             ],
             [
              0.6666666666666666,
              "#ed7953"
             ],
             [
              0.7777777777777778,
              "#fb9f3a"
             ],
             [
              0.8888888888888888,
              "#fdca26"
             ],
             [
              1,
              "#f0f921"
             ]
            ],
            "type": "histogram2dcontour"
           }
          ],
          "mesh3d": [
           {
            "colorbar": {
             "outlinewidth": 0,
             "ticks": ""
            },
            "type": "mesh3d"
           }
          ],
          "parcoords": [
           {
            "line": {
             "colorbar": {
              "outlinewidth": 0,
              "ticks": ""
             }
            },
            "type": "parcoords"
           }
          ],
          "pie": [
           {
            "automargin": true,
            "type": "pie"
           }
          ],
          "scatter": [
           {
            "fillpattern": {
             "fillmode": "overlay",
             "size": 10,
             "solidity": 0.2
            },
            "type": "scatter"
           }
          ],
          "scatter3d": [
           {
            "line": {
             "colorbar": {
              "outlinewidth": 0,
              "ticks": ""
             }
            },
            "marker": {
             "colorbar": {
              "outlinewidth": 0,
              "ticks": ""
             }
            },
            "type": "scatter3d"
           }
          ],
          "scattercarpet": [
           {
            "marker": {
             "colorbar": {
              "outlinewidth": 0,
              "ticks": ""
             }
            },
            "type": "scattercarpet"
           }
          ],
          "scattergeo": [
           {
            "marker": {
             "colorbar": {
              "outlinewidth": 0,
              "ticks": ""
             }
            },
            "type": "scattergeo"
           }
          ],
          "scattergl": [
           {
            "marker": {
             "colorbar": {
              "outlinewidth": 0,
              "ticks": ""
             }
            },
            "type": "scattergl"
           }
          ],
          "scattermapbox": [
           {
            "marker": {
             "colorbar": {
              "outlinewidth": 0,
              "ticks": ""
             }
            },
            "type": "scattermapbox"
           }
          ],
          "scatterpolar": [
           {
            "marker": {
             "colorbar": {
              "outlinewidth": 0,
              "ticks": ""
             }
            },
            "type": "scatterpolar"
           }
          ],
          "scatterpolargl": [
           {
            "marker": {
             "colorbar": {
              "outlinewidth": 0,
              "ticks": ""
             }
            },
            "type": "scatterpolargl"
           }
          ],
          "scatterternary": [
           {
            "marker": {
             "colorbar": {
              "outlinewidth": 0,
              "ticks": ""
             }
            },
            "type": "scatterternary"
           }
          ],
          "surface": [
           {
            "colorbar": {
             "outlinewidth": 0,
             "ticks": ""
            },
            "colorscale": [
             [
              0,
              "#0d0887"
             ],
             [
              0.1111111111111111,
              "#46039f"
             ],
             [
              0.2222222222222222,
              "#7201a8"
             ],
             [
              0.3333333333333333,
              "#9c179e"
             ],
             [
              0.4444444444444444,
              "#bd3786"
             ],
             [
              0.5555555555555556,
              "#d8576b"
             ],
             [
              0.6666666666666666,
              "#ed7953"
             ],
             [
              0.7777777777777778,
              "#fb9f3a"
             ],
             [
              0.8888888888888888,
              "#fdca26"
             ],
             [
              1,
              "#f0f921"
             ]
            ],
            "type": "surface"
           }
          ],
          "table": [
           {
            "cells": {
             "fill": {
              "color": "#EBF0F8"
             },
             "line": {
              "color": "white"
             }
            },
            "header": {
             "fill": {
              "color": "#C8D4E3"
             },
             "line": {
              "color": "white"
             }
            },
            "type": "table"
           }
          ]
         },
         "layout": {
          "annotationdefaults": {
           "arrowcolor": "#2a3f5f",
           "arrowhead": 0,
           "arrowwidth": 1
          },
          "autotypenumbers": "strict",
          "coloraxis": {
           "colorbar": {
            "outlinewidth": 0,
            "ticks": ""
           }
          },
          "colorscale": {
           "diverging": [
            [
             0,
             "#8e0152"
            ],
            [
             0.1,
             "#c51b7d"
            ],
            [
             0.2,
             "#de77ae"
            ],
            [
             0.3,
             "#f1b6da"
            ],
            [
             0.4,
             "#fde0ef"
            ],
            [
             0.5,
             "#f7f7f7"
            ],
            [
             0.6,
             "#e6f5d0"
            ],
            [
             0.7,
             "#b8e186"
            ],
            [
             0.8,
             "#7fbc41"
            ],
            [
             0.9,
             "#4d9221"
            ],
            [
             1,
             "#276419"
            ]
           ],
           "sequential": [
            [
             0,
             "#0d0887"
            ],
            [
             0.1111111111111111,
             "#46039f"
            ],
            [
             0.2222222222222222,
             "#7201a8"
            ],
            [
             0.3333333333333333,
             "#9c179e"
            ],
            [
             0.4444444444444444,
             "#bd3786"
            ],
            [
             0.5555555555555556,
             "#d8576b"
            ],
            [
             0.6666666666666666,
             "#ed7953"
            ],
            [
             0.7777777777777778,
             "#fb9f3a"
            ],
            [
             0.8888888888888888,
             "#fdca26"
            ],
            [
             1,
             "#f0f921"
            ]
           ],
           "sequentialminus": [
            [
             0,
             "#0d0887"
            ],
            [
             0.1111111111111111,
             "#46039f"
            ],
            [
             0.2222222222222222,
             "#7201a8"
            ],
            [
             0.3333333333333333,
             "#9c179e"
            ],
            [
             0.4444444444444444,
             "#bd3786"
            ],
            [
             0.5555555555555556,
             "#d8576b"
            ],
            [
             0.6666666666666666,
             "#ed7953"
            ],
            [
             0.7777777777777778,
             "#fb9f3a"
            ],
            [
             0.8888888888888888,
             "#fdca26"
            ],
            [
             1,
             "#f0f921"
            ]
           ]
          },
          "colorway": [
           "#636efa",
           "#EF553B",
           "#00cc96",
           "#ab63fa",
           "#FFA15A",
           "#19d3f3",
           "#FF6692",
           "#B6E880",
           "#FF97FF",
           "#FECB52"
          ],
          "font": {
           "color": "#2a3f5f"
          },
          "geo": {
           "bgcolor": "white",
           "lakecolor": "white",
           "landcolor": "#E5ECF6",
           "showlakes": true,
           "showland": true,
           "subunitcolor": "white"
          },
          "hoverlabel": {
           "align": "left"
          },
          "hovermode": "closest",
          "mapbox": {
           "style": "light"
          },
          "paper_bgcolor": "white",
          "plot_bgcolor": "#E5ECF6",
          "polar": {
           "angularaxis": {
            "gridcolor": "white",
            "linecolor": "white",
            "ticks": ""
           },
           "bgcolor": "#E5ECF6",
           "radialaxis": {
            "gridcolor": "white",
            "linecolor": "white",
            "ticks": ""
           }
          },
          "scene": {
           "xaxis": {
            "backgroundcolor": "#E5ECF6",
            "gridcolor": "white",
            "gridwidth": 2,
            "linecolor": "white",
            "showbackground": true,
            "ticks": "",
            "zerolinecolor": "white"
           },
           "yaxis": {
            "backgroundcolor": "#E5ECF6",
            "gridcolor": "white",
            "gridwidth": 2,
            "linecolor": "white",
            "showbackground": true,
            "ticks": "",
            "zerolinecolor": "white"
           },
           "zaxis": {
            "backgroundcolor": "#E5ECF6",
            "gridcolor": "white",
            "gridwidth": 2,
            "linecolor": "white",
            "showbackground": true,
            "ticks": "",
            "zerolinecolor": "white"
           }
          },
          "shapedefaults": {
           "line": {
            "color": "#2a3f5f"
           }
          },
          "ternary": {
           "aaxis": {
            "gridcolor": "white",
            "linecolor": "white",
            "ticks": ""
           },
           "baxis": {
            "gridcolor": "white",
            "linecolor": "white",
            "ticks": ""
           },
           "bgcolor": "#E5ECF6",
           "caxis": {
            "gridcolor": "white",
            "linecolor": "white",
            "ticks": ""
           }
          },
          "title": {
           "x": 0.05
          },
          "xaxis": {
           "automargin": true,
           "gridcolor": "white",
           "linecolor": "white",
           "ticks": "",
           "title": {
            "standoff": 15
           },
           "zerolinecolor": "white",
           "zerolinewidth": 2
          },
          "yaxis": {
           "automargin": true,
           "gridcolor": "white",
           "linecolor": "white",
           "ticks": "",
           "title": {
            "standoff": 15
           },
           "zerolinecolor": "white",
           "zerolinewidth": 2
          }
         }
        },
        "title": {
         "text": "Bayesian Optimization History on SinusoidalSynthetic with UCB Acquisition"
        },
        "xaxis": {
         "title": {
          "text": "Iteration"
         }
        },
        "yaxis": {
         "title": {
          "text": "Best Function Value"
         }
        }
       }
      }
     },
     "metadata": {},
     "output_type": "display_data"
    }
   ],
   "source": [
    "target = os.path.join(LOG_DIR, 'E2')\n",
    "models = ['GP', 'TP', 'AGT']\n",
    "objective = 'SinusoidalSynthetic'\n",
    "acquisition = 'UCB'\n",
    "keywards = [objective, acquisition]\n",
    "\n",
    "result_df_dict = create_result_df_dict(target, models, keywards)\n",
    "\n",
    "color_dict = {\n",
    "    'GP': px.colors.qualitative.Plotly[0],\n",
    "    'TP': px.colors.qualitative.Plotly[1],\n",
    "    'AGT': px.colors.qualitative.Plotly[2],\n",
    "}\n",
    "\n",
    "fig = go.Figure()\n",
    "\n",
    "for model_name, result_df in result_df_dict.items():\n",
    "    add_history_plot_with_error_bars(fig, model_name, result_df)\n",
    "\n",
    "# Customize the layout\n",
    "fig.update_layout(\n",
    "    title=f\"Bayesian Optimization History on {objective} with {acquisition} Acquisition\",\n",
    "    xaxis_title=\"Iteration\",\n",
    "    yaxis_title=\"Best Function Value\",\n",
    ")\n",
    "\n",
    "fig.show()"
   ]
  },
  {
   "cell_type": "code",
   "execution_count": 64,
   "metadata": {},
   "outputs": [
    {
     "name": "stdout",
     "output_type": "stream",
     "text": [
      "Failed to parse settings: invalid syntax (<unknown>, line 1)\n",
      "Failed to parse settings: invalid syntax (<unknown>, line 1)\n",
      "Failed to parse settings: invalid syntax (<unknown>, line 1)\n",
      "Failed to parse settings: invalid syntax (<unknown>, line 1)\n",
      "Failed to parse settings: invalid syntax (<unknown>, line 1)\n",
      "Minimum number of rows: 64\n",
      "Maximum number of rows: 71\n",
      "Failed to parse settings: invalid syntax (<unknown>, line 1)\n",
      "Failed to parse settings: invalid syntax (<unknown>, line 1)\n",
      "Failed to parse settings: invalid syntax (<unknown>, line 1)\n",
      "Failed to parse settings: invalid syntax (<unknown>, line 1)\n",
      "Failed to parse settings: invalid syntax (<unknown>, line 1)\n",
      "Minimum number of rows: 48\n",
      "Maximum number of rows: 55\n",
      "Failed to parse settings: invalid syntax (<unknown>, line 1)\n",
      "Failed to parse settings: invalid syntax (<unknown>, line 1)\n",
      "Failed to parse settings: invalid syntax (<unknown>, line 1)\n",
      "Failed to parse settings: invalid syntax (<unknown>, line 1)\n",
      "Failed to parse settings: invalid syntax (<unknown>, line 1)\n",
      "Minimum number of rows: 49\n",
      "Maximum number of rows: 53\n"
     ]
    },
    {
     "data": {
      "application/vnd.plotly.v1+json": {
       "config": {
        "plotlyServerURL": "https://plot.ly"
       },
       "data": [
        {
         "line": {
          "color": "#636EFA"
         },
         "mode": "lines+markers",
         "name": "GP (Mean)",
         "type": "scatter",
         "x": [
          0,
          1,
          2,
          3,
          4,
          5,
          6,
          7,
          8,
          9,
          10,
          11,
          12,
          13,
          14,
          15,
          16,
          17,
          18,
          19,
          20,
          21,
          22,
          23,
          24,
          25,
          26,
          27,
          28,
          29,
          30,
          31,
          32,
          33,
          34,
          35,
          36,
          37,
          38,
          39,
          40,
          41,
          42,
          43,
          44,
          45,
          46,
          47,
          48,
          49,
          50,
          51,
          52,
          53,
          54,
          55,
          56,
          57,
          58,
          59,
          60
         ],
         "y": [
          25.00017388,
          25.00017388,
          25.00017388,
          23.224629946,
          21.520527384,
          17.535537859999998,
          16.05622742,
          15.359902340000001,
          14.04483694,
          12.70729694,
          10.55138204,
          6.29096804,
          5.187759699999999,
          4.12408602,
          2.451863716,
          1.802063316,
          1.319560816,
          1.129032526,
          1.129032526,
          0.963449866,
          0.946480186,
          0.946480186,
          0.946480186,
          0.946480186,
          0.946480186,
          0.946480186,
          0.946480186,
          0.946480186,
          0.946480186,
          0.946480186,
          0.946480186,
          0.946480186,
          0.946480186,
          0.946480186,
          0.946480186,
          0.946480186,
          0.946480186,
          0.946480186,
          0.946480186,
          0.946480186,
          0.946480186,
          0.946480186,
          0.946480186,
          0.946480186,
          0.946480186,
          0.946480186,
          0.946480186,
          0.946480186,
          0.946480186,
          0.946480186,
          0.946480186,
          0.946480186,
          0.946480186,
          0.946480186,
          0.946480186,
          0.946480186,
          0.946480186,
          0.946480186,
          0.946480186,
          0.946480186,
          0.946480186
         ]
        },
        {
         "error_y": {
          "array": [
           8.526687837942102,
           9.291742652176735,
           9.291742652176735,
           10.56242645911581,
           9.7304381358033,
           12.084796437479902,
           13.020159807592131,
           12.677991738701259,
           10.683117149912766,
           8.815760821390926,
           6.922279735106476,
           4.7997606912075765,
           3.7413902122274174,
           3.4159398657318123,
           1.718850196351155,
           1.4882588769503784,
           0.8414849686371862,
           0.9084454758460045,
           0.9084454758460045,
           0.8751339153006953,
           0.8870608775055766,
           0.8870608775055766,
           0.8870608775055766,
           0.8870608775055766,
           0.8870608775055766,
           0.8870608775055766,
           0.8870608775055766,
           0.8870608775055766,
           0.8870608775055766,
           0.8870608775055766,
           0.8870608775055766,
           0.8870608775055766,
           0.8870608775055766,
           0.8870608775055766,
           0.8870608775055766,
           0.8870608775055766,
           0.8870608775055766,
           0.8870608775055766,
           0.8870608775055766,
           0.8870608775055766,
           0.8870608775055766,
           0.8870608775055766,
           0.8870608775055766,
           0.8870608775055766,
           0.8870608775055766,
           0.8870608775055766,
           0.8870608775055766,
           0.8870608775055766,
           0.8870608775055766,
           0.8870608775055766,
           0.8870608775055766,
           0.8870608775055766,
           0.8870608775055766,
           0.8870608775055766,
           0.8870608775055766,
           0.8870608775055766,
           0.8870608775055766,
           0.8870608775055766,
           0.8870608775055766,
           0.8870608775055766,
           0.8870608775055766
          ],
          "type": "data",
          "visible": true
         },
         "line": {
          "color": "#636EFA"
         },
         "mode": "lines+markers",
         "name": "GP (Error Bars)",
         "opacity": 0.3,
         "showlegend": false,
         "type": "scatter",
         "x": [
          0,
          1,
          2,
          3,
          4,
          5,
          6,
          7,
          8,
          9,
          10,
          11,
          12,
          13,
          14,
          15,
          16,
          17,
          18,
          19,
          20,
          21,
          22,
          23,
          24,
          25,
          26,
          27,
          28,
          29,
          30,
          31,
          32,
          33,
          34,
          35,
          36,
          37,
          38,
          39,
          40,
          41,
          42,
          43,
          44,
          45,
          46,
          47,
          48,
          49,
          50,
          51,
          52,
          53,
          54,
          55,
          56,
          57,
          58,
          59,
          60
         ],
         "y": [
          25.00017388,
          25.00017388,
          25.00017388,
          23.224629946,
          21.520527384,
          17.535537859999998,
          16.05622742,
          15.359902340000001,
          14.04483694,
          12.70729694,
          10.55138204,
          6.29096804,
          5.187759699999999,
          4.12408602,
          2.451863716,
          1.802063316,
          1.319560816,
          1.129032526,
          1.129032526,
          0.963449866,
          0.946480186,
          0.946480186,
          0.946480186,
          0.946480186,
          0.946480186,
          0.946480186,
          0.946480186,
          0.946480186,
          0.946480186,
          0.946480186,
          0.946480186,
          0.946480186,
          0.946480186,
          0.946480186,
          0.946480186,
          0.946480186,
          0.946480186,
          0.946480186,
          0.946480186,
          0.946480186,
          0.946480186,
          0.946480186,
          0.946480186,
          0.946480186,
          0.946480186,
          0.946480186,
          0.946480186,
          0.946480186,
          0.946480186,
          0.946480186,
          0.946480186,
          0.946480186,
          0.946480186,
          0.946480186,
          0.946480186,
          0.946480186,
          0.946480186,
          0.946480186,
          0.946480186,
          0.946480186,
          0.946480186
         ]
        },
        {
         "line": {
          "color": "#EF553B"
         },
         "mode": "lines+markers",
         "name": "TP (Mean)",
         "type": "scatter",
         "x": [
          0,
          1,
          2,
          3,
          4,
          5,
          6,
          7,
          8,
          9,
          10,
          11,
          12,
          13,
          14,
          15,
          16,
          17,
          18,
          19,
          20,
          21,
          22,
          23,
          24,
          25,
          26,
          27,
          28,
          29,
          30,
          31,
          32,
          33,
          34,
          35,
          36,
          37,
          38,
          39,
          40,
          41,
          42,
          43,
          44
         ],
         "y": [
          11.107772358,
          11.107772358,
          11.107772358,
          11.107772358,
          9.476470774000001,
          9.075964952,
          8.379529252000001,
          7.856726052000001,
          7.856726052000001,
          7.480472552,
          7.2771939119999995,
          7.2771939119999995,
          4.632357848,
          2.257151288,
          2.257151288,
          2.257151288,
          1.681483628,
          1.681483628,
          1.681483628,
          1.681483628,
          1.681483628,
          1.681483628,
          1.681483628,
          1.681483628,
          1.681483628,
          1.681483628,
          1.681483628,
          1.681483628,
          1.681483628,
          1.681483628,
          1.681483628,
          1.681483628,
          1.681483628,
          1.681483628,
          1.681483628,
          1.681483628,
          1.681483628,
          1.681483628,
          1.681483628,
          1.681483628,
          1.681483628,
          1.681483628,
          1.681483628,
          1.681483628,
          1.681483628
         ]
        },
        {
         "error_y": {
          "array": [
           7.33282077755407,
           7.990756185113383,
           7.990756185113383,
           7.990756185113383,
           6.203164307995718,
           6.489108580642838,
           6.929694961496532,
           7.3433651123396855,
           7.3433651123396855,
           7.668260686391551,
           7.851048188228012,
           7.851048188228012,
           5.084420805656041,
           1.9312984649172957,
           1.9312984649172957,
           1.9312984649172957,
           0.909271506008357,
           0.909271506008357,
           0.909271506008357,
           0.909271506008357,
           0.909271506008357,
           0.909271506008357,
           0.909271506008357,
           0.909271506008357,
           0.909271506008357,
           0.909271506008357,
           0.909271506008357,
           0.909271506008357,
           0.909271506008357,
           0.909271506008357,
           0.909271506008357,
           0.909271506008357,
           0.909271506008357,
           0.909271506008357,
           0.909271506008357,
           0.909271506008357,
           0.909271506008357,
           0.909271506008357,
           0.909271506008357,
           0.909271506008357,
           0.909271506008357,
           0.909271506008357,
           0.909271506008357,
           0.909271506008357,
           0.909271506008357
          ],
          "type": "data",
          "visible": true
         },
         "line": {
          "color": "#EF553B"
         },
         "mode": "lines+markers",
         "name": "TP (Error Bars)",
         "opacity": 0.3,
         "showlegend": false,
         "type": "scatter",
         "x": [
          0,
          1,
          2,
          3,
          4,
          5,
          6,
          7,
          8,
          9,
          10,
          11,
          12,
          13,
          14,
          15,
          16,
          17,
          18,
          19,
          20,
          21,
          22,
          23,
          24,
          25,
          26,
          27,
          28,
          29,
          30,
          31,
          32,
          33,
          34,
          35,
          36,
          37,
          38,
          39,
          40,
          41,
          42,
          43,
          44
         ],
         "y": [
          11.107772358,
          11.107772358,
          11.107772358,
          11.107772358,
          9.476470774000001,
          9.075964952,
          8.379529252000001,
          7.856726052000001,
          7.856726052000001,
          7.480472552,
          7.2771939119999995,
          7.2771939119999995,
          4.632357848,
          2.257151288,
          2.257151288,
          2.257151288,
          1.681483628,
          1.681483628,
          1.681483628,
          1.681483628,
          1.681483628,
          1.681483628,
          1.681483628,
          1.681483628,
          1.681483628,
          1.681483628,
          1.681483628,
          1.681483628,
          1.681483628,
          1.681483628,
          1.681483628,
          1.681483628,
          1.681483628,
          1.681483628,
          1.681483628,
          1.681483628,
          1.681483628,
          1.681483628,
          1.681483628,
          1.681483628,
          1.681483628,
          1.681483628,
          1.681483628,
          1.681483628,
          1.681483628
         ]
        },
        {
         "line": {
          "color": "#00CC96"
         },
         "mode": "lines+markers",
         "name": "AGT (Mean)",
         "type": "scatter",
         "x": [
          0,
          1,
          2,
          3,
          4,
          5,
          6,
          7,
          8,
          9,
          10,
          11,
          12,
          13,
          14,
          15,
          16,
          17,
          18,
          19,
          20,
          21,
          22,
          23,
          24,
          25,
          26,
          27,
          28,
          29,
          30,
          31,
          32,
          33,
          34,
          35,
          36,
          37,
          38,
          39,
          40,
          41,
          42,
          43,
          44,
          45
         ],
         "y": [
          18.345352068,
          18.345352068,
          13.32246305,
          11.422346718,
          11.111745518,
          10.934236518,
          10.612981118,
          10.453801118,
          7.080278781999999,
          6.3695813,
          4.882383020000001,
          3.802528934,
          3.7347280300000003,
          3.68628803,
          3.66923156,
          2.41033108,
          2.41033108,
          1.87381794,
          1.87381794,
          1.8117722600000001,
          1.8117722600000001,
          1.8117722600000001,
          1.8117722600000001,
          1.8117722600000001,
          1.8117722600000001,
          1.8117722600000001,
          1.8117722600000001,
          1.8117722600000001,
          1.8117722600000001,
          1.8117722600000001,
          1.8117722600000001,
          1.8117722600000001,
          1.8117722600000001,
          1.8117722600000001,
          1.8117722600000001,
          1.8117722600000001,
          1.8117722600000001,
          1.8117722600000001,
          1.8117722600000001,
          1.8117722600000001,
          1.8117722600000001,
          1.8117722600000001,
          1.8117722600000001,
          1.8117722600000001,
          1.8117722600000001,
          1.8117722600000001
         ]
        },
        {
         "error_y": {
          "array": [
           11.010360402027349,
           11.998262081099773,
           12.706295016499057,
           9.766830189325042,
           9.462919933459698,
           9.221110187178686,
           8.812116402412565,
           8.624457777569363,
           6.0708272262117315,
           5.006615332051637,
           4.986539102138797,
           3.3313817914645494,
           3.405887880695407,
           3.3057331396379914,
           3.325555799445499,
           1.8565056407041205,
           1.8565056407041205,
           0.8626369656839042,
           0.8626369656839042,
           0.7856857817495572,
           0.7856857817495572,
           0.7856857817495572,
           0.7856857817495572,
           0.7856857817495572,
           0.7856857817495572,
           0.7856857817495572,
           0.7856857817495572,
           0.7856857817495572,
           0.7856857817495572,
           0.7856857817495572,
           0.7856857817495572,
           0.7856857817495572,
           0.7856857817495572,
           0.7856857817495572,
           0.7856857817495572,
           0.7856857817495572,
           0.7856857817495572,
           0.7856857817495572,
           0.7856857817495572,
           0.7856857817495572,
           0.7856857817495572,
           0.7856857817495572,
           0.7856857817495572,
           0.7856857817495572,
           0.7856857817495572,
           0.7856857817495572
          ],
          "type": "data",
          "visible": true
         },
         "line": {
          "color": "#00CC96"
         },
         "mode": "lines+markers",
         "name": "AGT (Error Bars)",
         "opacity": 0.3,
         "showlegend": false,
         "type": "scatter",
         "x": [
          0,
          1,
          2,
          3,
          4,
          5,
          6,
          7,
          8,
          9,
          10,
          11,
          12,
          13,
          14,
          15,
          16,
          17,
          18,
          19,
          20,
          21,
          22,
          23,
          24,
          25,
          26,
          27,
          28,
          29,
          30,
          31,
          32,
          33,
          34,
          35,
          36,
          37,
          38,
          39,
          40,
          41,
          42,
          43,
          44,
          45
         ],
         "y": [
          18.345352068,
          18.345352068,
          13.32246305,
          11.422346718,
          11.111745518,
          10.934236518,
          10.612981118,
          10.453801118,
          7.080278781999999,
          6.3695813,
          4.882383020000001,
          3.802528934,
          3.7347280300000003,
          3.68628803,
          3.66923156,
          2.41033108,
          2.41033108,
          1.87381794,
          1.87381794,
          1.8117722600000001,
          1.8117722600000001,
          1.8117722600000001,
          1.8117722600000001,
          1.8117722600000001,
          1.8117722600000001,
          1.8117722600000001,
          1.8117722600000001,
          1.8117722600000001,
          1.8117722600000001,
          1.8117722600000001,
          1.8117722600000001,
          1.8117722600000001,
          1.8117722600000001,
          1.8117722600000001,
          1.8117722600000001,
          1.8117722600000001,
          1.8117722600000001,
          1.8117722600000001,
          1.8117722600000001,
          1.8117722600000001,
          1.8117722600000001,
          1.8117722600000001,
          1.8117722600000001,
          1.8117722600000001,
          1.8117722600000001,
          1.8117722600000001
         ]
        }
       ],
       "layout": {
        "template": {
         "data": {
          "bar": [
           {
            "error_x": {
             "color": "#2a3f5f"
            },
            "error_y": {
             "color": "#2a3f5f"
            },
            "marker": {
             "line": {
              "color": "#E5ECF6",
              "width": 0.5
             },
             "pattern": {
              "fillmode": "overlay",
              "size": 10,
              "solidity": 0.2
             }
            },
            "type": "bar"
           }
          ],
          "barpolar": [
           {
            "marker": {
             "line": {
              "color": "#E5ECF6",
              "width": 0.5
             },
             "pattern": {
              "fillmode": "overlay",
              "size": 10,
              "solidity": 0.2
             }
            },
            "type": "barpolar"
           }
          ],
          "carpet": [
           {
            "aaxis": {
             "endlinecolor": "#2a3f5f",
             "gridcolor": "white",
             "linecolor": "white",
             "minorgridcolor": "white",
             "startlinecolor": "#2a3f5f"
            },
            "baxis": {
             "endlinecolor": "#2a3f5f",
             "gridcolor": "white",
             "linecolor": "white",
             "minorgridcolor": "white",
             "startlinecolor": "#2a3f5f"
            },
            "type": "carpet"
           }
          ],
          "choropleth": [
           {
            "colorbar": {
             "outlinewidth": 0,
             "ticks": ""
            },
            "type": "choropleth"
           }
          ],
          "contour": [
           {
            "colorbar": {
             "outlinewidth": 0,
             "ticks": ""
            },
            "colorscale": [
             [
              0,
              "#0d0887"
             ],
             [
              0.1111111111111111,
              "#46039f"
             ],
             [
              0.2222222222222222,
              "#7201a8"
             ],
             [
              0.3333333333333333,
              "#9c179e"
             ],
             [
              0.4444444444444444,
              "#bd3786"
             ],
             [
              0.5555555555555556,
              "#d8576b"
             ],
             [
              0.6666666666666666,
              "#ed7953"
             ],
             [
              0.7777777777777778,
              "#fb9f3a"
             ],
             [
              0.8888888888888888,
              "#fdca26"
             ],
             [
              1,
              "#f0f921"
             ]
            ],
            "type": "contour"
           }
          ],
          "contourcarpet": [
           {
            "colorbar": {
             "outlinewidth": 0,
             "ticks": ""
            },
            "type": "contourcarpet"
           }
          ],
          "heatmap": [
           {
            "colorbar": {
             "outlinewidth": 0,
             "ticks": ""
            },
            "colorscale": [
             [
              0,
              "#0d0887"
             ],
             [
              0.1111111111111111,
              "#46039f"
             ],
             [
              0.2222222222222222,
              "#7201a8"
             ],
             [
              0.3333333333333333,
              "#9c179e"
             ],
             [
              0.4444444444444444,
              "#bd3786"
             ],
             [
              0.5555555555555556,
              "#d8576b"
             ],
             [
              0.6666666666666666,
              "#ed7953"
             ],
             [
              0.7777777777777778,
              "#fb9f3a"
             ],
             [
              0.8888888888888888,
              "#fdca26"
             ],
             [
              1,
              "#f0f921"
             ]
            ],
            "type": "heatmap"
           }
          ],
          "heatmapgl": [
           {
            "colorbar": {
             "outlinewidth": 0,
             "ticks": ""
            },
            "colorscale": [
             [
              0,
              "#0d0887"
             ],
             [
              0.1111111111111111,
              "#46039f"
             ],
             [
              0.2222222222222222,
              "#7201a8"
             ],
             [
              0.3333333333333333,
              "#9c179e"
             ],
             [
              0.4444444444444444,
              "#bd3786"
             ],
             [
              0.5555555555555556,
              "#d8576b"
             ],
             [
              0.6666666666666666,
              "#ed7953"
             ],
             [
              0.7777777777777778,
              "#fb9f3a"
             ],
             [
              0.8888888888888888,
              "#fdca26"
             ],
             [
              1,
              "#f0f921"
             ]
            ],
            "type": "heatmapgl"
           }
          ],
          "histogram": [
           {
            "marker": {
             "pattern": {
              "fillmode": "overlay",
              "size": 10,
              "solidity": 0.2
             }
            },
            "type": "histogram"
           }
          ],
          "histogram2d": [
           {
            "colorbar": {
             "outlinewidth": 0,
             "ticks": ""
            },
            "colorscale": [
             [
              0,
              "#0d0887"
             ],
             [
              0.1111111111111111,
              "#46039f"
             ],
             [
              0.2222222222222222,
              "#7201a8"
             ],
             [
              0.3333333333333333,
              "#9c179e"
             ],
             [
              0.4444444444444444,
              "#bd3786"
             ],
             [
              0.5555555555555556,
              "#d8576b"
             ],
             [
              0.6666666666666666,
              "#ed7953"
             ],
             [
              0.7777777777777778,
              "#fb9f3a"
             ],
             [
              0.8888888888888888,
              "#fdca26"
             ],
             [
              1,
              "#f0f921"
             ]
            ],
            "type": "histogram2d"
           }
          ],
          "histogram2dcontour": [
           {
            "colorbar": {
             "outlinewidth": 0,
             "ticks": ""
            },
            "colorscale": [
             [
              0,
              "#0d0887"
             ],
             [
              0.1111111111111111,
              "#46039f"
             ],
             [
              0.2222222222222222,
              "#7201a8"
             ],
             [
              0.3333333333333333,
              "#9c179e"
             ],
             [
              0.4444444444444444,
              "#bd3786"
             ],
             [
              0.5555555555555556,
              "#d8576b"
             ],
             [
              0.6666666666666666,
              "#ed7953"
             ],
             [
              0.7777777777777778,
              "#fb9f3a"
             ],
             [
              0.8888888888888888,
              "#fdca26"
             ],
             [
              1,
              "#f0f921"
             ]
            ],
            "type": "histogram2dcontour"
           }
          ],
          "mesh3d": [
           {
            "colorbar": {
             "outlinewidth": 0,
             "ticks": ""
            },
            "type": "mesh3d"
           }
          ],
          "parcoords": [
           {
            "line": {
             "colorbar": {
              "outlinewidth": 0,
              "ticks": ""
             }
            },
            "type": "parcoords"
           }
          ],
          "pie": [
           {
            "automargin": true,
            "type": "pie"
           }
          ],
          "scatter": [
           {
            "fillpattern": {
             "fillmode": "overlay",
             "size": 10,
             "solidity": 0.2
            },
            "type": "scatter"
           }
          ],
          "scatter3d": [
           {
            "line": {
             "colorbar": {
              "outlinewidth": 0,
              "ticks": ""
             }
            },
            "marker": {
             "colorbar": {
              "outlinewidth": 0,
              "ticks": ""
             }
            },
            "type": "scatter3d"
           }
          ],
          "scattercarpet": [
           {
            "marker": {
             "colorbar": {
              "outlinewidth": 0,
              "ticks": ""
             }
            },
            "type": "scattercarpet"
           }
          ],
          "scattergeo": [
           {
            "marker": {
             "colorbar": {
              "outlinewidth": 0,
              "ticks": ""
             }
            },
            "type": "scattergeo"
           }
          ],
          "scattergl": [
           {
            "marker": {
             "colorbar": {
              "outlinewidth": 0,
              "ticks": ""
             }
            },
            "type": "scattergl"
           }
          ],
          "scattermapbox": [
           {
            "marker": {
             "colorbar": {
              "outlinewidth": 0,
              "ticks": ""
             }
            },
            "type": "scattermapbox"
           }
          ],
          "scatterpolar": [
           {
            "marker": {
             "colorbar": {
              "outlinewidth": 0,
              "ticks": ""
             }
            },
            "type": "scatterpolar"
           }
          ],
          "scatterpolargl": [
           {
            "marker": {
             "colorbar": {
              "outlinewidth": 0,
              "ticks": ""
             }
            },
            "type": "scatterpolargl"
           }
          ],
          "scatterternary": [
           {
            "marker": {
             "colorbar": {
              "outlinewidth": 0,
              "ticks": ""
             }
            },
            "type": "scatterternary"
           }
          ],
          "surface": [
           {
            "colorbar": {
             "outlinewidth": 0,
             "ticks": ""
            },
            "colorscale": [
             [
              0,
              "#0d0887"
             ],
             [
              0.1111111111111111,
              "#46039f"
             ],
             [
              0.2222222222222222,
              "#7201a8"
             ],
             [
              0.3333333333333333,
              "#9c179e"
             ],
             [
              0.4444444444444444,
              "#bd3786"
             ],
             [
              0.5555555555555556,
              "#d8576b"
             ],
             [
              0.6666666666666666,
              "#ed7953"
             ],
             [
              0.7777777777777778,
              "#fb9f3a"
             ],
             [
              0.8888888888888888,
              "#fdca26"
             ],
             [
              1,
              "#f0f921"
             ]
            ],
            "type": "surface"
           }
          ],
          "table": [
           {
            "cells": {
             "fill": {
              "color": "#EBF0F8"
             },
             "line": {
              "color": "white"
             }
            },
            "header": {
             "fill": {
              "color": "#C8D4E3"
             },
             "line": {
              "color": "white"
             }
            },
            "type": "table"
           }
          ]
         },
         "layout": {
          "annotationdefaults": {
           "arrowcolor": "#2a3f5f",
           "arrowhead": 0,
           "arrowwidth": 1
          },
          "autotypenumbers": "strict",
          "coloraxis": {
           "colorbar": {
            "outlinewidth": 0,
            "ticks": ""
           }
          },
          "colorscale": {
           "diverging": [
            [
             0,
             "#8e0152"
            ],
            [
             0.1,
             "#c51b7d"
            ],
            [
             0.2,
             "#de77ae"
            ],
            [
             0.3,
             "#f1b6da"
            ],
            [
             0.4,
             "#fde0ef"
            ],
            [
             0.5,
             "#f7f7f7"
            ],
            [
             0.6,
             "#e6f5d0"
            ],
            [
             0.7,
             "#b8e186"
            ],
            [
             0.8,
             "#7fbc41"
            ],
            [
             0.9,
             "#4d9221"
            ],
            [
             1,
             "#276419"
            ]
           ],
           "sequential": [
            [
             0,
             "#0d0887"
            ],
            [
             0.1111111111111111,
             "#46039f"
            ],
            [
             0.2222222222222222,
             "#7201a8"
            ],
            [
             0.3333333333333333,
             "#9c179e"
            ],
            [
             0.4444444444444444,
             "#bd3786"
            ],
            [
             0.5555555555555556,
             "#d8576b"
            ],
            [
             0.6666666666666666,
             "#ed7953"
            ],
            [
             0.7777777777777778,
             "#fb9f3a"
            ],
            [
             0.8888888888888888,
             "#fdca26"
            ],
            [
             1,
             "#f0f921"
            ]
           ],
           "sequentialminus": [
            [
             0,
             "#0d0887"
            ],
            [
             0.1111111111111111,
             "#46039f"
            ],
            [
             0.2222222222222222,
             "#7201a8"
            ],
            [
             0.3333333333333333,
             "#9c179e"
            ],
            [
             0.4444444444444444,
             "#bd3786"
            ],
            [
             0.5555555555555556,
             "#d8576b"
            ],
            [
             0.6666666666666666,
             "#ed7953"
            ],
            [
             0.7777777777777778,
             "#fb9f3a"
            ],
            [
             0.8888888888888888,
             "#fdca26"
            ],
            [
             1,
             "#f0f921"
            ]
           ]
          },
          "colorway": [
           "#636efa",
           "#EF553B",
           "#00cc96",
           "#ab63fa",
           "#FFA15A",
           "#19d3f3",
           "#FF6692",
           "#B6E880",
           "#FF97FF",
           "#FECB52"
          ],
          "font": {
           "color": "#2a3f5f"
          },
          "geo": {
           "bgcolor": "white",
           "lakecolor": "white",
           "landcolor": "#E5ECF6",
           "showlakes": true,
           "showland": true,
           "subunitcolor": "white"
          },
          "hoverlabel": {
           "align": "left"
          },
          "hovermode": "closest",
          "mapbox": {
           "style": "light"
          },
          "paper_bgcolor": "white",
          "plot_bgcolor": "#E5ECF6",
          "polar": {
           "angularaxis": {
            "gridcolor": "white",
            "linecolor": "white",
            "ticks": ""
           },
           "bgcolor": "#E5ECF6",
           "radialaxis": {
            "gridcolor": "white",
            "linecolor": "white",
            "ticks": ""
           }
          },
          "scene": {
           "xaxis": {
            "backgroundcolor": "#E5ECF6",
            "gridcolor": "white",
            "gridwidth": 2,
            "linecolor": "white",
            "showbackground": true,
            "ticks": "",
            "zerolinecolor": "white"
           },
           "yaxis": {
            "backgroundcolor": "#E5ECF6",
            "gridcolor": "white",
            "gridwidth": 2,
            "linecolor": "white",
            "showbackground": true,
            "ticks": "",
            "zerolinecolor": "white"
           },
           "zaxis": {
            "backgroundcolor": "#E5ECF6",
            "gridcolor": "white",
            "gridwidth": 2,
            "linecolor": "white",
            "showbackground": true,
            "ticks": "",
            "zerolinecolor": "white"
           }
          },
          "shapedefaults": {
           "line": {
            "color": "#2a3f5f"
           }
          },
          "ternary": {
           "aaxis": {
            "gridcolor": "white",
            "linecolor": "white",
            "ticks": ""
           },
           "baxis": {
            "gridcolor": "white",
            "linecolor": "white",
            "ticks": ""
           },
           "bgcolor": "#E5ECF6",
           "caxis": {
            "gridcolor": "white",
            "linecolor": "white",
            "ticks": ""
           }
          },
          "title": {
           "x": 0.05
          },
          "xaxis": {
           "automargin": true,
           "gridcolor": "white",
           "linecolor": "white",
           "ticks": "",
           "title": {
            "standoff": 15
           },
           "zerolinecolor": "white",
           "zerolinewidth": 2
          },
          "yaxis": {
           "automargin": true,
           "gridcolor": "white",
           "linecolor": "white",
           "ticks": "",
           "title": {
            "standoff": 15
           },
           "zerolinecolor": "white",
           "zerolinewidth": 2
          }
         }
        },
        "title": {
         "text": "Bayesian Optimization History on BraninHoo with UCB Acquisition"
        },
        "xaxis": {
         "title": {
          "text": "Iteration"
         }
        },
        "yaxis": {
         "title": {
          "text": "Best Function Value"
         }
        }
       }
      }
     },
     "metadata": {},
     "output_type": "display_data"
    }
   ],
   "source": [
    "target = os.path.join(LOG_DIR, 'E2')\n",
    "models = ['GP', 'TP', 'AGT']\n",
    "objective = 'BraninHoo'\n",
    "acquisition = 'UCB'\n",
    "keywards = [objective, acquisition]\n",
    "\n",
    "result_df_dict = create_result_df_dict(target, models, keywards)\n",
    "\n",
    "color_dict = {\n",
    "    'GP': px.colors.qualitative.Plotly[0],\n",
    "    'TP': px.colors.qualitative.Plotly[1],\n",
    "    'AGT': px.colors.qualitative.Plotly[2],\n",
    "}\n",
    "\n",
    "fig = go.Figure()\n",
    "\n",
    "for model_name, result_df in result_df_dict.items():\n",
    "    add_history_plot_with_error_bars(fig, model_name, result_df)\n",
    "\n",
    "# Customize the layout\n",
    "fig.update_layout(\n",
    "    title=f\"Bayesian Optimization History on {objective} with {acquisition} Acquisition\",\n",
    "    xaxis_title=\"Iteration\",\n",
    "    yaxis_title=\"Best Function Value\",\n",
    ")\n",
    "\n",
    "fig.show()"
   ]
  },
  {
   "cell_type": "code",
   "execution_count": 65,
   "metadata": {},
   "outputs": [
    {
     "name": "stdout",
     "output_type": "stream",
     "text": [
      "Failed to parse settings: invalid syntax (<unknown>, line 1)\n",
      "Failed to parse settings: invalid syntax (<unknown>, line 1)\n",
      "Failed to parse settings: invalid syntax (<unknown>, line 1)\n",
      "Failed to parse settings: invalid syntax (<unknown>, line 1)\n",
      "Failed to parse settings: invalid syntax (<unknown>, line 1)\n",
      "Minimum number of rows: 92\n",
      "Maximum number of rows: 104\n",
      "Failed to parse settings: invalid syntax (<unknown>, line 1)\n",
      "Failed to parse settings: invalid syntax (<unknown>, line 1)\n",
      "Failed to parse settings: invalid syntax (<unknown>, line 1)\n",
      "Failed to parse settings: invalid syntax (<unknown>, line 1)\n",
      "Failed to parse settings: invalid syntax (<unknown>, line 1)\n",
      "Minimum number of rows: 82\n",
      "Maximum number of rows: 104\n",
      "Failed to parse settings: invalid syntax (<unknown>, line 1)\n",
      "Failed to parse settings: invalid syntax (<unknown>, line 1)\n",
      "Failed to parse settings: invalid syntax (<unknown>, line 1)\n",
      "Failed to parse settings: invalid syntax (<unknown>, line 1)\n",
      "Failed to parse settings: invalid syntax (<unknown>, line 1)\n",
      "Minimum number of rows: 88\n",
      "Maximum number of rows: 104\n"
     ]
    },
    {
     "data": {
      "application/vnd.plotly.v1+json": {
       "config": {
        "plotlyServerURL": "https://plot.ly"
       },
       "data": [
        {
         "line": {
          "color": "#636EFA"
         },
         "mode": "lines+markers",
         "name": "GP (Mean)",
         "type": "scatter",
         "x": [
          0,
          1,
          2,
          3,
          4,
          5,
          6,
          7,
          8,
          9,
          10,
          11,
          12,
          13,
          14,
          15,
          16,
          17,
          18,
          19,
          20,
          21,
          22,
          23,
          24,
          25,
          26,
          27,
          28,
          29,
          30,
          31,
          32,
          33,
          34,
          35,
          36,
          37,
          38,
          39,
          40,
          41,
          42,
          43,
          44,
          45,
          46,
          47,
          48,
          49,
          50,
          51,
          52,
          53,
          54,
          55,
          56,
          57,
          58,
          59,
          60,
          61,
          62,
          63,
          64,
          65,
          66,
          67,
          68,
          69,
          70,
          71,
          72,
          73,
          74,
          75,
          76,
          77,
          78,
          79,
          80,
          81,
          82,
          83,
          84,
          85,
          86,
          87,
          88
         ],
         "y": [
          -0.486376174,
          -0.594429532,
          -0.6065992419999999,
          -0.6104287079999999,
          -0.617700648,
          -0.674964438,
          -0.690681728,
          -0.763784376,
          -0.948802136,
          -1.129719114,
          -1.18759588,
          -1.19356443,
          -1.208338928,
          -1.23204943,
          -1.37780028,
          -1.6328347399999998,
          -1.8134016940000002,
          -1.8783980960000002,
          -1.8892231980000003,
          -1.9396753699999998,
          -2.14083541,
          -2.291580488,
          -2.330712754,
          -2.36957227,
          -2.40626705,
          -2.40626705,
          -2.465490466,
          -2.5266400940000002,
          -2.598652914,
          -2.7299672619999997,
          -2.856369996,
          -2.967399372,
          -3.036955052,
          -3.081913376,
          -3.091263524,
          -3.115254886,
          -3.133152862,
          -3.133152862,
          -3.173751882,
          -3.175215256,
          -3.175215256,
          -3.17977531,
          -3.17977531,
          -3.17977531,
          -3.17977531,
          -3.17977531,
          -3.17977531,
          -3.17977531,
          -3.17977531,
          -3.17977531,
          -3.17977531,
          -3.17977531,
          -3.17977531,
          -3.17977531,
          -3.17977531,
          -3.17977531,
          -3.17977531,
          -3.17977531,
          -3.17977531,
          -3.17977531,
          -3.17977531,
          -3.17977531,
          -3.17977531,
          -3.17977531,
          -3.17977531,
          -3.17977531,
          -3.17977531,
          -3.17977531,
          -3.17977531,
          -3.17977531,
          -3.17977531,
          -3.17977531,
          -3.17977531,
          -3.17977531,
          -3.17977531,
          -3.17977531,
          -3.17977531,
          -3.17977531,
          -3.17977531,
          -3.17977531,
          -3.17977531,
          -3.17977531,
          -3.17977531,
          -3.17977531,
          -3.17977531,
          -3.17977531,
          -3.17977531,
          -3.17977531,
          -3.17977531
         ]
        },
        {
         "error_y": {
          "array": [
           0.13396042386688164,
           0.27129922620350877,
           0.2946859566746629,
           0.3021776347232459,
           0.2968336014980887,
           0.2737524750309505,
           0.2502459047768322,
           0.22824871037900132,
           0.4500135668546356,
           0.6272088487491678,
           0.6814198768419872,
           0.6774315527151453,
           0.6686032949802874,
           0.6694020062441206,
           0.6450763996952152,
           0.7028372471052556,
           0.7275150960692268,
           0.6623892568361118,
           0.6505633944598134,
           0.6488087754485548,
           0.6628290278004147,
           0.526120178389925,
           0.5127083650226705,
           0.4919928061930188,
           0.5020516200350379,
           0.5020516200350379,
           0.4509601220616003,
           0.5136618480222575,
           0.4764902249973552,
           0.43218881380803875,
           0.291543266383704,
           0.12982963477761789,
           0.12285540001005216,
           0.14446049752975984,
           0.14586519109439527,
           0.14083003629913393,
           0.1121335033906409,
           0.1121335033906409,
           0.09057334413851723,
           0.08861656131241152,
           0.08861656131241152,
           0.09383588867001666,
           0.09383588867001666,
           0.09383588867001666,
           0.09383588867001666,
           0.09383588867001666,
           0.09383588867001666,
           0.09383588867001666,
           0.09383588867001666,
           0.09383588867001666,
           0.09383588867001666,
           0.09383588867001666,
           0.09383588867001666,
           0.09383588867001666,
           0.09383588867001666,
           0.09383588867001666,
           0.09383588867001666,
           0.09383588867001666,
           0.09383588867001666,
           0.09383588867001666,
           0.09383588867001666,
           0.09383588867001666,
           0.09383588867001666,
           0.09383588867001666,
           0.09383588867001666,
           0.09383588867001666,
           0.09383588867001666,
           0.09383588867001666,
           0.09383588867001666,
           0.09383588867001666,
           0.09383588867001666,
           0.09383588867001666,
           0.09383588867001666,
           0.09383588867001666,
           0.09383588867001666,
           0.09383588867001666,
           0.09383588867001666,
           0.09383588867001666,
           0.09383588867001666,
           0.09383588867001666,
           0.09383588867001666,
           0.09383588867001666,
           0.09383588867001666,
           0.09383588867001666,
           0.09383588867001666,
           0.09383588867001666,
           0.09383588867001666,
           0.09383588867001666,
           0.09383588867001666
          ],
          "type": "data",
          "visible": true
         },
         "line": {
          "color": "#636EFA"
         },
         "mode": "lines+markers",
         "name": "GP (Error Bars)",
         "opacity": 0.3,
         "showlegend": false,
         "type": "scatter",
         "x": [
          0,
          1,
          2,
          3,
          4,
          5,
          6,
          7,
          8,
          9,
          10,
          11,
          12,
          13,
          14,
          15,
          16,
          17,
          18,
          19,
          20,
          21,
          22,
          23,
          24,
          25,
          26,
          27,
          28,
          29,
          30,
          31,
          32,
          33,
          34,
          35,
          36,
          37,
          38,
          39,
          40,
          41,
          42,
          43,
          44,
          45,
          46,
          47,
          48,
          49,
          50,
          51,
          52,
          53,
          54,
          55,
          56,
          57,
          58,
          59,
          60,
          61,
          62,
          63,
          64,
          65,
          66,
          67,
          68,
          69,
          70,
          71,
          72,
          73,
          74,
          75,
          76,
          77,
          78,
          79,
          80,
          81,
          82,
          83,
          84,
          85,
          86,
          87,
          88
         ],
         "y": [
          -0.486376174,
          -0.594429532,
          -0.6065992419999999,
          -0.6104287079999999,
          -0.617700648,
          -0.674964438,
          -0.690681728,
          -0.763784376,
          -0.948802136,
          -1.129719114,
          -1.18759588,
          -1.19356443,
          -1.208338928,
          -1.23204943,
          -1.37780028,
          -1.6328347399999998,
          -1.8134016940000002,
          -1.8783980960000002,
          -1.8892231980000003,
          -1.9396753699999998,
          -2.14083541,
          -2.291580488,
          -2.330712754,
          -2.36957227,
          -2.40626705,
          -2.40626705,
          -2.465490466,
          -2.5266400940000002,
          -2.598652914,
          -2.7299672619999997,
          -2.856369996,
          -2.967399372,
          -3.036955052,
          -3.081913376,
          -3.091263524,
          -3.115254886,
          -3.133152862,
          -3.133152862,
          -3.173751882,
          -3.175215256,
          -3.175215256,
          -3.17977531,
          -3.17977531,
          -3.17977531,
          -3.17977531,
          -3.17977531,
          -3.17977531,
          -3.17977531,
          -3.17977531,
          -3.17977531,
          -3.17977531,
          -3.17977531,
          -3.17977531,
          -3.17977531,
          -3.17977531,
          -3.17977531,
          -3.17977531,
          -3.17977531,
          -3.17977531,
          -3.17977531,
          -3.17977531,
          -3.17977531,
          -3.17977531,
          -3.17977531,
          -3.17977531,
          -3.17977531,
          -3.17977531,
          -3.17977531,
          -3.17977531,
          -3.17977531,
          -3.17977531,
          -3.17977531,
          -3.17977531,
          -3.17977531,
          -3.17977531,
          -3.17977531,
          -3.17977531,
          -3.17977531,
          -3.17977531,
          -3.17977531,
          -3.17977531,
          -3.17977531,
          -3.17977531,
          -3.17977531,
          -3.17977531,
          -3.17977531,
          -3.17977531,
          -3.17977531,
          -3.17977531
         ]
        },
        {
         "line": {
          "color": "#EF553B"
         },
         "mode": "lines+markers",
         "name": "TP (Mean)",
         "type": "scatter",
         "x": [
          0,
          1,
          2,
          3,
          4,
          5,
          6,
          7,
          8,
          9,
          10,
          11,
          12,
          13,
          14,
          15,
          16,
          17,
          18,
          19,
          20,
          21,
          22,
          23,
          24,
          25,
          26,
          27,
          28,
          29,
          30,
          31,
          32,
          33,
          34,
          35,
          36,
          37,
          38,
          39,
          40,
          41,
          42,
          43,
          44,
          45,
          46,
          47,
          48,
          49,
          50,
          51,
          52,
          53,
          54,
          55,
          56,
          57,
          58,
          59,
          60,
          61,
          62,
          63,
          64,
          65,
          66,
          67,
          68,
          69,
          70,
          71,
          72,
          73,
          74,
          75,
          76,
          77,
          78
         ],
         "y": [
          -0.49653590599999997,
          -0.49653590599999997,
          -0.49653590599999997,
          -0.4968430039999999,
          -0.4968430039999999,
          -0.4968430039999999,
          -0.49929271399999997,
          -0.5065708339999999,
          -0.5874967019999999,
          -0.6782069700000001,
          -0.753822216,
          -0.82312098,
          -0.8704552060000001,
          -1.05536132,
          -1.155090996,
          -1.25380437,
          -1.330064408,
          -1.4489314260000001,
          -1.486547494,
          -1.486547494,
          -1.5586759579999998,
          -1.637326462,
          -1.68323319,
          -1.765262358,
          -1.8041971220000002,
          -1.942951844,
          -2.0994135720000004,
          -2.1824952719999997,
          -2.29509352,
          -2.3111954179999996,
          -2.322477414,
          -2.3721634700000003,
          -2.500061286,
          -2.500337964,
          -2.544339914,
          -2.7967886720000004,
          -2.903583858,
          -2.9727245840000003,
          -2.997358762,
          -3.11422052,
          -3.18220621,
          -3.18220621,
          -3.1850259000000003,
          -3.1850259000000003,
          -3.1850259000000003,
          -3.1850259000000003,
          -3.1850259000000003,
          -3.1850259000000003,
          -3.1986370319999997,
          -3.2068065420000003,
          -3.2068065420000003,
          -3.2068065420000003,
          -3.2068065420000003,
          -3.2068065420000003,
          -3.2068065420000003,
          -3.2068065420000003,
          -3.2068065420000003,
          -3.2068065420000003,
          -3.2068065420000003,
          -3.2068065420000003,
          -3.2068065420000003,
          -3.2068065420000003,
          -3.2068065420000003,
          -3.2068065420000003,
          -3.2068065420000003,
          -3.2068065420000003,
          -3.2068065420000003,
          -3.2068065420000003,
          -3.2068065420000003,
          -3.2068065420000003,
          -3.2068065420000003,
          -3.2068065420000003,
          -3.2068065420000003,
          -3.2068065420000003,
          -3.2068065420000003,
          -3.2068065420000003,
          -3.2068065420000003,
          -3.2068065420000003,
          -3.2068065420000003
         ]
        },
        {
         "error_y": {
          "array": [
           0.3215680867810565,
           0.3504206984365857,
           0.3504206984365857,
           0.3500187304409847,
           0.3500187304409847,
           0.3500187304409847,
           0.35026981552853614,
           0.35550567671037886,
           0.45639106972775184,
           0.5427724200882424,
           0.5318262455332109,
           0.5221651000790072,
           0.4766036841893693,
           0.708193104033141,
           0.8642404098480927,
           0.9736906840595765,
           0.9245926286209283,
           0.8603685742465226,
           0.8571478291106852,
           0.8571478291106852,
           0.8970485822268809,
           0.9184459790765882,
           0.9335579548353586,
           0.8846312212924786,
           0.8708732399007718,
           0.7579970340863701,
           0.7199421970558278,
           0.7508377121994589,
           0.6964224194050118,
           0.7136944596588712,
           0.7021618078179626,
           0.6364506747047026,
           0.6564492183228193,
           0.6561753778941005,
           0.6397637085316515,
           0.45047855269567755,
           0.386466872952878,
           0.2773881331256405,
           0.23448990723414712,
           0.1509433977123171,
           0.07276203700592318,
           0.07276203700592318,
           0.07828765188836354,
           0.07828765188836354,
           0.07828765188836354,
           0.07828765188836354,
           0.07828765188836354,
           0.07828765188836354,
           0.07976713284170743,
           0.08598158758810548,
           0.08598158758810548,
           0.08598158758810548,
           0.08598158758810548,
           0.08598158758810548,
           0.08598158758810548,
           0.08598158758810548,
           0.08598158758810548,
           0.08598158758810548,
           0.08598158758810548,
           0.08598158758810548,
           0.08598158758810548,
           0.08598158758810548,
           0.08598158758810548,
           0.08598158758810548,
           0.08598158758810548,
           0.08598158758810548,
           0.08598158758810548,
           0.08598158758810548,
           0.08598158758810548,
           0.08598158758810548,
           0.08598158758810548,
           0.08598158758810548,
           0.08598158758810548,
           0.08598158758810548,
           0.08598158758810548,
           0.08598158758810548,
           0.08598158758810548,
           0.08598158758810548,
           0.08598158758810548
          ],
          "type": "data",
          "visible": true
         },
         "line": {
          "color": "#EF553B"
         },
         "mode": "lines+markers",
         "name": "TP (Error Bars)",
         "opacity": 0.3,
         "showlegend": false,
         "type": "scatter",
         "x": [
          0,
          1,
          2,
          3,
          4,
          5,
          6,
          7,
          8,
          9,
          10,
          11,
          12,
          13,
          14,
          15,
          16,
          17,
          18,
          19,
          20,
          21,
          22,
          23,
          24,
          25,
          26,
          27,
          28,
          29,
          30,
          31,
          32,
          33,
          34,
          35,
          36,
          37,
          38,
          39,
          40,
          41,
          42,
          43,
          44,
          45,
          46,
          47,
          48,
          49,
          50,
          51,
          52,
          53,
          54,
          55,
          56,
          57,
          58,
          59,
          60,
          61,
          62,
          63,
          64,
          65,
          66,
          67,
          68,
          69,
          70,
          71,
          72,
          73,
          74,
          75,
          76,
          77,
          78
         ],
         "y": [
          -0.49653590599999997,
          -0.49653590599999997,
          -0.49653590599999997,
          -0.4968430039999999,
          -0.4968430039999999,
          -0.4968430039999999,
          -0.49929271399999997,
          -0.5065708339999999,
          -0.5874967019999999,
          -0.6782069700000001,
          -0.753822216,
          -0.82312098,
          -0.8704552060000001,
          -1.05536132,
          -1.155090996,
          -1.25380437,
          -1.330064408,
          -1.4489314260000001,
          -1.486547494,
          -1.486547494,
          -1.5586759579999998,
          -1.637326462,
          -1.68323319,
          -1.765262358,
          -1.8041971220000002,
          -1.942951844,
          -2.0994135720000004,
          -2.1824952719999997,
          -2.29509352,
          -2.3111954179999996,
          -2.322477414,
          -2.3721634700000003,
          -2.500061286,
          -2.500337964,
          -2.544339914,
          -2.7967886720000004,
          -2.903583858,
          -2.9727245840000003,
          -2.997358762,
          -3.11422052,
          -3.18220621,
          -3.18220621,
          -3.1850259000000003,
          -3.1850259000000003,
          -3.1850259000000003,
          -3.1850259000000003,
          -3.1850259000000003,
          -3.1850259000000003,
          -3.1986370319999997,
          -3.2068065420000003,
          -3.2068065420000003,
          -3.2068065420000003,
          -3.2068065420000003,
          -3.2068065420000003,
          -3.2068065420000003,
          -3.2068065420000003,
          -3.2068065420000003,
          -3.2068065420000003,
          -3.2068065420000003,
          -3.2068065420000003,
          -3.2068065420000003,
          -3.2068065420000003,
          -3.2068065420000003,
          -3.2068065420000003,
          -3.2068065420000003,
          -3.2068065420000003,
          -3.2068065420000003,
          -3.2068065420000003,
          -3.2068065420000003,
          -3.2068065420000003,
          -3.2068065420000003,
          -3.2068065420000003,
          -3.2068065420000003,
          -3.2068065420000003,
          -3.2068065420000003,
          -3.2068065420000003,
          -3.2068065420000003,
          -3.2068065420000003,
          -3.2068065420000003
         ]
        },
        {
         "line": {
          "color": "#00CC96"
         },
         "mode": "lines+markers",
         "name": "AGT (Mean)",
         "type": "scatter",
         "x": [
          0,
          1,
          2,
          3,
          4,
          5,
          6,
          7,
          8,
          9,
          10,
          11,
          12,
          13,
          14,
          15,
          16,
          17,
          18,
          19,
          20,
          21,
          22,
          23,
          24,
          25,
          26,
          27,
          28,
          29,
          30,
          31,
          32,
          33,
          34,
          35,
          36,
          37,
          38,
          39,
          40,
          41,
          42,
          43,
          44,
          45,
          46,
          47,
          48,
          49,
          50,
          51,
          52,
          53,
          54,
          55,
          56,
          57,
          58,
          59,
          60,
          61,
          62,
          63,
          64,
          65,
          66,
          67,
          68,
          69,
          70,
          71,
          72,
          73,
          74,
          75,
          76,
          77,
          78,
          79,
          80,
          81,
          82,
          83,
          84
         ],
         "y": [
          -0.6169681060000001,
          -0.6169681060000001,
          -0.6169681060000001,
          -0.6169681060000001,
          -0.664438796,
          -0.7455422540000001,
          -0.827263166,
          -0.915658234,
          -0.97230518,
          -1.029567986,
          -1.057921978,
          -1.0732061000000002,
          -1.0732061000000002,
          -1.22899121,
          -1.436998568,
          -1.520000872,
          -1.6068544,
          -1.7047744919999999,
          -1.80311336,
          -1.887289012,
          -1.9785485120000001,
          -2.0529369799999997,
          -2.155133182,
          -2.230734036,
          -2.251668458,
          -2.251668458,
          -2.359533056,
          -2.3814364240000003,
          -2.394850636,
          -2.398002512,
          -2.52384482,
          -2.81901062,
          -2.82069435,
          -2.823401868,
          -2.8911890639999998,
          -2.899613728,
          -2.904606514,
          -2.904606514,
          -2.915710716,
          -2.915710716,
          -2.95905026,
          -2.95905026,
          -2.970314494,
          -2.970314494,
          -2.985778314,
          -2.985778314,
          -3.0077194339999997,
          -3.0077194339999997,
          -3.0077194339999997,
          -3.0077194339999997,
          -3.0077194339999997,
          -3.0077194339999997,
          -3.0077194339999997,
          -3.0077194339999997,
          -3.0077194339999997,
          -3.0077194339999997,
          -3.0077194339999997,
          -3.0402489580000003,
          -3.112908088,
          -3.112908088,
          -3.112908088,
          -3.112908088,
          -3.170052574,
          -3.170052574,
          -3.170052574,
          -3.170052574,
          -3.170052574,
          -3.170052574,
          -3.170052574,
          -3.170052574,
          -3.170052574,
          -3.170052574,
          -3.170052574,
          -3.170052574,
          -3.170052574,
          -3.170052574,
          -3.170052574,
          -3.170052574,
          -3.170052574,
          -3.170052574,
          -3.170052574,
          -3.170052574,
          -3.170052574,
          -3.170052574,
          -3.170052574
         ]
        },
        {
         "error_y": {
          "array": [
           0.3161516287889139,
           0.344518250181665,
           0.344518250181665,
           0.344518250181665,
           0.4016602056298017,
           0.430707359884906,
           0.41774975004580084,
           0.4366915165800509,
           0.44207464582368355,
           0.4063994725149531,
           0.3782309458985232,
           0.36470483749069876,
           0.36470483749069876,
           0.4234357917444477,
           0.5293872788316638,
           0.6188393176738428,
           0.681934835461248,
           0.6407797378055521,
           0.5920540539355801,
           0.570775189838178,
           0.600978529529503,
           0.57183778130379,
           0.592845991404968,
           0.6372183220777984,
           0.6408049584385642,
           0.6408049584385642,
           0.7219193314458624,
           0.7375346693250721,
           0.7342895033484851,
           0.7388161265828519,
           0.7678930355213284,
           0.6321929469254549,
           0.6324064068199455,
           0.6264195187713467,
           0.47708186646097966,
           0.48213174113492246,
           0.4711952923101573,
           0.4711952923101573,
           0.4469124741737625,
           0.4469124741737625,
           0.4188860977145833,
           0.4188860977145833,
           0.3941233193268943,
           0.3941233193268943,
           0.40364598240472027,
           0.40364598240472027,
           0.37727291716630645,
           0.37727291716630645,
           0.37727291716630645,
           0.37727291716630645,
           0.37727291716630645,
           0.37727291716630645,
           0.37727291716630645,
           0.37727291716630645,
           0.37727291716630645,
           0.37727291716630645,
           0.37727291716630645,
           0.3069415174214452,
           0.15792770990374433,
           0.15792770990374433,
           0.15792770990374433,
           0.15792770990374433,
           0.08688164735222431,
           0.08688164735222431,
           0.08688164735222431,
           0.08688164735222431,
           0.08688164735222431,
           0.08688164735222431,
           0.08688164735222431,
           0.08688164735222431,
           0.08688164735222431,
           0.08688164735222431,
           0.08688164735222431,
           0.08688164735222431,
           0.08688164735222431,
           0.08688164735222431,
           0.08688164735222431,
           0.08688164735222431,
           0.08688164735222431,
           0.08688164735222431,
           0.08688164735222431,
           0.08688164735222431,
           0.08688164735222431,
           0.08688164735222431,
           0.08688164735222431
          ],
          "type": "data",
          "visible": true
         },
         "line": {
          "color": "#00CC96"
         },
         "mode": "lines+markers",
         "name": "AGT (Error Bars)",
         "opacity": 0.3,
         "showlegend": false,
         "type": "scatter",
         "x": [
          0,
          1,
          2,
          3,
          4,
          5,
          6,
          7,
          8,
          9,
          10,
          11,
          12,
          13,
          14,
          15,
          16,
          17,
          18,
          19,
          20,
          21,
          22,
          23,
          24,
          25,
          26,
          27,
          28,
          29,
          30,
          31,
          32,
          33,
          34,
          35,
          36,
          37,
          38,
          39,
          40,
          41,
          42,
          43,
          44,
          45,
          46,
          47,
          48,
          49,
          50,
          51,
          52,
          53,
          54,
          55,
          56,
          57,
          58,
          59,
          60,
          61,
          62,
          63,
          64,
          65,
          66,
          67,
          68,
          69,
          70,
          71,
          72,
          73,
          74,
          75,
          76,
          77,
          78,
          79,
          80,
          81,
          82,
          83,
          84
         ],
         "y": [
          -0.6169681060000001,
          -0.6169681060000001,
          -0.6169681060000001,
          -0.6169681060000001,
          -0.664438796,
          -0.7455422540000001,
          -0.827263166,
          -0.915658234,
          -0.97230518,
          -1.029567986,
          -1.057921978,
          -1.0732061000000002,
          -1.0732061000000002,
          -1.22899121,
          -1.436998568,
          -1.520000872,
          -1.6068544,
          -1.7047744919999999,
          -1.80311336,
          -1.887289012,
          -1.9785485120000001,
          -2.0529369799999997,
          -2.155133182,
          -2.230734036,
          -2.251668458,
          -2.251668458,
          -2.359533056,
          -2.3814364240000003,
          -2.394850636,
          -2.398002512,
          -2.52384482,
          -2.81901062,
          -2.82069435,
          -2.823401868,
          -2.8911890639999998,
          -2.899613728,
          -2.904606514,
          -2.904606514,
          -2.915710716,
          -2.915710716,
          -2.95905026,
          -2.95905026,
          -2.970314494,
          -2.970314494,
          -2.985778314,
          -2.985778314,
          -3.0077194339999997,
          -3.0077194339999997,
          -3.0077194339999997,
          -3.0077194339999997,
          -3.0077194339999997,
          -3.0077194339999997,
          -3.0077194339999997,
          -3.0077194339999997,
          -3.0077194339999997,
          -3.0077194339999997,
          -3.0077194339999997,
          -3.0402489580000003,
          -3.112908088,
          -3.112908088,
          -3.112908088,
          -3.112908088,
          -3.170052574,
          -3.170052574,
          -3.170052574,
          -3.170052574,
          -3.170052574,
          -3.170052574,
          -3.170052574,
          -3.170052574,
          -3.170052574,
          -3.170052574,
          -3.170052574,
          -3.170052574,
          -3.170052574,
          -3.170052574,
          -3.170052574,
          -3.170052574,
          -3.170052574,
          -3.170052574,
          -3.170052574,
          -3.170052574,
          -3.170052574,
          -3.170052574,
          -3.170052574
         ]
        }
       ],
       "layout": {
        "template": {
         "data": {
          "bar": [
           {
            "error_x": {
             "color": "#2a3f5f"
            },
            "error_y": {
             "color": "#2a3f5f"
            },
            "marker": {
             "line": {
              "color": "#E5ECF6",
              "width": 0.5
             },
             "pattern": {
              "fillmode": "overlay",
              "size": 10,
              "solidity": 0.2
             }
            },
            "type": "bar"
           }
          ],
          "barpolar": [
           {
            "marker": {
             "line": {
              "color": "#E5ECF6",
              "width": 0.5
             },
             "pattern": {
              "fillmode": "overlay",
              "size": 10,
              "solidity": 0.2
             }
            },
            "type": "barpolar"
           }
          ],
          "carpet": [
           {
            "aaxis": {
             "endlinecolor": "#2a3f5f",
             "gridcolor": "white",
             "linecolor": "white",
             "minorgridcolor": "white",
             "startlinecolor": "#2a3f5f"
            },
            "baxis": {
             "endlinecolor": "#2a3f5f",
             "gridcolor": "white",
             "linecolor": "white",
             "minorgridcolor": "white",
             "startlinecolor": "#2a3f5f"
            },
            "type": "carpet"
           }
          ],
          "choropleth": [
           {
            "colorbar": {
             "outlinewidth": 0,
             "ticks": ""
            },
            "type": "choropleth"
           }
          ],
          "contour": [
           {
            "colorbar": {
             "outlinewidth": 0,
             "ticks": ""
            },
            "colorscale": [
             [
              0,
              "#0d0887"
             ],
             [
              0.1111111111111111,
              "#46039f"
             ],
             [
              0.2222222222222222,
              "#7201a8"
             ],
             [
              0.3333333333333333,
              "#9c179e"
             ],
             [
              0.4444444444444444,
              "#bd3786"
             ],
             [
              0.5555555555555556,
              "#d8576b"
             ],
             [
              0.6666666666666666,
              "#ed7953"
             ],
             [
              0.7777777777777778,
              "#fb9f3a"
             ],
             [
              0.8888888888888888,
              "#fdca26"
             ],
             [
              1,
              "#f0f921"
             ]
            ],
            "type": "contour"
           }
          ],
          "contourcarpet": [
           {
            "colorbar": {
             "outlinewidth": 0,
             "ticks": ""
            },
            "type": "contourcarpet"
           }
          ],
          "heatmap": [
           {
            "colorbar": {
             "outlinewidth": 0,
             "ticks": ""
            },
            "colorscale": [
             [
              0,
              "#0d0887"
             ],
             [
              0.1111111111111111,
              "#46039f"
             ],
             [
              0.2222222222222222,
              "#7201a8"
             ],
             [
              0.3333333333333333,
              "#9c179e"
             ],
             [
              0.4444444444444444,
              "#bd3786"
             ],
             [
              0.5555555555555556,
              "#d8576b"
             ],
             [
              0.6666666666666666,
              "#ed7953"
             ],
             [
              0.7777777777777778,
              "#fb9f3a"
             ],
             [
              0.8888888888888888,
              "#fdca26"
             ],
             [
              1,
              "#f0f921"
             ]
            ],
            "type": "heatmap"
           }
          ],
          "heatmapgl": [
           {
            "colorbar": {
             "outlinewidth": 0,
             "ticks": ""
            },
            "colorscale": [
             [
              0,
              "#0d0887"
             ],
             [
              0.1111111111111111,
              "#46039f"
             ],
             [
              0.2222222222222222,
              "#7201a8"
             ],
             [
              0.3333333333333333,
              "#9c179e"
             ],
             [
              0.4444444444444444,
              "#bd3786"
             ],
             [
              0.5555555555555556,
              "#d8576b"
             ],
             [
              0.6666666666666666,
              "#ed7953"
             ],
             [
              0.7777777777777778,
              "#fb9f3a"
             ],
             [
              0.8888888888888888,
              "#fdca26"
             ],
             [
              1,
              "#f0f921"
             ]
            ],
            "type": "heatmapgl"
           }
          ],
          "histogram": [
           {
            "marker": {
             "pattern": {
              "fillmode": "overlay",
              "size": 10,
              "solidity": 0.2
             }
            },
            "type": "histogram"
           }
          ],
          "histogram2d": [
           {
            "colorbar": {
             "outlinewidth": 0,
             "ticks": ""
            },
            "colorscale": [
             [
              0,
              "#0d0887"
             ],
             [
              0.1111111111111111,
              "#46039f"
             ],
             [
              0.2222222222222222,
              "#7201a8"
             ],
             [
              0.3333333333333333,
              "#9c179e"
             ],
             [
              0.4444444444444444,
              "#bd3786"
             ],
             [
              0.5555555555555556,
              "#d8576b"
             ],
             [
              0.6666666666666666,
              "#ed7953"
             ],
             [
              0.7777777777777778,
              "#fb9f3a"
             ],
             [
              0.8888888888888888,
              "#fdca26"
             ],
             [
              1,
              "#f0f921"
             ]
            ],
            "type": "histogram2d"
           }
          ],
          "histogram2dcontour": [
           {
            "colorbar": {
             "outlinewidth": 0,
             "ticks": ""
            },
            "colorscale": [
             [
              0,
              "#0d0887"
             ],
             [
              0.1111111111111111,
              "#46039f"
             ],
             [
              0.2222222222222222,
              "#7201a8"
             ],
             [
              0.3333333333333333,
              "#9c179e"
             ],
             [
              0.4444444444444444,
              "#bd3786"
             ],
             [
              0.5555555555555556,
              "#d8576b"
             ],
             [
              0.6666666666666666,
              "#ed7953"
             ],
             [
              0.7777777777777778,
              "#fb9f3a"
             ],
             [
              0.8888888888888888,
              "#fdca26"
             ],
             [
              1,
              "#f0f921"
             ]
            ],
            "type": "histogram2dcontour"
           }
          ],
          "mesh3d": [
           {
            "colorbar": {
             "outlinewidth": 0,
             "ticks": ""
            },
            "type": "mesh3d"
           }
          ],
          "parcoords": [
           {
            "line": {
             "colorbar": {
              "outlinewidth": 0,
              "ticks": ""
             }
            },
            "type": "parcoords"
           }
          ],
          "pie": [
           {
            "automargin": true,
            "type": "pie"
           }
          ],
          "scatter": [
           {
            "fillpattern": {
             "fillmode": "overlay",
             "size": 10,
             "solidity": 0.2
            },
            "type": "scatter"
           }
          ],
          "scatter3d": [
           {
            "line": {
             "colorbar": {
              "outlinewidth": 0,
              "ticks": ""
             }
            },
            "marker": {
             "colorbar": {
              "outlinewidth": 0,
              "ticks": ""
             }
            },
            "type": "scatter3d"
           }
          ],
          "scattercarpet": [
           {
            "marker": {
             "colorbar": {
              "outlinewidth": 0,
              "ticks": ""
             }
            },
            "type": "scattercarpet"
           }
          ],
          "scattergeo": [
           {
            "marker": {
             "colorbar": {
              "outlinewidth": 0,
              "ticks": ""
             }
            },
            "type": "scattergeo"
           }
          ],
          "scattergl": [
           {
            "marker": {
             "colorbar": {
              "outlinewidth": 0,
              "ticks": ""
             }
            },
            "type": "scattergl"
           }
          ],
          "scattermapbox": [
           {
            "marker": {
             "colorbar": {
              "outlinewidth": 0,
              "ticks": ""
             }
            },
            "type": "scattermapbox"
           }
          ],
          "scatterpolar": [
           {
            "marker": {
             "colorbar": {
              "outlinewidth": 0,
              "ticks": ""
             }
            },
            "type": "scatterpolar"
           }
          ],
          "scatterpolargl": [
           {
            "marker": {
             "colorbar": {
              "outlinewidth": 0,
              "ticks": ""
             }
            },
            "type": "scatterpolargl"
           }
          ],
          "scatterternary": [
           {
            "marker": {
             "colorbar": {
              "outlinewidth": 0,
              "ticks": ""
             }
            },
            "type": "scatterternary"
           }
          ],
          "surface": [
           {
            "colorbar": {
             "outlinewidth": 0,
             "ticks": ""
            },
            "colorscale": [
             [
              0,
              "#0d0887"
             ],
             [
              0.1111111111111111,
              "#46039f"
             ],
             [
              0.2222222222222222,
              "#7201a8"
             ],
             [
              0.3333333333333333,
              "#9c179e"
             ],
             [
              0.4444444444444444,
              "#bd3786"
             ],
             [
              0.5555555555555556,
              "#d8576b"
             ],
             [
              0.6666666666666666,
              "#ed7953"
             ],
             [
              0.7777777777777778,
              "#fb9f3a"
             ],
             [
              0.8888888888888888,
              "#fdca26"
             ],
             [
              1,
              "#f0f921"
             ]
            ],
            "type": "surface"
           }
          ],
          "table": [
           {
            "cells": {
             "fill": {
              "color": "#EBF0F8"
             },
             "line": {
              "color": "white"
             }
            },
            "header": {
             "fill": {
              "color": "#C8D4E3"
             },
             "line": {
              "color": "white"
             }
            },
            "type": "table"
           }
          ]
         },
         "layout": {
          "annotationdefaults": {
           "arrowcolor": "#2a3f5f",
           "arrowhead": 0,
           "arrowwidth": 1
          },
          "autotypenumbers": "strict",
          "coloraxis": {
           "colorbar": {
            "outlinewidth": 0,
            "ticks": ""
           }
          },
          "colorscale": {
           "diverging": [
            [
             0,
             "#8e0152"
            ],
            [
             0.1,
             "#c51b7d"
            ],
            [
             0.2,
             "#de77ae"
            ],
            [
             0.3,
             "#f1b6da"
            ],
            [
             0.4,
             "#fde0ef"
            ],
            [
             0.5,
             "#f7f7f7"
            ],
            [
             0.6,
             "#e6f5d0"
            ],
            [
             0.7,
             "#b8e186"
            ],
            [
             0.8,
             "#7fbc41"
            ],
            [
             0.9,
             "#4d9221"
            ],
            [
             1,
             "#276419"
            ]
           ],
           "sequential": [
            [
             0,
             "#0d0887"
            ],
            [
             0.1111111111111111,
             "#46039f"
            ],
            [
             0.2222222222222222,
             "#7201a8"
            ],
            [
             0.3333333333333333,
             "#9c179e"
            ],
            [
             0.4444444444444444,
             "#bd3786"
            ],
            [
             0.5555555555555556,
             "#d8576b"
            ],
            [
             0.6666666666666666,
             "#ed7953"
            ],
            [
             0.7777777777777778,
             "#fb9f3a"
            ],
            [
             0.8888888888888888,
             "#fdca26"
            ],
            [
             1,
             "#f0f921"
            ]
           ],
           "sequentialminus": [
            [
             0,
             "#0d0887"
            ],
            [
             0.1111111111111111,
             "#46039f"
            ],
            [
             0.2222222222222222,
             "#7201a8"
            ],
            [
             0.3333333333333333,
             "#9c179e"
            ],
            [
             0.4444444444444444,
             "#bd3786"
            ],
            [
             0.5555555555555556,
             "#d8576b"
            ],
            [
             0.6666666666666666,
             "#ed7953"
            ],
            [
             0.7777777777777778,
             "#fb9f3a"
            ],
            [
             0.8888888888888888,
             "#fdca26"
            ],
            [
             1,
             "#f0f921"
            ]
           ]
          },
          "colorway": [
           "#636efa",
           "#EF553B",
           "#00cc96",
           "#ab63fa",
           "#FFA15A",
           "#19d3f3",
           "#FF6692",
           "#B6E880",
           "#FF97FF",
           "#FECB52"
          ],
          "font": {
           "color": "#2a3f5f"
          },
          "geo": {
           "bgcolor": "white",
           "lakecolor": "white",
           "landcolor": "#E5ECF6",
           "showlakes": true,
           "showland": true,
           "subunitcolor": "white"
          },
          "hoverlabel": {
           "align": "left"
          },
          "hovermode": "closest",
          "mapbox": {
           "style": "light"
          },
          "paper_bgcolor": "white",
          "plot_bgcolor": "#E5ECF6",
          "polar": {
           "angularaxis": {
            "gridcolor": "white",
            "linecolor": "white",
            "ticks": ""
           },
           "bgcolor": "#E5ECF6",
           "radialaxis": {
            "gridcolor": "white",
            "linecolor": "white",
            "ticks": ""
           }
          },
          "scene": {
           "xaxis": {
            "backgroundcolor": "#E5ECF6",
            "gridcolor": "white",
            "gridwidth": 2,
            "linecolor": "white",
            "showbackground": true,
            "ticks": "",
            "zerolinecolor": "white"
           },
           "yaxis": {
            "backgroundcolor": "#E5ECF6",
            "gridcolor": "white",
            "gridwidth": 2,
            "linecolor": "white",
            "showbackground": true,
            "ticks": "",
            "zerolinecolor": "white"
           },
           "zaxis": {
            "backgroundcolor": "#E5ECF6",
            "gridcolor": "white",
            "gridwidth": 2,
            "linecolor": "white",
            "showbackground": true,
            "ticks": "",
            "zerolinecolor": "white"
           }
          },
          "shapedefaults": {
           "line": {
            "color": "#2a3f5f"
           }
          },
          "ternary": {
           "aaxis": {
            "gridcolor": "white",
            "linecolor": "white",
            "ticks": ""
           },
           "baxis": {
            "gridcolor": "white",
            "linecolor": "white",
            "ticks": ""
           },
           "bgcolor": "#E5ECF6",
           "caxis": {
            "gridcolor": "white",
            "linecolor": "white",
            "ticks": ""
           }
          },
          "title": {
           "x": 0.05
          },
          "xaxis": {
           "automargin": true,
           "gridcolor": "white",
           "linecolor": "white",
           "ticks": "",
           "title": {
            "standoff": 15
           },
           "zerolinecolor": "white",
           "zerolinewidth": 2
          },
          "yaxis": {
           "automargin": true,
           "gridcolor": "white",
           "linecolor": "white",
           "ticks": "",
           "title": {
            "standoff": 15
           },
           "zerolinecolor": "white",
           "zerolinewidth": 2
          }
         }
        },
        "title": {
         "text": "Bayesian Optimization History on Hartmann6 with UCB Acquisition"
        },
        "xaxis": {
         "title": {
          "text": "Iteration"
         }
        },
        "yaxis": {
         "title": {
          "text": "Best Function Value"
         }
        }
       }
      }
     },
     "metadata": {},
     "output_type": "display_data"
    }
   ],
   "source": [
    "target = os.path.join(LOG_DIR, 'E2')\n",
    "models = ['GP', 'TP', 'AGT']\n",
    "objective = 'Hartmann6'\n",
    "acquisition = 'UCB'\n",
    "keywards = [objective, acquisition]\n",
    "\n",
    "result_df_dict = create_result_df_dict(target, models, keywards)\n",
    "\n",
    "color_dict = {\n",
    "    'GP': px.colors.qualitative.Plotly[0],\n",
    "    'TP': px.colors.qualitative.Plotly[1],\n",
    "    'AGT': px.colors.qualitative.Plotly[2],\n",
    "}\n",
    "\n",
    "fig = go.Figure()\n",
    "\n",
    "for model_name, result_df in result_df_dict.items():\n",
    "    add_history_plot_with_error_bars(fig, model_name, result_df)\n",
    "\n",
    "# Customize the layout\n",
    "fig.update_layout(\n",
    "    title=f\"Bayesian Optimization History on {objective} with {acquisition} Acquisition\",\n",
    "    xaxis_title=\"Iteration\",\n",
    "    yaxis_title=\"Best Function Value\",\n",
    ")\n",
    "\n",
    "fig.show()"
   ]
  },
  {
   "cell_type": "markdown",
   "metadata": {},
   "source": [
    "# POI"
   ]
  },
  {
   "cell_type": "code",
   "execution_count": 66,
   "metadata": {},
   "outputs": [
    {
     "name": "stdout",
     "output_type": "stream",
     "text": [
      "Failed to parse settings: invalid syntax (<unknown>, line 1)\n",
      "Failed to parse settings: invalid syntax (<unknown>, line 1)\n",
      "Failed to parse settings: invalid syntax (<unknown>, line 1)\n",
      "Failed to parse settings: invalid syntax (<unknown>, line 1)\n",
      "Failed to parse settings: invalid syntax (<unknown>, line 1)\n",
      "Minimum number of rows: 47\n",
      "Maximum number of rows: 56\n",
      "Failed to parse settings: invalid syntax (<unknown>, line 1)\n",
      "Failed to parse settings: invalid syntax (<unknown>, line 1)\n",
      "Failed to parse settings: invalid syntax (<unknown>, line 1)\n",
      "Failed to parse settings: invalid syntax (<unknown>, line 1)\n",
      "Failed to parse settings: invalid syntax (<unknown>, line 1)\n",
      "Minimum number of rows: 45\n",
      "Maximum number of rows: 50\n",
      "Failed to parse settings: invalid syntax (<unknown>, line 1)\n",
      "Failed to parse settings: invalid syntax (<unknown>, line 1)\n",
      "Failed to parse settings: invalid syntax (<unknown>, line 1)\n",
      "Failed to parse settings: invalid syntax (<unknown>, line 1)\n",
      "Failed to parse settings: invalid syntax (<unknown>, line 1)\n",
      "Failed to parse settings: invalid syntax (<unknown>, line 1)\n",
      "Failed to parse settings: invalid syntax (<unknown>, line 1)\n",
      "Minimum number of rows: 46\n",
      "Maximum number of rows: 59\n"
     ]
    },
    {
     "data": {
      "application/vnd.plotly.v1+json": {
       "config": {
        "plotlyServerURL": "https://plot.ly"
       },
       "data": [
        {
         "line": {
          "color": "#636EFA"
         },
         "mode": "lines+markers",
         "name": "GP (Mean)",
         "type": "scatter",
         "x": [
          0,
          1,
          2,
          3,
          4,
          5,
          6,
          7,
          8,
          9,
          10,
          11,
          12,
          13,
          14,
          15,
          16,
          17,
          18,
          19,
          20,
          21,
          22,
          23,
          24,
          25,
          26,
          27,
          28,
          29,
          30,
          31,
          32,
          33,
          34,
          35,
          36,
          37,
          38,
          39,
          40,
          41,
          42,
          43
         ],
         "y": [
          -30.629781215999998,
          -32.891576449999995,
          -32.891576449999995,
          -32.891576449999995,
          -35.600204237999996,
          -36.375401644,
          -37.425592844,
          -38.581844423999996,
          -38.94348462399999,
          -39.306616424,
          -39.451451024,
          -39.53529468,
          -41.8534018,
          -41.8570524,
          -41.8570524,
          -41.8570524,
          -41.8572394,
          -41.8572394,
          -41.8572394,
          -41.8572394,
          -41.8572394,
          -41.8572394,
          -41.8572394,
          -41.8572394,
          -41.8572394,
          -41.8572394,
          -41.8572394,
          -41.8572394,
          -41.8572394,
          -41.8572394,
          -41.8572394,
          -41.8572394,
          -41.8572394,
          -41.8572394,
          -41.8572394,
          -41.8572394,
          -41.8572394,
          -41.8572394,
          -41.8572394,
          -41.8572394,
          -41.8572394,
          -41.8572394,
          -41.8572394,
          -41.8572394
         ]
        },
        {
         "error_y": {
          "array": [
           22.26962747738496,
           20.391718529680443,
           20.391718529680443,
           20.391718529680443,
           20.626798904890936,
           21.057947437390578,
           21.808437395306925,
           21.88329183462138,
           21.724935630660667,
           21.70106752371294,
           21.688771399326303,
           21.7606466967569,
           17.626549173405902,
           17.629826771825375,
           17.629826771825375,
           17.629826771825375,
           17.629994750379076,
           17.629994750379076,
           17.629994750379076,
           17.629994750379076,
           17.629994750379076,
           17.629994750379076,
           17.629994750379076,
           17.629994750379076,
           17.629994750379076,
           17.629994750379076,
           17.629994750379076,
           17.629994750379076,
           17.629994750379076,
           17.629994750379076,
           17.629994750379076,
           17.629994750379076,
           17.629994750379076,
           17.629994750379076,
           17.629994750379076,
           17.629994750379076,
           17.629994750379076,
           17.629994750379076,
           17.629994750379076,
           17.629994750379076,
           17.629994750379076,
           17.629994750379076,
           17.629994750379076,
           17.629994750379076
          ],
          "type": "data",
          "visible": true
         },
         "line": {
          "color": "#636EFA"
         },
         "mode": "lines+markers",
         "name": "GP (Error Bars)",
         "opacity": 0.3,
         "showlegend": false,
         "type": "scatter",
         "x": [
          0,
          1,
          2,
          3,
          4,
          5,
          6,
          7,
          8,
          9,
          10,
          11,
          12,
          13,
          14,
          15,
          16,
          17,
          18,
          19,
          20,
          21,
          22,
          23,
          24,
          25,
          26,
          27,
          28,
          29,
          30,
          31,
          32,
          33,
          34,
          35,
          36,
          37,
          38,
          39,
          40,
          41,
          42,
          43
         ],
         "y": [
          -30.629781215999998,
          -32.891576449999995,
          -32.891576449999995,
          -32.891576449999995,
          -35.600204237999996,
          -36.375401644,
          -37.425592844,
          -38.581844423999996,
          -38.94348462399999,
          -39.306616424,
          -39.451451024,
          -39.53529468,
          -41.8534018,
          -41.8570524,
          -41.8570524,
          -41.8570524,
          -41.8572394,
          -41.8572394,
          -41.8572394,
          -41.8572394,
          -41.8572394,
          -41.8572394,
          -41.8572394,
          -41.8572394,
          -41.8572394,
          -41.8572394,
          -41.8572394,
          -41.8572394,
          -41.8572394,
          -41.8572394,
          -41.8572394,
          -41.8572394,
          -41.8572394,
          -41.8572394,
          -41.8572394,
          -41.8572394,
          -41.8572394,
          -41.8572394,
          -41.8572394,
          -41.8572394,
          -41.8572394,
          -41.8572394,
          -41.8572394,
          -41.8572394
         ]
        },
        {
         "line": {
          "color": "#EF553B"
         },
         "mode": "lines+markers",
         "name": "TP (Mean)",
         "type": "scatter",
         "x": [
          0,
          1,
          2,
          3,
          4,
          5,
          6,
          7,
          8,
          9,
          10,
          11,
          12,
          13,
          14,
          15,
          16,
          17,
          18,
          19,
          20,
          21,
          22,
          23,
          24,
          25,
          26,
          27,
          28,
          29,
          30,
          31,
          32,
          33,
          34,
          35,
          36,
          37,
          38,
          39,
          40,
          41
         ],
         "y": [
          -22.684135386,
          -22.684135386,
          -22.684135386,
          -26.494604978,
          -26.494604978,
          -27.530921288000002,
          -30.133164948,
          -34.6242098,
          -36.9330178,
          -37.501942400000004,
          -37.9323008,
          -38.060119199999995,
          -41.63812,
          -42.423616200000005,
          -42.4526094,
          -45.7314226,
          -45.7314226,
          -45.7314226,
          -45.7314226,
          -45.7314226,
          -45.7314226,
          -45.7314226,
          -45.7314226,
          -45.7314226,
          -45.7314226,
          -45.7314226,
          -45.7314226,
          -45.7314226,
          -45.7314226,
          -45.7314226,
          -45.7314226,
          -45.7314226,
          -45.7314226,
          -45.7314226,
          -45.7314226,
          -45.7314226,
          -45.7314226,
          -45.7314226,
          -45.7314226,
          -45.7314226,
          -45.7314226,
          -45.7314226
         ]
        },
        {
         "error_y": {
          "array": [
           18.930049490211278,
           20.628543181013647,
           20.628543181013647,
           18.53560665051745,
           18.53560665051745,
           17.446189688521095,
           14.137094635356894,
           15.862413388477341,
           15.94603104754019,
           15.410302899840653,
           15.015863153971791,
           14.899187269746015,
           13.688238986646837,
           14.044658147312013,
           14.061065627599293,
           11.282158196305144,
           11.282158196305144,
           11.282158196305144,
           11.282158196305144,
           11.282158196305144,
           11.282158196305144,
           11.282158196305144,
           11.282158196305144,
           11.282158196305144,
           11.282158196305144,
           11.282158196305144,
           11.282158196305144,
           11.282158196305144,
           11.282158196305144,
           11.282158196305144,
           11.282158196305144,
           11.282158196305144,
           11.282158196305144,
           11.282158196305144,
           11.282158196305144,
           11.282158196305144,
           11.282158196305144,
           11.282158196305144,
           11.282158196305144,
           11.282158196305144,
           11.282158196305144,
           11.282158196305144
          ],
          "type": "data",
          "visible": true
         },
         "line": {
          "color": "#EF553B"
         },
         "mode": "lines+markers",
         "name": "TP (Error Bars)",
         "opacity": 0.3,
         "showlegend": false,
         "type": "scatter",
         "x": [
          0,
          1,
          2,
          3,
          4,
          5,
          6,
          7,
          8,
          9,
          10,
          11,
          12,
          13,
          14,
          15,
          16,
          17,
          18,
          19,
          20,
          21,
          22,
          23,
          24,
          25,
          26,
          27,
          28,
          29,
          30,
          31,
          32,
          33,
          34,
          35,
          36,
          37,
          38,
          39,
          40,
          41
         ],
         "y": [
          -22.684135386,
          -22.684135386,
          -22.684135386,
          -26.494604978,
          -26.494604978,
          -27.530921288000002,
          -30.133164948,
          -34.6242098,
          -36.9330178,
          -37.501942400000004,
          -37.9323008,
          -38.060119199999995,
          -41.63812,
          -42.423616200000005,
          -42.4526094,
          -45.7314226,
          -45.7314226,
          -45.7314226,
          -45.7314226,
          -45.7314226,
          -45.7314226,
          -45.7314226,
          -45.7314226,
          -45.7314226,
          -45.7314226,
          -45.7314226,
          -45.7314226,
          -45.7314226,
          -45.7314226,
          -45.7314226,
          -45.7314226,
          -45.7314226,
          -45.7314226,
          -45.7314226,
          -45.7314226,
          -45.7314226,
          -45.7314226,
          -45.7314226,
          -45.7314226,
          -45.7314226,
          -45.7314226,
          -45.7314226
         ]
        },
        {
         "line": {
          "color": "#00CC96"
         },
         "mode": "lines+markers",
         "name": "AGT (Mean)",
         "type": "scatter",
         "x": [
          0,
          1,
          2,
          3,
          4,
          5,
          6,
          7,
          8,
          9,
          10,
          11,
          12,
          13,
          14,
          15,
          16,
          17,
          18,
          19,
          20,
          21,
          22,
          23,
          24,
          25,
          26,
          27,
          28,
          29,
          30,
          31,
          32,
          33,
          34,
          35,
          36,
          37,
          38,
          39,
          40,
          41,
          42
         ],
         "y": [
          -38.098361267142856,
          -38.098361267142856,
          -38.098361267142856,
          -38.098361267142856,
          -38.098361267142856,
          -38.23772701428572,
          -38.23772701428572,
          -39.51076281857143,
          -40.133240632857145,
          -42.35342161571428,
          -43.37195114428572,
          -47.725591287142855,
          -51.047591749999995,
          -51.55180503571428,
          -51.88121889285714,
          -51.99401246428572,
          -51.99401246428572,
          -51.99401246428572,
          -51.99401246428572,
          -51.99401246428572,
          -51.99401246428572,
          -51.99401246428572,
          -51.99401246428572,
          -51.99401246428572,
          -51.99401246428572,
          -51.99401246428572,
          -51.99401246428572,
          -51.99401246428572,
          -51.99401246428572,
          -51.99401246428572,
          -51.99401246428572,
          -51.99401246428572,
          -51.99401246428572,
          -51.99401246428572,
          -51.99401246428572,
          -51.99401246428572,
          -51.99401246428572,
          -51.99401246428572,
          -51.99401246428572,
          -51.99401246428572,
          -51.99401246428572,
          -51.99401246428572,
          -51.99401246428572
         ]
        },
        {
         "error_y": {
          "array": [
           23.568242224711543,
           24.997895846610987,
           24.997895846610987,
           24.997895846610987,
           24.997895846610987,
           25.099447845305246,
           25.099447845305246,
           22.379573376845972,
           20.86705373977855,
           18.720235569291592,
           16.87935673458874,
           9.41329657412977,
           4.179410994062164,
           4.22785989442082,
           4.312260902481435,
           4.366523779151177,
           4.366523779151177,
           4.366523779151177,
           4.366523779151177,
           4.366523779151177,
           4.366523779151177,
           4.366523779151177,
           4.366523779151177,
           4.366523779151177,
           4.366523779151177,
           4.366523779151177,
           4.366523779151177,
           4.366523779151177,
           4.366523779151177,
           4.366523779151177,
           4.366523779151177,
           4.366523779151177,
           4.366523779151177,
           4.366523779151177,
           4.366523779151177,
           4.366523779151177,
           4.366523779151177,
           4.366523779151177,
           4.366523779151177,
           4.366523779151177,
           4.366523779151177,
           4.366523779151177,
           4.366523779151177
          ],
          "type": "data",
          "visible": true
         },
         "line": {
          "color": "#00CC96"
         },
         "mode": "lines+markers",
         "name": "AGT (Error Bars)",
         "opacity": 0.3,
         "showlegend": false,
         "type": "scatter",
         "x": [
          0,
          1,
          2,
          3,
          4,
          5,
          6,
          7,
          8,
          9,
          10,
          11,
          12,
          13,
          14,
          15,
          16,
          17,
          18,
          19,
          20,
          21,
          22,
          23,
          24,
          25,
          26,
          27,
          28,
          29,
          30,
          31,
          32,
          33,
          34,
          35,
          36,
          37,
          38,
          39,
          40,
          41,
          42
         ],
         "y": [
          -38.098361267142856,
          -38.098361267142856,
          -38.098361267142856,
          -38.098361267142856,
          -38.098361267142856,
          -38.23772701428572,
          -38.23772701428572,
          -39.51076281857143,
          -40.133240632857145,
          -42.35342161571428,
          -43.37195114428572,
          -47.725591287142855,
          -51.047591749999995,
          -51.55180503571428,
          -51.88121889285714,
          -51.99401246428572,
          -51.99401246428572,
          -51.99401246428572,
          -51.99401246428572,
          -51.99401246428572,
          -51.99401246428572,
          -51.99401246428572,
          -51.99401246428572,
          -51.99401246428572,
          -51.99401246428572,
          -51.99401246428572,
          -51.99401246428572,
          -51.99401246428572,
          -51.99401246428572,
          -51.99401246428572,
          -51.99401246428572,
          -51.99401246428572,
          -51.99401246428572,
          -51.99401246428572,
          -51.99401246428572,
          -51.99401246428572,
          -51.99401246428572,
          -51.99401246428572,
          -51.99401246428572,
          -51.99401246428572,
          -51.99401246428572,
          -51.99401246428572,
          -51.99401246428572
         ]
        }
       ],
       "layout": {
        "template": {
         "data": {
          "bar": [
           {
            "error_x": {
             "color": "#2a3f5f"
            },
            "error_y": {
             "color": "#2a3f5f"
            },
            "marker": {
             "line": {
              "color": "#E5ECF6",
              "width": 0.5
             },
             "pattern": {
              "fillmode": "overlay",
              "size": 10,
              "solidity": 0.2
             }
            },
            "type": "bar"
           }
          ],
          "barpolar": [
           {
            "marker": {
             "line": {
              "color": "#E5ECF6",
              "width": 0.5
             },
             "pattern": {
              "fillmode": "overlay",
              "size": 10,
              "solidity": 0.2
             }
            },
            "type": "barpolar"
           }
          ],
          "carpet": [
           {
            "aaxis": {
             "endlinecolor": "#2a3f5f",
             "gridcolor": "white",
             "linecolor": "white",
             "minorgridcolor": "white",
             "startlinecolor": "#2a3f5f"
            },
            "baxis": {
             "endlinecolor": "#2a3f5f",
             "gridcolor": "white",
             "linecolor": "white",
             "minorgridcolor": "white",
             "startlinecolor": "#2a3f5f"
            },
            "type": "carpet"
           }
          ],
          "choropleth": [
           {
            "colorbar": {
             "outlinewidth": 0,
             "ticks": ""
            },
            "type": "choropleth"
           }
          ],
          "contour": [
           {
            "colorbar": {
             "outlinewidth": 0,
             "ticks": ""
            },
            "colorscale": [
             [
              0,
              "#0d0887"
             ],
             [
              0.1111111111111111,
              "#46039f"
             ],
             [
              0.2222222222222222,
              "#7201a8"
             ],
             [
              0.3333333333333333,
              "#9c179e"
             ],
             [
              0.4444444444444444,
              "#bd3786"
             ],
             [
              0.5555555555555556,
              "#d8576b"
             ],
             [
              0.6666666666666666,
              "#ed7953"
             ],
             [
              0.7777777777777778,
              "#fb9f3a"
             ],
             [
              0.8888888888888888,
              "#fdca26"
             ],
             [
              1,
              "#f0f921"
             ]
            ],
            "type": "contour"
           }
          ],
          "contourcarpet": [
           {
            "colorbar": {
             "outlinewidth": 0,
             "ticks": ""
            },
            "type": "contourcarpet"
           }
          ],
          "heatmap": [
           {
            "colorbar": {
             "outlinewidth": 0,
             "ticks": ""
            },
            "colorscale": [
             [
              0,
              "#0d0887"
             ],
             [
              0.1111111111111111,
              "#46039f"
             ],
             [
              0.2222222222222222,
              "#7201a8"
             ],
             [
              0.3333333333333333,
              "#9c179e"
             ],
             [
              0.4444444444444444,
              "#bd3786"
             ],
             [
              0.5555555555555556,
              "#d8576b"
             ],
             [
              0.6666666666666666,
              "#ed7953"
             ],
             [
              0.7777777777777778,
              "#fb9f3a"
             ],
             [
              0.8888888888888888,
              "#fdca26"
             ],
             [
              1,
              "#f0f921"
             ]
            ],
            "type": "heatmap"
           }
          ],
          "heatmapgl": [
           {
            "colorbar": {
             "outlinewidth": 0,
             "ticks": ""
            },
            "colorscale": [
             [
              0,
              "#0d0887"
             ],
             [
              0.1111111111111111,
              "#46039f"
             ],
             [
              0.2222222222222222,
              "#7201a8"
             ],
             [
              0.3333333333333333,
              "#9c179e"
             ],
             [
              0.4444444444444444,
              "#bd3786"
             ],
             [
              0.5555555555555556,
              "#d8576b"
             ],
             [
              0.6666666666666666,
              "#ed7953"
             ],
             [
              0.7777777777777778,
              "#fb9f3a"
             ],
             [
              0.8888888888888888,
              "#fdca26"
             ],
             [
              1,
              "#f0f921"
             ]
            ],
            "type": "heatmapgl"
           }
          ],
          "histogram": [
           {
            "marker": {
             "pattern": {
              "fillmode": "overlay",
              "size": 10,
              "solidity": 0.2
             }
            },
            "type": "histogram"
           }
          ],
          "histogram2d": [
           {
            "colorbar": {
             "outlinewidth": 0,
             "ticks": ""
            },
            "colorscale": [
             [
              0,
              "#0d0887"
             ],
             [
              0.1111111111111111,
              "#46039f"
             ],
             [
              0.2222222222222222,
              "#7201a8"
             ],
             [
              0.3333333333333333,
              "#9c179e"
             ],
             [
              0.4444444444444444,
              "#bd3786"
             ],
             [
              0.5555555555555556,
              "#d8576b"
             ],
             [
              0.6666666666666666,
              "#ed7953"
             ],
             [
              0.7777777777777778,
              "#fb9f3a"
             ],
             [
              0.8888888888888888,
              "#fdca26"
             ],
             [
              1,
              "#f0f921"
             ]
            ],
            "type": "histogram2d"
           }
          ],
          "histogram2dcontour": [
           {
            "colorbar": {
             "outlinewidth": 0,
             "ticks": ""
            },
            "colorscale": [
             [
              0,
              "#0d0887"
             ],
             [
              0.1111111111111111,
              "#46039f"
             ],
             [
              0.2222222222222222,
              "#7201a8"
             ],
             [
              0.3333333333333333,
              "#9c179e"
             ],
             [
              0.4444444444444444,
              "#bd3786"
             ],
             [
              0.5555555555555556,
              "#d8576b"
             ],
             [
              0.6666666666666666,
              "#ed7953"
             ],
             [
              0.7777777777777778,
              "#fb9f3a"
             ],
             [
              0.8888888888888888,
              "#fdca26"
             ],
             [
              1,
              "#f0f921"
             ]
            ],
            "type": "histogram2dcontour"
           }
          ],
          "mesh3d": [
           {
            "colorbar": {
             "outlinewidth": 0,
             "ticks": ""
            },
            "type": "mesh3d"
           }
          ],
          "parcoords": [
           {
            "line": {
             "colorbar": {
              "outlinewidth": 0,
              "ticks": ""
             }
            },
            "type": "parcoords"
           }
          ],
          "pie": [
           {
            "automargin": true,
            "type": "pie"
           }
          ],
          "scatter": [
           {
            "fillpattern": {
             "fillmode": "overlay",
             "size": 10,
             "solidity": 0.2
            },
            "type": "scatter"
           }
          ],
          "scatter3d": [
           {
            "line": {
             "colorbar": {
              "outlinewidth": 0,
              "ticks": ""
             }
            },
            "marker": {
             "colorbar": {
              "outlinewidth": 0,
              "ticks": ""
             }
            },
            "type": "scatter3d"
           }
          ],
          "scattercarpet": [
           {
            "marker": {
             "colorbar": {
              "outlinewidth": 0,
              "ticks": ""
             }
            },
            "type": "scattercarpet"
           }
          ],
          "scattergeo": [
           {
            "marker": {
             "colorbar": {
              "outlinewidth": 0,
              "ticks": ""
             }
            },
            "type": "scattergeo"
           }
          ],
          "scattergl": [
           {
            "marker": {
             "colorbar": {
              "outlinewidth": 0,
              "ticks": ""
             }
            },
            "type": "scattergl"
           }
          ],
          "scattermapbox": [
           {
            "marker": {
             "colorbar": {
              "outlinewidth": 0,
              "ticks": ""
             }
            },
            "type": "scattermapbox"
           }
          ],
          "scatterpolar": [
           {
            "marker": {
             "colorbar": {
              "outlinewidth": 0,
              "ticks": ""
             }
            },
            "type": "scatterpolar"
           }
          ],
          "scatterpolargl": [
           {
            "marker": {
             "colorbar": {
              "outlinewidth": 0,
              "ticks": ""
             }
            },
            "type": "scatterpolargl"
           }
          ],
          "scatterternary": [
           {
            "marker": {
             "colorbar": {
              "outlinewidth": 0,
              "ticks": ""
             }
            },
            "type": "scatterternary"
           }
          ],
          "surface": [
           {
            "colorbar": {
             "outlinewidth": 0,
             "ticks": ""
            },
            "colorscale": [
             [
              0,
              "#0d0887"
             ],
             [
              0.1111111111111111,
              "#46039f"
             ],
             [
              0.2222222222222222,
              "#7201a8"
             ],
             [
              0.3333333333333333,
              "#9c179e"
             ],
             [
              0.4444444444444444,
              "#bd3786"
             ],
             [
              0.5555555555555556,
              "#d8576b"
             ],
             [
              0.6666666666666666,
              "#ed7953"
             ],
             [
              0.7777777777777778,
              "#fb9f3a"
             ],
             [
              0.8888888888888888,
              "#fdca26"
             ],
             [
              1,
              "#f0f921"
             ]
            ],
            "type": "surface"
           }
          ],
          "table": [
           {
            "cells": {
             "fill": {
              "color": "#EBF0F8"
             },
             "line": {
              "color": "white"
             }
            },
            "header": {
             "fill": {
              "color": "#C8D4E3"
             },
             "line": {
              "color": "white"
             }
            },
            "type": "table"
           }
          ]
         },
         "layout": {
          "annotationdefaults": {
           "arrowcolor": "#2a3f5f",
           "arrowhead": 0,
           "arrowwidth": 1
          },
          "autotypenumbers": "strict",
          "coloraxis": {
           "colorbar": {
            "outlinewidth": 0,
            "ticks": ""
           }
          },
          "colorscale": {
           "diverging": [
            [
             0,
             "#8e0152"
            ],
            [
             0.1,
             "#c51b7d"
            ],
            [
             0.2,
             "#de77ae"
            ],
            [
             0.3,
             "#f1b6da"
            ],
            [
             0.4,
             "#fde0ef"
            ],
            [
             0.5,
             "#f7f7f7"
            ],
            [
             0.6,
             "#e6f5d0"
            ],
            [
             0.7,
             "#b8e186"
            ],
            [
             0.8,
             "#7fbc41"
            ],
            [
             0.9,
             "#4d9221"
            ],
            [
             1,
             "#276419"
            ]
           ],
           "sequential": [
            [
             0,
             "#0d0887"
            ],
            [
             0.1111111111111111,
             "#46039f"
            ],
            [
             0.2222222222222222,
             "#7201a8"
            ],
            [
             0.3333333333333333,
             "#9c179e"
            ],
            [
             0.4444444444444444,
             "#bd3786"
            ],
            [
             0.5555555555555556,
             "#d8576b"
            ],
            [
             0.6666666666666666,
             "#ed7953"
            ],
            [
             0.7777777777777778,
             "#fb9f3a"
            ],
            [
             0.8888888888888888,
             "#fdca26"
            ],
            [
             1,
             "#f0f921"
            ]
           ],
           "sequentialminus": [
            [
             0,
             "#0d0887"
            ],
            [
             0.1111111111111111,
             "#46039f"
            ],
            [
             0.2222222222222222,
             "#7201a8"
            ],
            [
             0.3333333333333333,
             "#9c179e"
            ],
            [
             0.4444444444444444,
             "#bd3786"
            ],
            [
             0.5555555555555556,
             "#d8576b"
            ],
            [
             0.6666666666666666,
             "#ed7953"
            ],
            [
             0.7777777777777778,
             "#fb9f3a"
            ],
            [
             0.8888888888888888,
             "#fdca26"
            ],
            [
             1,
             "#f0f921"
            ]
           ]
          },
          "colorway": [
           "#636efa",
           "#EF553B",
           "#00cc96",
           "#ab63fa",
           "#FFA15A",
           "#19d3f3",
           "#FF6692",
           "#B6E880",
           "#FF97FF",
           "#FECB52"
          ],
          "font": {
           "color": "#2a3f5f"
          },
          "geo": {
           "bgcolor": "white",
           "lakecolor": "white",
           "landcolor": "#E5ECF6",
           "showlakes": true,
           "showland": true,
           "subunitcolor": "white"
          },
          "hoverlabel": {
           "align": "left"
          },
          "hovermode": "closest",
          "mapbox": {
           "style": "light"
          },
          "paper_bgcolor": "white",
          "plot_bgcolor": "#E5ECF6",
          "polar": {
           "angularaxis": {
            "gridcolor": "white",
            "linecolor": "white",
            "ticks": ""
           },
           "bgcolor": "#E5ECF6",
           "radialaxis": {
            "gridcolor": "white",
            "linecolor": "white",
            "ticks": ""
           }
          },
          "scene": {
           "xaxis": {
            "backgroundcolor": "#E5ECF6",
            "gridcolor": "white",
            "gridwidth": 2,
            "linecolor": "white",
            "showbackground": true,
            "ticks": "",
            "zerolinecolor": "white"
           },
           "yaxis": {
            "backgroundcolor": "#E5ECF6",
            "gridcolor": "white",
            "gridwidth": 2,
            "linecolor": "white",
            "showbackground": true,
            "ticks": "",
            "zerolinecolor": "white"
           },
           "zaxis": {
            "backgroundcolor": "#E5ECF6",
            "gridcolor": "white",
            "gridwidth": 2,
            "linecolor": "white",
            "showbackground": true,
            "ticks": "",
            "zerolinecolor": "white"
           }
          },
          "shapedefaults": {
           "line": {
            "color": "#2a3f5f"
           }
          },
          "ternary": {
           "aaxis": {
            "gridcolor": "white",
            "linecolor": "white",
            "ticks": ""
           },
           "baxis": {
            "gridcolor": "white",
            "linecolor": "white",
            "ticks": ""
           },
           "bgcolor": "#E5ECF6",
           "caxis": {
            "gridcolor": "white",
            "linecolor": "white",
            "ticks": ""
           }
          },
          "title": {
           "x": 0.05
          },
          "xaxis": {
           "automargin": true,
           "gridcolor": "white",
           "linecolor": "white",
           "ticks": "",
           "title": {
            "standoff": 15
           },
           "zerolinecolor": "white",
           "zerolinewidth": 2
          },
          "yaxis": {
           "automargin": true,
           "gridcolor": "white",
           "linecolor": "white",
           "ticks": "",
           "title": {
            "standoff": 15
           },
           "zerolinecolor": "white",
           "zerolinewidth": 2
          }
         }
        },
        "title": {
         "text": "Bayesian Optimization History on SinusoidalSynthetic with POI Acquisition"
        },
        "xaxis": {
         "title": {
          "text": "Iteration"
         }
        },
        "yaxis": {
         "title": {
          "text": "Best Function Value"
         }
        }
       }
      }
     },
     "metadata": {},
     "output_type": "display_data"
    }
   ],
   "source": [
    "target = os.path.join(LOG_DIR, 'E2')\n",
    "models = ['GP', 'TP', 'AGT']\n",
    "objective = 'SinusoidalSynthetic'\n",
    "acquisition = 'POI'\n",
    "keywards = [objective, acquisition]\n",
    "\n",
    "result_df_dict = create_result_df_dict(target, models, keywards)\n",
    "\n",
    "color_dict = {\n",
    "    'GP': px.colors.qualitative.Plotly[0],\n",
    "    'TP': px.colors.qualitative.Plotly[1],\n",
    "    'AGT': px.colors.qualitative.Plotly[2],\n",
    "}\n",
    "\n",
    "fig = go.Figure()\n",
    "\n",
    "for model_name, result_df in result_df_dict.items():\n",
    "    add_history_plot_with_error_bars(fig, model_name, result_df)\n",
    "\n",
    "# Customize the layout\n",
    "fig.update_layout(\n",
    "    title=f\"Bayesian Optimization History on {objective} with {acquisition} Acquisition\",\n",
    "    xaxis_title=\"Iteration\",\n",
    "    yaxis_title=\"Best Function Value\",\n",
    ")\n",
    "\n",
    "fig.show()"
   ]
  },
  {
   "cell_type": "code",
   "execution_count": 67,
   "metadata": {},
   "outputs": [
    {
     "name": "stdout",
     "output_type": "stream",
     "text": [
      "Failed to parse settings: invalid syntax (<unknown>, line 1)\n",
      "Failed to parse settings: invalid syntax (<unknown>, line 1)\n",
      "Failed to parse settings: invalid syntax (<unknown>, line 1)\n",
      "Failed to parse settings: invalid syntax (<unknown>, line 1)\n",
      "Failed to parse settings: invalid syntax (<unknown>, line 1)\n",
      "Minimum number of rows: 63\n",
      "Maximum number of rows: 67\n",
      "Failed to parse settings: invalid syntax (<unknown>, line 1)\n",
      "Failed to parse settings: invalid syntax (<unknown>, line 1)\n",
      "Failed to parse settings: invalid syntax (<unknown>, line 1)\n",
      "Failed to parse settings: invalid syntax (<unknown>, line 1)\n",
      "Failed to parse settings: invalid syntax (<unknown>, line 1)\n",
      "Minimum number of rows: 53\n",
      "Maximum number of rows: 59\n",
      "Failed to parse settings: invalid syntax (<unknown>, line 1)\n",
      "Failed to parse settings: invalid syntax (<unknown>, line 1)\n",
      "Failed to parse settings: invalid syntax (<unknown>, line 1)\n",
      "Failed to parse settings: invalid syntax (<unknown>, line 1)\n",
      "Failed to parse settings: invalid syntax (<unknown>, line 1)\n",
      "Minimum number of rows: 54\n",
      "Maximum number of rows: 59\n"
     ]
    },
    {
     "data": {
      "application/vnd.plotly.v1+json": {
       "config": {
        "plotlyServerURL": "https://plot.ly"
       },
       "data": [
        {
         "line": {
          "color": "#636EFA"
         },
         "mode": "lines+markers",
         "name": "GP (Mean)",
         "type": "scatter",
         "x": [
          0,
          1,
          2,
          3,
          4,
          5,
          6,
          7,
          8,
          9,
          10,
          11,
          12,
          13,
          14,
          15,
          16,
          17,
          18,
          19,
          20,
          21,
          22,
          23,
          24,
          25,
          26,
          27,
          28,
          29,
          30,
          31,
          32,
          33,
          34,
          35,
          36,
          37,
          38,
          39,
          40,
          41,
          42,
          43,
          44,
          45,
          46,
          47,
          48,
          49,
          50,
          51,
          52,
          53,
          54,
          55,
          56,
          57,
          58,
          59
         ],
         "y": [
          6.5558630120000005,
          6.5558630120000005,
          5.39985074,
          4.475678266,
          4.403013126,
          4.193117406000001,
          3.803048786,
          3.448864066,
          1.7813831800000002,
          1.3634112,
          1.3634112,
          1.33499742,
          1.32191988,
          1.32191988,
          1.32191988,
          1.32191988,
          1.32191988,
          1.32191988,
          1.32191988,
          1.04093818,
          1.04093818,
          1.04093818,
          1.04093818,
          1.04093818,
          1.04093818,
          1.04093818,
          1.04093818,
          1.04093818,
          1.04093818,
          1.04093818,
          1.04093818,
          1.04093818,
          1.04093818,
          1.04093818,
          1.04093818,
          1.04093818,
          1.04093818,
          1.04093818,
          1.04093818,
          1.04093818,
          1.04093818,
          1.04093818,
          1.04093818,
          1.04093818,
          1.04093818,
          1.04093818,
          1.04093818,
          1.04093818,
          1.04093818,
          1.04093818,
          1.04093818,
          1.04093818,
          1.04093818,
          1.04093818,
          1.04093818,
          1.04093818,
          1.04093818,
          1.04093818,
          1.04093818,
          1.04093818
         ]
        },
        {
         "error_y": {
          "array": [
           2.360223803755799,
           2.571994261177676,
           3.445198297493009,
           3.0769366469721007,
           3.026394328180422,
           2.926526845817117,
           2.937664947177685,
           3.1634156293709745,
           1.5533999626617907,
           1.104167842808058,
           1.104167842808058,
           1.0961045117317474,
           1.0936144315781555,
           1.0936144315781555,
           1.0936144315781555,
           1.0936144315781555,
           1.0936144315781555,
           1.0936144315781555,
           1.0936144315781555,
           0.5491756563360005,
           0.5491756563360005,
           0.5491756563360005,
           0.5491756563360005,
           0.5491756563360005,
           0.5491756563360005,
           0.5491756563360005,
           0.5491756563360005,
           0.5491756563360005,
           0.5491756563360005,
           0.5491756563360005,
           0.5491756563360005,
           0.5491756563360005,
           0.5491756563360005,
           0.5491756563360005,
           0.5491756563360005,
           0.5491756563360005,
           0.5491756563360005,
           0.5491756563360005,
           0.5491756563360005,
           0.5491756563360005,
           0.5491756563360005,
           0.5491756563360005,
           0.5491756563360005,
           0.5491756563360005,
           0.5491756563360005,
           0.5491756563360005,
           0.5491756563360005,
           0.5491756563360005,
           0.5491756563360005,
           0.5491756563360005,
           0.5491756563360005,
           0.5491756563360005,
           0.5491756563360005,
           0.5491756563360005,
           0.5491756563360005,
           0.5491756563360005,
           0.5491756563360005,
           0.5491756563360005,
           0.5491756563360005,
           0.5491756563360005
          ],
          "type": "data",
          "visible": true
         },
         "line": {
          "color": "#636EFA"
         },
         "mode": "lines+markers",
         "name": "GP (Error Bars)",
         "opacity": 0.3,
         "showlegend": false,
         "type": "scatter",
         "x": [
          0,
          1,
          2,
          3,
          4,
          5,
          6,
          7,
          8,
          9,
          10,
          11,
          12,
          13,
          14,
          15,
          16,
          17,
          18,
          19,
          20,
          21,
          22,
          23,
          24,
          25,
          26,
          27,
          28,
          29,
          30,
          31,
          32,
          33,
          34,
          35,
          36,
          37,
          38,
          39,
          40,
          41,
          42,
          43,
          44,
          45,
          46,
          47,
          48,
          49,
          50,
          51,
          52,
          53,
          54,
          55,
          56,
          57,
          58,
          59
         ],
         "y": [
          6.5558630120000005,
          6.5558630120000005,
          5.39985074,
          4.475678266,
          4.403013126,
          4.193117406000001,
          3.803048786,
          3.448864066,
          1.7813831800000002,
          1.3634112,
          1.3634112,
          1.33499742,
          1.32191988,
          1.32191988,
          1.32191988,
          1.32191988,
          1.32191988,
          1.32191988,
          1.32191988,
          1.04093818,
          1.04093818,
          1.04093818,
          1.04093818,
          1.04093818,
          1.04093818,
          1.04093818,
          1.04093818,
          1.04093818,
          1.04093818,
          1.04093818,
          1.04093818,
          1.04093818,
          1.04093818,
          1.04093818,
          1.04093818,
          1.04093818,
          1.04093818,
          1.04093818,
          1.04093818,
          1.04093818,
          1.04093818,
          1.04093818,
          1.04093818,
          1.04093818,
          1.04093818,
          1.04093818,
          1.04093818,
          1.04093818,
          1.04093818,
          1.04093818,
          1.04093818,
          1.04093818,
          1.04093818,
          1.04093818,
          1.04093818,
          1.04093818,
          1.04093818,
          1.04093818,
          1.04093818,
          1.04093818
         ]
        },
        {
         "line": {
          "color": "#EF553B"
         },
         "mode": "lines+markers",
         "name": "TP (Mean)",
         "type": "scatter",
         "x": [
          0,
          1,
          2,
          3,
          4,
          5,
          6,
          7,
          8,
          9,
          10,
          11,
          12,
          13,
          14,
          15,
          16,
          17,
          18,
          19,
          20,
          21,
          22,
          23,
          24,
          25,
          26,
          27,
          28,
          29,
          30,
          31,
          32,
          33,
          34,
          35,
          36,
          37,
          38,
          39,
          40,
          41,
          42,
          43,
          44,
          45,
          46,
          47,
          48,
          49
         ],
         "y": [
          12.756255332,
          12.756255332,
          12.756255332,
          12.756255332,
          12.756255332,
          12.756255332,
          12.369684766,
          12.107421366,
          9.155353074,
          9.151251784,
          7.661796323999999,
          7.661796323999999,
          7.661796323999999,
          5.84073847,
          4.067363070000001,
          3.1863561099999997,
          2.9679932100000004,
          1.93519743,
          1.078875044,
          0.9830653039999999,
          0.9300883040000001,
          0.8837542239999999,
          0.8837542239999999,
          0.8837542239999999,
          0.8837542239999999,
          0.8837542239999999,
          0.8634728239999999,
          0.8634728239999999,
          0.8634728239999999,
          0.8634728239999999,
          0.8634728239999999,
          0.8634728239999999,
          0.8634728239999999,
          0.8634728239999999,
          0.8634728239999999,
          0.8634728239999999,
          0.8634728239999999,
          0.8634728239999999,
          0.8634728239999999,
          0.8634728239999999,
          0.8634728239999999,
          0.8634728239999999,
          0.8634728239999999,
          0.8634728239999999,
          0.8634728239999999,
          0.8634728239999999,
          0.8634728239999999,
          0.8634728239999999,
          0.8634728239999999,
          0.8634728239999999
         ]
        },
        {
         "error_y": {
          "array": [
           8.983762410536718,
           9.789828120077226,
           9.789828120077226,
           9.789828120077226,
           9.789828120077226,
           9.789828120077226,
           10.159948875153706,
           10.444368918574186,
           8.18456469794075,
           8.178087410829642,
           8.267181048319792,
           8.267181048319792,
           8.267181048319792,
           7.800336726619551,
           4.645298026570761,
           3.624012059458998,
           3.672690425598916,
           1.7913855003589532,
           0.5750741440782092,
           0.5772628125652208,
           0.5732306787421878,
           0.47525642182674616,
           0.47525642182674616,
           0.47525642182674616,
           0.47525642182674616,
           0.47525642182674616,
           0.43319644986956685,
           0.43319644986956685,
           0.43319644986956685,
           0.43319644986956685,
           0.43319644986956685,
           0.43319644986956685,
           0.43319644986956685,
           0.43319644986956685,
           0.43319644986956685,
           0.43319644986956685,
           0.43319644986956685,
           0.43319644986956685,
           0.43319644986956685,
           0.43319644986956685,
           0.43319644986956685,
           0.43319644986956685,
           0.43319644986956685,
           0.43319644986956685,
           0.43319644986956685,
           0.43319644986956685,
           0.43319644986956685,
           0.43319644986956685,
           0.43319644986956685,
           0.43319644986956685
          ],
          "type": "data",
          "visible": true
         },
         "line": {
          "color": "#EF553B"
         },
         "mode": "lines+markers",
         "name": "TP (Error Bars)",
         "opacity": 0.3,
         "showlegend": false,
         "type": "scatter",
         "x": [
          0,
          1,
          2,
          3,
          4,
          5,
          6,
          7,
          8,
          9,
          10,
          11,
          12,
          13,
          14,
          15,
          16,
          17,
          18,
          19,
          20,
          21,
          22,
          23,
          24,
          25,
          26,
          27,
          28,
          29,
          30,
          31,
          32,
          33,
          34,
          35,
          36,
          37,
          38,
          39,
          40,
          41,
          42,
          43,
          44,
          45,
          46,
          47,
          48,
          49
         ],
         "y": [
          12.756255332,
          12.756255332,
          12.756255332,
          12.756255332,
          12.756255332,
          12.756255332,
          12.369684766,
          12.107421366,
          9.155353074,
          9.151251784,
          7.661796323999999,
          7.661796323999999,
          7.661796323999999,
          5.84073847,
          4.067363070000001,
          3.1863561099999997,
          2.9679932100000004,
          1.93519743,
          1.078875044,
          0.9830653039999999,
          0.9300883040000001,
          0.8837542239999999,
          0.8837542239999999,
          0.8837542239999999,
          0.8837542239999999,
          0.8837542239999999,
          0.8634728239999999,
          0.8634728239999999,
          0.8634728239999999,
          0.8634728239999999,
          0.8634728239999999,
          0.8634728239999999,
          0.8634728239999999,
          0.8634728239999999,
          0.8634728239999999,
          0.8634728239999999,
          0.8634728239999999,
          0.8634728239999999,
          0.8634728239999999,
          0.8634728239999999,
          0.8634728239999999,
          0.8634728239999999,
          0.8634728239999999,
          0.8634728239999999,
          0.8634728239999999,
          0.8634728239999999,
          0.8634728239999999,
          0.8634728239999999,
          0.8634728239999999,
          0.8634728239999999
         ]
        },
        {
         "line": {
          "color": "#00CC96"
         },
         "mode": "lines+markers",
         "name": "AGT (Mean)",
         "type": "scatter",
         "x": [
          0,
          1,
          2,
          3,
          4,
          5,
          6,
          7,
          8,
          9,
          10,
          11,
          12,
          13,
          14,
          15,
          16,
          17,
          18,
          19,
          20,
          21,
          22,
          23,
          24,
          25,
          26,
          27,
          28,
          29,
          30,
          31,
          32,
          33,
          34,
          35,
          36,
          37,
          38,
          39,
          40,
          41,
          42,
          43,
          44,
          45,
          46,
          47,
          48,
          49,
          50
         ],
         "y": [
          13.466735514000002,
          13.06615241,
          10.849617966,
          10.816750566,
          10.816750566,
          10.816750566,
          10.816750566,
          9.39510804,
          6.30173318,
          6.2535259199999995,
          4.17922578,
          4.00500858,
          3.9403303800000002,
          1.7711600520000002,
          1.763924592,
          1.620524398,
          1.620524398,
          1.620524398,
          1.620524398,
          1.524976178,
          1.524976178,
          1.524976178,
          1.524976178,
          1.392938158,
          1.392938158,
          1.392938158,
          1.392938158,
          1.392938158,
          1.392938158,
          1.392938158,
          1.392938158,
          1.392938158,
          1.392938158,
          1.392938158,
          1.392938158,
          1.392938158,
          1.392938158,
          1.392938158,
          1.392938158,
          1.392938158,
          1.392938158,
          1.392938158,
          1.392938158,
          1.392938158,
          1.392938158,
          1.392938158,
          1.392938158,
          1.392938158,
          1.392938158,
          1.392938158,
          1.392938158
         ]
        },
        {
         "error_y": {
          "array": [
           3.6425902442738,
           4.104766547423742,
           6.542577965178335,
           6.523739100613478,
           6.523739100613478,
           6.523739100613478,
           6.523739100613478,
           7.2145666669667845,
           3.955642546952754,
           3.9637981296157765,
           1.7240126651014926,
           1.463146086733342,
           1.381805674918576,
           0.9427225176414513,
           0.9324254441336365,
           1.0941690045642005,
           1.0941690045642005,
           1.0941690045642005,
           1.0941690045642005,
           0.9783025586761922,
           0.9783025586761922,
           0.9783025586761922,
           0.9783025586761922,
           0.8806195059602134,
           0.8806195059602134,
           0.8806195059602134,
           0.8806195059602134,
           0.8806195059602134,
           0.8806195059602134,
           0.8806195059602134,
           0.8806195059602134,
           0.8806195059602134,
           0.8806195059602134,
           0.8806195059602134,
           0.8806195059602134,
           0.8806195059602134,
           0.8806195059602134,
           0.8806195059602134,
           0.8806195059602134,
           0.8806195059602134,
           0.8806195059602134,
           0.8806195059602134,
           0.8806195059602134,
           0.8806195059602134,
           0.8806195059602134,
           0.8806195059602134,
           0.8806195059602134,
           0.8806195059602134,
           0.8806195059602134,
           0.8806195059602134,
           0.8806195059602134
          ],
          "type": "data",
          "visible": true
         },
         "line": {
          "color": "#00CC96"
         },
         "mode": "lines+markers",
         "name": "AGT (Error Bars)",
         "opacity": 0.3,
         "showlegend": false,
         "type": "scatter",
         "x": [
          0,
          1,
          2,
          3,
          4,
          5,
          6,
          7,
          8,
          9,
          10,
          11,
          12,
          13,
          14,
          15,
          16,
          17,
          18,
          19,
          20,
          21,
          22,
          23,
          24,
          25,
          26,
          27,
          28,
          29,
          30,
          31,
          32,
          33,
          34,
          35,
          36,
          37,
          38,
          39,
          40,
          41,
          42,
          43,
          44,
          45,
          46,
          47,
          48,
          49,
          50
         ],
         "y": [
          13.466735514000002,
          13.06615241,
          10.849617966,
          10.816750566,
          10.816750566,
          10.816750566,
          10.816750566,
          9.39510804,
          6.30173318,
          6.2535259199999995,
          4.17922578,
          4.00500858,
          3.9403303800000002,
          1.7711600520000002,
          1.763924592,
          1.620524398,
          1.620524398,
          1.620524398,
          1.620524398,
          1.524976178,
          1.524976178,
          1.524976178,
          1.524976178,
          1.392938158,
          1.392938158,
          1.392938158,
          1.392938158,
          1.392938158,
          1.392938158,
          1.392938158,
          1.392938158,
          1.392938158,
          1.392938158,
          1.392938158,
          1.392938158,
          1.392938158,
          1.392938158,
          1.392938158,
          1.392938158,
          1.392938158,
          1.392938158,
          1.392938158,
          1.392938158,
          1.392938158,
          1.392938158,
          1.392938158,
          1.392938158,
          1.392938158,
          1.392938158,
          1.392938158,
          1.392938158
         ]
        }
       ],
       "layout": {
        "template": {
         "data": {
          "bar": [
           {
            "error_x": {
             "color": "#2a3f5f"
            },
            "error_y": {
             "color": "#2a3f5f"
            },
            "marker": {
             "line": {
              "color": "#E5ECF6",
              "width": 0.5
             },
             "pattern": {
              "fillmode": "overlay",
              "size": 10,
              "solidity": 0.2
             }
            },
            "type": "bar"
           }
          ],
          "barpolar": [
           {
            "marker": {
             "line": {
              "color": "#E5ECF6",
              "width": 0.5
             },
             "pattern": {
              "fillmode": "overlay",
              "size": 10,
              "solidity": 0.2
             }
            },
            "type": "barpolar"
           }
          ],
          "carpet": [
           {
            "aaxis": {
             "endlinecolor": "#2a3f5f",
             "gridcolor": "white",
             "linecolor": "white",
             "minorgridcolor": "white",
             "startlinecolor": "#2a3f5f"
            },
            "baxis": {
             "endlinecolor": "#2a3f5f",
             "gridcolor": "white",
             "linecolor": "white",
             "minorgridcolor": "white",
             "startlinecolor": "#2a3f5f"
            },
            "type": "carpet"
           }
          ],
          "choropleth": [
           {
            "colorbar": {
             "outlinewidth": 0,
             "ticks": ""
            },
            "type": "choropleth"
           }
          ],
          "contour": [
           {
            "colorbar": {
             "outlinewidth": 0,
             "ticks": ""
            },
            "colorscale": [
             [
              0,
              "#0d0887"
             ],
             [
              0.1111111111111111,
              "#46039f"
             ],
             [
              0.2222222222222222,
              "#7201a8"
             ],
             [
              0.3333333333333333,
              "#9c179e"
             ],
             [
              0.4444444444444444,
              "#bd3786"
             ],
             [
              0.5555555555555556,
              "#d8576b"
             ],
             [
              0.6666666666666666,
              "#ed7953"
             ],
             [
              0.7777777777777778,
              "#fb9f3a"
             ],
             [
              0.8888888888888888,
              "#fdca26"
             ],
             [
              1,
              "#f0f921"
             ]
            ],
            "type": "contour"
           }
          ],
          "contourcarpet": [
           {
            "colorbar": {
             "outlinewidth": 0,
             "ticks": ""
            },
            "type": "contourcarpet"
           }
          ],
          "heatmap": [
           {
            "colorbar": {
             "outlinewidth": 0,
             "ticks": ""
            },
            "colorscale": [
             [
              0,
              "#0d0887"
             ],
             [
              0.1111111111111111,
              "#46039f"
             ],
             [
              0.2222222222222222,
              "#7201a8"
             ],
             [
              0.3333333333333333,
              "#9c179e"
             ],
             [
              0.4444444444444444,
              "#bd3786"
             ],
             [
              0.5555555555555556,
              "#d8576b"
             ],
             [
              0.6666666666666666,
              "#ed7953"
             ],
             [
              0.7777777777777778,
              "#fb9f3a"
             ],
             [
              0.8888888888888888,
              "#fdca26"
             ],
             [
              1,
              "#f0f921"
             ]
            ],
            "type": "heatmap"
           }
          ],
          "heatmapgl": [
           {
            "colorbar": {
             "outlinewidth": 0,
             "ticks": ""
            },
            "colorscale": [
             [
              0,
              "#0d0887"
             ],
             [
              0.1111111111111111,
              "#46039f"
             ],
             [
              0.2222222222222222,
              "#7201a8"
             ],
             [
              0.3333333333333333,
              "#9c179e"
             ],
             [
              0.4444444444444444,
              "#bd3786"
             ],
             [
              0.5555555555555556,
              "#d8576b"
             ],
             [
              0.6666666666666666,
              "#ed7953"
             ],
             [
              0.7777777777777778,
              "#fb9f3a"
             ],
             [
              0.8888888888888888,
              "#fdca26"
             ],
             [
              1,
              "#f0f921"
             ]
            ],
            "type": "heatmapgl"
           }
          ],
          "histogram": [
           {
            "marker": {
             "pattern": {
              "fillmode": "overlay",
              "size": 10,
              "solidity": 0.2
             }
            },
            "type": "histogram"
           }
          ],
          "histogram2d": [
           {
            "colorbar": {
             "outlinewidth": 0,
             "ticks": ""
            },
            "colorscale": [
             [
              0,
              "#0d0887"
             ],
             [
              0.1111111111111111,
              "#46039f"
             ],
             [
              0.2222222222222222,
              "#7201a8"
             ],
             [
              0.3333333333333333,
              "#9c179e"
             ],
             [
              0.4444444444444444,
              "#bd3786"
             ],
             [
              0.5555555555555556,
              "#d8576b"
             ],
             [
              0.6666666666666666,
              "#ed7953"
             ],
             [
              0.7777777777777778,
              "#fb9f3a"
             ],
             [
              0.8888888888888888,
              "#fdca26"
             ],
             [
              1,
              "#f0f921"
             ]
            ],
            "type": "histogram2d"
           }
          ],
          "histogram2dcontour": [
           {
            "colorbar": {
             "outlinewidth": 0,
             "ticks": ""
            },
            "colorscale": [
             [
              0,
              "#0d0887"
             ],
             [
              0.1111111111111111,
              "#46039f"
             ],
             [
              0.2222222222222222,
              "#7201a8"
             ],
             [
              0.3333333333333333,
              "#9c179e"
             ],
             [
              0.4444444444444444,
              "#bd3786"
             ],
             [
              0.5555555555555556,
              "#d8576b"
             ],
             [
              0.6666666666666666,
              "#ed7953"
             ],
             [
              0.7777777777777778,
              "#fb9f3a"
             ],
             [
              0.8888888888888888,
              "#fdca26"
             ],
             [
              1,
              "#f0f921"
             ]
            ],
            "type": "histogram2dcontour"
           }
          ],
          "mesh3d": [
           {
            "colorbar": {
             "outlinewidth": 0,
             "ticks": ""
            },
            "type": "mesh3d"
           }
          ],
          "parcoords": [
           {
            "line": {
             "colorbar": {
              "outlinewidth": 0,
              "ticks": ""
             }
            },
            "type": "parcoords"
           }
          ],
          "pie": [
           {
            "automargin": true,
            "type": "pie"
           }
          ],
          "scatter": [
           {
            "fillpattern": {
             "fillmode": "overlay",
             "size": 10,
             "solidity": 0.2
            },
            "type": "scatter"
           }
          ],
          "scatter3d": [
           {
            "line": {
             "colorbar": {
              "outlinewidth": 0,
              "ticks": ""
             }
            },
            "marker": {
             "colorbar": {
              "outlinewidth": 0,
              "ticks": ""
             }
            },
            "type": "scatter3d"
           }
          ],
          "scattercarpet": [
           {
            "marker": {
             "colorbar": {
              "outlinewidth": 0,
              "ticks": ""
             }
            },
            "type": "scattercarpet"
           }
          ],
          "scattergeo": [
           {
            "marker": {
             "colorbar": {
              "outlinewidth": 0,
              "ticks": ""
             }
            },
            "type": "scattergeo"
           }
          ],
          "scattergl": [
           {
            "marker": {
             "colorbar": {
              "outlinewidth": 0,
              "ticks": ""
             }
            },
            "type": "scattergl"
           }
          ],
          "scattermapbox": [
           {
            "marker": {
             "colorbar": {
              "outlinewidth": 0,
              "ticks": ""
             }
            },
            "type": "scattermapbox"
           }
          ],
          "scatterpolar": [
           {
            "marker": {
             "colorbar": {
              "outlinewidth": 0,
              "ticks": ""
             }
            },
            "type": "scatterpolar"
           }
          ],
          "scatterpolargl": [
           {
            "marker": {
             "colorbar": {
              "outlinewidth": 0,
              "ticks": ""
             }
            },
            "type": "scatterpolargl"
           }
          ],
          "scatterternary": [
           {
            "marker": {
             "colorbar": {
              "outlinewidth": 0,
              "ticks": ""
             }
            },
            "type": "scatterternary"
           }
          ],
          "surface": [
           {
            "colorbar": {
             "outlinewidth": 0,
             "ticks": ""
            },
            "colorscale": [
             [
              0,
              "#0d0887"
             ],
             [
              0.1111111111111111,
              "#46039f"
             ],
             [
              0.2222222222222222,
              "#7201a8"
             ],
             [
              0.3333333333333333,
              "#9c179e"
             ],
             [
              0.4444444444444444,
              "#bd3786"
             ],
             [
              0.5555555555555556,
              "#d8576b"
             ],
             [
              0.6666666666666666,
              "#ed7953"
             ],
             [
              0.7777777777777778,
              "#fb9f3a"
             ],
             [
              0.8888888888888888,
              "#fdca26"
             ],
             [
              1,
              "#f0f921"
             ]
            ],
            "type": "surface"
           }
          ],
          "table": [
           {
            "cells": {
             "fill": {
              "color": "#EBF0F8"
             },
             "line": {
              "color": "white"
             }
            },
            "header": {
             "fill": {
              "color": "#C8D4E3"
             },
             "line": {
              "color": "white"
             }
            },
            "type": "table"
           }
          ]
         },
         "layout": {
          "annotationdefaults": {
           "arrowcolor": "#2a3f5f",
           "arrowhead": 0,
           "arrowwidth": 1
          },
          "autotypenumbers": "strict",
          "coloraxis": {
           "colorbar": {
            "outlinewidth": 0,
            "ticks": ""
           }
          },
          "colorscale": {
           "diverging": [
            [
             0,
             "#8e0152"
            ],
            [
             0.1,
             "#c51b7d"
            ],
            [
             0.2,
             "#de77ae"
            ],
            [
             0.3,
             "#f1b6da"
            ],
            [
             0.4,
             "#fde0ef"
            ],
            [
             0.5,
             "#f7f7f7"
            ],
            [
             0.6,
             "#e6f5d0"
            ],
            [
             0.7,
             "#b8e186"
            ],
            [
             0.8,
             "#7fbc41"
            ],
            [
             0.9,
             "#4d9221"
            ],
            [
             1,
             "#276419"
            ]
           ],
           "sequential": [
            [
             0,
             "#0d0887"
            ],
            [
             0.1111111111111111,
             "#46039f"
            ],
            [
             0.2222222222222222,
             "#7201a8"
            ],
            [
             0.3333333333333333,
             "#9c179e"
            ],
            [
             0.4444444444444444,
             "#bd3786"
            ],
            [
             0.5555555555555556,
             "#d8576b"
            ],
            [
             0.6666666666666666,
             "#ed7953"
            ],
            [
             0.7777777777777778,
             "#fb9f3a"
            ],
            [
             0.8888888888888888,
             "#fdca26"
            ],
            [
             1,
             "#f0f921"
            ]
           ],
           "sequentialminus": [
            [
             0,
             "#0d0887"
            ],
            [
             0.1111111111111111,
             "#46039f"
            ],
            [
             0.2222222222222222,
             "#7201a8"
            ],
            [
             0.3333333333333333,
             "#9c179e"
            ],
            [
             0.4444444444444444,
             "#bd3786"
            ],
            [
             0.5555555555555556,
             "#d8576b"
            ],
            [
             0.6666666666666666,
             "#ed7953"
            ],
            [
             0.7777777777777778,
             "#fb9f3a"
            ],
            [
             0.8888888888888888,
             "#fdca26"
            ],
            [
             1,
             "#f0f921"
            ]
           ]
          },
          "colorway": [
           "#636efa",
           "#EF553B",
           "#00cc96",
           "#ab63fa",
           "#FFA15A",
           "#19d3f3",
           "#FF6692",
           "#B6E880",
           "#FF97FF",
           "#FECB52"
          ],
          "font": {
           "color": "#2a3f5f"
          },
          "geo": {
           "bgcolor": "white",
           "lakecolor": "white",
           "landcolor": "#E5ECF6",
           "showlakes": true,
           "showland": true,
           "subunitcolor": "white"
          },
          "hoverlabel": {
           "align": "left"
          },
          "hovermode": "closest",
          "mapbox": {
           "style": "light"
          },
          "paper_bgcolor": "white",
          "plot_bgcolor": "#E5ECF6",
          "polar": {
           "angularaxis": {
            "gridcolor": "white",
            "linecolor": "white",
            "ticks": ""
           },
           "bgcolor": "#E5ECF6",
           "radialaxis": {
            "gridcolor": "white",
            "linecolor": "white",
            "ticks": ""
           }
          },
          "scene": {
           "xaxis": {
            "backgroundcolor": "#E5ECF6",
            "gridcolor": "white",
            "gridwidth": 2,
            "linecolor": "white",
            "showbackground": true,
            "ticks": "",
            "zerolinecolor": "white"
           },
           "yaxis": {
            "backgroundcolor": "#E5ECF6",
            "gridcolor": "white",
            "gridwidth": 2,
            "linecolor": "white",
            "showbackground": true,
            "ticks": "",
            "zerolinecolor": "white"
           },
           "zaxis": {
            "backgroundcolor": "#E5ECF6",
            "gridcolor": "white",
            "gridwidth": 2,
            "linecolor": "white",
            "showbackground": true,
            "ticks": "",
            "zerolinecolor": "white"
           }
          },
          "shapedefaults": {
           "line": {
            "color": "#2a3f5f"
           }
          },
          "ternary": {
           "aaxis": {
            "gridcolor": "white",
            "linecolor": "white",
            "ticks": ""
           },
           "baxis": {
            "gridcolor": "white",
            "linecolor": "white",
            "ticks": ""
           },
           "bgcolor": "#E5ECF6",
           "caxis": {
            "gridcolor": "white",
            "linecolor": "white",
            "ticks": ""
           }
          },
          "title": {
           "x": 0.05
          },
          "xaxis": {
           "automargin": true,
           "gridcolor": "white",
           "linecolor": "white",
           "ticks": "",
           "title": {
            "standoff": 15
           },
           "zerolinecolor": "white",
           "zerolinewidth": 2
          },
          "yaxis": {
           "automargin": true,
           "gridcolor": "white",
           "linecolor": "white",
           "ticks": "",
           "title": {
            "standoff": 15
           },
           "zerolinecolor": "white",
           "zerolinewidth": 2
          }
         }
        },
        "title": {
         "text": "Bayesian Optimization History on BraninHoo with POI Acquisition"
        },
        "xaxis": {
         "title": {
          "text": "Iteration"
         }
        },
        "yaxis": {
         "title": {
          "text": "Best Function Value"
         }
        }
       }
      }
     },
     "metadata": {},
     "output_type": "display_data"
    }
   ],
   "source": [
    "target = os.path.join(LOG_DIR, 'E2')\n",
    "models = ['GP', 'TP', 'AGT']\n",
    "objective = 'BraninHoo'\n",
    "acquisition = 'POI'\n",
    "keywards = [objective, acquisition]\n",
    "\n",
    "result_df_dict = create_result_df_dict(target, models, keywards)\n",
    "\n",
    "color_dict = {\n",
    "    'GP': px.colors.qualitative.Plotly[0],\n",
    "    'TP': px.colors.qualitative.Plotly[1],\n",
    "    'AGT': px.colors.qualitative.Plotly[2],\n",
    "}\n",
    "\n",
    "fig = go.Figure()\n",
    "\n",
    "for model_name, result_df in result_df_dict.items():\n",
    "    add_history_plot_with_error_bars(fig, model_name, result_df)\n",
    "\n",
    "# Customize the layout\n",
    "fig.update_layout(\n",
    "    title=f\"Bayesian Optimization History on {objective} with {acquisition} Acquisition\",\n",
    "    xaxis_title=\"Iteration\",\n",
    "    yaxis_title=\"Best Function Value\",\n",
    ")\n",
    "\n",
    "fig.show()"
   ]
  },
  {
   "cell_type": "code",
   "execution_count": 68,
   "metadata": {},
   "outputs": [
    {
     "name": "stdout",
     "output_type": "stream",
     "text": [
      "Failed to parse settings: invalid syntax (<unknown>, line 1)\n",
      "Failed to parse settings: invalid syntax (<unknown>, line 1)\n",
      "Failed to parse settings: invalid syntax (<unknown>, line 1)\n",
      "Failed to parse settings: invalid syntax (<unknown>, line 1)\n",
      "Failed to parse settings: invalid syntax (<unknown>, line 1)\n",
      "Minimum number of rows: 95\n",
      "Maximum number of rows: 104\n",
      "Failed to parse settings: invalid syntax (<unknown>, line 1)\n",
      "Failed to parse settings: invalid syntax (<unknown>, line 1)\n",
      "Failed to parse settings: invalid syntax (<unknown>, line 1)\n",
      "Failed to parse settings: invalid syntax (<unknown>, line 1)\n",
      "Failed to parse settings: invalid syntax (<unknown>, line 1)\n",
      "Minimum number of rows: 104\n",
      "Maximum number of rows: 104\n",
      "Failed to parse settings: invalid syntax (<unknown>, line 1)\n",
      "Failed to parse settings: invalid syntax (<unknown>, line 1)\n",
      "Failed to parse settings: invalid syntax (<unknown>, line 1)\n",
      "Failed to parse settings: invalid syntax (<unknown>, line 1)\n",
      "Failed to parse settings: invalid syntax (<unknown>, line 1)\n",
      "Minimum number of rows: 104\n",
      "Maximum number of rows: 104\n"
     ]
    },
    {
     "data": {
      "application/vnd.plotly.v1+json": {
       "config": {
        "plotlyServerURL": "https://plot.ly"
       },
       "data": [
        {
         "line": {
          "color": "#636EFA"
         },
         "mode": "lines+markers",
         "name": "GP (Mean)",
         "type": "scatter",
         "x": [
          0,
          1,
          2,
          3,
          4,
          5,
          6,
          7,
          8,
          9,
          10,
          11,
          12,
          13,
          14,
          15,
          16,
          17,
          18,
          19,
          20,
          21,
          22,
          23,
          24,
          25,
          26,
          27,
          28,
          29,
          30,
          31,
          32,
          33,
          34,
          35,
          36,
          37,
          38,
          39,
          40,
          41,
          42,
          43,
          44,
          45,
          46,
          47,
          48,
          49,
          50,
          51,
          52,
          53,
          54,
          55,
          56,
          57,
          58,
          59,
          60,
          61,
          62,
          63,
          64,
          65,
          66,
          67,
          68,
          69,
          70,
          71,
          72,
          73,
          74,
          75,
          76,
          77,
          78,
          79,
          80,
          81,
          82,
          83,
          84,
          85,
          86,
          87,
          88,
          89,
          90,
          91
         ],
         "y": [
          -1.278290494,
          -1.33957671,
          -1.436025646,
          -1.4841502580000001,
          -1.5006676460000001,
          -1.5307895139999999,
          -1.597569184,
          -1.728997348,
          -1.808007404,
          -1.808007404,
          -1.808007404,
          -1.808007404,
          -1.9058249740000002,
          -1.9075846559999998,
          -1.9075846559999998,
          -1.919709258,
          -1.9335170739999998,
          -1.935527402,
          -2.006137818,
          -2.147362188,
          -2.1746979840000003,
          -2.1766114439999997,
          -2.1773939120000003,
          -2.197896172,
          -2.208494848,
          -2.276185098,
          -2.278032778,
          -2.2828653279999997,
          -2.287518162,
          -2.288290124,
          -2.2979669379999996,
          -2.451940306,
          -2.487299374,
          -2.5051091100000002,
          -2.522659858,
          -2.535953522,
          -2.56113803,
          -2.588824372,
          -2.60575848,
          -2.60575848,
          -2.621392226,
          -2.6479784979999996,
          -2.732727222,
          -2.732727222,
          -2.761499764,
          -2.769009574,
          -2.8167313720000005,
          -2.8167313720000005,
          -2.8167313720000005,
          -2.8167313720000005,
          -2.837358112,
          -2.869039382,
          -2.948183866,
          -2.948183866,
          -2.948183866,
          -2.9651701600000004,
          -2.9651701600000004,
          -2.968135856,
          -2.968135856,
          -2.968135856,
          -2.968135856,
          -2.968135856,
          -2.9752929559999997,
          -3.015884904,
          -3.033152084,
          -3.0754912580000004,
          -3.0754912580000004,
          -3.0754912580000004,
          -3.0754912580000004,
          -3.0754912580000004,
          -3.0754912580000004,
          -3.0754912580000004,
          -3.0754912580000004,
          -3.0754912580000004,
          -3.0754912580000004,
          -3.0754912580000004,
          -3.0754912580000004,
          -3.0754912580000004,
          -3.0754912580000004,
          -3.0754912580000004,
          -3.0754912580000004,
          -3.0754912580000004,
          -3.0754912580000004,
          -3.0754912580000004,
          -3.0754912580000004,
          -3.0754912580000004,
          -3.0754912580000004,
          -3.0754912580000004,
          -3.0754912580000004,
          -3.0754912580000004,
          -3.0754912580000004,
          -3.0754912580000004
         ]
        },
        {
         "error_y": {
          "array": [
           0.7184587863922429,
           0.7998974885473344,
           0.8509395382573437,
           0.8946856473116309,
           0.8867718347084099,
           0.8847291800545569,
           0.861740632268198,
           0.9388568037374705,
           0.9928869613150123,
           0.9928869613150123,
           0.9928869613150123,
           0.9928869613150123,
           0.936982264751872,
           0.9369577501133028,
           0.9369577501133028,
           0.9480393139514594,
           0.9583151713931718,
           0.9540181018124345,
           0.9943271983781871,
           1.0711036248656731,
           1.0912328217826666,
           1.0872797016850442,
           1.0856638698785237,
           1.0930186251283687,
           1.099675183905377,
           1.0327444385337958,
           1.0290100656979695,
           1.0236772285564706,
           1.0250382653738215,
           1.0234765681456455,
           1.0039458400419918,
           0.990886921499203,
           0.9974186716986783,
           0.9974840454750673,
           0.9824460496903852,
           0.9719558324720546,
           0.9278788897104054,
           0.870626555039896,
           0.846138353018064,
           0.846138353018064,
           0.8121155522648011,
           0.7544538098465674,
           0.8010871870319017,
           0.8010871870319017,
           0.7611938234189785,
           0.7676925688990814,
           0.6839564373043331,
           0.6839564373043331,
           0.6839564373043331,
           0.6839564373043331,
           0.6399348226524373,
           0.5729647816669499,
           0.41137028883127724,
           0.41137028883127724,
           0.41137028883127724,
           0.3784855372960981,
           0.3784855372960981,
           0.37284344132415764,
           0.37284344132415764,
           0.37284344132415764,
           0.37284344132415764,
           0.37284344132415764,
           0.35936659996020653,
           0.2878700859773421,
           0.2611125693776308,
           0.21161217354511772,
           0.21161217354511772,
           0.21161217354511772,
           0.21161217354511772,
           0.21161217354511772,
           0.21161217354511772,
           0.21161217354511772,
           0.21161217354511772,
           0.21161217354511772,
           0.21161217354511772,
           0.21161217354511772,
           0.21161217354511772,
           0.21161217354511772,
           0.21161217354511772,
           0.21161217354511772,
           0.21161217354511772,
           0.21161217354511772,
           0.21161217354511772,
           0.21161217354511772,
           0.21161217354511772,
           0.21161217354511772,
           0.21161217354511772,
           0.21161217354511772,
           0.21161217354511772,
           0.21161217354511772,
           0.21161217354511772,
           0.21161217354511772
          ],
          "type": "data",
          "visible": true
         },
         "line": {
          "color": "#636EFA"
         },
         "mode": "lines+markers",
         "name": "GP (Error Bars)",
         "opacity": 0.3,
         "showlegend": false,
         "type": "scatter",
         "x": [
          0,
          1,
          2,
          3,
          4,
          5,
          6,
          7,
          8,
          9,
          10,
          11,
          12,
          13,
          14,
          15,
          16,
          17,
          18,
          19,
          20,
          21,
          22,
          23,
          24,
          25,
          26,
          27,
          28,
          29,
          30,
          31,
          32,
          33,
          34,
          35,
          36,
          37,
          38,
          39,
          40,
          41,
          42,
          43,
          44,
          45,
          46,
          47,
          48,
          49,
          50,
          51,
          52,
          53,
          54,
          55,
          56,
          57,
          58,
          59,
          60,
          61,
          62,
          63,
          64,
          65,
          66,
          67,
          68,
          69,
          70,
          71,
          72,
          73,
          74,
          75,
          76,
          77,
          78,
          79,
          80,
          81,
          82,
          83,
          84,
          85,
          86,
          87,
          88,
          89,
          90,
          91
         ],
         "y": [
          -1.278290494,
          -1.33957671,
          -1.436025646,
          -1.4841502580000001,
          -1.5006676460000001,
          -1.5307895139999999,
          -1.597569184,
          -1.728997348,
          -1.808007404,
          -1.808007404,
          -1.808007404,
          -1.808007404,
          -1.9058249740000002,
          -1.9075846559999998,
          -1.9075846559999998,
          -1.919709258,
          -1.9335170739999998,
          -1.935527402,
          -2.006137818,
          -2.147362188,
          -2.1746979840000003,
          -2.1766114439999997,
          -2.1773939120000003,
          -2.197896172,
          -2.208494848,
          -2.276185098,
          -2.278032778,
          -2.2828653279999997,
          -2.287518162,
          -2.288290124,
          -2.2979669379999996,
          -2.451940306,
          -2.487299374,
          -2.5051091100000002,
          -2.522659858,
          -2.535953522,
          -2.56113803,
          -2.588824372,
          -2.60575848,
          -2.60575848,
          -2.621392226,
          -2.6479784979999996,
          -2.732727222,
          -2.732727222,
          -2.761499764,
          -2.769009574,
          -2.8167313720000005,
          -2.8167313720000005,
          -2.8167313720000005,
          -2.8167313720000005,
          -2.837358112,
          -2.869039382,
          -2.948183866,
          -2.948183866,
          -2.948183866,
          -2.9651701600000004,
          -2.9651701600000004,
          -2.968135856,
          -2.968135856,
          -2.968135856,
          -2.968135856,
          -2.968135856,
          -2.9752929559999997,
          -3.015884904,
          -3.033152084,
          -3.0754912580000004,
          -3.0754912580000004,
          -3.0754912580000004,
          -3.0754912580000004,
          -3.0754912580000004,
          -3.0754912580000004,
          -3.0754912580000004,
          -3.0754912580000004,
          -3.0754912580000004,
          -3.0754912580000004,
          -3.0754912580000004,
          -3.0754912580000004,
          -3.0754912580000004,
          -3.0754912580000004,
          -3.0754912580000004,
          -3.0754912580000004,
          -3.0754912580000004,
          -3.0754912580000004,
          -3.0754912580000004,
          -3.0754912580000004,
          -3.0754912580000004,
          -3.0754912580000004,
          -3.0754912580000004,
          -3.0754912580000004,
          -3.0754912580000004,
          -3.0754912580000004,
          -3.0754912580000004
         ]
        },
        {
         "line": {
          "color": "#EF553B"
         },
         "mode": "lines+markers",
         "name": "TP (Mean)",
         "type": "scatter",
         "x": [
          0,
          1,
          2,
          3,
          4,
          5,
          6,
          7,
          8,
          9,
          10,
          11,
          12,
          13,
          14,
          15,
          16,
          17,
          18,
          19,
          20,
          21,
          22,
          23,
          24,
          25,
          26,
          27,
          28,
          29,
          30,
          31,
          32,
          33,
          34,
          35,
          36,
          37,
          38,
          39,
          40,
          41,
          42,
          43,
          44,
          45,
          46,
          47,
          48,
          49,
          50,
          51,
          52,
          53,
          54,
          55,
          56,
          57,
          58,
          59,
          60,
          61,
          62,
          63,
          64,
          65,
          66,
          67,
          68,
          69,
          70,
          71,
          72,
          73,
          74,
          75,
          76,
          77,
          78,
          79,
          80,
          81,
          82,
          83,
          84,
          85,
          86,
          87,
          88,
          89,
          90,
          91,
          92,
          93,
          94,
          95,
          96,
          97,
          98,
          99,
          100
         ],
         "y": [
          -0.751068838,
          -0.751068838,
          -0.751068838,
          -0.751068838,
          -0.75622992,
          -0.757285702,
          -0.7594171700000001,
          -0.76221935,
          -0.850474814,
          -0.959099646,
          -1.053537112,
          -1.143734632,
          -1.25341965,
          -1.317030024,
          -1.3742121219999999,
          -1.426042638,
          -1.46462467,
          -1.512789142,
          -1.5693210260000001,
          -1.5792391819999998,
          -1.6974288659999999,
          -1.769024188,
          -1.819668824,
          -1.9115618959999998,
          -1.9689837099999998,
          -2.0768156099999997,
          -2.11456352,
          -2.140361362,
          -2.140361362,
          -2.223109386,
          -2.257413308,
          -2.2730430220000004,
          -2.274338116,
          -2.6051094939999997,
          -2.732674854,
          -2.7640321479999996,
          -2.81118678,
          -2.873433376,
          -2.928152024,
          -2.928152024,
          -2.9483630140000003,
          -2.9671487080000003,
          -2.9740648920000003,
          -2.9740648920000003,
          -2.9740648920000003,
          -2.9740648920000003,
          -2.9740648920000003,
          -2.9740648920000003,
          -2.9740648920000003,
          -2.998823952,
          -2.998823952,
          -2.998823952,
          -3.010694536,
          -3.0481407860000003,
          -3.0481407860000003,
          -3.0481407860000003,
          -3.053859558,
          -3.053859558,
          -3.08051415,
          -3.08051415,
          -3.08051415,
          -3.107304554,
          -3.107304554,
          -3.107304554,
          -3.107304554,
          -3.107304554,
          -3.107304554,
          -3.107304554,
          -3.107304554,
          -3.107304554,
          -3.107304554,
          -3.107304554,
          -3.107304554,
          -3.107304554,
          -3.107304554,
          -3.107304554,
          -3.107304554,
          -3.107304554,
          -3.107304554,
          -3.107304554,
          -3.107304554,
          -3.107304554,
          -3.107304554,
          -3.107304554,
          -3.107304554,
          -3.107304554,
          -3.107304554,
          -3.107304554,
          -3.107304554,
          -3.107304554,
          -3.107304554,
          -3.107304554,
          -3.107304554,
          -3.107304554,
          -3.107304554,
          -3.107304554,
          -3.107304554,
          -3.107304554,
          -3.107304554,
          -3.107304554,
          -3.107304554
         ]
        },
        {
         "error_y": {
          "array": [
           0.50535974909079,
           0.550703019104956,
           0.550703019104956,
           0.550703019104956,
           0.5454163229003359,
           0.5442854014583897,
           0.5424519756966164,
           0.5400961495372005,
           0.5040033908785818,
           0.4619408732726788,
           0.4467412067665435,
           0.4926144158665863,
           0.5832799425711369,
           0.6143277823534653,
           0.6378510547636256,
           0.6771030914806777,
           0.7169587336721945,
           0.7446822029896933,
           0.6908928947569695,
           0.6834499917339125,
           0.6858215660275366,
           0.6505249944450565,
           0.6139615490690986,
           0.5831924448929119,
           0.5531054561986442,
           0.638579581253167,
           0.630576286622909,
           0.6405776765287735,
           0.6405776765287735,
           0.6811222609300527,
           0.6658265554694573,
           0.6388184093688587,
           0.6381564148663725,
           0.4234083315431837,
           0.2819048631776024,
           0.24447542846872905,
           0.24869515687228713,
           0.24834009773222882,
           0.2064184049773702,
           0.2064184049773702,
           0.18978852181121808,
           0.15504428160430417,
           0.14323612865833119,
           0.14323612865833119,
           0.14323612865833119,
           0.14323612865833119,
           0.14323612865833119,
           0.14323612865833119,
           0.14323612865833119,
           0.12814529672871616,
           0.12814529672871616,
           0.12814529672871616,
           0.10371250378270137,
           0.046039848057436474,
           0.046039848057436474,
           0.046039848057436474,
           0.04511033902171738,
           0.04511033902171738,
           0.028472858535741455,
           0.028472858535741455,
           0.028472858535741455,
           0.05461912897091113,
           0.05461912897091113,
           0.05461912897091113,
           0.05461912897091113,
           0.05461912897091113,
           0.05461912897091113,
           0.05461912897091113,
           0.05461912897091113,
           0.05461912897091113,
           0.05461912897091113,
           0.05461912897091113,
           0.05461912897091113,
           0.05461912897091113,
           0.05461912897091113,
           0.05461912897091113,
           0.05461912897091113,
           0.05461912897091113,
           0.05461912897091113,
           0.05461912897091113,
           0.05461912897091113,
           0.05461912897091113,
           0.05461912897091113,
           0.05461912897091113,
           0.05461912897091113,
           0.05461912897091113,
           0.05461912897091113,
           0.05461912897091113,
           0.05461912897091113,
           0.05461912897091113,
           0.05461912897091113,
           0.05461912897091113,
           0.05461912897091113,
           0.05461912897091113,
           0.05461912897091113,
           0.05461912897091113,
           0.05461912897091113,
           0.05461912897091113,
           0.05461912897091113,
           0.05461912897091113,
           0.05461912897091113
          ],
          "type": "data",
          "visible": true
         },
         "line": {
          "color": "#EF553B"
         },
         "mode": "lines+markers",
         "name": "TP (Error Bars)",
         "opacity": 0.3,
         "showlegend": false,
         "type": "scatter",
         "x": [
          0,
          1,
          2,
          3,
          4,
          5,
          6,
          7,
          8,
          9,
          10,
          11,
          12,
          13,
          14,
          15,
          16,
          17,
          18,
          19,
          20,
          21,
          22,
          23,
          24,
          25,
          26,
          27,
          28,
          29,
          30,
          31,
          32,
          33,
          34,
          35,
          36,
          37,
          38,
          39,
          40,
          41,
          42,
          43,
          44,
          45,
          46,
          47,
          48,
          49,
          50,
          51,
          52,
          53,
          54,
          55,
          56,
          57,
          58,
          59,
          60,
          61,
          62,
          63,
          64,
          65,
          66,
          67,
          68,
          69,
          70,
          71,
          72,
          73,
          74,
          75,
          76,
          77,
          78,
          79,
          80,
          81,
          82,
          83,
          84,
          85,
          86,
          87,
          88,
          89,
          90,
          91,
          92,
          93,
          94,
          95,
          96,
          97,
          98,
          99,
          100
         ],
         "y": [
          -0.751068838,
          -0.751068838,
          -0.751068838,
          -0.751068838,
          -0.75622992,
          -0.757285702,
          -0.7594171700000001,
          -0.76221935,
          -0.850474814,
          -0.959099646,
          -1.053537112,
          -1.143734632,
          -1.25341965,
          -1.317030024,
          -1.3742121219999999,
          -1.426042638,
          -1.46462467,
          -1.512789142,
          -1.5693210260000001,
          -1.5792391819999998,
          -1.6974288659999999,
          -1.769024188,
          -1.819668824,
          -1.9115618959999998,
          -1.9689837099999998,
          -2.0768156099999997,
          -2.11456352,
          -2.140361362,
          -2.140361362,
          -2.223109386,
          -2.257413308,
          -2.2730430220000004,
          -2.274338116,
          -2.6051094939999997,
          -2.732674854,
          -2.7640321479999996,
          -2.81118678,
          -2.873433376,
          -2.928152024,
          -2.928152024,
          -2.9483630140000003,
          -2.9671487080000003,
          -2.9740648920000003,
          -2.9740648920000003,
          -2.9740648920000003,
          -2.9740648920000003,
          -2.9740648920000003,
          -2.9740648920000003,
          -2.9740648920000003,
          -2.998823952,
          -2.998823952,
          -2.998823952,
          -3.010694536,
          -3.0481407860000003,
          -3.0481407860000003,
          -3.0481407860000003,
          -3.053859558,
          -3.053859558,
          -3.08051415,
          -3.08051415,
          -3.08051415,
          -3.107304554,
          -3.107304554,
          -3.107304554,
          -3.107304554,
          -3.107304554,
          -3.107304554,
          -3.107304554,
          -3.107304554,
          -3.107304554,
          -3.107304554,
          -3.107304554,
          -3.107304554,
          -3.107304554,
          -3.107304554,
          -3.107304554,
          -3.107304554,
          -3.107304554,
          -3.107304554,
          -3.107304554,
          -3.107304554,
          -3.107304554,
          -3.107304554,
          -3.107304554,
          -3.107304554,
          -3.107304554,
          -3.107304554,
          -3.107304554,
          -3.107304554,
          -3.107304554,
          -3.107304554,
          -3.107304554,
          -3.107304554,
          -3.107304554,
          -3.107304554,
          -3.107304554,
          -3.107304554,
          -3.107304554,
          -3.107304554,
          -3.107304554,
          -3.107304554
         ]
        },
        {
         "line": {
          "color": "#00CC96"
         },
         "mode": "lines+markers",
         "name": "AGT (Mean)",
         "type": "scatter",
         "x": [
          0,
          1,
          2,
          3,
          4,
          5,
          6,
          7,
          8,
          9,
          10,
          11,
          12,
          13,
          14,
          15,
          16,
          17,
          18,
          19,
          20,
          21,
          22,
          23,
          24,
          25,
          26,
          27,
          28,
          29,
          30,
          31,
          32,
          33,
          34,
          35,
          36,
          37,
          38,
          39,
          40,
          41,
          42,
          43,
          44,
          45,
          46,
          47,
          48,
          49,
          50,
          51,
          52,
          53,
          54,
          55,
          56,
          57,
          58,
          59,
          60,
          61,
          62,
          63,
          64,
          65,
          66,
          67,
          68,
          69,
          70,
          71,
          72,
          73,
          74,
          75,
          76,
          77,
          78,
          79,
          80,
          81,
          82,
          83,
          84,
          85,
          86,
          87,
          88,
          89,
          90,
          91,
          92,
          93,
          94,
          95,
          96,
          97,
          98,
          99,
          100
         ],
         "y": [
          -0.555304634,
          -0.56777522,
          -0.56899117,
          -0.634472126,
          -0.96834714,
          -1.0647692,
          -1.101486332,
          -1.101486332,
          -1.126275358,
          -1.17896443,
          -1.419742262,
          -1.458705156,
          -1.4662259880000001,
          -1.520800682,
          -1.546805608,
          -1.6008030079999997,
          -1.627900434,
          -1.634122288,
          -1.6410028799999998,
          -1.7076667359999997,
          -1.8031629580000001,
          -1.8201825360000001,
          -1.917057152,
          -1.9234344499999998,
          -1.9606198039999998,
          -1.9621871599999998,
          -1.980141614,
          -2.039095392,
          -2.162758574,
          -2.2351329919999996,
          -2.263733072,
          -2.282454726,
          -2.291115516,
          -2.482944196,
          -2.547305756,
          -2.593548674,
          -2.595460494,
          -2.6621752180000002,
          -2.667923652,
          -2.8019822359999997,
          -2.95484931,
          -2.957184014,
          -3.0329780239999997,
          -3.076963824,
          -3.15766534,
          -3.15766534,
          -3.16039894,
          -3.16039894,
          -3.161184608,
          -3.161184608,
          -3.161184608,
          -3.161184608,
          -3.161184608,
          -3.161184608,
          -3.161184608,
          -3.161184608,
          -3.161184608,
          -3.161184608,
          -3.161184608,
          -3.161184608,
          -3.161184608,
          -3.161184608,
          -3.161184608,
          -3.161184608,
          -3.161184608,
          -3.161184608,
          -3.161184608,
          -3.161184608,
          -3.161184608,
          -3.161184608,
          -3.161184608,
          -3.161184608,
          -3.161184608,
          -3.161184608,
          -3.161184608,
          -3.161184608,
          -3.161184608,
          -3.161184608,
          -3.161184608,
          -3.161184608,
          -3.162395782,
          -3.162395782,
          -3.162395782,
          -3.162395782,
          -3.162395782,
          -3.162395782,
          -3.162395782,
          -3.162395782,
          -3.162395782,
          -3.162395782,
          -3.162395782,
          -3.162395782,
          -3.162395782,
          -3.162395782,
          -3.162395782,
          -3.162395782,
          -3.162395782,
          -3.162395782,
          -3.162395782,
          -3.162395782,
          -3.162395782
         ]
        },
        {
         "error_y": {
          "array": [
           0.520774615514864,
           0.5668083649470927,
           0.5668036473528965,
           0.5328871277430812,
           0.8501578252567163,
           0.8670331768751869,
           0.8899422663268053,
           0.8899422663268053,
           0.9312793899628549,
           0.8745484315382237,
           1.0264171936044637,
           1.0278447039943106,
           1.0211226078192681,
           0.9681735901827954,
           0.9493569779306547,
           0.9219366764734869,
           0.9089669797353079,
           0.9044721768732004,
           0.899668865638274,
           0.8023670704020837,
           0.8616723718458594,
           0.8768816952342792,
           0.7924518129250876,
           0.7847923207785116,
           0.8189142504832286,
           0.8170038483179922,
           0.803861388466602,
           0.7705719618226687,
           0.7115101583531921,
           0.6913157480756948,
           0.6947057962788034,
           0.6940539363117,
           0.7002468613585159,
           0.3711125533348119,
           0.32177348899001484,
           0.3714891339330508,
           0.37479365776364326,
           0.33194948251201806,
           0.3318890525550759,
           0.2607345120996942,
           0.13519390536226736,
           0.13233172311634342,
           0.13142758921920494,
           0.12636514016855402,
           0.049936789325237554,
           0.049936789325237554,
           0.055011436886098074,
           0.055011436886098074,
           0.05444360825140419,
           0.05444360825140419,
           0.05444360825140419,
           0.05444360825140419,
           0.05444360825140419,
           0.05444360825140419,
           0.05444360825140419,
           0.05444360825140419,
           0.05444360825140419,
           0.05444360825140419,
           0.05444360825140419,
           0.05444360825140419,
           0.05444360825140419,
           0.05444360825140419,
           0.05444360825140419,
           0.05444360825140419,
           0.05444360825140419,
           0.05444360825140419,
           0.05444360825140419,
           0.05444360825140419,
           0.05444360825140419,
           0.05444360825140419,
           0.05444360825140419,
           0.05444360825140419,
           0.05444360825140419,
           0.05444360825140419,
           0.05444360825140419,
           0.05444360825140419,
           0.05444360825140419,
           0.05444360825140419,
           0.05444360825140419,
           0.05444360825140419,
           0.05291216446612747,
           0.05291216446612747,
           0.05291216446612747,
           0.05291216446612747,
           0.05291216446612747,
           0.05291216446612747,
           0.05291216446612747,
           0.05291216446612747,
           0.05291216446612747,
           0.05291216446612747,
           0.05291216446612747,
           0.05291216446612747,
           0.05291216446612747,
           0.05291216446612747,
           0.05291216446612747,
           0.05291216446612747,
           0.05291216446612747,
           0.05291216446612747,
           0.05291216446612747,
           0.05291216446612747,
           0.05291216446612747
          ],
          "type": "data",
          "visible": true
         },
         "line": {
          "color": "#00CC96"
         },
         "mode": "lines+markers",
         "name": "AGT (Error Bars)",
         "opacity": 0.3,
         "showlegend": false,
         "type": "scatter",
         "x": [
          0,
          1,
          2,
          3,
          4,
          5,
          6,
          7,
          8,
          9,
          10,
          11,
          12,
          13,
          14,
          15,
          16,
          17,
          18,
          19,
          20,
          21,
          22,
          23,
          24,
          25,
          26,
          27,
          28,
          29,
          30,
          31,
          32,
          33,
          34,
          35,
          36,
          37,
          38,
          39,
          40,
          41,
          42,
          43,
          44,
          45,
          46,
          47,
          48,
          49,
          50,
          51,
          52,
          53,
          54,
          55,
          56,
          57,
          58,
          59,
          60,
          61,
          62,
          63,
          64,
          65,
          66,
          67,
          68,
          69,
          70,
          71,
          72,
          73,
          74,
          75,
          76,
          77,
          78,
          79,
          80,
          81,
          82,
          83,
          84,
          85,
          86,
          87,
          88,
          89,
          90,
          91,
          92,
          93,
          94,
          95,
          96,
          97,
          98,
          99,
          100
         ],
         "y": [
          -0.555304634,
          -0.56777522,
          -0.56899117,
          -0.634472126,
          -0.96834714,
          -1.0647692,
          -1.101486332,
          -1.101486332,
          -1.126275358,
          -1.17896443,
          -1.419742262,
          -1.458705156,
          -1.4662259880000001,
          -1.520800682,
          -1.546805608,
          -1.6008030079999997,
          -1.627900434,
          -1.634122288,
          -1.6410028799999998,
          -1.7076667359999997,
          -1.8031629580000001,
          -1.8201825360000001,
          -1.917057152,
          -1.9234344499999998,
          -1.9606198039999998,
          -1.9621871599999998,
          -1.980141614,
          -2.039095392,
          -2.162758574,
          -2.2351329919999996,
          -2.263733072,
          -2.282454726,
          -2.291115516,
          -2.482944196,
          -2.547305756,
          -2.593548674,
          -2.595460494,
          -2.6621752180000002,
          -2.667923652,
          -2.8019822359999997,
          -2.95484931,
          -2.957184014,
          -3.0329780239999997,
          -3.076963824,
          -3.15766534,
          -3.15766534,
          -3.16039894,
          -3.16039894,
          -3.161184608,
          -3.161184608,
          -3.161184608,
          -3.161184608,
          -3.161184608,
          -3.161184608,
          -3.161184608,
          -3.161184608,
          -3.161184608,
          -3.161184608,
          -3.161184608,
          -3.161184608,
          -3.161184608,
          -3.161184608,
          -3.161184608,
          -3.161184608,
          -3.161184608,
          -3.161184608,
          -3.161184608,
          -3.161184608,
          -3.161184608,
          -3.161184608,
          -3.161184608,
          -3.161184608,
          -3.161184608,
          -3.161184608,
          -3.161184608,
          -3.161184608,
          -3.161184608,
          -3.161184608,
          -3.161184608,
          -3.161184608,
          -3.162395782,
          -3.162395782,
          -3.162395782,
          -3.162395782,
          -3.162395782,
          -3.162395782,
          -3.162395782,
          -3.162395782,
          -3.162395782,
          -3.162395782,
          -3.162395782,
          -3.162395782,
          -3.162395782,
          -3.162395782,
          -3.162395782,
          -3.162395782,
          -3.162395782,
          -3.162395782,
          -3.162395782,
          -3.162395782,
          -3.162395782
         ]
        }
       ],
       "layout": {
        "template": {
         "data": {
          "bar": [
           {
            "error_x": {
             "color": "#2a3f5f"
            },
            "error_y": {
             "color": "#2a3f5f"
            },
            "marker": {
             "line": {
              "color": "#E5ECF6",
              "width": 0.5
             },
             "pattern": {
              "fillmode": "overlay",
              "size": 10,
              "solidity": 0.2
             }
            },
            "type": "bar"
           }
          ],
          "barpolar": [
           {
            "marker": {
             "line": {
              "color": "#E5ECF6",
              "width": 0.5
             },
             "pattern": {
              "fillmode": "overlay",
              "size": 10,
              "solidity": 0.2
             }
            },
            "type": "barpolar"
           }
          ],
          "carpet": [
           {
            "aaxis": {
             "endlinecolor": "#2a3f5f",
             "gridcolor": "white",
             "linecolor": "white",
             "minorgridcolor": "white",
             "startlinecolor": "#2a3f5f"
            },
            "baxis": {
             "endlinecolor": "#2a3f5f",
             "gridcolor": "white",
             "linecolor": "white",
             "minorgridcolor": "white",
             "startlinecolor": "#2a3f5f"
            },
            "type": "carpet"
           }
          ],
          "choropleth": [
           {
            "colorbar": {
             "outlinewidth": 0,
             "ticks": ""
            },
            "type": "choropleth"
           }
          ],
          "contour": [
           {
            "colorbar": {
             "outlinewidth": 0,
             "ticks": ""
            },
            "colorscale": [
             [
              0,
              "#0d0887"
             ],
             [
              0.1111111111111111,
              "#46039f"
             ],
             [
              0.2222222222222222,
              "#7201a8"
             ],
             [
              0.3333333333333333,
              "#9c179e"
             ],
             [
              0.4444444444444444,
              "#bd3786"
             ],
             [
              0.5555555555555556,
              "#d8576b"
             ],
             [
              0.6666666666666666,
              "#ed7953"
             ],
             [
              0.7777777777777778,
              "#fb9f3a"
             ],
             [
              0.8888888888888888,
              "#fdca26"
             ],
             [
              1,
              "#f0f921"
             ]
            ],
            "type": "contour"
           }
          ],
          "contourcarpet": [
           {
            "colorbar": {
             "outlinewidth": 0,
             "ticks": ""
            },
            "type": "contourcarpet"
           }
          ],
          "heatmap": [
           {
            "colorbar": {
             "outlinewidth": 0,
             "ticks": ""
            },
            "colorscale": [
             [
              0,
              "#0d0887"
             ],
             [
              0.1111111111111111,
              "#46039f"
             ],
             [
              0.2222222222222222,
              "#7201a8"
             ],
             [
              0.3333333333333333,
              "#9c179e"
             ],
             [
              0.4444444444444444,
              "#bd3786"
             ],
             [
              0.5555555555555556,
              "#d8576b"
             ],
             [
              0.6666666666666666,
              "#ed7953"
             ],
             [
              0.7777777777777778,
              "#fb9f3a"
             ],
             [
              0.8888888888888888,
              "#fdca26"
             ],
             [
              1,
              "#f0f921"
             ]
            ],
            "type": "heatmap"
           }
          ],
          "heatmapgl": [
           {
            "colorbar": {
             "outlinewidth": 0,
             "ticks": ""
            },
            "colorscale": [
             [
              0,
              "#0d0887"
             ],
             [
              0.1111111111111111,
              "#46039f"
             ],
             [
              0.2222222222222222,
              "#7201a8"
             ],
             [
              0.3333333333333333,
              "#9c179e"
             ],
             [
              0.4444444444444444,
              "#bd3786"
             ],
             [
              0.5555555555555556,
              "#d8576b"
             ],
             [
              0.6666666666666666,
              "#ed7953"
             ],
             [
              0.7777777777777778,
              "#fb9f3a"
             ],
             [
              0.8888888888888888,
              "#fdca26"
             ],
             [
              1,
              "#f0f921"
             ]
            ],
            "type": "heatmapgl"
           }
          ],
          "histogram": [
           {
            "marker": {
             "pattern": {
              "fillmode": "overlay",
              "size": 10,
              "solidity": 0.2
             }
            },
            "type": "histogram"
           }
          ],
          "histogram2d": [
           {
            "colorbar": {
             "outlinewidth": 0,
             "ticks": ""
            },
            "colorscale": [
             [
              0,
              "#0d0887"
             ],
             [
              0.1111111111111111,
              "#46039f"
             ],
             [
              0.2222222222222222,
              "#7201a8"
             ],
             [
              0.3333333333333333,
              "#9c179e"
             ],
             [
              0.4444444444444444,
              "#bd3786"
             ],
             [
              0.5555555555555556,
              "#d8576b"
             ],
             [
              0.6666666666666666,
              "#ed7953"
             ],
             [
              0.7777777777777778,
              "#fb9f3a"
             ],
             [
              0.8888888888888888,
              "#fdca26"
             ],
             [
              1,
              "#f0f921"
             ]
            ],
            "type": "histogram2d"
           }
          ],
          "histogram2dcontour": [
           {
            "colorbar": {
             "outlinewidth": 0,
             "ticks": ""
            },
            "colorscale": [
             [
              0,
              "#0d0887"
             ],
             [
              0.1111111111111111,
              "#46039f"
             ],
             [
              0.2222222222222222,
              "#7201a8"
             ],
             [
              0.3333333333333333,
              "#9c179e"
             ],
             [
              0.4444444444444444,
              "#bd3786"
             ],
             [
              0.5555555555555556,
              "#d8576b"
             ],
             [
              0.6666666666666666,
              "#ed7953"
             ],
             [
              0.7777777777777778,
              "#fb9f3a"
             ],
             [
              0.8888888888888888,
              "#fdca26"
             ],
             [
              1,
              "#f0f921"
             ]
            ],
            "type": "histogram2dcontour"
           }
          ],
          "mesh3d": [
           {
            "colorbar": {
             "outlinewidth": 0,
             "ticks": ""
            },
            "type": "mesh3d"
           }
          ],
          "parcoords": [
           {
            "line": {
             "colorbar": {
              "outlinewidth": 0,
              "ticks": ""
             }
            },
            "type": "parcoords"
           }
          ],
          "pie": [
           {
            "automargin": true,
            "type": "pie"
           }
          ],
          "scatter": [
           {
            "fillpattern": {
             "fillmode": "overlay",
             "size": 10,
             "solidity": 0.2
            },
            "type": "scatter"
           }
          ],
          "scatter3d": [
           {
            "line": {
             "colorbar": {
              "outlinewidth": 0,
              "ticks": ""
             }
            },
            "marker": {
             "colorbar": {
              "outlinewidth": 0,
              "ticks": ""
             }
            },
            "type": "scatter3d"
           }
          ],
          "scattercarpet": [
           {
            "marker": {
             "colorbar": {
              "outlinewidth": 0,
              "ticks": ""
             }
            },
            "type": "scattercarpet"
           }
          ],
          "scattergeo": [
           {
            "marker": {
             "colorbar": {
              "outlinewidth": 0,
              "ticks": ""
             }
            },
            "type": "scattergeo"
           }
          ],
          "scattergl": [
           {
            "marker": {
             "colorbar": {
              "outlinewidth": 0,
              "ticks": ""
             }
            },
            "type": "scattergl"
           }
          ],
          "scattermapbox": [
           {
            "marker": {
             "colorbar": {
              "outlinewidth": 0,
              "ticks": ""
             }
            },
            "type": "scattermapbox"
           }
          ],
          "scatterpolar": [
           {
            "marker": {
             "colorbar": {
              "outlinewidth": 0,
              "ticks": ""
             }
            },
            "type": "scatterpolar"
           }
          ],
          "scatterpolargl": [
           {
            "marker": {
             "colorbar": {
              "outlinewidth": 0,
              "ticks": ""
             }
            },
            "type": "scatterpolargl"
           }
          ],
          "scatterternary": [
           {
            "marker": {
             "colorbar": {
              "outlinewidth": 0,
              "ticks": ""
             }
            },
            "type": "scatterternary"
           }
          ],
          "surface": [
           {
            "colorbar": {
             "outlinewidth": 0,
             "ticks": ""
            },
            "colorscale": [
             [
              0,
              "#0d0887"
             ],
             [
              0.1111111111111111,
              "#46039f"
             ],
             [
              0.2222222222222222,
              "#7201a8"
             ],
             [
              0.3333333333333333,
              "#9c179e"
             ],
             [
              0.4444444444444444,
              "#bd3786"
             ],
             [
              0.5555555555555556,
              "#d8576b"
             ],
             [
              0.6666666666666666,
              "#ed7953"
             ],
             [
              0.7777777777777778,
              "#fb9f3a"
             ],
             [
              0.8888888888888888,
              "#fdca26"
             ],
             [
              1,
              "#f0f921"
             ]
            ],
            "type": "surface"
           }
          ],
          "table": [
           {
            "cells": {
             "fill": {
              "color": "#EBF0F8"
             },
             "line": {
              "color": "white"
             }
            },
            "header": {
             "fill": {
              "color": "#C8D4E3"
             },
             "line": {
              "color": "white"
             }
            },
            "type": "table"
           }
          ]
         },
         "layout": {
          "annotationdefaults": {
           "arrowcolor": "#2a3f5f",
           "arrowhead": 0,
           "arrowwidth": 1
          },
          "autotypenumbers": "strict",
          "coloraxis": {
           "colorbar": {
            "outlinewidth": 0,
            "ticks": ""
           }
          },
          "colorscale": {
           "diverging": [
            [
             0,
             "#8e0152"
            ],
            [
             0.1,
             "#c51b7d"
            ],
            [
             0.2,
             "#de77ae"
            ],
            [
             0.3,
             "#f1b6da"
            ],
            [
             0.4,
             "#fde0ef"
            ],
            [
             0.5,
             "#f7f7f7"
            ],
            [
             0.6,
             "#e6f5d0"
            ],
            [
             0.7,
             "#b8e186"
            ],
            [
             0.8,
             "#7fbc41"
            ],
            [
             0.9,
             "#4d9221"
            ],
            [
             1,
             "#276419"
            ]
           ],
           "sequential": [
            [
             0,
             "#0d0887"
            ],
            [
             0.1111111111111111,
             "#46039f"
            ],
            [
             0.2222222222222222,
             "#7201a8"
            ],
            [
             0.3333333333333333,
             "#9c179e"
            ],
            [
             0.4444444444444444,
             "#bd3786"
            ],
            [
             0.5555555555555556,
             "#d8576b"
            ],
            [
             0.6666666666666666,
             "#ed7953"
            ],
            [
             0.7777777777777778,
             "#fb9f3a"
            ],
            [
             0.8888888888888888,
             "#fdca26"
            ],
            [
             1,
             "#f0f921"
            ]
           ],
           "sequentialminus": [
            [
             0,
             "#0d0887"
            ],
            [
             0.1111111111111111,
             "#46039f"
            ],
            [
             0.2222222222222222,
             "#7201a8"
            ],
            [
             0.3333333333333333,
             "#9c179e"
            ],
            [
             0.4444444444444444,
             "#bd3786"
            ],
            [
             0.5555555555555556,
             "#d8576b"
            ],
            [
             0.6666666666666666,
             "#ed7953"
            ],
            [
             0.7777777777777778,
             "#fb9f3a"
            ],
            [
             0.8888888888888888,
             "#fdca26"
            ],
            [
             1,
             "#f0f921"
            ]
           ]
          },
          "colorway": [
           "#636efa",
           "#EF553B",
           "#00cc96",
           "#ab63fa",
           "#FFA15A",
           "#19d3f3",
           "#FF6692",
           "#B6E880",
           "#FF97FF",
           "#FECB52"
          ],
          "font": {
           "color": "#2a3f5f"
          },
          "geo": {
           "bgcolor": "white",
           "lakecolor": "white",
           "landcolor": "#E5ECF6",
           "showlakes": true,
           "showland": true,
           "subunitcolor": "white"
          },
          "hoverlabel": {
           "align": "left"
          },
          "hovermode": "closest",
          "mapbox": {
           "style": "light"
          },
          "paper_bgcolor": "white",
          "plot_bgcolor": "#E5ECF6",
          "polar": {
           "angularaxis": {
            "gridcolor": "white",
            "linecolor": "white",
            "ticks": ""
           },
           "bgcolor": "#E5ECF6",
           "radialaxis": {
            "gridcolor": "white",
            "linecolor": "white",
            "ticks": ""
           }
          },
          "scene": {
           "xaxis": {
            "backgroundcolor": "#E5ECF6",
            "gridcolor": "white",
            "gridwidth": 2,
            "linecolor": "white",
            "showbackground": true,
            "ticks": "",
            "zerolinecolor": "white"
           },
           "yaxis": {
            "backgroundcolor": "#E5ECF6",
            "gridcolor": "white",
            "gridwidth": 2,
            "linecolor": "white",
            "showbackground": true,
            "ticks": "",
            "zerolinecolor": "white"
           },
           "zaxis": {
            "backgroundcolor": "#E5ECF6",
            "gridcolor": "white",
            "gridwidth": 2,
            "linecolor": "white",
            "showbackground": true,
            "ticks": "",
            "zerolinecolor": "white"
           }
          },
          "shapedefaults": {
           "line": {
            "color": "#2a3f5f"
           }
          },
          "ternary": {
           "aaxis": {
            "gridcolor": "white",
            "linecolor": "white",
            "ticks": ""
           },
           "baxis": {
            "gridcolor": "white",
            "linecolor": "white",
            "ticks": ""
           },
           "bgcolor": "#E5ECF6",
           "caxis": {
            "gridcolor": "white",
            "linecolor": "white",
            "ticks": ""
           }
          },
          "title": {
           "x": 0.05
          },
          "xaxis": {
           "automargin": true,
           "gridcolor": "white",
           "linecolor": "white",
           "ticks": "",
           "title": {
            "standoff": 15
           },
           "zerolinecolor": "white",
           "zerolinewidth": 2
          },
          "yaxis": {
           "automargin": true,
           "gridcolor": "white",
           "linecolor": "white",
           "ticks": "",
           "title": {
            "standoff": 15
           },
           "zerolinecolor": "white",
           "zerolinewidth": 2
          }
         }
        },
        "title": {
         "text": "Bayesian Optimization History on Hartmann6 with POI Acquisition"
        },
        "xaxis": {
         "title": {
          "text": "Iteration"
         }
        },
        "yaxis": {
         "title": {
          "text": "Best Function Value"
         }
        }
       }
      }
     },
     "metadata": {},
     "output_type": "display_data"
    }
   ],
   "source": [
    "target = os.path.join(LOG_DIR, 'E2')\n",
    "models = ['GP', 'TP', 'AGT']\n",
    "objective = 'Hartmann6'\n",
    "acquisition = 'POI'\n",
    "keywards = [objective, acquisition]\n",
    "\n",
    "result_df_dict = create_result_df_dict(target, models, keywards)\n",
    "\n",
    "color_dict = {\n",
    "    'GP': px.colors.qualitative.Plotly[0],\n",
    "    'TP': px.colors.qualitative.Plotly[1],\n",
    "    'AGT': px.colors.qualitative.Plotly[2],\n",
    "}\n",
    "\n",
    "fig = go.Figure()\n",
    "\n",
    "for model_name, result_df in result_df_dict.items():\n",
    "    add_history_plot_with_error_bars(fig, model_name, result_df)\n",
    "\n",
    "# Customize the layout\n",
    "fig.update_layout(\n",
    "    title=f\"Bayesian Optimization History on {objective} with {acquisition} Acquisition\",\n",
    "    xaxis_title=\"Iteration\",\n",
    "    yaxis_title=\"Best Function Value\",\n",
    ")\n",
    "\n",
    "fig.show()"
   ]
  },
  {
   "cell_type": "code",
   "execution_count": null,
   "metadata": {},
   "outputs": [],
   "source": []
  }
 ],
 "metadata": {
  "kernelspec": {
   "display_name": "tpbo-env",
   "language": "python",
   "name": "python3"
  },
  "language_info": {
   "codemirror_mode": {
    "name": "ipython",
    "version": 3
   },
   "file_extension": ".py",
   "mimetype": "text/x-python",
   "name": "python",
   "nbconvert_exporter": "python",
   "pygments_lexer": "ipython3",
   "version": "3.12.5"
  }
 },
 "nbformat": 4,
 "nbformat_minor": 2
}
