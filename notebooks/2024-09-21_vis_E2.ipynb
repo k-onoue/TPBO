{
 "cells": [
  {
   "cell_type": "markdown",
   "metadata": {},
   "source": [
    "# E2"
   ]
  },
  {
   "cell_type": "code",
   "execution_count": 1,
   "metadata": {},
   "outputs": [],
   "source": [
    "import os\n",
    "\n",
    "from _import_from_src import search_log_files\n",
    "from _import_from_src import LogParser\n",
    "from _import_from_src import LOG_DIR\n",
    "\n",
    "target = os.path.join(LOG_DIR, 'E2')"
   ]
  },
  {
   "cell_type": "code",
   "execution_count": 2,
   "metadata": {},
   "outputs": [
    {
     "data": {
      "text/plain": [
       "['2024-09-21_04-48-13_vanilla_bo_BraninHoo_GP_EI_seed1.log',\n",
       " '2024-09-21_04-48-13_vanilla_bo_BraninHoo_GP_POI_seed1.log',\n",
       " '2024-09-21_04-48-13_vanilla_bo_BraninHoo_GP_UCB_seed1.log',\n",
       " '2024-09-21_04-48-13_vanilla_bo_BraninHoo_TP_EI_seed1.log',\n",
       " '2024-09-21_04-48-13_vanilla_bo_BraninHoo_TP_POI_seed1.log',\n",
       " '2024-09-21_04-48-13_vanilla_bo_BraninHoo_TP_UCB_seed1.log',\n",
       " '2024-09-21_04-48-13_vanilla_bo_Hartmann6_GP_UCB_seed1.log',\n",
       " '2024-09-21_04-48-13_vanilla_bo_SinusoidalSynthetic_GP_EI_seed1.log',\n",
       " '2024-09-21_04-48-13_vanilla_bo_SinusoidalSynthetic_GP_POI_seed1.log',\n",
       " '2024-09-21_04-48-13_vanilla_bo_SinusoidalSynthetic_GP_UCB_seed1.log',\n",
       " '2024-09-21_04-48-13_vanilla_bo_SinusoidalSynthetic_TP_EI_seed1.log',\n",
       " '2024-09-21_04-48-13_vanilla_bo_SinusoidalSynthetic_TP_POI_seed1.log',\n",
       " '2024-09-21_04-48-13_vanilla_bo_SinusoidalSynthetic_TP_UCB_seed1.log',\n",
       " '2024-09-21_04-49-11_vanilla_bo_Hartmann6_GP_EI_seed1.log',\n",
       " '2024-09-21_04-49-11_vanilla_bo_Hartmann6_GP_POI_seed1.log',\n",
       " '2024-09-21_04-49-11_vanilla_bo_Hartmann6_TP_EI_seed1.log',\n",
       " '2024-09-21_04-49-11_vanilla_bo_Hartmann6_TP_POI_seed1.log',\n",
       " '2024-09-21_04-49-11_vanilla_bo_Hartmann6_TP_UCB_seed1.log']"
      ]
     },
     "execution_count": 2,
     "metadata": {},
     "output_type": "execute_result"
    }
   ],
   "source": [
    "search_log_files(target, [\"seed1\"])"
   ]
  },
  {
   "cell_type": "code",
   "execution_count": 3,
   "metadata": {},
   "outputs": [
    {
     "data": {
      "text/plain": [
       "[]"
      ]
     },
     "execution_count": 3,
     "metadata": {},
     "output_type": "execute_result"
    }
   ],
   "source": [
    "search_log_files(target, [\"seed0\"])"
   ]
  },
  {
   "cell_type": "code",
   "execution_count": 27,
   "metadata": {},
   "outputs": [
    {
     "name": "stdout",
     "output_type": "stream",
     "text": [
      "Failed to parse settings: invalid syntax (<unknown>, line 1)\n"
     ]
    },
    {
     "data": {
      "text/html": [
       "<div>\n",
       "<style scoped>\n",
       "    .dataframe tbody tr th:only-of-type {\n",
       "        vertical-align: middle;\n",
       "    }\n",
       "\n",
       "    .dataframe tbody tr th {\n",
       "        vertical-align: top;\n",
       "    }\n",
       "\n",
       "    .dataframe thead th {\n",
       "        text-align: right;\n",
       "    }\n",
       "</style>\n",
       "<table border=\"1\" class=\"dataframe\">\n",
       "  <thead>\n",
       "    <tr style=\"text-align: right;\">\n",
       "      <th></th>\n",
       "      <th>X_new</th>\n",
       "      <th>y_new</th>\n",
       "      <th>y_best</th>\n",
       "      <th>Beta</th>\n",
       "      <th>Beta:n</th>\n",
       "      <th>Iteration</th>\n",
       "    </tr>\n",
       "  </thead>\n",
       "  <tbody>\n",
       "    <tr>\n",
       "      <th>0</th>\n",
       "      <td>[0.93602013, 0.26717965, 0.31073498, 0.5513022...</td>\n",
       "      <td>-0.089122</td>\n",
       "      <td>-0.561987</td>\n",
       "      <td>1.642397</td>\n",
       "      <td>0.410599</td>\n",
       "      <td>0</td>\n",
       "    </tr>\n",
       "    <tr>\n",
       "      <th>1</th>\n",
       "      <td>[0.26926599, 0.85589586, 0.50724216, 0.3559048...</td>\n",
       "      <td>-0.561987</td>\n",
       "      <td>-0.561987</td>\n",
       "      <td>1.642397</td>\n",
       "      <td>0.410599</td>\n",
       "      <td>0</td>\n",
       "    </tr>\n",
       "    <tr>\n",
       "      <th>2</th>\n",
       "      <td>[0.00094026, 0.1436044, 0.23195907, 0.89506428...</td>\n",
       "      <td>-0.004142</td>\n",
       "      <td>-0.561987</td>\n",
       "      <td>1.642397</td>\n",
       "      <td>0.410599</td>\n",
       "      <td>0</td>\n",
       "    </tr>\n",
       "    <tr>\n",
       "      <th>3</th>\n",
       "      <td>[0.66912849, 0.73335821, 0.95787668, 0.1996512...</td>\n",
       "      <td>-0.008838</td>\n",
       "      <td>-0.561987</td>\n",
       "      <td>1.642397</td>\n",
       "      <td>0.410599</td>\n",
       "      <td>0</td>\n",
       "    </tr>\n",
       "    <tr>\n",
       "      <th>0</th>\n",
       "      <td>[0.25527698, 0.9311639, 0.5099742, 0.35553768,...</td>\n",
       "      <td>-0.455371</td>\n",
       "      <td>-0.561987</td>\n",
       "      <td>1.642397</td>\n",
       "      <td>0.410599</td>\n",
       "      <td>1</td>\n",
       "    </tr>\n",
       "    <tr>\n",
       "      <th>...</th>\n",
       "      <td>...</td>\n",
       "      <td>...</td>\n",
       "      <td>...</td>\n",
       "      <td>...</td>\n",
       "      <td>...</td>\n",
       "      <td>...</td>\n",
       "    </tr>\n",
       "    <tr>\n",
       "      <th>95</th>\n",
       "      <td>[0.55039656, 0.5196992, 0.65227914, 0.57373834...</td>\n",
       "      <td>-0.439318</td>\n",
       "      <td>-2.692328</td>\n",
       "      <td>59.829636</td>\n",
       "      <td>0.604340</td>\n",
       "      <td>96</td>\n",
       "    </tr>\n",
       "    <tr>\n",
       "      <th>96</th>\n",
       "      <td>[0.55039656, 0.5196992, 0.65227914, 0.57373834...</td>\n",
       "      <td>-0.439318</td>\n",
       "      <td>-2.692328</td>\n",
       "      <td>58.851715</td>\n",
       "      <td>0.588517</td>\n",
       "      <td>97</td>\n",
       "    </tr>\n",
       "    <tr>\n",
       "      <th>97</th>\n",
       "      <td>[0.55039656, 0.5196992, 0.65227914, 0.57373834...</td>\n",
       "      <td>-0.439318</td>\n",
       "      <td>-2.692328</td>\n",
       "      <td>60.317413</td>\n",
       "      <td>0.597202</td>\n",
       "      <td>98</td>\n",
       "    </tr>\n",
       "    <tr>\n",
       "      <th>98</th>\n",
       "      <td>[0.55039656, 0.5196992, 0.65227914, 0.57373834...</td>\n",
       "      <td>-0.439318</td>\n",
       "      <td>-2.692328</td>\n",
       "      <td>60.515034</td>\n",
       "      <td>0.593285</td>\n",
       "      <td>99</td>\n",
       "    </tr>\n",
       "    <tr>\n",
       "      <th>99</th>\n",
       "      <td>[0.55039656, 0.5196992, 0.65227914, 0.57373834...</td>\n",
       "      <td>-0.439318</td>\n",
       "      <td>-2.692328</td>\n",
       "      <td>59.413353</td>\n",
       "      <td>0.576829</td>\n",
       "      <td>100</td>\n",
       "    </tr>\n",
       "  </tbody>\n",
       "</table>\n",
       "<p>104 rows × 6 columns</p>\n",
       "</div>"
      ],
      "text/plain": [
       "                                                X_new     y_new    y_best  \\\n",
       "0   [0.93602013, 0.26717965, 0.31073498, 0.5513022... -0.089122 -0.561987   \n",
       "1   [0.26926599, 0.85589586, 0.50724216, 0.3559048... -0.561987 -0.561987   \n",
       "2   [0.00094026, 0.1436044, 0.23195907, 0.89506428... -0.004142 -0.561987   \n",
       "3   [0.66912849, 0.73335821, 0.95787668, 0.1996512... -0.008838 -0.561987   \n",
       "0   [0.25527698, 0.9311639, 0.5099742, 0.35553768,... -0.455371 -0.561987   \n",
       "..                                                ...       ...       ...   \n",
       "95  [0.55039656, 0.5196992, 0.65227914, 0.57373834... -0.439318 -2.692328   \n",
       "96  [0.55039656, 0.5196992, 0.65227914, 0.57373834... -0.439318 -2.692328   \n",
       "97  [0.55039656, 0.5196992, 0.65227914, 0.57373834... -0.439318 -2.692328   \n",
       "98  [0.55039656, 0.5196992, 0.65227914, 0.57373834... -0.439318 -2.692328   \n",
       "99  [0.55039656, 0.5196992, 0.65227914, 0.57373834... -0.439318 -2.692328   \n",
       "\n",
       "         Beta    Beta:n  Iteration  \n",
       "0    1.642397  0.410599          0  \n",
       "1    1.642397  0.410599          0  \n",
       "2    1.642397  0.410599          0  \n",
       "3    1.642397  0.410599          0  \n",
       "0    1.642397  0.410599          1  \n",
       "..        ...       ...        ...  \n",
       "95  59.829636  0.604340         96  \n",
       "96  58.851715  0.588517         97  \n",
       "97  60.317413  0.597202         98  \n",
       "98  60.515034  0.593285         99  \n",
       "99  59.413353  0.576829        100  \n",
       "\n",
       "[104 rows x 6 columns]"
      ]
     },
     "execution_count": 27,
     "metadata": {},
     "output_type": "execute_result"
    }
   ],
   "source": [
    "import ast\n",
    "import re\n",
    "import os\n",
    "\n",
    "import numpy as np\n",
    "import pandas as pd\n",
    "\n",
    "\n",
    "\n",
    "class LogParser:\n",
    "    def __init__(self, file_path):\n",
    "        self.file_path = file_path\n",
    "        self.settings = {}\n",
    "        self.initial_data = {\"X_initial\": [], \"y_initial\": []}\n",
    "        self.bo_data = {\"X_new\": [], \"y_new\": [], \"Beta\": [], \"Iteration\": []}\n",
    "        self.objective = None\n",
    "\n",
    "    def _combine_log_entries(self):\n",
    "        with open(self.file_path, \"r\") as file:  # 修正: self.log_file → self.file_path\n",
    "            lines = file.readlines()\n",
    "\n",
    "        timestamp_pattern = r\"\\d{4}-\\d{2}-\\d{2} \\d{2}:\\d{2}:\\d{2},\\d{3} - \"\n",
    "\n",
    "        combined_lines = []\n",
    "        current_entry = \"\"\n",
    "\n",
    "        for line in lines:\n",
    "            if re.match(timestamp_pattern, line):\n",
    "                if current_entry:\n",
    "                    combined_lines.append(current_entry.strip())\n",
    "                current_entry = line.strip()\n",
    "            else:\n",
    "                current_entry += \" \" + line.strip()\n",
    "\n",
    "        if current_entry:\n",
    "            combined_lines.append(current_entry.strip())\n",
    "\n",
    "        return combined_lines\n",
    "\n",
    "    def _parse_settings(self, line):\n",
    "        settings_str = line.split(\"settings:\")[1].strip()\n",
    "        try:\n",
    "            # Parse the settings safely\n",
    "            self.settings = self._safe_parse_settings(settings_str)\n",
    "            \n",
    "            # More flexible regex to capture the class name of the objective_function\n",
    "            obj_func_match = re.search(r\"objective_function':\\s*<.*?\\.([A-Za-z0-9_]+)\\s+object\\s+at\", settings_str)\n",
    "            \n",
    "            if obj_func_match:\n",
    "                objective_function_name = obj_func_match.group(1)\n",
    "                print(f\"Objective Function: {objective_function_name}\")\n",
    "            else:\n",
    "                print(\"Objective Function not found in settings.\")\n",
    "                \n",
    "        except SyntaxError as e:\n",
    "            print(f\"Failed to parse settings: {e}\")\n",
    "            self.settings = settings_str\n",
    "\n",
    "    def _safe_parse_settings(self, settings_str):\n",
    "        # array と <function>, <class> の部分を文字列に置換\n",
    "        settings_str = re.sub(r\"<function\\s+\\w+\\s+at\\s+0x[0-9a-fA-F]+>\", \"'<function>'\", settings_str)\n",
    "        settings_str = re.sub(r\"<class\\s+'\\w+\\.\\w+'>\", \"'<class>'\", settings_str)\n",
    "        settings_str = re.sub(r\"<\\w+\\.\\w+\\s+object\\s+at\\s+0x[0-9a-fA-F]+>\", \"'<object>'\", settings_str)\n",
    "        \n",
    "        # 辞書を文字列から生成（evalは使わず安全なast.literal_evalを使う）\n",
    "        settings_dict = ast.literal_eval(settings_str)\n",
    "        \n",
    "        return settings_dict\n",
    "\n",
    "    def parse_log_file(self):\n",
    "        combined_lines = self._combine_log_entries()\n",
    "        current_data = {}\n",
    "        \n",
    "        for line in combined_lines:\n",
    "            # Parse settings\n",
    "            if \"Start BO with settings:\" in line:\n",
    "                settings_str = re.search(r\"Start BO with settings: (.*)\", line).group(1)\n",
    "\n",
    "                try:\n",
    "                    self._parse_settings(line)\n",
    "                except Exception as e:\n",
    "                    print(f\"Failed to parse settings: {e}\")\n",
    "                    self.settings = settings_str\n",
    "            \n",
    "            # Parse X_initial and y_initial\n",
    "            elif \"X initial:\" in line:\n",
    "                x_initial_str = re.search(r\"X initial: (\\[.*?\\])\", line).group(1)\n",
    "                self.initial_data[\"X_initial\"].append(self._extract_float_list(x_initial_str))\n",
    "            elif \"y initial:\" in line:\n",
    "                y_initial_str = re.search(r\"y initial: (\\[.*?\\])\", line).group(1)\n",
    "                self.initial_data[\"y_initial\"].append(self._extract_float_list(y_initial_str))\n",
    "\n",
    "            # Parse Beta, Iteration, X_new, and y_new\n",
    "            elif \"Beta:\" in line:\n",
    "                current_data[\"Beta\"] = float(re.search(r\"Beta: ([-+]?\\d*\\.\\d+|\\d+)\", line).group(1))\n",
    "            elif \"Iteration:\" in line:\n",
    "                current_data[\"Iteration\"] = int(re.search(r\"Iteration: (\\d+) /\", line).group(1))\n",
    "            elif \"X new:\" in line:\n",
    "                current_data[\"X_new\"] = self._extract_float_list(re.search(r\"X new: (\\[\\[.*?\\]\\])\", line).group(1))\n",
    "            elif \"y new:\" in line:\n",
    "                current_data[\"y_new\"] = self._extract_float_list(re.search(r\"y new: (\\[\\[.*?\\]\\])\", line).group(1))\n",
    "\n",
    "                # Check if all required fields are in `current_data`\n",
    "                if all(key in current_data for key in [\"Beta\", \"Iteration\", \"X_new\", \"y_new\"]):\n",
    "                    # Append the current data to `self.bo_data`\n",
    "                    self.bo_data[\"Beta\"].append(current_data[\"Beta\"])\n",
    "                    self.bo_data[\"Iteration\"].append(current_data[\"Iteration\"])\n",
    "                    self.bo_data[\"X_new\"].append(current_data[\"X_new\"])\n",
    "                    self.bo_data[\"y_new\"].append(current_data[\"y_new\"])\n",
    "\n",
    "                    # Clear current_data for the next entry\n",
    "                    current_data.clear()\n",
    "        \n",
    "        # pandas DataFrame に変換\n",
    "        self.initial_data = pd.DataFrame(self.initial_data)\n",
    "        self.bo_data = pd.DataFrame(self.bo_data)\n",
    "\n",
    "        self.initial_data[\"X_initial\"] = self.initial_data[\"X_initial\"].apply(np.array)\n",
    "        self.initial_data[\"y_initial\"] = self.initial_data[\"y_initial\"].apply(np.array)\n",
    "        self.initial_data[\"y_initial\"] = self.initial_data[\"y_initial\"].apply(float)\n",
    "\n",
    "        self.bo_data[\"X_new\"] = self.bo_data[\"X_new\"].apply(np.array)\n",
    "        self.bo_data[\"y_new\"] = self.bo_data[\"y_new\"].apply(np.array)\n",
    "        self.bo_data[\"y_new\"] = self.bo_data[\"y_new\"].apply(float)\n",
    "        \n",
    "\n",
    "    def _extract_float_list(self, array_str):\n",
    "        # Updated regex pattern to capture numbers in scientific notation as well\n",
    "        number_pattern = r\"[-+]?\\d*\\.\\d+(?:[eE][-+]?\\d+)?|\\d+\"\n",
    "        numbers = re.findall(number_pattern, array_str)\n",
    "        return [float(num) for num in numbers]\n",
    "    \n",
    "    def create_combined_dataframe(self):\n",
    "        beta_init = self.bo_data['Beta'].iloc[0]\n",
    "\n",
    "        df_init = self.initial_data.copy()\n",
    "        df_init['X_new'] = df_init['X_initial']\n",
    "        df_init['y_new'] = df_init['y_initial']\n",
    "        df_init.drop(columns=['X_initial', 'y_initial'], inplace=True)\n",
    "        df_init['y_best'] = df_init['y_new'].min()\n",
    "        df_init['Beta'] = beta_init\n",
    "        df_init['Beta:n'] = beta_init / len(df_init)\n",
    "        df_init['Iteration'] = 0\n",
    "\n",
    "        df_main = self.bo_data.copy()\n",
    "        df_main['y_best'] = df_main['y_new'].cummin()\n",
    "        df_main['y_best'] = np.minimum(df_main['y_best'], df_init['y_best'].iloc[0])\n",
    "        df_main['Beta:n'] = df_main['Beta'] / (len(df_init) + df_main.index)\n",
    "\n",
    "        df = pd.concat([df_init, df_main])\n",
    "        return df \n",
    "\n",
    "\n",
    "# ファイルをパースする\n",
    "file_name = '2024-09-21_04-49-11_vanilla_bo_Hartmann6_GP_EI_seed1.log'\n",
    "file_path = os.path.join(target, file_name)\n",
    "\n",
    "parser = LogParser(file_path)\n",
    "parser.parse_log_file()\n",
    "\n",
    "# # 結果を表示\n",
    "# print(\"Settings:\", parser.settings)\n",
    "# print(\"Initial Data:\")\n",
    "# print(parser.initial_data)\n",
    "# print(\"BO Data:\")\n",
    "# print(parser.bo_data)\n",
    "\n",
    "df_combined = parser.create_combined_dataframe()\n",
    "df_combined"
   ]
  },
  {
   "cell_type": "code",
   "execution_count": 6,
   "metadata": {},
   "outputs": [
    {
     "data": {
      "application/vnd.plotly.v1+json": {
       "config": {
        "plotlyServerURL": "https://plot.ly"
       },
       "data": [
        {
         "marker": {
          "color": "blue"
         },
         "mode": "markers",
         "name": "y_new",
         "type": "scatter",
         "x": [
          0,
          0,
          0,
          0,
          1,
          2,
          3,
          4,
          5,
          6,
          7,
          8,
          9,
          10,
          11,
          12,
          13,
          14,
          15,
          16,
          17,
          18,
          19,
          20,
          21,
          22,
          23,
          24,
          25,
          26,
          27,
          28,
          29,
          30,
          31,
          32,
          33,
          34,
          35,
          36,
          37,
          38,
          39,
          40,
          41,
          42,
          43,
          44,
          45,
          46,
          47,
          48,
          49,
          50,
          51,
          52,
          53,
          54,
          55,
          56,
          57,
          58,
          59,
          60,
          61,
          62,
          63,
          64,
          65,
          66,
          67,
          68,
          69,
          70,
          71,
          72,
          73,
          74,
          75,
          76,
          77,
          78,
          79,
          80,
          81,
          82,
          83,
          84,
          85,
          86,
          87,
          88,
          89,
          90,
          91,
          92,
          93,
          94,
          95,
          96,
          97,
          98,
          99,
          100
         ],
         "y": [
          -0.08912247,
          -0.56198663,
          -0.00414164,
          -0.00883751,
          -0.45537084,
          -0.48429774,
          -0.32308662,
          -0.08870349,
          -0.23554077,
          -0.34425777,
          -0.28200736,
          -0.51810013,
          -0.55283317,
          -0.08394792,
          -0.78256507,
          -1.01627007,
          -1.2015229,
          -1.27090869,
          -1.25266888,
          -1.26623323,
          -1.19136405,
          -1.86970906,
          -1.88018403,
          -1.98478316,
          -1.52727762,
          -0.15914326,
          -0.00106805,
          -1.83047332,
          -0.00101866,
          -0.17859478,
          -2.5006068,
          -2.66494792,
          -0.00023194,
          -0.00000490081857,
          -2.643106,
          -2.65710239,
          -0.07036425,
          -0.1184696,
          -2.6669537,
          -2.69232786,
          -2.64004434,
          -2.57494249,
          -0.0142684,
          -0.00041248,
          -0.0000114595612,
          -1.29038547,
          -0.00594066,
          -0.0000216857174,
          -0.00000163941947,
          -0.00056629,
          -0.00508911,
          -0.11804583,
          -0.00024853,
          -0.01746651,
          -0.0000147133579,
          -2.92796968e-7,
          -0.00827034,
          -0.0104221,
          -0.32746928,
          -0.02533036,
          -0.00931609,
          -0.00461266,
          -0.23933541,
          -0.30242121,
          -0.03186452,
          -0.00707303,
          -0.43931783,
          -0.05960132,
          -0.43931783,
          -0.43931783,
          -0.43931783,
          -0.43931783,
          -0.43931783,
          -0.43931783,
          -0.43931783,
          -0.43931783,
          -0.43931783,
          -0.00461266,
          -0.00461266,
          -0.00461266,
          -0.00461266,
          -0.00461266,
          -0.00461266,
          -0.00461266,
          -0.00461266,
          -0.00461266,
          -0.00461266,
          -0.43931783,
          -0.43931783,
          -0.43931783,
          -0.43931783,
          -0.43931783,
          -0.43931783,
          -0.43931783,
          -0.43931783,
          -0.43931783,
          -0.43931783,
          -0.43931783,
          -0.43931783,
          -0.43931783,
          -0.43931783,
          -0.43931783,
          -0.43931783,
          -0.43931783
         ]
        },
        {
         "line": {
          "color": "blue"
         },
         "mode": "lines",
         "name": "y_best",
         "type": "scatter",
         "x": [
          0,
          0,
          0,
          0,
          1,
          2,
          3,
          4,
          5,
          6,
          7,
          8,
          9,
          10,
          11,
          12,
          13,
          14,
          15,
          16,
          17,
          18,
          19,
          20,
          21,
          22,
          23,
          24,
          25,
          26,
          27,
          28,
          29,
          30,
          31,
          32,
          33,
          34,
          35,
          36,
          37,
          38,
          39,
          40,
          41,
          42,
          43,
          44,
          45,
          46,
          47,
          48,
          49,
          50,
          51,
          52,
          53,
          54,
          55,
          56,
          57,
          58,
          59,
          60,
          61,
          62,
          63,
          64,
          65,
          66,
          67,
          68,
          69,
          70,
          71,
          72,
          73,
          74,
          75,
          76,
          77,
          78,
          79,
          80,
          81,
          82,
          83,
          84,
          85,
          86,
          87,
          88,
          89,
          90,
          91,
          92,
          93,
          94,
          95,
          96,
          97,
          98,
          99,
          100
         ],
         "y": [
          -0.56198663,
          -0.56198663,
          -0.56198663,
          -0.56198663,
          -0.56198663,
          -0.56198663,
          -0.56198663,
          -0.56198663,
          -0.56198663,
          -0.56198663,
          -0.56198663,
          -0.56198663,
          -0.56198663,
          -0.56198663,
          -0.78256507,
          -1.01627007,
          -1.2015229,
          -1.27090869,
          -1.27090869,
          -1.27090869,
          -1.27090869,
          -1.86970906,
          -1.88018403,
          -1.98478316,
          -1.98478316,
          -1.98478316,
          -1.98478316,
          -1.98478316,
          -1.98478316,
          -1.98478316,
          -2.5006068,
          -2.66494792,
          -2.66494792,
          -2.66494792,
          -2.66494792,
          -2.66494792,
          -2.66494792,
          -2.66494792,
          -2.6669537,
          -2.69232786,
          -2.69232786,
          -2.69232786,
          -2.69232786,
          -2.69232786,
          -2.69232786,
          -2.69232786,
          -2.69232786,
          -2.69232786,
          -2.69232786,
          -2.69232786,
          -2.69232786,
          -2.69232786,
          -2.69232786,
          -2.69232786,
          -2.69232786,
          -2.69232786,
          -2.69232786,
          -2.69232786,
          -2.69232786,
          -2.69232786,
          -2.69232786,
          -2.69232786,
          -2.69232786,
          -2.69232786,
          -2.69232786,
          -2.69232786,
          -2.69232786,
          -2.69232786,
          -2.69232786,
          -2.69232786,
          -2.69232786,
          -2.69232786,
          -2.69232786,
          -2.69232786,
          -2.69232786,
          -2.69232786,
          -2.69232786,
          -2.69232786,
          -2.69232786,
          -2.69232786,
          -2.69232786,
          -2.69232786,
          -2.69232786,
          -2.69232786,
          -2.69232786,
          -2.69232786,
          -2.69232786,
          -2.69232786,
          -2.69232786,
          -2.69232786,
          -2.69232786,
          -2.69232786,
          -2.69232786,
          -2.69232786,
          -2.69232786,
          -2.69232786,
          -2.69232786,
          -2.69232786,
          -2.69232786,
          -2.69232786,
          -2.69232786,
          -2.69232786,
          -2.69232786,
          -2.69232786
         ]
        },
        {
         "marker": {
          "color": "orange"
         },
         "mode": "markers",
         "name": "y_new (Beta:n >= 1)",
         "type": "scatter",
         "x": [
          15,
          16,
          17,
          18
         ],
         "y": [
          -1.25266888,
          -1.26623323,
          -1.19136405,
          -1.86970906
         ]
        }
       ],
       "layout": {
        "legend": {
         "title": {
          "text": "Metrics"
         }
        },
        "template": {
         "data": {
          "bar": [
           {
            "error_x": {
             "color": "#2a3f5f"
            },
            "error_y": {
             "color": "#2a3f5f"
            },
            "marker": {
             "line": {
              "color": "#E5ECF6",
              "width": 0.5
             },
             "pattern": {
              "fillmode": "overlay",
              "size": 10,
              "solidity": 0.2
             }
            },
            "type": "bar"
           }
          ],
          "barpolar": [
           {
            "marker": {
             "line": {
              "color": "#E5ECF6",
              "width": 0.5
             },
             "pattern": {
              "fillmode": "overlay",
              "size": 10,
              "solidity": 0.2
             }
            },
            "type": "barpolar"
           }
          ],
          "carpet": [
           {
            "aaxis": {
             "endlinecolor": "#2a3f5f",
             "gridcolor": "white",
             "linecolor": "white",
             "minorgridcolor": "white",
             "startlinecolor": "#2a3f5f"
            },
            "baxis": {
             "endlinecolor": "#2a3f5f",
             "gridcolor": "white",
             "linecolor": "white",
             "minorgridcolor": "white",
             "startlinecolor": "#2a3f5f"
            },
            "type": "carpet"
           }
          ],
          "choropleth": [
           {
            "colorbar": {
             "outlinewidth": 0,
             "ticks": ""
            },
            "type": "choropleth"
           }
          ],
          "contour": [
           {
            "colorbar": {
             "outlinewidth": 0,
             "ticks": ""
            },
            "colorscale": [
             [
              0,
              "#0d0887"
             ],
             [
              0.1111111111111111,
              "#46039f"
             ],
             [
              0.2222222222222222,
              "#7201a8"
             ],
             [
              0.3333333333333333,
              "#9c179e"
             ],
             [
              0.4444444444444444,
              "#bd3786"
             ],
             [
              0.5555555555555556,
              "#d8576b"
             ],
             [
              0.6666666666666666,
              "#ed7953"
             ],
             [
              0.7777777777777778,
              "#fb9f3a"
             ],
             [
              0.8888888888888888,
              "#fdca26"
             ],
             [
              1,
              "#f0f921"
             ]
            ],
            "type": "contour"
           }
          ],
          "contourcarpet": [
           {
            "colorbar": {
             "outlinewidth": 0,
             "ticks": ""
            },
            "type": "contourcarpet"
           }
          ],
          "heatmap": [
           {
            "colorbar": {
             "outlinewidth": 0,
             "ticks": ""
            },
            "colorscale": [
             [
              0,
              "#0d0887"
             ],
             [
              0.1111111111111111,
              "#46039f"
             ],
             [
              0.2222222222222222,
              "#7201a8"
             ],
             [
              0.3333333333333333,
              "#9c179e"
             ],
             [
              0.4444444444444444,
              "#bd3786"
             ],
             [
              0.5555555555555556,
              "#d8576b"
             ],
             [
              0.6666666666666666,
              "#ed7953"
             ],
             [
              0.7777777777777778,
              "#fb9f3a"
             ],
             [
              0.8888888888888888,
              "#fdca26"
             ],
             [
              1,
              "#f0f921"
             ]
            ],
            "type": "heatmap"
           }
          ],
          "heatmapgl": [
           {
            "colorbar": {
             "outlinewidth": 0,
             "ticks": ""
            },
            "colorscale": [
             [
              0,
              "#0d0887"
             ],
             [
              0.1111111111111111,
              "#46039f"
             ],
             [
              0.2222222222222222,
              "#7201a8"
             ],
             [
              0.3333333333333333,
              "#9c179e"
             ],
             [
              0.4444444444444444,
              "#bd3786"
             ],
             [
              0.5555555555555556,
              "#d8576b"
             ],
             [
              0.6666666666666666,
              "#ed7953"
             ],
             [
              0.7777777777777778,
              "#fb9f3a"
             ],
             [
              0.8888888888888888,
              "#fdca26"
             ],
             [
              1,
              "#f0f921"
             ]
            ],
            "type": "heatmapgl"
           }
          ],
          "histogram": [
           {
            "marker": {
             "pattern": {
              "fillmode": "overlay",
              "size": 10,
              "solidity": 0.2
             }
            },
            "type": "histogram"
           }
          ],
          "histogram2d": [
           {
            "colorbar": {
             "outlinewidth": 0,
             "ticks": ""
            },
            "colorscale": [
             [
              0,
              "#0d0887"
             ],
             [
              0.1111111111111111,
              "#46039f"
             ],
             [
              0.2222222222222222,
              "#7201a8"
             ],
             [
              0.3333333333333333,
              "#9c179e"
             ],
             [
              0.4444444444444444,
              "#bd3786"
             ],
             [
              0.5555555555555556,
              "#d8576b"
             ],
             [
              0.6666666666666666,
              "#ed7953"
             ],
             [
              0.7777777777777778,
              "#fb9f3a"
             ],
             [
              0.8888888888888888,
              "#fdca26"
             ],
             [
              1,
              "#f0f921"
             ]
            ],
            "type": "histogram2d"
           }
          ],
          "histogram2dcontour": [
           {
            "colorbar": {
             "outlinewidth": 0,
             "ticks": ""
            },
            "colorscale": [
             [
              0,
              "#0d0887"
             ],
             [
              0.1111111111111111,
              "#46039f"
             ],
             [
              0.2222222222222222,
              "#7201a8"
             ],
             [
              0.3333333333333333,
              "#9c179e"
             ],
             [
              0.4444444444444444,
              "#bd3786"
             ],
             [
              0.5555555555555556,
              "#d8576b"
             ],
             [
              0.6666666666666666,
              "#ed7953"
             ],
             [
              0.7777777777777778,
              "#fb9f3a"
             ],
             [
              0.8888888888888888,
              "#fdca26"
             ],
             [
              1,
              "#f0f921"
             ]
            ],
            "type": "histogram2dcontour"
           }
          ],
          "mesh3d": [
           {
            "colorbar": {
             "outlinewidth": 0,
             "ticks": ""
            },
            "type": "mesh3d"
           }
          ],
          "parcoords": [
           {
            "line": {
             "colorbar": {
              "outlinewidth": 0,
              "ticks": ""
             }
            },
            "type": "parcoords"
           }
          ],
          "pie": [
           {
            "automargin": true,
            "type": "pie"
           }
          ],
          "scatter": [
           {
            "fillpattern": {
             "fillmode": "overlay",
             "size": 10,
             "solidity": 0.2
            },
            "type": "scatter"
           }
          ],
          "scatter3d": [
           {
            "line": {
             "colorbar": {
              "outlinewidth": 0,
              "ticks": ""
             }
            },
            "marker": {
             "colorbar": {
              "outlinewidth": 0,
              "ticks": ""
             }
            },
            "type": "scatter3d"
           }
          ],
          "scattercarpet": [
           {
            "marker": {
             "colorbar": {
              "outlinewidth": 0,
              "ticks": ""
             }
            },
            "type": "scattercarpet"
           }
          ],
          "scattergeo": [
           {
            "marker": {
             "colorbar": {
              "outlinewidth": 0,
              "ticks": ""
             }
            },
            "type": "scattergeo"
           }
          ],
          "scattergl": [
           {
            "marker": {
             "colorbar": {
              "outlinewidth": 0,
              "ticks": ""
             }
            },
            "type": "scattergl"
           }
          ],
          "scattermapbox": [
           {
            "marker": {
             "colorbar": {
              "outlinewidth": 0,
              "ticks": ""
             }
            },
            "type": "scattermapbox"
           }
          ],
          "scatterpolar": [
           {
            "marker": {
             "colorbar": {
              "outlinewidth": 0,
              "ticks": ""
             }
            },
            "type": "scatterpolar"
           }
          ],
          "scatterpolargl": [
           {
            "marker": {
             "colorbar": {
              "outlinewidth": 0,
              "ticks": ""
             }
            },
            "type": "scatterpolargl"
           }
          ],
          "scatterternary": [
           {
            "marker": {
             "colorbar": {
              "outlinewidth": 0,
              "ticks": ""
             }
            },
            "type": "scatterternary"
           }
          ],
          "surface": [
           {
            "colorbar": {
             "outlinewidth": 0,
             "ticks": ""
            },
            "colorscale": [
             [
              0,
              "#0d0887"
             ],
             [
              0.1111111111111111,
              "#46039f"
             ],
             [
              0.2222222222222222,
              "#7201a8"
             ],
             [
              0.3333333333333333,
              "#9c179e"
             ],
             [
              0.4444444444444444,
              "#bd3786"
             ],
             [
              0.5555555555555556,
              "#d8576b"
             ],
             [
              0.6666666666666666,
              "#ed7953"
             ],
             [
              0.7777777777777778,
              "#fb9f3a"
             ],
             [
              0.8888888888888888,
              "#fdca26"
             ],
             [
              1,
              "#f0f921"
             ]
            ],
            "type": "surface"
           }
          ],
          "table": [
           {
            "cells": {
             "fill": {
              "color": "#EBF0F8"
             },
             "line": {
              "color": "white"
             }
            },
            "header": {
             "fill": {
              "color": "#C8D4E3"
             },
             "line": {
              "color": "white"
             }
            },
            "type": "table"
           }
          ]
         },
         "layout": {
          "annotationdefaults": {
           "arrowcolor": "#2a3f5f",
           "arrowhead": 0,
           "arrowwidth": 1
          },
          "autotypenumbers": "strict",
          "coloraxis": {
           "colorbar": {
            "outlinewidth": 0,
            "ticks": ""
           }
          },
          "colorscale": {
           "diverging": [
            [
             0,
             "#8e0152"
            ],
            [
             0.1,
             "#c51b7d"
            ],
            [
             0.2,
             "#de77ae"
            ],
            [
             0.3,
             "#f1b6da"
            ],
            [
             0.4,
             "#fde0ef"
            ],
            [
             0.5,
             "#f7f7f7"
            ],
            [
             0.6,
             "#e6f5d0"
            ],
            [
             0.7,
             "#b8e186"
            ],
            [
             0.8,
             "#7fbc41"
            ],
            [
             0.9,
             "#4d9221"
            ],
            [
             1,
             "#276419"
            ]
           ],
           "sequential": [
            [
             0,
             "#0d0887"
            ],
            [
             0.1111111111111111,
             "#46039f"
            ],
            [
             0.2222222222222222,
             "#7201a8"
            ],
            [
             0.3333333333333333,
             "#9c179e"
            ],
            [
             0.4444444444444444,
             "#bd3786"
            ],
            [
             0.5555555555555556,
             "#d8576b"
            ],
            [
             0.6666666666666666,
             "#ed7953"
            ],
            [
             0.7777777777777778,
             "#fb9f3a"
            ],
            [
             0.8888888888888888,
             "#fdca26"
            ],
            [
             1,
             "#f0f921"
            ]
           ],
           "sequentialminus": [
            [
             0,
             "#0d0887"
            ],
            [
             0.1111111111111111,
             "#46039f"
            ],
            [
             0.2222222222222222,
             "#7201a8"
            ],
            [
             0.3333333333333333,
             "#9c179e"
            ],
            [
             0.4444444444444444,
             "#bd3786"
            ],
            [
             0.5555555555555556,
             "#d8576b"
            ],
            [
             0.6666666666666666,
             "#ed7953"
            ],
            [
             0.7777777777777778,
             "#fb9f3a"
            ],
            [
             0.8888888888888888,
             "#fdca26"
            ],
            [
             1,
             "#f0f921"
            ]
           ]
          },
          "colorway": [
           "#636efa",
           "#EF553B",
           "#00cc96",
           "#ab63fa",
           "#FFA15A",
           "#19d3f3",
           "#FF6692",
           "#B6E880",
           "#FF97FF",
           "#FECB52"
          ],
          "font": {
           "color": "#2a3f5f"
          },
          "geo": {
           "bgcolor": "white",
           "lakecolor": "white",
           "landcolor": "#E5ECF6",
           "showlakes": true,
           "showland": true,
           "subunitcolor": "white"
          },
          "hoverlabel": {
           "align": "left"
          },
          "hovermode": "closest",
          "mapbox": {
           "style": "light"
          },
          "paper_bgcolor": "white",
          "plot_bgcolor": "#E5ECF6",
          "polar": {
           "angularaxis": {
            "gridcolor": "white",
            "linecolor": "white",
            "ticks": ""
           },
           "bgcolor": "#E5ECF6",
           "radialaxis": {
            "gridcolor": "white",
            "linecolor": "white",
            "ticks": ""
           }
          },
          "scene": {
           "xaxis": {
            "backgroundcolor": "#E5ECF6",
            "gridcolor": "white",
            "gridwidth": 2,
            "linecolor": "white",
            "showbackground": true,
            "ticks": "",
            "zerolinecolor": "white"
           },
           "yaxis": {
            "backgroundcolor": "#E5ECF6",
            "gridcolor": "white",
            "gridwidth": 2,
            "linecolor": "white",
            "showbackground": true,
            "ticks": "",
            "zerolinecolor": "white"
           },
           "zaxis": {
            "backgroundcolor": "#E5ECF6",
            "gridcolor": "white",
            "gridwidth": 2,
            "linecolor": "white",
            "showbackground": true,
            "ticks": "",
            "zerolinecolor": "white"
           }
          },
          "shapedefaults": {
           "line": {
            "color": "#2a3f5f"
           }
          },
          "ternary": {
           "aaxis": {
            "gridcolor": "white",
            "linecolor": "white",
            "ticks": ""
           },
           "baxis": {
            "gridcolor": "white",
            "linecolor": "white",
            "ticks": ""
           },
           "bgcolor": "#E5ECF6",
           "caxis": {
            "gridcolor": "white",
            "linecolor": "white",
            "ticks": ""
           }
          },
          "title": {
           "x": 0.05
          },
          "xaxis": {
           "automargin": true,
           "gridcolor": "white",
           "linecolor": "white",
           "ticks": "",
           "title": {
            "standoff": 15
           },
           "zerolinecolor": "white",
           "zerolinewidth": 2
          },
          "yaxis": {
           "automargin": true,
           "gridcolor": "white",
           "linecolor": "white",
           "ticks": "",
           "title": {
            "standoff": 15
           },
           "zerolinecolor": "white",
           "zerolinewidth": 2
          }
         }
        },
        "title": {
         "text": "Bayesian Optimization History"
        },
        "xaxis": {
         "title": {
          "text": "Iteration"
         }
        },
        "yaxis": {
         "title": {
          "text": "Function Value"
         }
        }
       }
      }
     },
     "metadata": {},
     "output_type": "display_data"
    }
   ],
   "source": [
    "import plotly.graph_objects as go\n",
    "\n",
    "# Create a history plot for bo_data using Plotly\n",
    "def history_plot(bo_data):\n",
    "    fig = go.Figure()\n",
    "\n",
    "    # Plot y_new as blue dots\n",
    "    fig.add_trace(go.Scatter(\n",
    "        x=bo_data['Iteration'],\n",
    "        y=bo_data['y_new'],\n",
    "        mode='markers',\n",
    "        name='y_new',\n",
    "        marker=dict(color='blue')\n",
    "    ))\n",
    "\n",
    "    # Plot y_best as a blue line\n",
    "    fig.add_trace(go.Scatter(\n",
    "        x=bo_data['Iteration'],\n",
    "        y=bo_data['y_best'],\n",
    "        mode='lines',\n",
    "        name='y_best',\n",
    "        line=dict(color='blue')\n",
    "    ))\n",
    "\n",
    "    # Highlight points where Beta:n >= 1 with orange dots\n",
    "    high_beta_mask = bo_data['Beta:n'] >= 1\n",
    "    fig.add_trace(go.Scatter(\n",
    "        x=bo_data['Iteration'][high_beta_mask],\n",
    "        y=bo_data['y_new'][high_beta_mask],\n",
    "        mode='markers',\n",
    "        name='y_new (Beta:n >= 1)',\n",
    "        marker=dict(color='orange')\n",
    "    ))\n",
    "\n",
    "    # Customize the layout\n",
    "    fig.update_layout(\n",
    "        title=\"Bayesian Optimization History\",\n",
    "        xaxis_title=\"Iteration\",\n",
    "        yaxis_title=\"Function Value\",\n",
    "        legend_title=\"Metrics\"\n",
    "    )\n",
    "\n",
    "    fig.show()\n",
    "\n",
    "# Apply the function to plot the bo_data\n",
    "history_plot(df_combined)\n"
   ]
  },
  {
   "cell_type": "code",
   "execution_count": 7,
   "metadata": {},
   "outputs": [
    {
     "name": "stdout",
     "output_type": "stream",
     "text": [
      "Failed to parse settings: invalid syntax (<unknown>, line 1)\n",
      "\n",
      "<class 'pandas.core.series.Series'>\n",
      "\n"
     ]
    },
    {
     "data": {
      "application/vnd.plotly.v1+json": {
       "config": {
        "plotlyServerURL": "https://plot.ly"
       },
       "data": [
        {
         "marker": {
          "color": "blue"
         },
         "mode": "markers",
         "name": "y_new",
         "type": "scatter",
         "x": [
          0,
          0,
          0,
          0,
          1,
          2,
          3,
          4,
          5,
          6,
          7,
          8,
          9,
          10,
          11,
          12,
          13,
          14,
          15,
          16,
          17,
          18,
          19,
          20,
          21,
          22,
          23,
          24,
          25,
          26,
          27,
          28,
          29,
          30,
          31,
          32,
          33,
          34,
          35,
          36,
          37,
          38,
          39,
          40,
          41,
          42,
          43,
          44,
          45,
          46,
          47,
          48,
          49,
          50,
          51,
          52,
          53,
          54,
          55,
          56,
          57,
          58,
          59,
          60,
          61,
          62,
          63,
          64,
          65,
          66,
          67,
          68,
          69,
          70,
          71,
          72,
          73,
          74,
          75,
          76,
          77,
          78,
          79,
          80,
          81,
          82,
          83,
          84,
          85,
          86,
          87,
          88,
          89,
          90,
          91,
          92,
          93,
          94,
          95,
          96,
          97,
          98,
          99,
          100
         ],
         "y": [
          -0.00085491,
          -0.23887302,
          -0.36852655,
          -0.13767886,
          -0.43931783,
          -0.43931783,
          -1.55032308,
          -0.03186452,
          -1.68129438,
          -1.75949713,
          -1.80550121,
          -1.76490214,
          -0.18470367,
          -0.00014163,
          -0.41124988,
          -1.72344189,
          -0.64356189,
          -0.69285128,
          -0.000033366293,
          -1.87326397,
          -0.000302,
          -0.00021248,
          -0.00614315,
          -0.00028236,
          -1.91789381,
          -0.0000114595612,
          -0.08388627,
          -2.81244792e-8,
          -2.74154852,
          -2.92309445,
          -3.03961406,
          -3.08205685,
          -0.00000314121106,
          -3.05706285,
          -3.03762208,
          -3.04471331,
          -3.05176921,
          -0.00025469,
          -3.06892102,
          -0.00106425,
          -3.09694762,
          -0.01343966,
          -3.09142887,
          -3.10465482,
          -3.02386577,
          -2.99718533,
          -0.00759928,
          -0.00110815,
          -0.0000629850425,
          -0.00203899,
          -2.92796968e-7,
          -0.00034403,
          -0.00303376,
          -0.11848807,
          -0.16223395,
          -0.0000990679896,
          -0.02605702,
          -0.00016726,
          -3.11783753,
          -2.85257729,
          -2.70464641,
          -0.02519749,
          -0.00000196639937,
          -2.77380114,
          -2.56927506,
          -2.71799266,
          -0.02111333,
          -0.01040012,
          -0.00470376,
          -0.0000375613029,
          -1.24745703,
          -0.0000656435889,
          -0.00334954,
          -0.01053599,
          -0.03173038,
          -2.47513062,
          -0.00411821,
          -0.02533616,
          -0.00720379,
          -0.00160434,
          -0.00460931,
          -0.00094852,
          -0.02058401,
          -0.13242722,
          -0.08996729,
          -0.00707271,
          -0.30246484,
          -0.05959435,
          -0.23930781,
          -0.00931681,
          -0.00461266,
          -0.00461266,
          -0.00461266,
          -0.00461266,
          -0.00461266,
          -0.00461266,
          -0.00461266,
          -0.00461266,
          -0.00461266,
          -0.00461266,
          -0.00461266,
          -0.43931783,
          -0.00461266,
          -0.00707303
         ]
        },
        {
         "line": {
          "color": "blue"
         },
         "mode": "lines",
         "name": "y_best",
         "type": "scatter",
         "x": [
          0,
          0,
          0,
          0,
          1,
          2,
          3,
          4,
          5,
          6,
          7,
          8,
          9,
          10,
          11,
          12,
          13,
          14,
          15,
          16,
          17,
          18,
          19,
          20,
          21,
          22,
          23,
          24,
          25,
          26,
          27,
          28,
          29,
          30,
          31,
          32,
          33,
          34,
          35,
          36,
          37,
          38,
          39,
          40,
          41,
          42,
          43,
          44,
          45,
          46,
          47,
          48,
          49,
          50,
          51,
          52,
          53,
          54,
          55,
          56,
          57,
          58,
          59,
          60,
          61,
          62,
          63,
          64,
          65,
          66,
          67,
          68,
          69,
          70,
          71,
          72,
          73,
          74,
          75,
          76,
          77,
          78,
          79,
          80,
          81,
          82,
          83,
          84,
          85,
          86,
          87,
          88,
          89,
          90,
          91,
          92,
          93,
          94,
          95,
          96,
          97,
          98,
          99,
          100
         ],
         "y": [
          -0.36852655,
          -0.36852655,
          -0.36852655,
          -0.36852655,
          -0.43931783,
          -0.43931783,
          -1.55032308,
          -1.55032308,
          -1.68129438,
          -1.75949713,
          -1.80550121,
          -1.80550121,
          -1.80550121,
          -1.80550121,
          -1.80550121,
          -1.80550121,
          -1.80550121,
          -1.80550121,
          -1.80550121,
          -1.87326397,
          -1.87326397,
          -1.87326397,
          -1.87326397,
          -1.87326397,
          -1.91789381,
          -1.91789381,
          -1.91789381,
          -1.91789381,
          -2.74154852,
          -2.92309445,
          -3.03961406,
          -3.08205685,
          -3.08205685,
          -3.08205685,
          -3.08205685,
          -3.08205685,
          -3.08205685,
          -3.08205685,
          -3.08205685,
          -3.08205685,
          -3.09694762,
          -3.09694762,
          -3.09694762,
          -3.10465482,
          -3.10465482,
          -3.10465482,
          -3.10465482,
          -3.10465482,
          -3.10465482,
          -3.10465482,
          -3.10465482,
          -3.10465482,
          -3.10465482,
          -3.10465482,
          -3.10465482,
          -3.10465482,
          -3.10465482,
          -3.10465482,
          -3.11783753,
          -3.11783753,
          -3.11783753,
          -3.11783753,
          -3.11783753,
          -3.11783753,
          -3.11783753,
          -3.11783753,
          -3.11783753,
          -3.11783753,
          -3.11783753,
          -3.11783753,
          -3.11783753,
          -3.11783753,
          -3.11783753,
          -3.11783753,
          -3.11783753,
          -3.11783753,
          -3.11783753,
          -3.11783753,
          -3.11783753,
          -3.11783753,
          -3.11783753,
          -3.11783753,
          -3.11783753,
          -3.11783753,
          -3.11783753,
          -3.11783753,
          -3.11783753,
          -3.11783753,
          -3.11783753,
          -3.11783753,
          -3.11783753,
          -3.11783753,
          -3.11783753,
          -3.11783753,
          -3.11783753,
          -3.11783753,
          -3.11783753,
          -3.11783753,
          -3.11783753,
          -3.11783753,
          -3.11783753,
          -3.11783753,
          -3.11783753,
          -3.11783753
         ]
        },
        {
         "marker": {
          "color": "orange"
         },
         "mode": "markers",
         "name": "y_new (Beta:n >= 1)",
         "type": "scatter",
         "x": [],
         "y": []
        }
       ],
       "layout": {
        "legend": {
         "title": {
          "text": "Metrics"
         }
        },
        "template": {
         "data": {
          "bar": [
           {
            "error_x": {
             "color": "#2a3f5f"
            },
            "error_y": {
             "color": "#2a3f5f"
            },
            "marker": {
             "line": {
              "color": "#E5ECF6",
              "width": 0.5
             },
             "pattern": {
              "fillmode": "overlay",
              "size": 10,
              "solidity": 0.2
             }
            },
            "type": "bar"
           }
          ],
          "barpolar": [
           {
            "marker": {
             "line": {
              "color": "#E5ECF6",
              "width": 0.5
             },
             "pattern": {
              "fillmode": "overlay",
              "size": 10,
              "solidity": 0.2
             }
            },
            "type": "barpolar"
           }
          ],
          "carpet": [
           {
            "aaxis": {
             "endlinecolor": "#2a3f5f",
             "gridcolor": "white",
             "linecolor": "white",
             "minorgridcolor": "white",
             "startlinecolor": "#2a3f5f"
            },
            "baxis": {
             "endlinecolor": "#2a3f5f",
             "gridcolor": "white",
             "linecolor": "white",
             "minorgridcolor": "white",
             "startlinecolor": "#2a3f5f"
            },
            "type": "carpet"
           }
          ],
          "choropleth": [
           {
            "colorbar": {
             "outlinewidth": 0,
             "ticks": ""
            },
            "type": "choropleth"
           }
          ],
          "contour": [
           {
            "colorbar": {
             "outlinewidth": 0,
             "ticks": ""
            },
            "colorscale": [
             [
              0,
              "#0d0887"
             ],
             [
              0.1111111111111111,
              "#46039f"
             ],
             [
              0.2222222222222222,
              "#7201a8"
             ],
             [
              0.3333333333333333,
              "#9c179e"
             ],
             [
              0.4444444444444444,
              "#bd3786"
             ],
             [
              0.5555555555555556,
              "#d8576b"
             ],
             [
              0.6666666666666666,
              "#ed7953"
             ],
             [
              0.7777777777777778,
              "#fb9f3a"
             ],
             [
              0.8888888888888888,
              "#fdca26"
             ],
             [
              1,
              "#f0f921"
             ]
            ],
            "type": "contour"
           }
          ],
          "contourcarpet": [
           {
            "colorbar": {
             "outlinewidth": 0,
             "ticks": ""
            },
            "type": "contourcarpet"
           }
          ],
          "heatmap": [
           {
            "colorbar": {
             "outlinewidth": 0,
             "ticks": ""
            },
            "colorscale": [
             [
              0,
              "#0d0887"
             ],
             [
              0.1111111111111111,
              "#46039f"
             ],
             [
              0.2222222222222222,
              "#7201a8"
             ],
             [
              0.3333333333333333,
              "#9c179e"
             ],
             [
              0.4444444444444444,
              "#bd3786"
             ],
             [
              0.5555555555555556,
              "#d8576b"
             ],
             [
              0.6666666666666666,
              "#ed7953"
             ],
             [
              0.7777777777777778,
              "#fb9f3a"
             ],
             [
              0.8888888888888888,
              "#fdca26"
             ],
             [
              1,
              "#f0f921"
             ]
            ],
            "type": "heatmap"
           }
          ],
          "heatmapgl": [
           {
            "colorbar": {
             "outlinewidth": 0,
             "ticks": ""
            },
            "colorscale": [
             [
              0,
              "#0d0887"
             ],
             [
              0.1111111111111111,
              "#46039f"
             ],
             [
              0.2222222222222222,
              "#7201a8"
             ],
             [
              0.3333333333333333,
              "#9c179e"
             ],
             [
              0.4444444444444444,
              "#bd3786"
             ],
             [
              0.5555555555555556,
              "#d8576b"
             ],
             [
              0.6666666666666666,
              "#ed7953"
             ],
             [
              0.7777777777777778,
              "#fb9f3a"
             ],
             [
              0.8888888888888888,
              "#fdca26"
             ],
             [
              1,
              "#f0f921"
             ]
            ],
            "type": "heatmapgl"
           }
          ],
          "histogram": [
           {
            "marker": {
             "pattern": {
              "fillmode": "overlay",
              "size": 10,
              "solidity": 0.2
             }
            },
            "type": "histogram"
           }
          ],
          "histogram2d": [
           {
            "colorbar": {
             "outlinewidth": 0,
             "ticks": ""
            },
            "colorscale": [
             [
              0,
              "#0d0887"
             ],
             [
              0.1111111111111111,
              "#46039f"
             ],
             [
              0.2222222222222222,
              "#7201a8"
             ],
             [
              0.3333333333333333,
              "#9c179e"
             ],
             [
              0.4444444444444444,
              "#bd3786"
             ],
             [
              0.5555555555555556,
              "#d8576b"
             ],
             [
              0.6666666666666666,
              "#ed7953"
             ],
             [
              0.7777777777777778,
              "#fb9f3a"
             ],
             [
              0.8888888888888888,
              "#fdca26"
             ],
             [
              1,
              "#f0f921"
             ]
            ],
            "type": "histogram2d"
           }
          ],
          "histogram2dcontour": [
           {
            "colorbar": {
             "outlinewidth": 0,
             "ticks": ""
            },
            "colorscale": [
             [
              0,
              "#0d0887"
             ],
             [
              0.1111111111111111,
              "#46039f"
             ],
             [
              0.2222222222222222,
              "#7201a8"
             ],
             [
              0.3333333333333333,
              "#9c179e"
             ],
             [
              0.4444444444444444,
              "#bd3786"
             ],
             [
              0.5555555555555556,
              "#d8576b"
             ],
             [
              0.6666666666666666,
              "#ed7953"
             ],
             [
              0.7777777777777778,
              "#fb9f3a"
             ],
             [
              0.8888888888888888,
              "#fdca26"
             ],
             [
              1,
              "#f0f921"
             ]
            ],
            "type": "histogram2dcontour"
           }
          ],
          "mesh3d": [
           {
            "colorbar": {
             "outlinewidth": 0,
             "ticks": ""
            },
            "type": "mesh3d"
           }
          ],
          "parcoords": [
           {
            "line": {
             "colorbar": {
              "outlinewidth": 0,
              "ticks": ""
             }
            },
            "type": "parcoords"
           }
          ],
          "pie": [
           {
            "automargin": true,
            "type": "pie"
           }
          ],
          "scatter": [
           {
            "fillpattern": {
             "fillmode": "overlay",
             "size": 10,
             "solidity": 0.2
            },
            "type": "scatter"
           }
          ],
          "scatter3d": [
           {
            "line": {
             "colorbar": {
              "outlinewidth": 0,
              "ticks": ""
             }
            },
            "marker": {
             "colorbar": {
              "outlinewidth": 0,
              "ticks": ""
             }
            },
            "type": "scatter3d"
           }
          ],
          "scattercarpet": [
           {
            "marker": {
             "colorbar": {
              "outlinewidth": 0,
              "ticks": ""
             }
            },
            "type": "scattercarpet"
           }
          ],
          "scattergeo": [
           {
            "marker": {
             "colorbar": {
              "outlinewidth": 0,
              "ticks": ""
             }
            },
            "type": "scattergeo"
           }
          ],
          "scattergl": [
           {
            "marker": {
             "colorbar": {
              "outlinewidth": 0,
              "ticks": ""
             }
            },
            "type": "scattergl"
           }
          ],
          "scattermapbox": [
           {
            "marker": {
             "colorbar": {
              "outlinewidth": 0,
              "ticks": ""
             }
            },
            "type": "scattermapbox"
           }
          ],
          "scatterpolar": [
           {
            "marker": {
             "colorbar": {
              "outlinewidth": 0,
              "ticks": ""
             }
            },
            "type": "scatterpolar"
           }
          ],
          "scatterpolargl": [
           {
            "marker": {
             "colorbar": {
              "outlinewidth": 0,
              "ticks": ""
             }
            },
            "type": "scatterpolargl"
           }
          ],
          "scatterternary": [
           {
            "marker": {
             "colorbar": {
              "outlinewidth": 0,
              "ticks": ""
             }
            },
            "type": "scatterternary"
           }
          ],
          "surface": [
           {
            "colorbar": {
             "outlinewidth": 0,
             "ticks": ""
            },
            "colorscale": [
             [
              0,
              "#0d0887"
             ],
             [
              0.1111111111111111,
              "#46039f"
             ],
             [
              0.2222222222222222,
              "#7201a8"
             ],
             [
              0.3333333333333333,
              "#9c179e"
             ],
             [
              0.4444444444444444,
              "#bd3786"
             ],
             [
              0.5555555555555556,
              "#d8576b"
             ],
             [
              0.6666666666666666,
              "#ed7953"
             ],
             [
              0.7777777777777778,
              "#fb9f3a"
             ],
             [
              0.8888888888888888,
              "#fdca26"
             ],
             [
              1,
              "#f0f921"
             ]
            ],
            "type": "surface"
           }
          ],
          "table": [
           {
            "cells": {
             "fill": {
              "color": "#EBF0F8"
             },
             "line": {
              "color": "white"
             }
            },
            "header": {
             "fill": {
              "color": "#C8D4E3"
             },
             "line": {
              "color": "white"
             }
            },
            "type": "table"
           }
          ]
         },
         "layout": {
          "annotationdefaults": {
           "arrowcolor": "#2a3f5f",
           "arrowhead": 0,
           "arrowwidth": 1
          },
          "autotypenumbers": "strict",
          "coloraxis": {
           "colorbar": {
            "outlinewidth": 0,
            "ticks": ""
           }
          },
          "colorscale": {
           "diverging": [
            [
             0,
             "#8e0152"
            ],
            [
             0.1,
             "#c51b7d"
            ],
            [
             0.2,
             "#de77ae"
            ],
            [
             0.3,
             "#f1b6da"
            ],
            [
             0.4,
             "#fde0ef"
            ],
            [
             0.5,
             "#f7f7f7"
            ],
            [
             0.6,
             "#e6f5d0"
            ],
            [
             0.7,
             "#b8e186"
            ],
            [
             0.8,
             "#7fbc41"
            ],
            [
             0.9,
             "#4d9221"
            ],
            [
             1,
             "#276419"
            ]
           ],
           "sequential": [
            [
             0,
             "#0d0887"
            ],
            [
             0.1111111111111111,
             "#46039f"
            ],
            [
             0.2222222222222222,
             "#7201a8"
            ],
            [
             0.3333333333333333,
             "#9c179e"
            ],
            [
             0.4444444444444444,
             "#bd3786"
            ],
            [
             0.5555555555555556,
             "#d8576b"
            ],
            [
             0.6666666666666666,
             "#ed7953"
            ],
            [
             0.7777777777777778,
             "#fb9f3a"
            ],
            [
             0.8888888888888888,
             "#fdca26"
            ],
            [
             1,
             "#f0f921"
            ]
           ],
           "sequentialminus": [
            [
             0,
             "#0d0887"
            ],
            [
             0.1111111111111111,
             "#46039f"
            ],
            [
             0.2222222222222222,
             "#7201a8"
            ],
            [
             0.3333333333333333,
             "#9c179e"
            ],
            [
             0.4444444444444444,
             "#bd3786"
            ],
            [
             0.5555555555555556,
             "#d8576b"
            ],
            [
             0.6666666666666666,
             "#ed7953"
            ],
            [
             0.7777777777777778,
             "#fb9f3a"
            ],
            [
             0.8888888888888888,
             "#fdca26"
            ],
            [
             1,
             "#f0f921"
            ]
           ]
          },
          "colorway": [
           "#636efa",
           "#EF553B",
           "#00cc96",
           "#ab63fa",
           "#FFA15A",
           "#19d3f3",
           "#FF6692",
           "#B6E880",
           "#FF97FF",
           "#FECB52"
          ],
          "font": {
           "color": "#2a3f5f"
          },
          "geo": {
           "bgcolor": "white",
           "lakecolor": "white",
           "landcolor": "#E5ECF6",
           "showlakes": true,
           "showland": true,
           "subunitcolor": "white"
          },
          "hoverlabel": {
           "align": "left"
          },
          "hovermode": "closest",
          "mapbox": {
           "style": "light"
          },
          "paper_bgcolor": "white",
          "plot_bgcolor": "#E5ECF6",
          "polar": {
           "angularaxis": {
            "gridcolor": "white",
            "linecolor": "white",
            "ticks": ""
           },
           "bgcolor": "#E5ECF6",
           "radialaxis": {
            "gridcolor": "white",
            "linecolor": "white",
            "ticks": ""
           }
          },
          "scene": {
           "xaxis": {
            "backgroundcolor": "#E5ECF6",
            "gridcolor": "white",
            "gridwidth": 2,
            "linecolor": "white",
            "showbackground": true,
            "ticks": "",
            "zerolinecolor": "white"
           },
           "yaxis": {
            "backgroundcolor": "#E5ECF6",
            "gridcolor": "white",
            "gridwidth": 2,
            "linecolor": "white",
            "showbackground": true,
            "ticks": "",
            "zerolinecolor": "white"
           },
           "zaxis": {
            "backgroundcolor": "#E5ECF6",
            "gridcolor": "white",
            "gridwidth": 2,
            "linecolor": "white",
            "showbackground": true,
            "ticks": "",
            "zerolinecolor": "white"
           }
          },
          "shapedefaults": {
           "line": {
            "color": "#2a3f5f"
           }
          },
          "ternary": {
           "aaxis": {
            "gridcolor": "white",
            "linecolor": "white",
            "ticks": ""
           },
           "baxis": {
            "gridcolor": "white",
            "linecolor": "white",
            "ticks": ""
           },
           "bgcolor": "#E5ECF6",
           "caxis": {
            "gridcolor": "white",
            "linecolor": "white",
            "ticks": ""
           }
          },
          "title": {
           "x": 0.05
          },
          "xaxis": {
           "automargin": true,
           "gridcolor": "white",
           "linecolor": "white",
           "ticks": "",
           "title": {
            "standoff": 15
           },
           "zerolinecolor": "white",
           "zerolinewidth": 2
          },
          "yaxis": {
           "automargin": true,
           "gridcolor": "white",
           "linecolor": "white",
           "ticks": "",
           "title": {
            "standoff": 15
           },
           "zerolinecolor": "white",
           "zerolinewidth": 2
          }
         }
        },
        "title": {
         "text": "Bayesian Optimization History"
        },
        "xaxis": {
         "title": {
          "text": "Iteration"
         }
        },
        "yaxis": {
         "title": {
          "text": "Function Value"
         }
        }
       }
      }
     },
     "metadata": {},
     "output_type": "display_data"
    }
   ],
   "source": [
    "# ファイルをパースする\n",
    "file_name = '2024-09-21_04-49-11_vanilla_bo_Hartmann6_TP_EI_seed1.log'\n",
    "file_path = os.path.join(target, file_name)\n",
    "\n",
    "parser = LogParser(file_path)\n",
    "parser.parse_log_file()\n",
    "df_combined = parser.create_combined_dataframe()\n",
    "history_plot(df_combined)"
   ]
  },
  {
   "cell_type": "code",
   "execution_count": null,
   "metadata": {},
   "outputs": [],
   "source": []
  },
  {
   "cell_type": "code",
   "execution_count": null,
   "metadata": {},
   "outputs": [],
   "source": []
  },
  {
   "cell_type": "code",
   "execution_count": 28,
   "metadata": {},
   "outputs": [
    {
     "name": "stdout",
     "output_type": "stream",
     "text": [
      "Failed to parse settings: invalid syntax (<unknown>, line 1)\n"
     ]
    },
    {
     "data": {
      "application/vnd.plotly.v1+json": {
       "config": {
        "plotlyServerURL": "https://plot.ly"
       },
       "data": [
        {
         "marker": {
          "color": "blue"
         },
         "mode": "markers",
         "name": "y_new",
         "type": "scatter",
         "x": [
          0,
          0,
          0,
          0,
          1,
          2,
          3,
          4,
          5,
          6,
          7,
          8,
          9,
          10,
          11,
          12,
          13,
          14,
          15,
          16,
          17,
          18,
          19,
          20,
          21,
          22,
          23,
          24,
          25,
          26,
          27,
          28,
          29,
          30,
          31,
          32,
          33,
          34,
          35,
          36,
          37,
          38,
          39,
          40,
          41,
          42,
          43,
          44,
          45,
          46,
          47,
          48,
          49,
          50,
          51,
          52,
          53,
          54,
          55,
          56,
          57,
          58,
          59,
          60,
          61,
          62,
          63,
          64,
          65,
          66,
          67,
          68,
          69,
          70,
          71,
          72,
          73,
          74,
          75,
          76,
          77,
          78,
          79,
          80,
          81,
          82,
          83,
          84,
          85,
          86,
          87,
          88,
          89,
          90,
          91,
          92,
          93,
          94,
          95,
          96,
          97,
          98,
          99,
          100
         ],
         "y": [
          -0.08912247,
          -0.56198663,
          -0.00414164,
          -0.00883751,
          -0.45537084,
          -0.48429774,
          -0.32308662,
          -0.08870349,
          -0.23554077,
          -0.34425777,
          -0.28200736,
          -0.51810013,
          -0.55283317,
          -0.08394792,
          -0.78256507,
          -1.01627007,
          -1.2015229,
          -1.27090869,
          -1.25266888,
          -1.26623323,
          -1.19136405,
          -1.86970906,
          -1.88018403,
          -1.98478316,
          -1.52727762,
          -0.15914326,
          -0.00106805,
          -1.83047332,
          -0.00101866,
          -0.17859478,
          -2.5006068,
          -2.66494792,
          -0.00023194,
          -0.00000490081857,
          -2.643106,
          -2.65710239,
          -0.07036425,
          -0.1184696,
          -2.6669537,
          -2.69232786,
          -2.64004434,
          -2.57494249,
          -0.0142684,
          -0.00041248,
          -0.0000114595612,
          -1.29038547,
          -0.00594066,
          -0.0000216857174,
          -0.00000163941947,
          -0.00056629,
          -0.00508911,
          -0.11804583,
          -0.00024853,
          -0.01746651,
          -0.0000147133579,
          -2.92796968e-7,
          -0.00827034,
          -0.0104221,
          -0.32746928,
          -0.02533036,
          -0.00931609,
          -0.00461266,
          -0.23933541,
          -0.30242121,
          -0.03186452,
          -0.00707303,
          -0.43931783,
          -0.05960132,
          -0.43931783,
          -0.43931783,
          -0.43931783,
          -0.43931783,
          -0.43931783,
          -0.43931783,
          -0.43931783,
          -0.43931783,
          -0.43931783,
          -0.00461266,
          -0.00461266,
          -0.00461266,
          -0.00461266,
          -0.00461266,
          -0.00461266,
          -0.00461266,
          -0.00461266,
          -0.00461266,
          -0.00461266,
          -0.43931783,
          -0.43931783,
          -0.43931783,
          -0.43931783,
          -0.43931783,
          -0.43931783,
          -0.43931783,
          -0.43931783,
          -0.43931783,
          -0.43931783,
          -0.43931783,
          -0.43931783,
          -0.43931783,
          -0.43931783,
          -0.43931783,
          -0.43931783,
          -0.43931783
         ]
        },
        {
         "line": {
          "color": "blue"
         },
         "mode": "lines",
         "name": "y_best",
         "type": "scatter",
         "x": [
          0,
          0,
          0,
          0,
          1,
          2,
          3,
          4,
          5,
          6,
          7,
          8,
          9,
          10,
          11,
          12,
          13,
          14,
          15,
          16,
          17,
          18,
          19,
          20,
          21,
          22,
          23,
          24,
          25,
          26,
          27,
          28,
          29,
          30,
          31,
          32,
          33,
          34,
          35,
          36,
          37,
          38,
          39,
          40,
          41,
          42,
          43,
          44,
          45,
          46,
          47,
          48,
          49,
          50,
          51,
          52,
          53,
          54,
          55,
          56,
          57,
          58,
          59,
          60,
          61,
          62,
          63,
          64,
          65,
          66,
          67,
          68,
          69,
          70,
          71,
          72,
          73,
          74,
          75,
          76,
          77,
          78,
          79,
          80,
          81,
          82,
          83,
          84,
          85,
          86,
          87,
          88,
          89,
          90,
          91,
          92,
          93,
          94,
          95,
          96,
          97,
          98,
          99,
          100
         ],
         "y": [
          -0.56198663,
          -0.56198663,
          -0.56198663,
          -0.56198663,
          -0.56198663,
          -0.56198663,
          -0.56198663,
          -0.56198663,
          -0.56198663,
          -0.56198663,
          -0.56198663,
          -0.56198663,
          -0.56198663,
          -0.56198663,
          -0.78256507,
          -1.01627007,
          -1.2015229,
          -1.27090869,
          -1.27090869,
          -1.27090869,
          -1.27090869,
          -1.86970906,
          -1.88018403,
          -1.98478316,
          -1.98478316,
          -1.98478316,
          -1.98478316,
          -1.98478316,
          -1.98478316,
          -1.98478316,
          -2.5006068,
          -2.66494792,
          -2.66494792,
          -2.66494792,
          -2.66494792,
          -2.66494792,
          -2.66494792,
          -2.66494792,
          -2.6669537,
          -2.69232786,
          -2.69232786,
          -2.69232786,
          -2.69232786,
          -2.69232786,
          -2.69232786,
          -2.69232786,
          -2.69232786,
          -2.69232786,
          -2.69232786,
          -2.69232786,
          -2.69232786,
          -2.69232786,
          -2.69232786,
          -2.69232786,
          -2.69232786,
          -2.69232786,
          -2.69232786,
          -2.69232786,
          -2.69232786,
          -2.69232786,
          -2.69232786,
          -2.69232786,
          -2.69232786,
          -2.69232786,
          -2.69232786,
          -2.69232786,
          -2.69232786,
          -2.69232786,
          -2.69232786,
          -2.69232786,
          -2.69232786,
          -2.69232786,
          -2.69232786,
          -2.69232786,
          -2.69232786,
          -2.69232786,
          -2.69232786,
          -2.69232786,
          -2.69232786,
          -2.69232786,
          -2.69232786,
          -2.69232786,
          -2.69232786,
          -2.69232786,
          -2.69232786,
          -2.69232786,
          -2.69232786,
          -2.69232786,
          -2.69232786,
          -2.69232786,
          -2.69232786,
          -2.69232786,
          -2.69232786,
          -2.69232786,
          -2.69232786,
          -2.69232786,
          -2.69232786,
          -2.69232786,
          -2.69232786,
          -2.69232786,
          -2.69232786,
          -2.69232786,
          -2.69232786,
          -2.69232786
         ]
        },
        {
         "marker": {
          "color": "orange"
         },
         "mode": "markers",
         "name": "y_new (Beta:n >= 1)",
         "type": "scatter",
         "x": [
          15,
          16,
          17,
          18
         ],
         "y": [
          -1.25266888,
          -1.26623323,
          -1.19136405,
          -1.86970906
         ]
        }
       ],
       "layout": {
        "legend": {
         "title": {
          "text": "Metrics"
         }
        },
        "template": {
         "data": {
          "bar": [
           {
            "error_x": {
             "color": "#2a3f5f"
            },
            "error_y": {
             "color": "#2a3f5f"
            },
            "marker": {
             "line": {
              "color": "#E5ECF6",
              "width": 0.5
             },
             "pattern": {
              "fillmode": "overlay",
              "size": 10,
              "solidity": 0.2
             }
            },
            "type": "bar"
           }
          ],
          "barpolar": [
           {
            "marker": {
             "line": {
              "color": "#E5ECF6",
              "width": 0.5
             },
             "pattern": {
              "fillmode": "overlay",
              "size": 10,
              "solidity": 0.2
             }
            },
            "type": "barpolar"
           }
          ],
          "carpet": [
           {
            "aaxis": {
             "endlinecolor": "#2a3f5f",
             "gridcolor": "white",
             "linecolor": "white",
             "minorgridcolor": "white",
             "startlinecolor": "#2a3f5f"
            },
            "baxis": {
             "endlinecolor": "#2a3f5f",
             "gridcolor": "white",
             "linecolor": "white",
             "minorgridcolor": "white",
             "startlinecolor": "#2a3f5f"
            },
            "type": "carpet"
           }
          ],
          "choropleth": [
           {
            "colorbar": {
             "outlinewidth": 0,
             "ticks": ""
            },
            "type": "choropleth"
           }
          ],
          "contour": [
           {
            "colorbar": {
             "outlinewidth": 0,
             "ticks": ""
            },
            "colorscale": [
             [
              0,
              "#0d0887"
             ],
             [
              0.1111111111111111,
              "#46039f"
             ],
             [
              0.2222222222222222,
              "#7201a8"
             ],
             [
              0.3333333333333333,
              "#9c179e"
             ],
             [
              0.4444444444444444,
              "#bd3786"
             ],
             [
              0.5555555555555556,
              "#d8576b"
             ],
             [
              0.6666666666666666,
              "#ed7953"
             ],
             [
              0.7777777777777778,
              "#fb9f3a"
             ],
             [
              0.8888888888888888,
              "#fdca26"
             ],
             [
              1,
              "#f0f921"
             ]
            ],
            "type": "contour"
           }
          ],
          "contourcarpet": [
           {
            "colorbar": {
             "outlinewidth": 0,
             "ticks": ""
            },
            "type": "contourcarpet"
           }
          ],
          "heatmap": [
           {
            "colorbar": {
             "outlinewidth": 0,
             "ticks": ""
            },
            "colorscale": [
             [
              0,
              "#0d0887"
             ],
             [
              0.1111111111111111,
              "#46039f"
             ],
             [
              0.2222222222222222,
              "#7201a8"
             ],
             [
              0.3333333333333333,
              "#9c179e"
             ],
             [
              0.4444444444444444,
              "#bd3786"
             ],
             [
              0.5555555555555556,
              "#d8576b"
             ],
             [
              0.6666666666666666,
              "#ed7953"
             ],
             [
              0.7777777777777778,
              "#fb9f3a"
             ],
             [
              0.8888888888888888,
              "#fdca26"
             ],
             [
              1,
              "#f0f921"
             ]
            ],
            "type": "heatmap"
           }
          ],
          "heatmapgl": [
           {
            "colorbar": {
             "outlinewidth": 0,
             "ticks": ""
            },
            "colorscale": [
             [
              0,
              "#0d0887"
             ],
             [
              0.1111111111111111,
              "#46039f"
             ],
             [
              0.2222222222222222,
              "#7201a8"
             ],
             [
              0.3333333333333333,
              "#9c179e"
             ],
             [
              0.4444444444444444,
              "#bd3786"
             ],
             [
              0.5555555555555556,
              "#d8576b"
             ],
             [
              0.6666666666666666,
              "#ed7953"
             ],
             [
              0.7777777777777778,
              "#fb9f3a"
             ],
             [
              0.8888888888888888,
              "#fdca26"
             ],
             [
              1,
              "#f0f921"
             ]
            ],
            "type": "heatmapgl"
           }
          ],
          "histogram": [
           {
            "marker": {
             "pattern": {
              "fillmode": "overlay",
              "size": 10,
              "solidity": 0.2
             }
            },
            "type": "histogram"
           }
          ],
          "histogram2d": [
           {
            "colorbar": {
             "outlinewidth": 0,
             "ticks": ""
            },
            "colorscale": [
             [
              0,
              "#0d0887"
             ],
             [
              0.1111111111111111,
              "#46039f"
             ],
             [
              0.2222222222222222,
              "#7201a8"
             ],
             [
              0.3333333333333333,
              "#9c179e"
             ],
             [
              0.4444444444444444,
              "#bd3786"
             ],
             [
              0.5555555555555556,
              "#d8576b"
             ],
             [
              0.6666666666666666,
              "#ed7953"
             ],
             [
              0.7777777777777778,
              "#fb9f3a"
             ],
             [
              0.8888888888888888,
              "#fdca26"
             ],
             [
              1,
              "#f0f921"
             ]
            ],
            "type": "histogram2d"
           }
          ],
          "histogram2dcontour": [
           {
            "colorbar": {
             "outlinewidth": 0,
             "ticks": ""
            },
            "colorscale": [
             [
              0,
              "#0d0887"
             ],
             [
              0.1111111111111111,
              "#46039f"
             ],
             [
              0.2222222222222222,
              "#7201a8"
             ],
             [
              0.3333333333333333,
              "#9c179e"
             ],
             [
              0.4444444444444444,
              "#bd3786"
             ],
             [
              0.5555555555555556,
              "#d8576b"
             ],
             [
              0.6666666666666666,
              "#ed7953"
             ],
             [
              0.7777777777777778,
              "#fb9f3a"
             ],
             [
              0.8888888888888888,
              "#fdca26"
             ],
             [
              1,
              "#f0f921"
             ]
            ],
            "type": "histogram2dcontour"
           }
          ],
          "mesh3d": [
           {
            "colorbar": {
             "outlinewidth": 0,
             "ticks": ""
            },
            "type": "mesh3d"
           }
          ],
          "parcoords": [
           {
            "line": {
             "colorbar": {
              "outlinewidth": 0,
              "ticks": ""
             }
            },
            "type": "parcoords"
           }
          ],
          "pie": [
           {
            "automargin": true,
            "type": "pie"
           }
          ],
          "scatter": [
           {
            "fillpattern": {
             "fillmode": "overlay",
             "size": 10,
             "solidity": 0.2
            },
            "type": "scatter"
           }
          ],
          "scatter3d": [
           {
            "line": {
             "colorbar": {
              "outlinewidth": 0,
              "ticks": ""
             }
            },
            "marker": {
             "colorbar": {
              "outlinewidth": 0,
              "ticks": ""
             }
            },
            "type": "scatter3d"
           }
          ],
          "scattercarpet": [
           {
            "marker": {
             "colorbar": {
              "outlinewidth": 0,
              "ticks": ""
             }
            },
            "type": "scattercarpet"
           }
          ],
          "scattergeo": [
           {
            "marker": {
             "colorbar": {
              "outlinewidth": 0,
              "ticks": ""
             }
            },
            "type": "scattergeo"
           }
          ],
          "scattergl": [
           {
            "marker": {
             "colorbar": {
              "outlinewidth": 0,
              "ticks": ""
             }
            },
            "type": "scattergl"
           }
          ],
          "scattermapbox": [
           {
            "marker": {
             "colorbar": {
              "outlinewidth": 0,
              "ticks": ""
             }
            },
            "type": "scattermapbox"
           }
          ],
          "scatterpolar": [
           {
            "marker": {
             "colorbar": {
              "outlinewidth": 0,
              "ticks": ""
             }
            },
            "type": "scatterpolar"
           }
          ],
          "scatterpolargl": [
           {
            "marker": {
             "colorbar": {
              "outlinewidth": 0,
              "ticks": ""
             }
            },
            "type": "scatterpolargl"
           }
          ],
          "scatterternary": [
           {
            "marker": {
             "colorbar": {
              "outlinewidth": 0,
              "ticks": ""
             }
            },
            "type": "scatterternary"
           }
          ],
          "surface": [
           {
            "colorbar": {
             "outlinewidth": 0,
             "ticks": ""
            },
            "colorscale": [
             [
              0,
              "#0d0887"
             ],
             [
              0.1111111111111111,
              "#46039f"
             ],
             [
              0.2222222222222222,
              "#7201a8"
             ],
             [
              0.3333333333333333,
              "#9c179e"
             ],
             [
              0.4444444444444444,
              "#bd3786"
             ],
             [
              0.5555555555555556,
              "#d8576b"
             ],
             [
              0.6666666666666666,
              "#ed7953"
             ],
             [
              0.7777777777777778,
              "#fb9f3a"
             ],
             [
              0.8888888888888888,
              "#fdca26"
             ],
             [
              1,
              "#f0f921"
             ]
            ],
            "type": "surface"
           }
          ],
          "table": [
           {
            "cells": {
             "fill": {
              "color": "#EBF0F8"
             },
             "line": {
              "color": "white"
             }
            },
            "header": {
             "fill": {
              "color": "#C8D4E3"
             },
             "line": {
              "color": "white"
             }
            },
            "type": "table"
           }
          ]
         },
         "layout": {
          "annotationdefaults": {
           "arrowcolor": "#2a3f5f",
           "arrowhead": 0,
           "arrowwidth": 1
          },
          "autotypenumbers": "strict",
          "coloraxis": {
           "colorbar": {
            "outlinewidth": 0,
            "ticks": ""
           }
          },
          "colorscale": {
           "diverging": [
            [
             0,
             "#8e0152"
            ],
            [
             0.1,
             "#c51b7d"
            ],
            [
             0.2,
             "#de77ae"
            ],
            [
             0.3,
             "#f1b6da"
            ],
            [
             0.4,
             "#fde0ef"
            ],
            [
             0.5,
             "#f7f7f7"
            ],
            [
             0.6,
             "#e6f5d0"
            ],
            [
             0.7,
             "#b8e186"
            ],
            [
             0.8,
             "#7fbc41"
            ],
            [
             0.9,
             "#4d9221"
            ],
            [
             1,
             "#276419"
            ]
           ],
           "sequential": [
            [
             0,
             "#0d0887"
            ],
            [
             0.1111111111111111,
             "#46039f"
            ],
            [
             0.2222222222222222,
             "#7201a8"
            ],
            [
             0.3333333333333333,
             "#9c179e"
            ],
            [
             0.4444444444444444,
             "#bd3786"
            ],
            [
             0.5555555555555556,
             "#d8576b"
            ],
            [
             0.6666666666666666,
             "#ed7953"
            ],
            [
             0.7777777777777778,
             "#fb9f3a"
            ],
            [
             0.8888888888888888,
             "#fdca26"
            ],
            [
             1,
             "#f0f921"
            ]
           ],
           "sequentialminus": [
            [
             0,
             "#0d0887"
            ],
            [
             0.1111111111111111,
             "#46039f"
            ],
            [
             0.2222222222222222,
             "#7201a8"
            ],
            [
             0.3333333333333333,
             "#9c179e"
            ],
            [
             0.4444444444444444,
             "#bd3786"
            ],
            [
             0.5555555555555556,
             "#d8576b"
            ],
            [
             0.6666666666666666,
             "#ed7953"
            ],
            [
             0.7777777777777778,
             "#fb9f3a"
            ],
            [
             0.8888888888888888,
             "#fdca26"
            ],
            [
             1,
             "#f0f921"
            ]
           ]
          },
          "colorway": [
           "#636efa",
           "#EF553B",
           "#00cc96",
           "#ab63fa",
           "#FFA15A",
           "#19d3f3",
           "#FF6692",
           "#B6E880",
           "#FF97FF",
           "#FECB52"
          ],
          "font": {
           "color": "#2a3f5f"
          },
          "geo": {
           "bgcolor": "white",
           "lakecolor": "white",
           "landcolor": "#E5ECF6",
           "showlakes": true,
           "showland": true,
           "subunitcolor": "white"
          },
          "hoverlabel": {
           "align": "left"
          },
          "hovermode": "closest",
          "mapbox": {
           "style": "light"
          },
          "paper_bgcolor": "white",
          "plot_bgcolor": "#E5ECF6",
          "polar": {
           "angularaxis": {
            "gridcolor": "white",
            "linecolor": "white",
            "ticks": ""
           },
           "bgcolor": "#E5ECF6",
           "radialaxis": {
            "gridcolor": "white",
            "linecolor": "white",
            "ticks": ""
           }
          },
          "scene": {
           "xaxis": {
            "backgroundcolor": "#E5ECF6",
            "gridcolor": "white",
            "gridwidth": 2,
            "linecolor": "white",
            "showbackground": true,
            "ticks": "",
            "zerolinecolor": "white"
           },
           "yaxis": {
            "backgroundcolor": "#E5ECF6",
            "gridcolor": "white",
            "gridwidth": 2,
            "linecolor": "white",
            "showbackground": true,
            "ticks": "",
            "zerolinecolor": "white"
           },
           "zaxis": {
            "backgroundcolor": "#E5ECF6",
            "gridcolor": "white",
            "gridwidth": 2,
            "linecolor": "white",
            "showbackground": true,
            "ticks": "",
            "zerolinecolor": "white"
           }
          },
          "shapedefaults": {
           "line": {
            "color": "#2a3f5f"
           }
          },
          "ternary": {
           "aaxis": {
            "gridcolor": "white",
            "linecolor": "white",
            "ticks": ""
           },
           "baxis": {
            "gridcolor": "white",
            "linecolor": "white",
            "ticks": ""
           },
           "bgcolor": "#E5ECF6",
           "caxis": {
            "gridcolor": "white",
            "linecolor": "white",
            "ticks": ""
           }
          },
          "title": {
           "x": 0.05
          },
          "xaxis": {
           "automargin": true,
           "gridcolor": "white",
           "linecolor": "white",
           "ticks": "",
           "title": {
            "standoff": 15
           },
           "zerolinecolor": "white",
           "zerolinewidth": 2
          },
          "yaxis": {
           "automargin": true,
           "gridcolor": "white",
           "linecolor": "white",
           "ticks": "",
           "title": {
            "standoff": 15
           },
           "zerolinecolor": "white",
           "zerolinewidth": 2
          }
         }
        },
        "title": {
         "text": "Bayesian Optimization History"
        },
        "xaxis": {
         "title": {
          "text": "Iteration"
         }
        },
        "yaxis": {
         "title": {
          "text": "Function Value"
         }
        }
       }
      }
     },
     "metadata": {},
     "output_type": "display_data"
    }
   ],
   "source": [
    "# ファイルをパースする\n",
    "file_name = '2024-09-21_04-49-11_vanilla_bo_Hartmann6_GP_EI_seed1.log'\n",
    "file_path = os.path.join(target, file_name)\n",
    "\n",
    "parser = LogParser(file_path)\n",
    "parser.parse_log_file()\n",
    "\n",
    "df_combined = parser.create_combined_dataframe()\n",
    "history_plot(df_combined)"
   ]
  },
  {
   "cell_type": "code",
   "execution_count": 29,
   "metadata": {},
   "outputs": [
    {
     "name": "stdout",
     "output_type": "stream",
     "text": [
      "Failed to parse settings: invalid syntax (<unknown>, line 1)\n"
     ]
    },
    {
     "data": {
      "application/vnd.plotly.v1+json": {
       "config": {
        "plotlyServerURL": "https://plot.ly"
       },
       "data": [
        {
         "marker": {
          "color": "blue"
         },
         "mode": "markers",
         "name": "y_new",
         "type": "scatter",
         "x": [
          0,
          0,
          0,
          0,
          1,
          2,
          3,
          4,
          5,
          6,
          7,
          8,
          9,
          10,
          11,
          12,
          13,
          14,
          15,
          16,
          17,
          18,
          19,
          20,
          21,
          22,
          23,
          24,
          25,
          26,
          27,
          28,
          29,
          30,
          31,
          32,
          33,
          34,
          35,
          36,
          37,
          38,
          39,
          40,
          41,
          42,
          43,
          44,
          45,
          46,
          47,
          48,
          49,
          50,
          51,
          52,
          53,
          54,
          55,
          56,
          57,
          58,
          59,
          60,
          61,
          62,
          63,
          64,
          65,
          66,
          67,
          68,
          69,
          70,
          71,
          72,
          73,
          74,
          75,
          76,
          77,
          78,
          79,
          80,
          81,
          82,
          83,
          84,
          85,
          86,
          87,
          88,
          89,
          90,
          91,
          92,
          93,
          94,
          95,
          96,
          97,
          98,
          99,
          100
         ],
         "y": [
          -0.00085491,
          -0.23887302,
          -0.36852655,
          -0.13767886,
          -0.43931783,
          -0.43931783,
          -1.55032308,
          -0.03186452,
          -1.68129438,
          -1.75949713,
          -1.80550121,
          -1.76490214,
          -0.18470367,
          -0.00014163,
          -0.41124988,
          -1.72344189,
          -0.64356189,
          -0.69285128,
          -0.000033366293,
          -1.87326397,
          -0.000302,
          -0.00021248,
          -0.00614315,
          -0.00028236,
          -1.91789381,
          -0.0000114595612,
          -0.08388627,
          -2.81244792e-8,
          -2.74154852,
          -2.92309445,
          -3.03961406,
          -3.08205685,
          -0.00000314121106,
          -3.05706285,
          -3.03762208,
          -3.04471331,
          -3.05176921,
          -0.00025469,
          -3.06892102,
          -0.00106425,
          -3.09694762,
          -0.01343966,
          -3.09142887,
          -3.10465482,
          -3.02386577,
          -2.99718533,
          -0.00759928,
          -0.00110815,
          -0.0000629850425,
          -0.00203899,
          -2.92796968e-7,
          -0.00034403,
          -0.00303376,
          -0.11848807,
          -0.16223395,
          -0.0000990679896,
          -0.02605702,
          -0.00016726,
          -3.11783753,
          -2.85257729,
          -2.70464641,
          -0.02519749,
          -0.00000196639937,
          -2.77380114,
          -2.56927506,
          -2.71799266,
          -0.02111333,
          -0.01040012,
          -0.00470376,
          -0.0000375613029,
          -1.24745703,
          -0.0000656435889,
          -0.00334954,
          -0.01053599,
          -0.03173038,
          -2.47513062,
          -0.00411821,
          -0.02533616,
          -0.00720379,
          -0.00160434,
          -0.00460931,
          -0.00094852,
          -0.02058401,
          -0.13242722,
          -0.08996729,
          -0.00707271,
          -0.30246484,
          -0.05959435,
          -0.23930781,
          -0.00931681,
          -0.00461266,
          -0.00461266,
          -0.00461266,
          -0.00461266,
          -0.00461266,
          -0.00461266,
          -0.00461266,
          -0.00461266,
          -0.00461266,
          -0.00461266,
          -0.00461266,
          -0.43931783,
          -0.00461266,
          -0.00707303
         ]
        },
        {
         "line": {
          "color": "blue"
         },
         "mode": "lines",
         "name": "y_best",
         "type": "scatter",
         "x": [
          0,
          0,
          0,
          0,
          1,
          2,
          3,
          4,
          5,
          6,
          7,
          8,
          9,
          10,
          11,
          12,
          13,
          14,
          15,
          16,
          17,
          18,
          19,
          20,
          21,
          22,
          23,
          24,
          25,
          26,
          27,
          28,
          29,
          30,
          31,
          32,
          33,
          34,
          35,
          36,
          37,
          38,
          39,
          40,
          41,
          42,
          43,
          44,
          45,
          46,
          47,
          48,
          49,
          50,
          51,
          52,
          53,
          54,
          55,
          56,
          57,
          58,
          59,
          60,
          61,
          62,
          63,
          64,
          65,
          66,
          67,
          68,
          69,
          70,
          71,
          72,
          73,
          74,
          75,
          76,
          77,
          78,
          79,
          80,
          81,
          82,
          83,
          84,
          85,
          86,
          87,
          88,
          89,
          90,
          91,
          92,
          93,
          94,
          95,
          96,
          97,
          98,
          99,
          100
         ],
         "y": [
          -0.36852655,
          -0.36852655,
          -0.36852655,
          -0.36852655,
          -0.43931783,
          -0.43931783,
          -1.55032308,
          -1.55032308,
          -1.68129438,
          -1.75949713,
          -1.80550121,
          -1.80550121,
          -1.80550121,
          -1.80550121,
          -1.80550121,
          -1.80550121,
          -1.80550121,
          -1.80550121,
          -1.80550121,
          -1.87326397,
          -1.87326397,
          -1.87326397,
          -1.87326397,
          -1.87326397,
          -1.91789381,
          -1.91789381,
          -1.91789381,
          -1.91789381,
          -2.74154852,
          -2.92309445,
          -3.03961406,
          -3.08205685,
          -3.08205685,
          -3.08205685,
          -3.08205685,
          -3.08205685,
          -3.08205685,
          -3.08205685,
          -3.08205685,
          -3.08205685,
          -3.09694762,
          -3.09694762,
          -3.09694762,
          -3.10465482,
          -3.10465482,
          -3.10465482,
          -3.10465482,
          -3.10465482,
          -3.10465482,
          -3.10465482,
          -3.10465482,
          -3.10465482,
          -3.10465482,
          -3.10465482,
          -3.10465482,
          -3.10465482,
          -3.10465482,
          -3.10465482,
          -3.11783753,
          -3.11783753,
          -3.11783753,
          -3.11783753,
          -3.11783753,
          -3.11783753,
          -3.11783753,
          -3.11783753,
          -3.11783753,
          -3.11783753,
          -3.11783753,
          -3.11783753,
          -3.11783753,
          -3.11783753,
          -3.11783753,
          -3.11783753,
          -3.11783753,
          -3.11783753,
          -3.11783753,
          -3.11783753,
          -3.11783753,
          -3.11783753,
          -3.11783753,
          -3.11783753,
          -3.11783753,
          -3.11783753,
          -3.11783753,
          -3.11783753,
          -3.11783753,
          -3.11783753,
          -3.11783753,
          -3.11783753,
          -3.11783753,
          -3.11783753,
          -3.11783753,
          -3.11783753,
          -3.11783753,
          -3.11783753,
          -3.11783753,
          -3.11783753,
          -3.11783753,
          -3.11783753,
          -3.11783753,
          -3.11783753,
          -3.11783753,
          -3.11783753
         ]
        },
        {
         "marker": {
          "color": "orange"
         },
         "mode": "markers",
         "name": "y_new (Beta:n >= 1)",
         "type": "scatter",
         "x": [],
         "y": []
        }
       ],
       "layout": {
        "legend": {
         "title": {
          "text": "Metrics"
         }
        },
        "template": {
         "data": {
          "bar": [
           {
            "error_x": {
             "color": "#2a3f5f"
            },
            "error_y": {
             "color": "#2a3f5f"
            },
            "marker": {
             "line": {
              "color": "#E5ECF6",
              "width": 0.5
             },
             "pattern": {
              "fillmode": "overlay",
              "size": 10,
              "solidity": 0.2
             }
            },
            "type": "bar"
           }
          ],
          "barpolar": [
           {
            "marker": {
             "line": {
              "color": "#E5ECF6",
              "width": 0.5
             },
             "pattern": {
              "fillmode": "overlay",
              "size": 10,
              "solidity": 0.2
             }
            },
            "type": "barpolar"
           }
          ],
          "carpet": [
           {
            "aaxis": {
             "endlinecolor": "#2a3f5f",
             "gridcolor": "white",
             "linecolor": "white",
             "minorgridcolor": "white",
             "startlinecolor": "#2a3f5f"
            },
            "baxis": {
             "endlinecolor": "#2a3f5f",
             "gridcolor": "white",
             "linecolor": "white",
             "minorgridcolor": "white",
             "startlinecolor": "#2a3f5f"
            },
            "type": "carpet"
           }
          ],
          "choropleth": [
           {
            "colorbar": {
             "outlinewidth": 0,
             "ticks": ""
            },
            "type": "choropleth"
           }
          ],
          "contour": [
           {
            "colorbar": {
             "outlinewidth": 0,
             "ticks": ""
            },
            "colorscale": [
             [
              0,
              "#0d0887"
             ],
             [
              0.1111111111111111,
              "#46039f"
             ],
             [
              0.2222222222222222,
              "#7201a8"
             ],
             [
              0.3333333333333333,
              "#9c179e"
             ],
             [
              0.4444444444444444,
              "#bd3786"
             ],
             [
              0.5555555555555556,
              "#d8576b"
             ],
             [
              0.6666666666666666,
              "#ed7953"
             ],
             [
              0.7777777777777778,
              "#fb9f3a"
             ],
             [
              0.8888888888888888,
              "#fdca26"
             ],
             [
              1,
              "#f0f921"
             ]
            ],
            "type": "contour"
           }
          ],
          "contourcarpet": [
           {
            "colorbar": {
             "outlinewidth": 0,
             "ticks": ""
            },
            "type": "contourcarpet"
           }
          ],
          "heatmap": [
           {
            "colorbar": {
             "outlinewidth": 0,
             "ticks": ""
            },
            "colorscale": [
             [
              0,
              "#0d0887"
             ],
             [
              0.1111111111111111,
              "#46039f"
             ],
             [
              0.2222222222222222,
              "#7201a8"
             ],
             [
              0.3333333333333333,
              "#9c179e"
             ],
             [
              0.4444444444444444,
              "#bd3786"
             ],
             [
              0.5555555555555556,
              "#d8576b"
             ],
             [
              0.6666666666666666,
              "#ed7953"
             ],
             [
              0.7777777777777778,
              "#fb9f3a"
             ],
             [
              0.8888888888888888,
              "#fdca26"
             ],
             [
              1,
              "#f0f921"
             ]
            ],
            "type": "heatmap"
           }
          ],
          "heatmapgl": [
           {
            "colorbar": {
             "outlinewidth": 0,
             "ticks": ""
            },
            "colorscale": [
             [
              0,
              "#0d0887"
             ],
             [
              0.1111111111111111,
              "#46039f"
             ],
             [
              0.2222222222222222,
              "#7201a8"
             ],
             [
              0.3333333333333333,
              "#9c179e"
             ],
             [
              0.4444444444444444,
              "#bd3786"
             ],
             [
              0.5555555555555556,
              "#d8576b"
             ],
             [
              0.6666666666666666,
              "#ed7953"
             ],
             [
              0.7777777777777778,
              "#fb9f3a"
             ],
             [
              0.8888888888888888,
              "#fdca26"
             ],
             [
              1,
              "#f0f921"
             ]
            ],
            "type": "heatmapgl"
           }
          ],
          "histogram": [
           {
            "marker": {
             "pattern": {
              "fillmode": "overlay",
              "size": 10,
              "solidity": 0.2
             }
            },
            "type": "histogram"
           }
          ],
          "histogram2d": [
           {
            "colorbar": {
             "outlinewidth": 0,
             "ticks": ""
            },
            "colorscale": [
             [
              0,
              "#0d0887"
             ],
             [
              0.1111111111111111,
              "#46039f"
             ],
             [
              0.2222222222222222,
              "#7201a8"
             ],
             [
              0.3333333333333333,
              "#9c179e"
             ],
             [
              0.4444444444444444,
              "#bd3786"
             ],
             [
              0.5555555555555556,
              "#d8576b"
             ],
             [
              0.6666666666666666,
              "#ed7953"
             ],
             [
              0.7777777777777778,
              "#fb9f3a"
             ],
             [
              0.8888888888888888,
              "#fdca26"
             ],
             [
              1,
              "#f0f921"
             ]
            ],
            "type": "histogram2d"
           }
          ],
          "histogram2dcontour": [
           {
            "colorbar": {
             "outlinewidth": 0,
             "ticks": ""
            },
            "colorscale": [
             [
              0,
              "#0d0887"
             ],
             [
              0.1111111111111111,
              "#46039f"
             ],
             [
              0.2222222222222222,
              "#7201a8"
             ],
             [
              0.3333333333333333,
              "#9c179e"
             ],
             [
              0.4444444444444444,
              "#bd3786"
             ],
             [
              0.5555555555555556,
              "#d8576b"
             ],
             [
              0.6666666666666666,
              "#ed7953"
             ],
             [
              0.7777777777777778,
              "#fb9f3a"
             ],
             [
              0.8888888888888888,
              "#fdca26"
             ],
             [
              1,
              "#f0f921"
             ]
            ],
            "type": "histogram2dcontour"
           }
          ],
          "mesh3d": [
           {
            "colorbar": {
             "outlinewidth": 0,
             "ticks": ""
            },
            "type": "mesh3d"
           }
          ],
          "parcoords": [
           {
            "line": {
             "colorbar": {
              "outlinewidth": 0,
              "ticks": ""
             }
            },
            "type": "parcoords"
           }
          ],
          "pie": [
           {
            "automargin": true,
            "type": "pie"
           }
          ],
          "scatter": [
           {
            "fillpattern": {
             "fillmode": "overlay",
             "size": 10,
             "solidity": 0.2
            },
            "type": "scatter"
           }
          ],
          "scatter3d": [
           {
            "line": {
             "colorbar": {
              "outlinewidth": 0,
              "ticks": ""
             }
            },
            "marker": {
             "colorbar": {
              "outlinewidth": 0,
              "ticks": ""
             }
            },
            "type": "scatter3d"
           }
          ],
          "scattercarpet": [
           {
            "marker": {
             "colorbar": {
              "outlinewidth": 0,
              "ticks": ""
             }
            },
            "type": "scattercarpet"
           }
          ],
          "scattergeo": [
           {
            "marker": {
             "colorbar": {
              "outlinewidth": 0,
              "ticks": ""
             }
            },
            "type": "scattergeo"
           }
          ],
          "scattergl": [
           {
            "marker": {
             "colorbar": {
              "outlinewidth": 0,
              "ticks": ""
             }
            },
            "type": "scattergl"
           }
          ],
          "scattermapbox": [
           {
            "marker": {
             "colorbar": {
              "outlinewidth": 0,
              "ticks": ""
             }
            },
            "type": "scattermapbox"
           }
          ],
          "scatterpolar": [
           {
            "marker": {
             "colorbar": {
              "outlinewidth": 0,
              "ticks": ""
             }
            },
            "type": "scatterpolar"
           }
          ],
          "scatterpolargl": [
           {
            "marker": {
             "colorbar": {
              "outlinewidth": 0,
              "ticks": ""
             }
            },
            "type": "scatterpolargl"
           }
          ],
          "scatterternary": [
           {
            "marker": {
             "colorbar": {
              "outlinewidth": 0,
              "ticks": ""
             }
            },
            "type": "scatterternary"
           }
          ],
          "surface": [
           {
            "colorbar": {
             "outlinewidth": 0,
             "ticks": ""
            },
            "colorscale": [
             [
              0,
              "#0d0887"
             ],
             [
              0.1111111111111111,
              "#46039f"
             ],
             [
              0.2222222222222222,
              "#7201a8"
             ],
             [
              0.3333333333333333,
              "#9c179e"
             ],
             [
              0.4444444444444444,
              "#bd3786"
             ],
             [
              0.5555555555555556,
              "#d8576b"
             ],
             [
              0.6666666666666666,
              "#ed7953"
             ],
             [
              0.7777777777777778,
              "#fb9f3a"
             ],
             [
              0.8888888888888888,
              "#fdca26"
             ],
             [
              1,
              "#f0f921"
             ]
            ],
            "type": "surface"
           }
          ],
          "table": [
           {
            "cells": {
             "fill": {
              "color": "#EBF0F8"
             },
             "line": {
              "color": "white"
             }
            },
            "header": {
             "fill": {
              "color": "#C8D4E3"
             },
             "line": {
              "color": "white"
             }
            },
            "type": "table"
           }
          ]
         },
         "layout": {
          "annotationdefaults": {
           "arrowcolor": "#2a3f5f",
           "arrowhead": 0,
           "arrowwidth": 1
          },
          "autotypenumbers": "strict",
          "coloraxis": {
           "colorbar": {
            "outlinewidth": 0,
            "ticks": ""
           }
          },
          "colorscale": {
           "diverging": [
            [
             0,
             "#8e0152"
            ],
            [
             0.1,
             "#c51b7d"
            ],
            [
             0.2,
             "#de77ae"
            ],
            [
             0.3,
             "#f1b6da"
            ],
            [
             0.4,
             "#fde0ef"
            ],
            [
             0.5,
             "#f7f7f7"
            ],
            [
             0.6,
             "#e6f5d0"
            ],
            [
             0.7,
             "#b8e186"
            ],
            [
             0.8,
             "#7fbc41"
            ],
            [
             0.9,
             "#4d9221"
            ],
            [
             1,
             "#276419"
            ]
           ],
           "sequential": [
            [
             0,
             "#0d0887"
            ],
            [
             0.1111111111111111,
             "#46039f"
            ],
            [
             0.2222222222222222,
             "#7201a8"
            ],
            [
             0.3333333333333333,
             "#9c179e"
            ],
            [
             0.4444444444444444,
             "#bd3786"
            ],
            [
             0.5555555555555556,
             "#d8576b"
            ],
            [
             0.6666666666666666,
             "#ed7953"
            ],
            [
             0.7777777777777778,
             "#fb9f3a"
            ],
            [
             0.8888888888888888,
             "#fdca26"
            ],
            [
             1,
             "#f0f921"
            ]
           ],
           "sequentialminus": [
            [
             0,
             "#0d0887"
            ],
            [
             0.1111111111111111,
             "#46039f"
            ],
            [
             0.2222222222222222,
             "#7201a8"
            ],
            [
             0.3333333333333333,
             "#9c179e"
            ],
            [
             0.4444444444444444,
             "#bd3786"
            ],
            [
             0.5555555555555556,
             "#d8576b"
            ],
            [
             0.6666666666666666,
             "#ed7953"
            ],
            [
             0.7777777777777778,
             "#fb9f3a"
            ],
            [
             0.8888888888888888,
             "#fdca26"
            ],
            [
             1,
             "#f0f921"
            ]
           ]
          },
          "colorway": [
           "#636efa",
           "#EF553B",
           "#00cc96",
           "#ab63fa",
           "#FFA15A",
           "#19d3f3",
           "#FF6692",
           "#B6E880",
           "#FF97FF",
           "#FECB52"
          ],
          "font": {
           "color": "#2a3f5f"
          },
          "geo": {
           "bgcolor": "white",
           "lakecolor": "white",
           "landcolor": "#E5ECF6",
           "showlakes": true,
           "showland": true,
           "subunitcolor": "white"
          },
          "hoverlabel": {
           "align": "left"
          },
          "hovermode": "closest",
          "mapbox": {
           "style": "light"
          },
          "paper_bgcolor": "white",
          "plot_bgcolor": "#E5ECF6",
          "polar": {
           "angularaxis": {
            "gridcolor": "white",
            "linecolor": "white",
            "ticks": ""
           },
           "bgcolor": "#E5ECF6",
           "radialaxis": {
            "gridcolor": "white",
            "linecolor": "white",
            "ticks": ""
           }
          },
          "scene": {
           "xaxis": {
            "backgroundcolor": "#E5ECF6",
            "gridcolor": "white",
            "gridwidth": 2,
            "linecolor": "white",
            "showbackground": true,
            "ticks": "",
            "zerolinecolor": "white"
           },
           "yaxis": {
            "backgroundcolor": "#E5ECF6",
            "gridcolor": "white",
            "gridwidth": 2,
            "linecolor": "white",
            "showbackground": true,
            "ticks": "",
            "zerolinecolor": "white"
           },
           "zaxis": {
            "backgroundcolor": "#E5ECF6",
            "gridcolor": "white",
            "gridwidth": 2,
            "linecolor": "white",
            "showbackground": true,
            "ticks": "",
            "zerolinecolor": "white"
           }
          },
          "shapedefaults": {
           "line": {
            "color": "#2a3f5f"
           }
          },
          "ternary": {
           "aaxis": {
            "gridcolor": "white",
            "linecolor": "white",
            "ticks": ""
           },
           "baxis": {
            "gridcolor": "white",
            "linecolor": "white",
            "ticks": ""
           },
           "bgcolor": "#E5ECF6",
           "caxis": {
            "gridcolor": "white",
            "linecolor": "white",
            "ticks": ""
           }
          },
          "title": {
           "x": 0.05
          },
          "xaxis": {
           "automargin": true,
           "gridcolor": "white",
           "linecolor": "white",
           "ticks": "",
           "title": {
            "standoff": 15
           },
           "zerolinecolor": "white",
           "zerolinewidth": 2
          },
          "yaxis": {
           "automargin": true,
           "gridcolor": "white",
           "linecolor": "white",
           "ticks": "",
           "title": {
            "standoff": 15
           },
           "zerolinecolor": "white",
           "zerolinewidth": 2
          }
         }
        },
        "title": {
         "text": "Bayesian Optimization History"
        },
        "xaxis": {
         "title": {
          "text": "Iteration"
         }
        },
        "yaxis": {
         "title": {
          "text": "Function Value"
         }
        }
       }
      }
     },
     "metadata": {},
     "output_type": "display_data"
    }
   ],
   "source": [
    "# ファイルをパースする\n",
    "file_name = '2024-09-21_04-49-11_vanilla_bo_Hartmann6_TP_EI_seed1.log'\n",
    "file_path = os.path.join(target, file_name)\n",
    "\n",
    "parser = LogParser(file_path)\n",
    "parser.parse_log_file()\n",
    "\n",
    "df_combined = parser.create_combined_dataframe()\n",
    "history_plot(df_combined)"
   ]
  },
  {
   "cell_type": "code",
   "execution_count": null,
   "metadata": {},
   "outputs": [],
   "source": []
  },
  {
   "cell_type": "code",
   "execution_count": null,
   "metadata": {},
   "outputs": [],
   "source": []
  },
  {
   "cell_type": "code",
   "execution_count": null,
   "metadata": {},
   "outputs": [],
   "source": []
  },
  {
   "cell_type": "markdown",
   "metadata": {},
   "source": [
    "## 比較"
   ]
  },
  {
   "cell_type": "code",
   "execution_count": 14,
   "metadata": {},
   "outputs": [],
   "source": [
    "import os\n",
    "\n",
    "def create_df_dict(target_file_path_list, objective_function_name):\n",
    "    df_dict = {\n",
    "        \"GP\": {\n",
    "            \"EI\": None,\n",
    "            \"POI\": None,\n",
    "            \"UCB\": None\n",
    "        },\n",
    "        \"TP\": {\n",
    "            \"EI\": None,\n",
    "            \"POI\": None,\n",
    "            \"UCB\": None\n",
    "        }\n",
    "    }\n",
    "\n",
    "    # LogParserクラスのインスタンス生成とデータフレームの作成\n",
    "    for file_path in target_file_path_list:\n",
    "        if objective_function_name in file_path:\n",
    "            parser = LogParser(file_path)\n",
    "            parser.parse_log_file()\n",
    "            df_combined = parser.create_combined_dataframe()\n",
    "\n",
    "            # ファイル名からモデルと手法を推定\n",
    "            if \"GP\" in file_path:\n",
    "                if \"EI\" in file_path:\n",
    "                    df_dict[\"GP\"][\"EI\"] = df_combined\n",
    "                elif \"POI\" in file_path:\n",
    "                    df_dict[\"GP\"][\"POI\"] = df_combined\n",
    "                elif \"UCB\" in file_path:\n",
    "                    df_dict[\"GP\"][\"UCB\"] = df_combined\n",
    "            elif \"TP\" in file_path:\n",
    "                if \"EI\" in file_path:\n",
    "                    df_dict[\"TP\"][\"EI\"] = df_combined\n",
    "                elif \"POI\" in file_path:\n",
    "                    df_dict[\"TP\"][\"POI\"] = df_combined\n",
    "                elif \"UCB\" in file_path:\n",
    "                    df_dict[\"TP\"][\"UCB\"] = df_combined\n",
    "    return df_dict"
   ]
  },
  {
   "cell_type": "code",
   "execution_count": 20,
   "metadata": {},
   "outputs": [
    {
     "name": "stdout",
     "output_type": "stream",
     "text": [
      "Failed to parse settings: invalid syntax (<unknown>, line 1)\n",
      "\n",
      "<class 'pandas.core.series.Series'>\n",
      "\n",
      "Failed to parse settings: invalid syntax (<unknown>, line 1)\n",
      "\n",
      "<class 'pandas.core.series.Series'>\n",
      "\n",
      "Failed to parse settings: invalid syntax (<unknown>, line 1)\n",
      "\n",
      "<class 'pandas.core.series.Series'>\n",
      "\n",
      "Failed to parse settings: invalid syntax (<unknown>, line 1)\n",
      "\n",
      "<class 'pandas.core.series.Series'>\n",
      "\n",
      "Failed to parse settings: invalid syntax (<unknown>, line 1)\n",
      "\n",
      "<class 'pandas.core.series.Series'>\n",
      "\n",
      "Failed to parse settings: invalid syntax (<unknown>, line 1)\n",
      "\n",
      "<class 'pandas.core.series.Series'>\n",
      "\n",
      "{'GP': {'EI': None, 'POI': None, 'UCB': None}, 'TP': {'EI': None, 'POI': None, 'UCB': None}, '2024-09-21_04-49-11_vanilla_bo_Hartmann6_TP_EI_seed1.log':            X_new      y_new     y_best      Beta    Beta:n  Iteration\n",
      "0   [5.72237106]  -4.240626 -31.276073  2.229656  0.557414          0\n",
      "1   [9.42863097]  71.012077 -31.276073  2.229656  0.557414          0\n",
      "2   [8.06339935] -31.276073 -31.276073  2.229656  0.557414          0\n",
      "3   [6.76957315]   1.868799 -31.276073  2.229656  0.557414          0\n",
      "0          [5.0]  15.382359 -31.276073  2.229656  0.557414          1\n",
      "..           ...        ...        ...       ...       ...        ...\n",
      "52   [6.4010596] -24.654312 -31.276073  4.570324  0.081613         53\n",
      "53         [5.0]  15.382359 -31.276073  4.359063  0.076475         54\n",
      "54         [5.0]  15.382359 -31.276073  4.678464  0.080663         55\n",
      "55         [5.0]  15.382359 -31.276073  8.002779  0.135640         56\n",
      "56         [5.0]  15.382359 -31.276073  7.524393  0.125407         57\n",
      "\n",
      "[61 rows x 6 columns]}\n"
     ]
    }
   ],
   "source": [
    "# ターゲットファイルのパスをリストとして作成\n",
    "target = os.path.join(LOG_DIR, 'E2')\n",
    "file_name_list = search_log_files(target, [\"seed1\", \"Sinusoidal\"])\n",
    "file_path_list = [os.path.join(target, file_name) for file_name in file_name_list]\n",
    "\n",
    "# データフレームの辞書を作成\n",
    "df_dict = create_df_dict(file_path_list, \"Sinusoidal\")\n",
    "\n",
    "# 結果を出力\n",
    "print(df_dict)\n"
   ]
  },
  {
   "cell_type": "code",
   "execution_count": 10,
   "metadata": {},
   "outputs": [],
   "source": [
    "import plotly.graph_objects as go\n",
    "\n",
    "def add_history_plot(fig, df_dict, model_name, acq_fn):\n",
    "    color_dict = {\n",
    "        \"GP\": \"blue\",\n",
    "        \"TP\": \"red\"\n",
    "    }\n",
    "\n",
    "    df = df_dict[model_name][acq_fn]\n",
    "\n",
    "    # Plot y_new\n",
    "    fig.add_trace(go.Scatter(\n",
    "        x=df['Iteration'],\n",
    "        y=df['y_new'],\n",
    "        mode='markers',\n",
    "        name=f\"{model_name} - {acq_fn}\",\n",
    "        marker=dict(color=color_dict[model_name])\n",
    "    ))\n",
    "\n",
    "    # Plot y_best\n",
    "    fig.add_trace(go.Scatter(\n",
    "        x=df['Iteration'],\n",
    "        y=df['y_best'],\n",
    "        mode='lines',\n",
    "        name=f\"{model_name} - {acq_fn}\",\n",
    "        line=dict(color=color_dict[model_name])\n",
    "    ))\n",
    "\n",
    "    # # Highlight points where Beta:n >= 1 with orange dots\n",
    "    # high_beta_mask = df['Beta:n'] >= 1\n",
    "    # fig.add_trace(go.Scatter(\n",
    "    #     x=df['Iteration'][high_beta_mask],\n",
    "    #     y=df['y_new'][high_beta_mask],\n",
    "    #     mode='markers',\n",
    "    #     name=f\"{model_name} - {acq_fn} (Beta:n >= 1)\",\n",
    "    #     marker=dict(color='orange')\n",
    "    # ))\n",
    "\n",
    "    return None"
   ]
  },
  {
   "cell_type": "code",
   "execution_count": 11,
   "metadata": {},
   "outputs": [
    {
     "data": {
      "application/vnd.plotly.v1+json": {
       "config": {
        "plotlyServerURL": "https://plot.ly"
       },
       "data": [
        {
         "marker": {
          "color": "blue"
         },
         "mode": "markers",
         "name": "GP - EI",
         "type": "scatter",
         "x": [
          0,
          0,
          0,
          0,
          1,
          2,
          3,
          4,
          5,
          6,
          7,
          8,
          9,
          10,
          11,
          12,
          13,
          14,
          15,
          16,
          17,
          18,
          19,
          20,
          21,
          22,
          23,
          24,
          25,
          26,
          27,
          28,
          29,
          30,
          31,
          32,
          33,
          34,
          35,
          36,
          37,
          38,
          39,
          40,
          41,
          42,
          43,
          44,
          45,
          46,
          47,
          48,
          49,
          50,
          51,
          52,
          53,
          54,
          55,
          56,
          57,
          58,
          59,
          60,
          61,
          62,
          63,
          64,
          65,
          66
         ],
         "y": [
          -25.45691365,
          70.66170175,
          -28.90254714,
          -26.0443899,
          15.3823595,
          20.36186,
          -24.774305,
          -24.544891,
          -25.394562,
          -25.906609,
          -26.529177,
          -27.077488,
          -51.503963,
          -54.443794,
          -54.52982,
          -54.513924,
          -54.48828,
          -43.697346,
          -43.697346,
          -43.697346,
          -43.697346,
          -43.697346,
          -43.697346,
          33.416428,
          -43.697346,
          -43.697346,
          52.00017,
          52.00017,
          52.00017,
          52.00017,
          52.00017,
          52.00017,
          52.00017,
          52.00017,
          52.00017,
          52.00017,
          -24.654312,
          -24.654312,
          52.00017,
          -24.654312,
          -24.654312,
          -24.654312,
          -24.654312,
          -24.654312,
          -24.654312,
          -24.654312,
          -24.654312,
          -24.654312,
          -26.192755,
          -24.654312,
          -24.654312,
          -24.654312,
          -24.654312,
          -24.654312,
          -24.654312,
          -24.654312,
          -24.654312,
          -27.226677,
          35.111477,
          -24.654312,
          -24.654312,
          -24.654312,
          -24.654312,
          -24.654312,
          -13.164195,
          -24.654312,
          -24.654312,
          -24.654312,
          -18.206974,
          -24.654312
         ]
        },
        {
         "line": {
          "color": "blue"
         },
         "mode": "lines",
         "name": "GP - EI",
         "type": "scatter",
         "x": [
          0,
          0,
          0,
          0,
          1,
          2,
          3,
          4,
          5,
          6,
          7,
          8,
          9,
          10,
          11,
          12,
          13,
          14,
          15,
          16,
          17,
          18,
          19,
          20,
          21,
          22,
          23,
          24,
          25,
          26,
          27,
          28,
          29,
          30,
          31,
          32,
          33,
          34,
          35,
          36,
          37,
          38,
          39,
          40,
          41,
          42,
          43,
          44,
          45,
          46,
          47,
          48,
          49,
          50,
          51,
          52,
          53,
          54,
          55,
          56,
          57,
          58,
          59,
          60,
          61,
          62,
          63,
          64,
          65,
          66
         ],
         "y": [
          -28.90254714,
          -28.90254714,
          -28.90254714,
          -28.90254714,
          -28.90254714,
          -28.90254714,
          -28.90254714,
          -28.90254714,
          -28.90254714,
          -28.90254714,
          -28.90254714,
          -28.90254714,
          -51.503963,
          -54.443794,
          -54.52982,
          -54.52982,
          -54.52982,
          -54.52982,
          -54.52982,
          -54.52982,
          -54.52982,
          -54.52982,
          -54.52982,
          -54.52982,
          -54.52982,
          -54.52982,
          -54.52982,
          -54.52982,
          -54.52982,
          -54.52982,
          -54.52982,
          -54.52982,
          -54.52982,
          -54.52982,
          -54.52982,
          -54.52982,
          -54.52982,
          -54.52982,
          -54.52982,
          -54.52982,
          -54.52982,
          -54.52982,
          -54.52982,
          -54.52982,
          -54.52982,
          -54.52982,
          -54.52982,
          -54.52982,
          -54.52982,
          -54.52982,
          -54.52982,
          -54.52982,
          -54.52982,
          -54.52982,
          -54.52982,
          -54.52982,
          -54.52982,
          -54.52982,
          -54.52982,
          -54.52982,
          -54.52982,
          -54.52982,
          -54.52982,
          -54.52982,
          -54.52982,
          -54.52982,
          -54.52982,
          -54.52982,
          -54.52982,
          -54.52982
         ]
        },
        {
         "marker": {
          "color": "red"
         },
         "mode": "markers",
         "name": "TP - EI",
         "type": "scatter",
         "x": [
          0,
          0,
          0,
          0,
          1,
          2,
          3,
          4,
          5,
          6,
          7,
          8,
          9,
          10,
          11,
          12,
          13,
          14,
          15,
          16,
          17,
          18,
          19,
          20,
          21,
          22,
          23,
          24,
          25,
          26,
          27,
          28,
          29,
          30,
          31,
          32,
          33,
          34,
          35,
          36,
          37,
          38,
          39,
          40,
          41,
          42,
          43,
          44,
          45,
          46,
          47,
          48,
          49,
          50,
          51,
          52,
          53,
          54,
          55,
          56,
          57,
          58,
          59,
          60,
          61,
          62
         ],
         "y": [
          15.77251421,
          -15.30722315,
          -18.6502508,
          -54.25576204,
          39.660656,
          -19.384365,
          15.3823595,
          -54.48699,
          -6.8019304,
          -54.160675,
          -53.891747,
          -53.46512,
          -53.05643,
          -52.78533,
          -40.314938,
          -54.31713,
          -51.03711,
          -54.04128,
          -2.6415203,
          68.50484,
          -43.692715,
          10.223425,
          10.807168,
          -43.697346,
          -43.697346,
          52.00017,
          -43.697346,
          52.00017,
          52.00017,
          52.00017,
          52.00017,
          52.00017,
          52.00017,
          52.00017,
          52.00017,
          -24.654312,
          52.00017,
          -24.654312,
          -24.654312,
          -24.654312,
          -24.654312,
          -24.654312,
          -24.654312,
          -24.654312,
          -24.654312,
          -24.654312,
          -24.654312,
          -24.654312,
          -24.654312,
          -24.654312,
          -24.654312,
          -24.654312,
          -24.654312,
          -24.654312,
          -24.654312,
          -24.654312,
          -24.654312,
          -27.019476,
          -24.654312,
          -24.654312,
          52.00017,
          -24.654312,
          -24.654312,
          -24.654312,
          -24.654312,
          -24.654312
         ]
        },
        {
         "line": {
          "color": "red"
         },
         "mode": "lines",
         "name": "TP - EI",
         "type": "scatter",
         "x": [
          0,
          0,
          0,
          0,
          1,
          2,
          3,
          4,
          5,
          6,
          7,
          8,
          9,
          10,
          11,
          12,
          13,
          14,
          15,
          16,
          17,
          18,
          19,
          20,
          21,
          22,
          23,
          24,
          25,
          26,
          27,
          28,
          29,
          30,
          31,
          32,
          33,
          34,
          35,
          36,
          37,
          38,
          39,
          40,
          41,
          42,
          43,
          44,
          45,
          46,
          47,
          48,
          49,
          50,
          51,
          52,
          53,
          54,
          55,
          56,
          57,
          58,
          59,
          60,
          61,
          62
         ],
         "y": [
          -54.25576204,
          -54.25576204,
          -54.25576204,
          -54.25576204,
          -54.25576204,
          -54.25576204,
          -54.25576204,
          -54.48699,
          -54.48699,
          -54.48699,
          -54.48699,
          -54.48699,
          -54.48699,
          -54.48699,
          -54.48699,
          -54.48699,
          -54.48699,
          -54.48699,
          -54.48699,
          -54.48699,
          -54.48699,
          -54.48699,
          -54.48699,
          -54.48699,
          -54.48699,
          -54.48699,
          -54.48699,
          -54.48699,
          -54.48699,
          -54.48699,
          -54.48699,
          -54.48699,
          -54.48699,
          -54.48699,
          -54.48699,
          -54.48699,
          -54.48699,
          -54.48699,
          -54.48699,
          -54.48699,
          -54.48699,
          -54.48699,
          -54.48699,
          -54.48699,
          -54.48699,
          -54.48699,
          -54.48699,
          -54.48699,
          -54.48699,
          -54.48699,
          -54.48699,
          -54.48699,
          -54.48699,
          -54.48699,
          -54.48699,
          -54.48699,
          -54.48699,
          -54.48699,
          -54.48699,
          -54.48699,
          -54.48699,
          -54.48699,
          -54.48699,
          -54.48699,
          -54.48699,
          -54.48699
         ]
        }
       ],
       "layout": {
        "legend": {
         "title": {
          "text": "Metrics"
         }
        },
        "template": {
         "data": {
          "bar": [
           {
            "error_x": {
             "color": "#2a3f5f"
            },
            "error_y": {
             "color": "#2a3f5f"
            },
            "marker": {
             "line": {
              "color": "#E5ECF6",
              "width": 0.5
             },
             "pattern": {
              "fillmode": "overlay",
              "size": 10,
              "solidity": 0.2
             }
            },
            "type": "bar"
           }
          ],
          "barpolar": [
           {
            "marker": {
             "line": {
              "color": "#E5ECF6",
              "width": 0.5
             },
             "pattern": {
              "fillmode": "overlay",
              "size": 10,
              "solidity": 0.2
             }
            },
            "type": "barpolar"
           }
          ],
          "carpet": [
           {
            "aaxis": {
             "endlinecolor": "#2a3f5f",
             "gridcolor": "white",
             "linecolor": "white",
             "minorgridcolor": "white",
             "startlinecolor": "#2a3f5f"
            },
            "baxis": {
             "endlinecolor": "#2a3f5f",
             "gridcolor": "white",
             "linecolor": "white",
             "minorgridcolor": "white",
             "startlinecolor": "#2a3f5f"
            },
            "type": "carpet"
           }
          ],
          "choropleth": [
           {
            "colorbar": {
             "outlinewidth": 0,
             "ticks": ""
            },
            "type": "choropleth"
           }
          ],
          "contour": [
           {
            "colorbar": {
             "outlinewidth": 0,
             "ticks": ""
            },
            "colorscale": [
             [
              0,
              "#0d0887"
             ],
             [
              0.1111111111111111,
              "#46039f"
             ],
             [
              0.2222222222222222,
              "#7201a8"
             ],
             [
              0.3333333333333333,
              "#9c179e"
             ],
             [
              0.4444444444444444,
              "#bd3786"
             ],
             [
              0.5555555555555556,
              "#d8576b"
             ],
             [
              0.6666666666666666,
              "#ed7953"
             ],
             [
              0.7777777777777778,
              "#fb9f3a"
             ],
             [
              0.8888888888888888,
              "#fdca26"
             ],
             [
              1,
              "#f0f921"
             ]
            ],
            "type": "contour"
           }
          ],
          "contourcarpet": [
           {
            "colorbar": {
             "outlinewidth": 0,
             "ticks": ""
            },
            "type": "contourcarpet"
           }
          ],
          "heatmap": [
           {
            "colorbar": {
             "outlinewidth": 0,
             "ticks": ""
            },
            "colorscale": [
             [
              0,
              "#0d0887"
             ],
             [
              0.1111111111111111,
              "#46039f"
             ],
             [
              0.2222222222222222,
              "#7201a8"
             ],
             [
              0.3333333333333333,
              "#9c179e"
             ],
             [
              0.4444444444444444,
              "#bd3786"
             ],
             [
              0.5555555555555556,
              "#d8576b"
             ],
             [
              0.6666666666666666,
              "#ed7953"
             ],
             [
              0.7777777777777778,
              "#fb9f3a"
             ],
             [
              0.8888888888888888,
              "#fdca26"
             ],
             [
              1,
              "#f0f921"
             ]
            ],
            "type": "heatmap"
           }
          ],
          "heatmapgl": [
           {
            "colorbar": {
             "outlinewidth": 0,
             "ticks": ""
            },
            "colorscale": [
             [
              0,
              "#0d0887"
             ],
             [
              0.1111111111111111,
              "#46039f"
             ],
             [
              0.2222222222222222,
              "#7201a8"
             ],
             [
              0.3333333333333333,
              "#9c179e"
             ],
             [
              0.4444444444444444,
              "#bd3786"
             ],
             [
              0.5555555555555556,
              "#d8576b"
             ],
             [
              0.6666666666666666,
              "#ed7953"
             ],
             [
              0.7777777777777778,
              "#fb9f3a"
             ],
             [
              0.8888888888888888,
              "#fdca26"
             ],
             [
              1,
              "#f0f921"
             ]
            ],
            "type": "heatmapgl"
           }
          ],
          "histogram": [
           {
            "marker": {
             "pattern": {
              "fillmode": "overlay",
              "size": 10,
              "solidity": 0.2
             }
            },
            "type": "histogram"
           }
          ],
          "histogram2d": [
           {
            "colorbar": {
             "outlinewidth": 0,
             "ticks": ""
            },
            "colorscale": [
             [
              0,
              "#0d0887"
             ],
             [
              0.1111111111111111,
              "#46039f"
             ],
             [
              0.2222222222222222,
              "#7201a8"
             ],
             [
              0.3333333333333333,
              "#9c179e"
             ],
             [
              0.4444444444444444,
              "#bd3786"
             ],
             [
              0.5555555555555556,
              "#d8576b"
             ],
             [
              0.6666666666666666,
              "#ed7953"
             ],
             [
              0.7777777777777778,
              "#fb9f3a"
             ],
             [
              0.8888888888888888,
              "#fdca26"
             ],
             [
              1,
              "#f0f921"
             ]
            ],
            "type": "histogram2d"
           }
          ],
          "histogram2dcontour": [
           {
            "colorbar": {
             "outlinewidth": 0,
             "ticks": ""
            },
            "colorscale": [
             [
              0,
              "#0d0887"
             ],
             [
              0.1111111111111111,
              "#46039f"
             ],
             [
              0.2222222222222222,
              "#7201a8"
             ],
             [
              0.3333333333333333,
              "#9c179e"
             ],
             [
              0.4444444444444444,
              "#bd3786"
             ],
             [
              0.5555555555555556,
              "#d8576b"
             ],
             [
              0.6666666666666666,
              "#ed7953"
             ],
             [
              0.7777777777777778,
              "#fb9f3a"
             ],
             [
              0.8888888888888888,
              "#fdca26"
             ],
             [
              1,
              "#f0f921"
             ]
            ],
            "type": "histogram2dcontour"
           }
          ],
          "mesh3d": [
           {
            "colorbar": {
             "outlinewidth": 0,
             "ticks": ""
            },
            "type": "mesh3d"
           }
          ],
          "parcoords": [
           {
            "line": {
             "colorbar": {
              "outlinewidth": 0,
              "ticks": ""
             }
            },
            "type": "parcoords"
           }
          ],
          "pie": [
           {
            "automargin": true,
            "type": "pie"
           }
          ],
          "scatter": [
           {
            "fillpattern": {
             "fillmode": "overlay",
             "size": 10,
             "solidity": 0.2
            },
            "type": "scatter"
           }
          ],
          "scatter3d": [
           {
            "line": {
             "colorbar": {
              "outlinewidth": 0,
              "ticks": ""
             }
            },
            "marker": {
             "colorbar": {
              "outlinewidth": 0,
              "ticks": ""
             }
            },
            "type": "scatter3d"
           }
          ],
          "scattercarpet": [
           {
            "marker": {
             "colorbar": {
              "outlinewidth": 0,
              "ticks": ""
             }
            },
            "type": "scattercarpet"
           }
          ],
          "scattergeo": [
           {
            "marker": {
             "colorbar": {
              "outlinewidth": 0,
              "ticks": ""
             }
            },
            "type": "scattergeo"
           }
          ],
          "scattergl": [
           {
            "marker": {
             "colorbar": {
              "outlinewidth": 0,
              "ticks": ""
             }
            },
            "type": "scattergl"
           }
          ],
          "scattermapbox": [
           {
            "marker": {
             "colorbar": {
              "outlinewidth": 0,
              "ticks": ""
             }
            },
            "type": "scattermapbox"
           }
          ],
          "scatterpolar": [
           {
            "marker": {
             "colorbar": {
              "outlinewidth": 0,
              "ticks": ""
             }
            },
            "type": "scatterpolar"
           }
          ],
          "scatterpolargl": [
           {
            "marker": {
             "colorbar": {
              "outlinewidth": 0,
              "ticks": ""
             }
            },
            "type": "scatterpolargl"
           }
          ],
          "scatterternary": [
           {
            "marker": {
             "colorbar": {
              "outlinewidth": 0,
              "ticks": ""
             }
            },
            "type": "scatterternary"
           }
          ],
          "surface": [
           {
            "colorbar": {
             "outlinewidth": 0,
             "ticks": ""
            },
            "colorscale": [
             [
              0,
              "#0d0887"
             ],
             [
              0.1111111111111111,
              "#46039f"
             ],
             [
              0.2222222222222222,
              "#7201a8"
             ],
             [
              0.3333333333333333,
              "#9c179e"
             ],
             [
              0.4444444444444444,
              "#bd3786"
             ],
             [
              0.5555555555555556,
              "#d8576b"
             ],
             [
              0.6666666666666666,
              "#ed7953"
             ],
             [
              0.7777777777777778,
              "#fb9f3a"
             ],
             [
              0.8888888888888888,
              "#fdca26"
             ],
             [
              1,
              "#f0f921"
             ]
            ],
            "type": "surface"
           }
          ],
          "table": [
           {
            "cells": {
             "fill": {
              "color": "#EBF0F8"
             },
             "line": {
              "color": "white"
             }
            },
            "header": {
             "fill": {
              "color": "#C8D4E3"
             },
             "line": {
              "color": "white"
             }
            },
            "type": "table"
           }
          ]
         },
         "layout": {
          "annotationdefaults": {
           "arrowcolor": "#2a3f5f",
           "arrowhead": 0,
           "arrowwidth": 1
          },
          "autotypenumbers": "strict",
          "coloraxis": {
           "colorbar": {
            "outlinewidth": 0,
            "ticks": ""
           }
          },
          "colorscale": {
           "diverging": [
            [
             0,
             "#8e0152"
            ],
            [
             0.1,
             "#c51b7d"
            ],
            [
             0.2,
             "#de77ae"
            ],
            [
             0.3,
             "#f1b6da"
            ],
            [
             0.4,
             "#fde0ef"
            ],
            [
             0.5,
             "#f7f7f7"
            ],
            [
             0.6,
             "#e6f5d0"
            ],
            [
             0.7,
             "#b8e186"
            ],
            [
             0.8,
             "#7fbc41"
            ],
            [
             0.9,
             "#4d9221"
            ],
            [
             1,
             "#276419"
            ]
           ],
           "sequential": [
            [
             0,
             "#0d0887"
            ],
            [
             0.1111111111111111,
             "#46039f"
            ],
            [
             0.2222222222222222,
             "#7201a8"
            ],
            [
             0.3333333333333333,
             "#9c179e"
            ],
            [
             0.4444444444444444,
             "#bd3786"
            ],
            [
             0.5555555555555556,
             "#d8576b"
            ],
            [
             0.6666666666666666,
             "#ed7953"
            ],
            [
             0.7777777777777778,
             "#fb9f3a"
            ],
            [
             0.8888888888888888,
             "#fdca26"
            ],
            [
             1,
             "#f0f921"
            ]
           ],
           "sequentialminus": [
            [
             0,
             "#0d0887"
            ],
            [
             0.1111111111111111,
             "#46039f"
            ],
            [
             0.2222222222222222,
             "#7201a8"
            ],
            [
             0.3333333333333333,
             "#9c179e"
            ],
            [
             0.4444444444444444,
             "#bd3786"
            ],
            [
             0.5555555555555556,
             "#d8576b"
            ],
            [
             0.6666666666666666,
             "#ed7953"
            ],
            [
             0.7777777777777778,
             "#fb9f3a"
            ],
            [
             0.8888888888888888,
             "#fdca26"
            ],
            [
             1,
             "#f0f921"
            ]
           ]
          },
          "colorway": [
           "#636efa",
           "#EF553B",
           "#00cc96",
           "#ab63fa",
           "#FFA15A",
           "#19d3f3",
           "#FF6692",
           "#B6E880",
           "#FF97FF",
           "#FECB52"
          ],
          "font": {
           "color": "#2a3f5f"
          },
          "geo": {
           "bgcolor": "white",
           "lakecolor": "white",
           "landcolor": "#E5ECF6",
           "showlakes": true,
           "showland": true,
           "subunitcolor": "white"
          },
          "hoverlabel": {
           "align": "left"
          },
          "hovermode": "closest",
          "mapbox": {
           "style": "light"
          },
          "paper_bgcolor": "white",
          "plot_bgcolor": "#E5ECF6",
          "polar": {
           "angularaxis": {
            "gridcolor": "white",
            "linecolor": "white",
            "ticks": ""
           },
           "bgcolor": "#E5ECF6",
           "radialaxis": {
            "gridcolor": "white",
            "linecolor": "white",
            "ticks": ""
           }
          },
          "scene": {
           "xaxis": {
            "backgroundcolor": "#E5ECF6",
            "gridcolor": "white",
            "gridwidth": 2,
            "linecolor": "white",
            "showbackground": true,
            "ticks": "",
            "zerolinecolor": "white"
           },
           "yaxis": {
            "backgroundcolor": "#E5ECF6",
            "gridcolor": "white",
            "gridwidth": 2,
            "linecolor": "white",
            "showbackground": true,
            "ticks": "",
            "zerolinecolor": "white"
           },
           "zaxis": {
            "backgroundcolor": "#E5ECF6",
            "gridcolor": "white",
            "gridwidth": 2,
            "linecolor": "white",
            "showbackground": true,
            "ticks": "",
            "zerolinecolor": "white"
           }
          },
          "shapedefaults": {
           "line": {
            "color": "#2a3f5f"
           }
          },
          "ternary": {
           "aaxis": {
            "gridcolor": "white",
            "linecolor": "white",
            "ticks": ""
           },
           "baxis": {
            "gridcolor": "white",
            "linecolor": "white",
            "ticks": ""
           },
           "bgcolor": "#E5ECF6",
           "caxis": {
            "gridcolor": "white",
            "linecolor": "white",
            "ticks": ""
           }
          },
          "title": {
           "x": 0.05
          },
          "xaxis": {
           "automargin": true,
           "gridcolor": "white",
           "linecolor": "white",
           "ticks": "",
           "title": {
            "standoff": 15
           },
           "zerolinecolor": "white",
           "zerolinewidth": 2
          },
          "yaxis": {
           "automargin": true,
           "gridcolor": "white",
           "linecolor": "white",
           "ticks": "",
           "title": {
            "standoff": 15
           },
           "zerolinecolor": "white",
           "zerolinewidth": 2
          }
         }
        },
        "title": {
         "text": "Bayesian Optimization History"
        },
        "xaxis": {
         "title": {
          "text": "Iteration"
         }
        },
        "yaxis": {
         "title": {
          "text": "Function Value"
         }
        }
       }
      }
     },
     "metadata": {},
     "output_type": "display_data"
    }
   ],
   "source": [
    "fig = go.Figure()\n",
    "\n",
    "for model_name in df_dict.keys():\n",
    "    acq_fn = \"EI\"\n",
    "    add_history_plot(fig, df_dict, model_name, acq_fn)\n",
    "\n",
    "fig.update_layout(\n",
    "    title=\"Bayesian Optimization History\",\n",
    "    xaxis_title=\"Iteration\",\n",
    "    yaxis_title=\"Function Value\",\n",
    "    legend_title=\"Metrics\"\n",
    ")\n",
    "\n",
    "fig.show()"
   ]
  },
  {
   "cell_type": "code",
   "execution_count": 24,
   "metadata": {},
   "outputs": [
    {
     "data": {
      "text/plain": [
       "['2024-09-21_04-48-13_vanilla_bo_BraninHoo_GP_EI_seed1.log',\n",
       " '2024-09-21_04-48-13_vanilla_bo_BraninHoo_GP_POI_seed1.log',\n",
       " '2024-09-21_04-48-13_vanilla_bo_BraninHoo_GP_UCB_seed1.log',\n",
       " '2024-09-21_04-48-13_vanilla_bo_BraninHoo_TP_EI_seed1.log',\n",
       " '2024-09-21_04-48-13_vanilla_bo_BraninHoo_TP_POI_seed1.log',\n",
       " '2024-09-21_04-48-13_vanilla_bo_BraninHoo_TP_UCB_seed1.log']"
      ]
     },
     "execution_count": 24,
     "metadata": {},
     "output_type": "execute_result"
    }
   ],
   "source": [
    "target = os.path.join(LOG_DIR, 'E2')\n",
    "file_name_list = search_log_files(target, [\"seed1\", \"Branin\"])\n",
    "file_path_list = [os.path.join(target, file_name) for file_name in file_name_list]\n",
    "\n",
    "file_name_list"
   ]
  },
  {
   "cell_type": "code",
   "execution_count": 25,
   "metadata": {},
   "outputs": [
    {
     "name": "stdout",
     "output_type": "stream",
     "text": [
      "Failed to parse settings: invalid syntax (<unknown>, line 1)\n",
      "\n",
      "<class 'pandas.core.series.Series'>\n",
      "\n",
      "Failed to parse settings: invalid syntax (<unknown>, line 1)\n",
      "\n",
      "<class 'pandas.core.series.Series'>\n",
      "\n",
      "Failed to parse settings: invalid syntax (<unknown>, line 1)\n",
      "\n",
      "<class 'pandas.core.series.Series'>\n",
      "\n",
      "Failed to parse settings: invalid syntax (<unknown>, line 1)\n",
      "\n",
      "<class 'pandas.core.series.Series'>\n",
      "\n",
      "Failed to parse settings: invalid syntax (<unknown>, line 1)\n",
      "\n",
      "<class 'pandas.core.series.Series'>\n",
      "\n",
      "Failed to parse settings: invalid syntax (<unknown>, line 1)\n",
      "\n",
      "<class 'pandas.core.series.Series'>\n",
      "\n"
     ]
    }
   ],
   "source": [
    "df_dict = create_df_dict(file_path_list, \"Branin\")"
   ]
  },
  {
   "cell_type": "code",
   "execution_count": 26,
   "metadata": {},
   "outputs": [
    {
     "data": {
      "text/plain": [
       "{'GP': {'EI': None, 'POI': None, 'UCB': None},\n",
       " 'TP': {'EI': None, 'POI': None, 'UCB': None},\n",
       " '2024-09-21_04-49-11_vanilla_bo_Hartmann6_TP_EI_seed1.log':                          X_new       y_new     y_best      Beta    Beta:n  \\\n",
       " 0    [10.07176138, 7.03297632]   18.005426  18.005426  2.206966  0.551741   \n",
       " 1     [0.12065416, 3.41535129]   25.265947  18.005426  2.206966  0.551741   \n",
       " 2     [6.0567882, 14.12789537]  189.098382  18.005426  2.206966  0.551741   \n",
       " 3   [12.11187411, -4.57868826]  123.753094  18.005426  2.206966  0.551741   \n",
       " 0                   [0.0, 5.0]  140.602110  18.005426  2.206966  0.551741   \n",
       " ..                         ...         ...        ...       ...       ...   \n",
       " 60                  [0.0, 5.0]  140.602110   6.167586  3.516532  0.054946   \n",
       " 61                  [0.0, 5.0]  140.602110   6.167586  3.775426  0.058083   \n",
       " 62                  [0.0, 5.0]  140.602110   6.167586  3.205291  0.048565   \n",
       " 63                  [0.0, 5.0]  140.602110   6.167586  3.420120  0.051047   \n",
       " 64                  [0.0, 5.0]  140.602110   6.167586  2.791785  0.041056   \n",
       " \n",
       "     Iteration  \n",
       " 0           0  \n",
       " 1           0  \n",
       " 2           0  \n",
       " 3           0  \n",
       " 0           1  \n",
       " ..        ...  \n",
       " 60         61  \n",
       " 61         62  \n",
       " 62         63  \n",
       " 63         64  \n",
       " 64         65  \n",
       " \n",
       " [69 rows x 6 columns]}"
      ]
     },
     "execution_count": 26,
     "metadata": {},
     "output_type": "execute_result"
    }
   ],
   "source": [
    "df_dict"
   ]
  },
  {
   "cell_type": "code",
   "execution_count": 23,
   "metadata": {},
   "outputs": [
    {
     "name": "stdout",
     "output_type": "stream",
     "text": [
      "Failed to parse settings: invalid syntax (<unknown>, line 1)\n",
      "\n",
      "<class 'pandas.core.series.Series'>\n",
      "\n",
      "Failed to parse settings: invalid syntax (<unknown>, line 1)\n",
      "\n",
      "<class 'pandas.core.series.Series'>\n",
      "\n",
      "Failed to parse settings: invalid syntax (<unknown>, line 1)\n",
      "\n",
      "<class 'pandas.core.series.Series'>\n",
      "\n",
      "Failed to parse settings: invalid syntax (<unknown>, line 1)\n",
      "\n",
      "<class 'pandas.core.series.Series'>\n",
      "\n",
      "Failed to parse settings: invalid syntax (<unknown>, line 1)\n",
      "\n",
      "<class 'pandas.core.series.Series'>\n",
      "\n",
      "Failed to parse settings: invalid syntax (<unknown>, line 1)\n",
      "\n",
      "<class 'pandas.core.series.Series'>\n",
      "\n"
     ]
    },
    {
     "data": {
      "text/plain": [
       "{'GP': {'EI': None, 'POI': None, 'UCB': None},\n",
       " 'TP': {'EI': None, 'POI': None, 'UCB': None},\n",
       " '2024-09-21_04-49-11_vanilla_bo_Hartmann6_TP_EI_seed1.log':                          X_new       y_new     y_best      Beta    Beta:n  \\\n",
       " 0    [10.07176138, 7.03297632]   18.005426  18.005426  2.206966  0.551741   \n",
       " 1     [0.12065416, 3.41535129]   25.265947  18.005426  2.206966  0.551741   \n",
       " 2     [6.0567882, 14.12789537]  189.098382  18.005426  2.206966  0.551741   \n",
       " 3   [12.11187411, -4.57868826]  123.753094  18.005426  2.206966  0.551741   \n",
       " 0                   [0.0, 5.0]  140.602110  18.005426  2.206966  0.551741   \n",
       " ..                         ...         ...        ...       ...       ...   \n",
       " 60                  [0.0, 5.0]  140.602110   6.167586  3.516532  0.054946   \n",
       " 61                  [0.0, 5.0]  140.602110   6.167586  3.775426  0.058083   \n",
       " 62                  [0.0, 5.0]  140.602110   6.167586  3.205291  0.048565   \n",
       " 63                  [0.0, 5.0]  140.602110   6.167586  3.420120  0.051047   \n",
       " 64                  [0.0, 5.0]  140.602110   6.167586  2.791785  0.041056   \n",
       " \n",
       "     Iteration  \n",
       " 0           0  \n",
       " 1           0  \n",
       " 2           0  \n",
       " 3           0  \n",
       " 0           1  \n",
       " ..        ...  \n",
       " 60         61  \n",
       " 61         62  \n",
       " 62         63  \n",
       " 63         64  \n",
       " 64         65  \n",
       " \n",
       " [69 rows x 6 columns]}"
      ]
     },
     "execution_count": 23,
     "metadata": {},
     "output_type": "execute_result"
    }
   ],
   "source": [
    "objective_function_name = \"Branin\"\n",
    "\n",
    "target = os.path.join(LOG_DIR, 'E2')\n",
    "file_name_list = search_log_files(target, [\"seed1\", objective_function_name])\n",
    "file_path_list = [os.path.join(target, file_name) for file_name in file_name_list]\n",
    "\n",
    "df_dict = create_df_dict(file_path_list, objective_function_name)\n",
    "df_dict"
   ]
  },
  {
   "cell_type": "code",
   "execution_count": null,
   "metadata": {},
   "outputs": [],
   "source": []
  },
  {
   "cell_type": "code",
   "execution_count": null,
   "metadata": {},
   "outputs": [],
   "source": []
  },
  {
   "cell_type": "code",
   "execution_count": null,
   "metadata": {},
   "outputs": [],
   "source": []
  },
  {
   "cell_type": "code",
   "execution_count": null,
   "metadata": {},
   "outputs": [],
   "source": []
  },
  {
   "cell_type": "code",
   "execution_count": null,
   "metadata": {},
   "outputs": [],
   "source": []
  }
 ],
 "metadata": {
  "kernelspec": {
   "display_name": ".venv",
   "language": "python",
   "name": "python3"
  },
  "language_info": {
   "codemirror_mode": {
    "name": "ipython",
    "version": 3
   },
   "file_extension": ".py",
   "mimetype": "text/x-python",
   "name": "python",
   "nbconvert_exporter": "python",
   "pygments_lexer": "ipython3",
   "version": "3.12.5"
  }
 },
 "nbformat": 4,
 "nbformat_minor": 2
}
