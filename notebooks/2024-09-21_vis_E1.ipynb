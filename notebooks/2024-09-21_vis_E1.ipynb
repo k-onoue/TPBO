{
 "cells": [
  {
   "cell_type": "markdown",
   "metadata": {},
   "source": [
    "# E1"
   ]
  },
  {
   "cell_type": "code",
   "execution_count": 1,
   "metadata": {},
   "outputs": [],
   "source": [
    "import os\n",
    "\n",
    "from _import_from_src import search_log_files\n",
    "from _import_from_src import LogParser\n",
    "from _import_from_src import LOG_DIR\n",
    "\n",
    "target = os.path.join(LOG_DIR, 'E1')"
   ]
  },
  {
   "cell_type": "code",
   "execution_count": 2,
   "metadata": {},
   "outputs": [
    {
     "data": {
      "text/plain": [
       "['2024-09-21_04-10-09_vanilla_bo_Hartmann6_GP_EI_seed1.log',\n",
       " '2024-09-21_04-10-09_vanilla_bo_Hartmann6_GP_POI_seed1.log',\n",
       " '2024-09-21_04-10-09_vanilla_bo_Hartmann6_GP_UCB_seed1.log',\n",
       " '2024-09-21_04-10-09_vanilla_bo_Hartmann6_TP_EI_seed1.log',\n",
       " '2024-09-21_04-10-09_vanilla_bo_Hartmann6_TP_POI_seed1.log',\n",
       " '2024-09-21_04-10-09_vanilla_bo_Hartmann6_TP_UCB_seed1.log',\n",
       " '2024-09-21_04-10-30_vanilla_bo_BraninHoo_GP_EI_seed1.log',\n",
       " '2024-09-21_04-10-30_vanilla_bo_BraninHoo_GP_POI_seed1.log',\n",
       " '2024-09-21_04-10-30_vanilla_bo_BraninHoo_GP_UCB_seed1.log',\n",
       " '2024-09-21_04-10-30_vanilla_bo_BraninHoo_TP_EI_seed1.log',\n",
       " '2024-09-21_04-10-30_vanilla_bo_BraninHoo_TP_POI_seed1.log',\n",
       " '2024-09-21_04-10-30_vanilla_bo_BraninHoo_TP_UCB_seed1.log',\n",
       " '2024-09-21_04-10-30_vanilla_bo_SinusoidalSynthetic_GP_EI_seed1.log',\n",
       " '2024-09-21_04-10-30_vanilla_bo_SinusoidalSynthetic_GP_POI_seed1.log',\n",
       " '2024-09-21_04-10-30_vanilla_bo_SinusoidalSynthetic_GP_UCB_seed1.log',\n",
       " '2024-09-21_04-10-30_vanilla_bo_SinusoidalSynthetic_TP_EI_seed1.log',\n",
       " '2024-09-21_04-10-30_vanilla_bo_SinusoidalSynthetic_TP_POI_seed1.log',\n",
       " '2024-09-21_04-10-30_vanilla_bo_SinusoidalSynthetic_TP_UCB_seed1.log']"
      ]
     },
     "execution_count": 2,
     "metadata": {},
     "output_type": "execute_result"
    }
   ],
   "source": [
    "search_log_files(target, [\"seed1\"])"
   ]
  },
  {
   "cell_type": "code",
   "execution_count": 3,
   "metadata": {},
   "outputs": [
    {
     "data": {
      "text/plain": [
       "['2024-09-20_22-18-11_vanilla_bo_Hartmann6_GP_EI_seed0.log',\n",
       " '2024-09-20_22-18-11_vanilla_bo_Hartmann6_GP_POI_seed0.log',\n",
       " '2024-09-20_22-18-11_vanilla_bo_Hartmann6_GP_UCB_seed0.log',\n",
       " '2024-09-20_22-18-11_vanilla_bo_Hartmann6_TP_EI_seed0.log',\n",
       " '2024-09-20_22-18-11_vanilla_bo_Hartmann6_TP_POI_seed0.log',\n",
       " '2024-09-20_22-18-11_vanilla_bo_Hartmann6_TP_UCB_seed0.log',\n",
       " '2024-09-20_22-18-15_vanilla_bo_BraninHoo_GP_EI_seed0.log',\n",
       " '2024-09-20_22-18-15_vanilla_bo_BraninHoo_GP_POI_seed0.log',\n",
       " '2024-09-20_22-18-15_vanilla_bo_BraninHoo_GP_UCB_seed0.log',\n",
       " '2024-09-20_22-18-15_vanilla_bo_BraninHoo_TP_EI_seed0.log',\n",
       " '2024-09-20_22-18-15_vanilla_bo_BraninHoo_TP_POI_seed0.log',\n",
       " '2024-09-20_22-18-15_vanilla_bo_BraninHoo_TP_UCB_seed0.log',\n",
       " '2024-09-20_22-18-15_vanilla_bo_SinusoidalSynthetic_GP_EI_seed0.log',\n",
       " '2024-09-20_22-18-15_vanilla_bo_SinusoidalSynthetic_GP_POI_seed0.log',\n",
       " '2024-09-20_22-18-15_vanilla_bo_SinusoidalSynthetic_GP_UCB_seed0.log',\n",
       " '2024-09-20_22-18-15_vanilla_bo_SinusoidalSynthetic_TP_EI_seed0.log',\n",
       " '2024-09-20_22-18-15_vanilla_bo_SinusoidalSynthetic_TP_POI_seed0.log',\n",
       " '2024-09-20_22-18-15_vanilla_bo_SinusoidalSynthetic_TP_UCB_seed0.log']"
      ]
     },
     "execution_count": 3,
     "metadata": {},
     "output_type": "execute_result"
    }
   ],
   "source": [
    "search_log_files(target, [\"seed0\"])"
   ]
  },
  {
   "cell_type": "code",
   "execution_count": 20,
   "metadata": {},
   "outputs": [
    {
     "name": "stdout",
     "output_type": "stream",
     "text": [
      "Failed to parse settings: invalid syntax (<unknown>, line 1)\n"
     ]
    },
    {
     "data": {
      "text/html": [
       "<div>\n",
       "<style scoped>\n",
       "    .dataframe tbody tr th:only-of-type {\n",
       "        vertical-align: middle;\n",
       "    }\n",
       "\n",
       "    .dataframe tbody tr th {\n",
       "        vertical-align: top;\n",
       "    }\n",
       "\n",
       "    .dataframe thead th {\n",
       "        text-align: right;\n",
       "    }\n",
       "</style>\n",
       "<table border=\"1\" class=\"dataframe\">\n",
       "  <thead>\n",
       "    <tr style=\"text-align: right;\">\n",
       "      <th></th>\n",
       "      <th>X_new</th>\n",
       "      <th>y_new</th>\n",
       "      <th>y_best</th>\n",
       "      <th>Beta</th>\n",
       "      <th>Beta:n</th>\n",
       "      <th>Iteration</th>\n",
       "    </tr>\n",
       "  </thead>\n",
       "  <tbody>\n",
       "    <tr>\n",
       "      <th>0</th>\n",
       "      <td>[0.62279334, 0.47389865, 0.86142857, 0.4732815...</td>\n",
       "      <td>-0.188452</td>\n",
       "      <td>-1.261967</td>\n",
       "      <td>2.055096</td>\n",
       "      <td>0.513774</td>\n",
       "      <td>0</td>\n",
       "    </tr>\n",
       "    <tr>\n",
       "      <th>1</th>\n",
       "      <td>[0.26682763, 0.88574659, 0.0114465, 0.75313756...</td>\n",
       "      <td>-0.040065</td>\n",
       "      <td>-1.261967</td>\n",
       "      <td>2.055096</td>\n",
       "      <td>0.513774</td>\n",
       "      <td>0</td>\n",
       "    </tr>\n",
       "    <tr>\n",
       "      <th>2</th>\n",
       "      <td>[0.2018369, 0.22683737, 0.51316811, 0.06612204...</td>\n",
       "      <td>-1.261967</td>\n",
       "      <td>-1.261967</td>\n",
       "      <td>2.055096</td>\n",
       "      <td>0.513774</td>\n",
       "      <td>0</td>\n",
       "    </tr>\n",
       "    <tr>\n",
       "      <th>3</th>\n",
       "      <td>[0.90835808, 0.63090744, 0.36410912, 0.6602818...</td>\n",
       "      <td>-0.017877</td>\n",
       "      <td>-1.261967</td>\n",
       "      <td>2.055096</td>\n",
       "      <td>0.513774</td>\n",
       "      <td>0</td>\n",
       "    </tr>\n",
       "    <tr>\n",
       "      <th>0</th>\n",
       "      <td>[0.27721548, 0.05223083, 0.60450494, 0.1630376...</td>\n",
       "      <td>-1.484909</td>\n",
       "      <td>-1.484909</td>\n",
       "      <td>2.055096</td>\n",
       "      <td>0.513774</td>\n",
       "      <td>1</td>\n",
       "    </tr>\n",
       "    <tr>\n",
       "      <th>...</th>\n",
       "      <td>...</td>\n",
       "      <td>...</td>\n",
       "      <td>...</td>\n",
       "      <td>...</td>\n",
       "      <td>...</td>\n",
       "      <td>...</td>\n",
       "    </tr>\n",
       "    <tr>\n",
       "      <th>146</th>\n",
       "      <td>[0.92939043, 0.78809917, 0.559425, 0.81270087,...</td>\n",
       "      <td>-0.003353</td>\n",
       "      <td>-3.268768</td>\n",
       "      <td>43.840466</td>\n",
       "      <td>0.292270</td>\n",
       "      <td>147</td>\n",
       "    </tr>\n",
       "    <tr>\n",
       "      <th>147</th>\n",
       "      <td>[0.92939043, 0.78809917, 0.559425, 0.81270087,...</td>\n",
       "      <td>-0.003353</td>\n",
       "      <td>-3.268768</td>\n",
       "      <td>43.199276</td>\n",
       "      <td>0.286088</td>\n",
       "      <td>148</td>\n",
       "    </tr>\n",
       "    <tr>\n",
       "      <th>148</th>\n",
       "      <td>[0.92939043, 0.78809917, 0.559425, 0.81270087,...</td>\n",
       "      <td>-0.003353</td>\n",
       "      <td>-3.268768</td>\n",
       "      <td>42.695103</td>\n",
       "      <td>0.280889</td>\n",
       "      <td>149</td>\n",
       "    </tr>\n",
       "    <tr>\n",
       "      <th>149</th>\n",
       "      <td>[0.92939043, 0.78809917, 0.559425, 0.81270087,...</td>\n",
       "      <td>-0.003353</td>\n",
       "      <td>-3.268768</td>\n",
       "      <td>41.831009</td>\n",
       "      <td>0.273405</td>\n",
       "      <td>150</td>\n",
       "    </tr>\n",
       "    <tr>\n",
       "      <th>150</th>\n",
       "      <td>[0.92939043, 0.78809917, 0.559425, 0.81270087,...</td>\n",
       "      <td>-0.003353</td>\n",
       "      <td>-3.268768</td>\n",
       "      <td>41.085060</td>\n",
       "      <td>0.266786</td>\n",
       "      <td>151</td>\n",
       "    </tr>\n",
       "  </tbody>\n",
       "</table>\n",
       "<p>155 rows × 6 columns</p>\n",
       "</div>"
      ],
      "text/plain": [
       "                                                 X_new     y_new    y_best  \\\n",
       "0    [0.62279334, 0.47389865, 0.86142857, 0.4732815... -0.188452 -1.261967   \n",
       "1    [0.26682763, 0.88574659, 0.0114465, 0.75313756... -0.040065 -1.261967   \n",
       "2    [0.2018369, 0.22683737, 0.51316811, 0.06612204... -1.261967 -1.261967   \n",
       "3    [0.90835808, 0.63090744, 0.36410912, 0.6602818... -0.017877 -1.261967   \n",
       "0    [0.27721548, 0.05223083, 0.60450494, 0.1630376... -1.484909 -1.484909   \n",
       "..                                                 ...       ...       ...   \n",
       "146  [0.92939043, 0.78809917, 0.559425, 0.81270087,... -0.003353 -3.268768   \n",
       "147  [0.92939043, 0.78809917, 0.559425, 0.81270087,... -0.003353 -3.268768   \n",
       "148  [0.92939043, 0.78809917, 0.559425, 0.81270087,... -0.003353 -3.268768   \n",
       "149  [0.92939043, 0.78809917, 0.559425, 0.81270087,... -0.003353 -3.268768   \n",
       "150  [0.92939043, 0.78809917, 0.559425, 0.81270087,... -0.003353 -3.268768   \n",
       "\n",
       "          Beta    Beta:n  Iteration  \n",
       "0     2.055096  0.513774          0  \n",
       "1     2.055096  0.513774          0  \n",
       "2     2.055096  0.513774          0  \n",
       "3     2.055096  0.513774          0  \n",
       "0     2.055096  0.513774          1  \n",
       "..         ...       ...        ...  \n",
       "146  43.840466  0.292270        147  \n",
       "147  43.199276  0.286088        148  \n",
       "148  42.695103  0.280889        149  \n",
       "149  41.831009  0.273405        150  \n",
       "150  41.085060  0.266786        151  \n",
       "\n",
       "[155 rows x 6 columns]"
      ]
     },
     "execution_count": 20,
     "metadata": {},
     "output_type": "execute_result"
    }
   ],
   "source": [
    "import ast\n",
    "import re\n",
    "import os\n",
    "\n",
    "import numpy as np\n",
    "import pandas as pd\n",
    "\n",
    "\n",
    "\n",
    "class LogParser:\n",
    "    def __init__(self, file_path):\n",
    "        self.file_path = file_path\n",
    "        self.settings = {}\n",
    "        self.initial_data = {\"X_initial\": [], \"y_initial\": []}\n",
    "        self.bo_data = {\"X_new\": [], \"y_new\": [], \"Beta\": [], \"Iteration\": []}\n",
    "        self.objective = None\n",
    "\n",
    "    def _combine_log_entries(self):\n",
    "        with open(self.file_path, \"r\") as file:  # 修正: self.log_file → self.file_path\n",
    "            lines = file.readlines()\n",
    "\n",
    "        timestamp_pattern = r\"\\d{4}-\\d{2}-\\d{2} \\d{2}:\\d{2}:\\d{2},\\d{3} - \"\n",
    "\n",
    "        combined_lines = []\n",
    "        current_entry = \"\"\n",
    "\n",
    "        for line in lines:\n",
    "            if re.match(timestamp_pattern, line):\n",
    "                if current_entry:\n",
    "                    combined_lines.append(current_entry.strip())\n",
    "                current_entry = line.strip()\n",
    "            else:\n",
    "                current_entry += \" \" + line.strip()\n",
    "\n",
    "        if current_entry:\n",
    "            combined_lines.append(current_entry.strip())\n",
    "\n",
    "        return combined_lines\n",
    "\n",
    "    def _parse_settings(self, line):\n",
    "        settings_str = line.split(\"settings:\")[1].strip()\n",
    "        try:\n",
    "            # Parse the settings safely\n",
    "            self.settings = self._safe_parse_settings(settings_str)\n",
    "            \n",
    "            # More flexible regex to capture the class name of the objective_function\n",
    "            obj_func_match = re.search(r\"objective_function':\\s*<.*?\\.([A-Za-z0-9_]+)\\s+object\\s+at\", settings_str)\n",
    "            \n",
    "            if obj_func_match:\n",
    "                objective_function_name = obj_func_match.group(1)\n",
    "                print(f\"Objective Function: {objective_function_name}\")\n",
    "            else:\n",
    "                print(\"Objective Function not found in settings.\")\n",
    "                \n",
    "        except SyntaxError as e:\n",
    "            print(f\"Failed to parse settings: {e}\")\n",
    "            self.settings = settings_str\n",
    "\n",
    "    def _safe_parse_settings(self, settings_str):\n",
    "        # array と <function>, <class> の部分を文字列に置換\n",
    "        settings_str = re.sub(r\"<function\\s+\\w+\\s+at\\s+0x[0-9a-fA-F]+>\", \"'<function>'\", settings_str)\n",
    "        settings_str = re.sub(r\"<class\\s+'\\w+\\.\\w+'>\", \"'<class>'\", settings_str)\n",
    "        settings_str = re.sub(r\"<\\w+\\.\\w+\\s+object\\s+at\\s+0x[0-9a-fA-F]+>\", \"'<object>'\", settings_str)\n",
    "        \n",
    "        # 辞書を文字列から生成（evalは使わず安全なast.literal_evalを使う）\n",
    "        settings_dict = ast.literal_eval(settings_str)\n",
    "        \n",
    "        return settings_dict\n",
    "\n",
    "    def parse_log_file(self):\n",
    "        combined_lines = self._combine_log_entries()\n",
    "        current_data = {}\n",
    "        \n",
    "        for line in combined_lines:\n",
    "            # Parse settings\n",
    "            if \"Start BO with settings:\" in line:\n",
    "                settings_str = re.search(r\"Start BO with settings: (.*)\", line).group(1)\n",
    "\n",
    "                try:\n",
    "                    self._parse_settings(line)\n",
    "                except Exception as e:\n",
    "                    print(f\"Failed to parse settings: {e}\")\n",
    "                    self.settings = settings_str\n",
    "            \n",
    "            # Parse X_initial and y_initial\n",
    "            elif \"X initial:\" in line:\n",
    "                x_initial_str = re.search(r\"X initial: (\\[.*?\\])\", line).group(1)\n",
    "                self.initial_data[\"X_initial\"].append(self._extract_float_list(x_initial_str))\n",
    "            elif \"y initial:\" in line:\n",
    "                y_initial_str = re.search(r\"y initial: (\\[.*?\\])\", line).group(1)\n",
    "                self.initial_data[\"y_initial\"].append(self._extract_float_list(y_initial_str))\n",
    "\n",
    "            # Parse Beta, Iteration, X_new, and y_new\n",
    "            elif \"Beta:\" in line:\n",
    "                current_data[\"Beta\"] = float(re.search(r\"Beta: ([-+]?\\d*\\.\\d+|\\d+)\", line).group(1))\n",
    "            elif \"Iteration:\" in line:\n",
    "                current_data[\"Iteration\"] = int(re.search(r\"Iteration: (\\d+) /\", line).group(1))\n",
    "            elif \"X new:\" in line:\n",
    "                current_data[\"X_new\"] = self._extract_float_list(re.search(r\"X new: (\\[\\[.*?\\]\\])\", line).group(1))\n",
    "            elif \"y new:\" in line:\n",
    "                current_data[\"y_new\"] = self._extract_float_list(re.search(r\"y new: (\\[\\[.*?\\]\\])\", line).group(1))\n",
    "\n",
    "                # Check if all required fields are in `current_data`\n",
    "                if all(key in current_data for key in [\"Beta\", \"Iteration\", \"X_new\", \"y_new\"]):\n",
    "                    # Append the current data to `self.bo_data`\n",
    "                    self.bo_data[\"Beta\"].append(current_data[\"Beta\"])\n",
    "                    self.bo_data[\"Iteration\"].append(current_data[\"Iteration\"])\n",
    "                    self.bo_data[\"X_new\"].append(current_data[\"X_new\"])\n",
    "                    self.bo_data[\"y_new\"].append(current_data[\"y_new\"])\n",
    "\n",
    "                    # Clear current_data for the next entry\n",
    "                    current_data.clear()\n",
    "        \n",
    "        # pandas DataFrame に変換\n",
    "        self.initial_data = pd.DataFrame(self.initial_data)\n",
    "        self.bo_data = pd.DataFrame(self.bo_data)\n",
    "\n",
    "        self.initial_data[\"X_initial\"] = self.initial_data[\"X_initial\"].apply(np.array)\n",
    "        self.initial_data[\"y_initial\"] = self.initial_data[\"y_initial\"].apply(np.array)\n",
    "        self.initial_data[\"y_initial\"] = self.initial_data[\"y_initial\"].apply(float)\n",
    "\n",
    "        self.bo_data[\"X_new\"] = self.bo_data[\"X_new\"].apply(np.array)\n",
    "        self.bo_data[\"y_new\"] = self.bo_data[\"y_new\"].apply(np.array)\n",
    "        self.bo_data[\"y_new\"] = self.bo_data[\"y_new\"].apply(float)\n",
    "        \n",
    "\n",
    "    def _extract_float_list(self, array_str):\n",
    "        # Updated regex pattern to capture numbers in scientific notation as well\n",
    "        number_pattern = r\"[-+]?\\d*\\.\\d+(?:[eE][-+]?\\d+)?|\\d+\"\n",
    "        numbers = re.findall(number_pattern, array_str)\n",
    "        return [float(num) for num in numbers]\n",
    "    \n",
    "    def create_combined_dataframe(self):\n",
    "        beta_init = self.bo_data['Beta'].iloc[0]\n",
    "\n",
    "        df_init = self.initial_data.copy()\n",
    "        df_init['X_new'] = df_init['X_initial']\n",
    "        df_init['y_new'] = df_init['y_initial']\n",
    "        df_init.drop(columns=['X_initial', 'y_initial'], inplace=True)\n",
    "        df_init['y_best'] = df_init['y_new'].min()\n",
    "        df_init['Beta'] = beta_init\n",
    "        df_init['Beta:n'] = beta_init / len(df_init)\n",
    "        df_init['Iteration'] = 0\n",
    "\n",
    "        df_main = self.bo_data.copy()\n",
    "        df_main['y_best'] = df_main['y_new'].cummin()\n",
    "        df_main['y_best'] = np.minimum(df_main['y_best'], df_init['y_best'].iloc[0])\n",
    "        df_main['Beta:n'] = df_main['Beta'] / (len(df_init) + df_main.index)\n",
    "\n",
    "        df = pd.concat([df_init, df_main])\n",
    "        return df \n",
    "\n",
    "\n",
    "# ファイルをパースする\n",
    "# file_name = '2024-09-21_04-10-09_vanilla_bo_Hartmann6_GP_EI_seed1.log'\n",
    "# file_name = '2024-09-20_22-18-11_vanilla_bo_Hartmann6_GP_EI_seed0.log'\n",
    "file_name = '2024-09-20_22-18-11_vanilla_bo_Hartmann6_TP_EI_seed0.log'\n",
    "file_path = os.path.join(target, file_name)\n",
    "\n",
    "parser = LogParser(file_path)\n",
    "parser.parse_log_file()\n",
    "\n",
    "# # 結果を表示\n",
    "# print(\"Settings:\", parser.settings)\n",
    "# print(\"Initial Data:\")\n",
    "# print(parser.initial_data)\n",
    "# print(\"BO Data:\")\n",
    "# print(parser.bo_data)\n",
    "\n",
    "df_combined = parser.create_combined_dataframe()\n",
    "df_combined"
   ]
  },
  {
   "cell_type": "code",
   "execution_count": 21,
   "metadata": {},
   "outputs": [
    {
     "data": {
      "application/vnd.plotly.v1+json": {
       "config": {
        "plotlyServerURL": "https://plot.ly"
       },
       "data": [
        {
         "marker": {
          "color": "blue"
         },
         "mode": "markers",
         "name": "y_new",
         "type": "scatter",
         "x": [
          0,
          0,
          0,
          0,
          1,
          2,
          3,
          4,
          5,
          6,
          7,
          8,
          9,
          10,
          11,
          12,
          13,
          14,
          15,
          16,
          17,
          18,
          19,
          20,
          21,
          22,
          23,
          24,
          25,
          26,
          27,
          28,
          29,
          30,
          31,
          32,
          33,
          34,
          35,
          36,
          37,
          38,
          39,
          40,
          41,
          42,
          43,
          44,
          45,
          46,
          47,
          48,
          49,
          50,
          51,
          52,
          53,
          54,
          55,
          56,
          57,
          58,
          59,
          60,
          61,
          62,
          63,
          64,
          65,
          66,
          67,
          68,
          69,
          70,
          71,
          72,
          73,
          74,
          75,
          76,
          77,
          78,
          79,
          80,
          81,
          82,
          83,
          84,
          85,
          86,
          87,
          88,
          89,
          90,
          91,
          92,
          93,
          94,
          95,
          96,
          97,
          98,
          99,
          100,
          101,
          102,
          103,
          104,
          105,
          106,
          107,
          108,
          109,
          110,
          111,
          112,
          113,
          114,
          115,
          116,
          117,
          118,
          119,
          120,
          121,
          122,
          123,
          124,
          125,
          126,
          127,
          128,
          129,
          130,
          131,
          132,
          133,
          134,
          135,
          136,
          137,
          138,
          139,
          140,
          141,
          142,
          143,
          144,
          145,
          146,
          147,
          148,
          149,
          150,
          151
         ],
         "y": [
          -0.18845234,
          -0.04006475,
          -1.26196735,
          -0.01787724,
          -1.4849092,
          -1.4849092,
          -1.4849092,
          -0.28536215,
          -0.16534844,
          -0.53839142,
          -0.28249506,
          -0.7837732,
          -1.92143661,
          -2.07423952,
          -2.06044822,
          -1.56139247,
          -0.70672703,
          -0.02037262,
          -0.000302,
          -1.41592867,
          -1.09574417,
          -1.68426147,
          -0.00508911,
          -1.4548373,
          -0.30882671,
          -0.00247658,
          -1.51327931,
          -2.05974185,
          -0.0000629850425,
          -1.97492779,
          -0.00056281,
          -0.02725172,
          -0.60803251,
          -2.49515903,
          -1.29263876,
          -2.48381197,
          -0.00107308,
          -2.48561493,
          -2.3316667,
          -1.60573218,
          -0.00025469,
          -0.0003681,
          -0.0000364435727,
          -0.00000233339004,
          -0.00252971,
          -0.00370775,
          -2.92796968e-7,
          -2.53702645,
          -0.00118991,
          -0.00166451,
          -0.00022337,
          -0.00055396,
          -2.53505995,
          -0.0000119338958,
          -0.00000458467502,
          -0.07316062,
          -0.00061334,
          -0.01269011,
          -2.55230694,
          -0.00726352,
          -0.0000114595612,
          -2.57209383,
          -0.01825009,
          -2.60683636,
          -0.00314361,
          -0.00311473,
          -0.00099768,
          -2.63919753,
          -0.0000021827383,
          -2.67337062,
          -0.0000452103212,
          -0.00116447,
          -0.0000051693163,
          -0.02779184,
          -2.68378838,
          -2.74027411,
          -2.78554046,
          -0.00227133,
          -0.00106805,
          -2.89583934,
          -3.01226284,
          -3.07479971,
          -0.00106425,
          -3.21986919,
          -0.00449214,
          -3.26876756,
          -3.04399192,
          -0.0142684,
          -3.24060309,
          -3.09261054,
          -3.00610007,
          -3.07831975,
          -2.56971769,
          -2.74592528,
          -0.000061856758,
          -0.02519749,
          -0.00249147,
          -0.37531428,
          -0.0002083,
          -0.000017455897,
          -0.00270263,
          -0.00103643,
          -0.00101866,
          -0.04786586,
          -0.00055239,
          -0.00374754,
          -0.02817199,
          -0.15090291,
          -0.00672515,
          -0.00691803,
          -0.06578857,
          -0.02160341,
          -0.00774492,
          -0.02511225,
          -0.03268098,
          -0.00019237,
          -0.00538934,
          -0.00120573,
          -0.00014163,
          -0.00000208459263,
          -0.04174133,
          -0.02302699,
          -0.04724035,
          -0.00000611844247,
          -0.48502623,
          -0.02097467,
          -0.0009866,
          -0.00016462,
          -0.01156157,
          -0.04022471,
          -0.0000410441827,
          -0.02800639,
          -0.0033525,
          -0.00012341,
          -3.15282956,
          -1.4849092,
          -1.4849092,
          -1.4849092,
          -0.02673827,
          -1.4849092,
          -2.54836219,
          -0.00685458,
          -0.07544409,
          -1.4849092,
          -0.02812567,
          -0.04268181,
          -1.4849092,
          -0.00335296,
          -0.00335296,
          -0.00335296,
          -0.00335296,
          -0.00335296,
          -0.00335296,
          -0.00335296,
          -0.00335296
         ]
        },
        {
         "line": {
          "color": "blue"
         },
         "mode": "lines",
         "name": "y_best",
         "type": "scatter",
         "x": [
          0,
          0,
          0,
          0,
          1,
          2,
          3,
          4,
          5,
          6,
          7,
          8,
          9,
          10,
          11,
          12,
          13,
          14,
          15,
          16,
          17,
          18,
          19,
          20,
          21,
          22,
          23,
          24,
          25,
          26,
          27,
          28,
          29,
          30,
          31,
          32,
          33,
          34,
          35,
          36,
          37,
          38,
          39,
          40,
          41,
          42,
          43,
          44,
          45,
          46,
          47,
          48,
          49,
          50,
          51,
          52,
          53,
          54,
          55,
          56,
          57,
          58,
          59,
          60,
          61,
          62,
          63,
          64,
          65,
          66,
          67,
          68,
          69,
          70,
          71,
          72,
          73,
          74,
          75,
          76,
          77,
          78,
          79,
          80,
          81,
          82,
          83,
          84,
          85,
          86,
          87,
          88,
          89,
          90,
          91,
          92,
          93,
          94,
          95,
          96,
          97,
          98,
          99,
          100,
          101,
          102,
          103,
          104,
          105,
          106,
          107,
          108,
          109,
          110,
          111,
          112,
          113,
          114,
          115,
          116,
          117,
          118,
          119,
          120,
          121,
          122,
          123,
          124,
          125,
          126,
          127,
          128,
          129,
          130,
          131,
          132,
          133,
          134,
          135,
          136,
          137,
          138,
          139,
          140,
          141,
          142,
          143,
          144,
          145,
          146,
          147,
          148,
          149,
          150,
          151
         ],
         "y": [
          -1.26196735,
          -1.26196735,
          -1.26196735,
          -1.26196735,
          -1.4849092,
          -1.4849092,
          -1.4849092,
          -1.4849092,
          -1.4849092,
          -1.4849092,
          -1.4849092,
          -1.4849092,
          -1.92143661,
          -2.07423952,
          -2.07423952,
          -2.07423952,
          -2.07423952,
          -2.07423952,
          -2.07423952,
          -2.07423952,
          -2.07423952,
          -2.07423952,
          -2.07423952,
          -2.07423952,
          -2.07423952,
          -2.07423952,
          -2.07423952,
          -2.07423952,
          -2.07423952,
          -2.07423952,
          -2.07423952,
          -2.07423952,
          -2.07423952,
          -2.49515903,
          -2.49515903,
          -2.49515903,
          -2.49515903,
          -2.49515903,
          -2.49515903,
          -2.49515903,
          -2.49515903,
          -2.49515903,
          -2.49515903,
          -2.49515903,
          -2.49515903,
          -2.49515903,
          -2.49515903,
          -2.53702645,
          -2.53702645,
          -2.53702645,
          -2.53702645,
          -2.53702645,
          -2.53702645,
          -2.53702645,
          -2.53702645,
          -2.53702645,
          -2.53702645,
          -2.53702645,
          -2.55230694,
          -2.55230694,
          -2.55230694,
          -2.57209383,
          -2.57209383,
          -2.60683636,
          -2.60683636,
          -2.60683636,
          -2.60683636,
          -2.63919753,
          -2.63919753,
          -2.67337062,
          -2.67337062,
          -2.67337062,
          -2.67337062,
          -2.67337062,
          -2.68378838,
          -2.74027411,
          -2.78554046,
          -2.78554046,
          -2.78554046,
          -2.89583934,
          -3.01226284,
          -3.07479971,
          -3.07479971,
          -3.21986919,
          -3.21986919,
          -3.26876756,
          -3.26876756,
          -3.26876756,
          -3.26876756,
          -3.26876756,
          -3.26876756,
          -3.26876756,
          -3.26876756,
          -3.26876756,
          -3.26876756,
          -3.26876756,
          -3.26876756,
          -3.26876756,
          -3.26876756,
          -3.26876756,
          -3.26876756,
          -3.26876756,
          -3.26876756,
          -3.26876756,
          -3.26876756,
          -3.26876756,
          -3.26876756,
          -3.26876756,
          -3.26876756,
          -3.26876756,
          -3.26876756,
          -3.26876756,
          -3.26876756,
          -3.26876756,
          -3.26876756,
          -3.26876756,
          -3.26876756,
          -3.26876756,
          -3.26876756,
          -3.26876756,
          -3.26876756,
          -3.26876756,
          -3.26876756,
          -3.26876756,
          -3.26876756,
          -3.26876756,
          -3.26876756,
          -3.26876756,
          -3.26876756,
          -3.26876756,
          -3.26876756,
          -3.26876756,
          -3.26876756,
          -3.26876756,
          -3.26876756,
          -3.26876756,
          -3.26876756,
          -3.26876756,
          -3.26876756,
          -3.26876756,
          -3.26876756,
          -3.26876756,
          -3.26876756,
          -3.26876756,
          -3.26876756,
          -3.26876756,
          -3.26876756,
          -3.26876756,
          -3.26876756,
          -3.26876756,
          -3.26876756,
          -3.26876756,
          -3.26876756,
          -3.26876756,
          -3.26876756
         ]
        },
        {
         "marker": {
          "color": "orange"
         },
         "mode": "markers",
         "name": "y_new (Beta:n >= 1)",
         "type": "scatter",
         "x": [
          12,
          13,
          14,
          15,
          16,
          17,
          18,
          19,
          20,
          21
         ],
         "y": [
          -1.56139247,
          -0.70672703,
          -0.02037262,
          -0.000302,
          -1.41592867,
          -1.09574417,
          -1.68426147,
          -0.00508911,
          -1.4548373,
          -0.30882671
         ]
        }
       ],
       "layout": {
        "legend": {
         "title": {
          "text": "Metrics"
         }
        },
        "template": {
         "data": {
          "bar": [
           {
            "error_x": {
             "color": "#2a3f5f"
            },
            "error_y": {
             "color": "#2a3f5f"
            },
            "marker": {
             "line": {
              "color": "#E5ECF6",
              "width": 0.5
             },
             "pattern": {
              "fillmode": "overlay",
              "size": 10,
              "solidity": 0.2
             }
            },
            "type": "bar"
           }
          ],
          "barpolar": [
           {
            "marker": {
             "line": {
              "color": "#E5ECF6",
              "width": 0.5
             },
             "pattern": {
              "fillmode": "overlay",
              "size": 10,
              "solidity": 0.2
             }
            },
            "type": "barpolar"
           }
          ],
          "carpet": [
           {
            "aaxis": {
             "endlinecolor": "#2a3f5f",
             "gridcolor": "white",
             "linecolor": "white",
             "minorgridcolor": "white",
             "startlinecolor": "#2a3f5f"
            },
            "baxis": {
             "endlinecolor": "#2a3f5f",
             "gridcolor": "white",
             "linecolor": "white",
             "minorgridcolor": "white",
             "startlinecolor": "#2a3f5f"
            },
            "type": "carpet"
           }
          ],
          "choropleth": [
           {
            "colorbar": {
             "outlinewidth": 0,
             "ticks": ""
            },
            "type": "choropleth"
           }
          ],
          "contour": [
           {
            "colorbar": {
             "outlinewidth": 0,
             "ticks": ""
            },
            "colorscale": [
             [
              0,
              "#0d0887"
             ],
             [
              0.1111111111111111,
              "#46039f"
             ],
             [
              0.2222222222222222,
              "#7201a8"
             ],
             [
              0.3333333333333333,
              "#9c179e"
             ],
             [
              0.4444444444444444,
              "#bd3786"
             ],
             [
              0.5555555555555556,
              "#d8576b"
             ],
             [
              0.6666666666666666,
              "#ed7953"
             ],
             [
              0.7777777777777778,
              "#fb9f3a"
             ],
             [
              0.8888888888888888,
              "#fdca26"
             ],
             [
              1,
              "#f0f921"
             ]
            ],
            "type": "contour"
           }
          ],
          "contourcarpet": [
           {
            "colorbar": {
             "outlinewidth": 0,
             "ticks": ""
            },
            "type": "contourcarpet"
           }
          ],
          "heatmap": [
           {
            "colorbar": {
             "outlinewidth": 0,
             "ticks": ""
            },
            "colorscale": [
             [
              0,
              "#0d0887"
             ],
             [
              0.1111111111111111,
              "#46039f"
             ],
             [
              0.2222222222222222,
              "#7201a8"
             ],
             [
              0.3333333333333333,
              "#9c179e"
             ],
             [
              0.4444444444444444,
              "#bd3786"
             ],
             [
              0.5555555555555556,
              "#d8576b"
             ],
             [
              0.6666666666666666,
              "#ed7953"
             ],
             [
              0.7777777777777778,
              "#fb9f3a"
             ],
             [
              0.8888888888888888,
              "#fdca26"
             ],
             [
              1,
              "#f0f921"
             ]
            ],
            "type": "heatmap"
           }
          ],
          "heatmapgl": [
           {
            "colorbar": {
             "outlinewidth": 0,
             "ticks": ""
            },
            "colorscale": [
             [
              0,
              "#0d0887"
             ],
             [
              0.1111111111111111,
              "#46039f"
             ],
             [
              0.2222222222222222,
              "#7201a8"
             ],
             [
              0.3333333333333333,
              "#9c179e"
             ],
             [
              0.4444444444444444,
              "#bd3786"
             ],
             [
              0.5555555555555556,
              "#d8576b"
             ],
             [
              0.6666666666666666,
              "#ed7953"
             ],
             [
              0.7777777777777778,
              "#fb9f3a"
             ],
             [
              0.8888888888888888,
              "#fdca26"
             ],
             [
              1,
              "#f0f921"
             ]
            ],
            "type": "heatmapgl"
           }
          ],
          "histogram": [
           {
            "marker": {
             "pattern": {
              "fillmode": "overlay",
              "size": 10,
              "solidity": 0.2
             }
            },
            "type": "histogram"
           }
          ],
          "histogram2d": [
           {
            "colorbar": {
             "outlinewidth": 0,
             "ticks": ""
            },
            "colorscale": [
             [
              0,
              "#0d0887"
             ],
             [
              0.1111111111111111,
              "#46039f"
             ],
             [
              0.2222222222222222,
              "#7201a8"
             ],
             [
              0.3333333333333333,
              "#9c179e"
             ],
             [
              0.4444444444444444,
              "#bd3786"
             ],
             [
              0.5555555555555556,
              "#d8576b"
             ],
             [
              0.6666666666666666,
              "#ed7953"
             ],
             [
              0.7777777777777778,
              "#fb9f3a"
             ],
             [
              0.8888888888888888,
              "#fdca26"
             ],
             [
              1,
              "#f0f921"
             ]
            ],
            "type": "histogram2d"
           }
          ],
          "histogram2dcontour": [
           {
            "colorbar": {
             "outlinewidth": 0,
             "ticks": ""
            },
            "colorscale": [
             [
              0,
              "#0d0887"
             ],
             [
              0.1111111111111111,
              "#46039f"
             ],
             [
              0.2222222222222222,
              "#7201a8"
             ],
             [
              0.3333333333333333,
              "#9c179e"
             ],
             [
              0.4444444444444444,
              "#bd3786"
             ],
             [
              0.5555555555555556,
              "#d8576b"
             ],
             [
              0.6666666666666666,
              "#ed7953"
             ],
             [
              0.7777777777777778,
              "#fb9f3a"
             ],
             [
              0.8888888888888888,
              "#fdca26"
             ],
             [
              1,
              "#f0f921"
             ]
            ],
            "type": "histogram2dcontour"
           }
          ],
          "mesh3d": [
           {
            "colorbar": {
             "outlinewidth": 0,
             "ticks": ""
            },
            "type": "mesh3d"
           }
          ],
          "parcoords": [
           {
            "line": {
             "colorbar": {
              "outlinewidth": 0,
              "ticks": ""
             }
            },
            "type": "parcoords"
           }
          ],
          "pie": [
           {
            "automargin": true,
            "type": "pie"
           }
          ],
          "scatter": [
           {
            "fillpattern": {
             "fillmode": "overlay",
             "size": 10,
             "solidity": 0.2
            },
            "type": "scatter"
           }
          ],
          "scatter3d": [
           {
            "line": {
             "colorbar": {
              "outlinewidth": 0,
              "ticks": ""
             }
            },
            "marker": {
             "colorbar": {
              "outlinewidth": 0,
              "ticks": ""
             }
            },
            "type": "scatter3d"
           }
          ],
          "scattercarpet": [
           {
            "marker": {
             "colorbar": {
              "outlinewidth": 0,
              "ticks": ""
             }
            },
            "type": "scattercarpet"
           }
          ],
          "scattergeo": [
           {
            "marker": {
             "colorbar": {
              "outlinewidth": 0,
              "ticks": ""
             }
            },
            "type": "scattergeo"
           }
          ],
          "scattergl": [
           {
            "marker": {
             "colorbar": {
              "outlinewidth": 0,
              "ticks": ""
             }
            },
            "type": "scattergl"
           }
          ],
          "scattermapbox": [
           {
            "marker": {
             "colorbar": {
              "outlinewidth": 0,
              "ticks": ""
             }
            },
            "type": "scattermapbox"
           }
          ],
          "scatterpolar": [
           {
            "marker": {
             "colorbar": {
              "outlinewidth": 0,
              "ticks": ""
             }
            },
            "type": "scatterpolar"
           }
          ],
          "scatterpolargl": [
           {
            "marker": {
             "colorbar": {
              "outlinewidth": 0,
              "ticks": ""
             }
            },
            "type": "scatterpolargl"
           }
          ],
          "scatterternary": [
           {
            "marker": {
             "colorbar": {
              "outlinewidth": 0,
              "ticks": ""
             }
            },
            "type": "scatterternary"
           }
          ],
          "surface": [
           {
            "colorbar": {
             "outlinewidth": 0,
             "ticks": ""
            },
            "colorscale": [
             [
              0,
              "#0d0887"
             ],
             [
              0.1111111111111111,
              "#46039f"
             ],
             [
              0.2222222222222222,
              "#7201a8"
             ],
             [
              0.3333333333333333,
              "#9c179e"
             ],
             [
              0.4444444444444444,
              "#bd3786"
             ],
             [
              0.5555555555555556,
              "#d8576b"
             ],
             [
              0.6666666666666666,
              "#ed7953"
             ],
             [
              0.7777777777777778,
              "#fb9f3a"
             ],
             [
              0.8888888888888888,
              "#fdca26"
             ],
             [
              1,
              "#f0f921"
             ]
            ],
            "type": "surface"
           }
          ],
          "table": [
           {
            "cells": {
             "fill": {
              "color": "#EBF0F8"
             },
             "line": {
              "color": "white"
             }
            },
            "header": {
             "fill": {
              "color": "#C8D4E3"
             },
             "line": {
              "color": "white"
             }
            },
            "type": "table"
           }
          ]
         },
         "layout": {
          "annotationdefaults": {
           "arrowcolor": "#2a3f5f",
           "arrowhead": 0,
           "arrowwidth": 1
          },
          "autotypenumbers": "strict",
          "coloraxis": {
           "colorbar": {
            "outlinewidth": 0,
            "ticks": ""
           }
          },
          "colorscale": {
           "diverging": [
            [
             0,
             "#8e0152"
            ],
            [
             0.1,
             "#c51b7d"
            ],
            [
             0.2,
             "#de77ae"
            ],
            [
             0.3,
             "#f1b6da"
            ],
            [
             0.4,
             "#fde0ef"
            ],
            [
             0.5,
             "#f7f7f7"
            ],
            [
             0.6,
             "#e6f5d0"
            ],
            [
             0.7,
             "#b8e186"
            ],
            [
             0.8,
             "#7fbc41"
            ],
            [
             0.9,
             "#4d9221"
            ],
            [
             1,
             "#276419"
            ]
           ],
           "sequential": [
            [
             0,
             "#0d0887"
            ],
            [
             0.1111111111111111,
             "#46039f"
            ],
            [
             0.2222222222222222,
             "#7201a8"
            ],
            [
             0.3333333333333333,
             "#9c179e"
            ],
            [
             0.4444444444444444,
             "#bd3786"
            ],
            [
             0.5555555555555556,
             "#d8576b"
            ],
            [
             0.6666666666666666,
             "#ed7953"
            ],
            [
             0.7777777777777778,
             "#fb9f3a"
            ],
            [
             0.8888888888888888,
             "#fdca26"
            ],
            [
             1,
             "#f0f921"
            ]
           ],
           "sequentialminus": [
            [
             0,
             "#0d0887"
            ],
            [
             0.1111111111111111,
             "#46039f"
            ],
            [
             0.2222222222222222,
             "#7201a8"
            ],
            [
             0.3333333333333333,
             "#9c179e"
            ],
            [
             0.4444444444444444,
             "#bd3786"
            ],
            [
             0.5555555555555556,
             "#d8576b"
            ],
            [
             0.6666666666666666,
             "#ed7953"
            ],
            [
             0.7777777777777778,
             "#fb9f3a"
            ],
            [
             0.8888888888888888,
             "#fdca26"
            ],
            [
             1,
             "#f0f921"
            ]
           ]
          },
          "colorway": [
           "#636efa",
           "#EF553B",
           "#00cc96",
           "#ab63fa",
           "#FFA15A",
           "#19d3f3",
           "#FF6692",
           "#B6E880",
           "#FF97FF",
           "#FECB52"
          ],
          "font": {
           "color": "#2a3f5f"
          },
          "geo": {
           "bgcolor": "white",
           "lakecolor": "white",
           "landcolor": "#E5ECF6",
           "showlakes": true,
           "showland": true,
           "subunitcolor": "white"
          },
          "hoverlabel": {
           "align": "left"
          },
          "hovermode": "closest",
          "mapbox": {
           "style": "light"
          },
          "paper_bgcolor": "white",
          "plot_bgcolor": "#E5ECF6",
          "polar": {
           "angularaxis": {
            "gridcolor": "white",
            "linecolor": "white",
            "ticks": ""
           },
           "bgcolor": "#E5ECF6",
           "radialaxis": {
            "gridcolor": "white",
            "linecolor": "white",
            "ticks": ""
           }
          },
          "scene": {
           "xaxis": {
            "backgroundcolor": "#E5ECF6",
            "gridcolor": "white",
            "gridwidth": 2,
            "linecolor": "white",
            "showbackground": true,
            "ticks": "",
            "zerolinecolor": "white"
           },
           "yaxis": {
            "backgroundcolor": "#E5ECF6",
            "gridcolor": "white",
            "gridwidth": 2,
            "linecolor": "white",
            "showbackground": true,
            "ticks": "",
            "zerolinecolor": "white"
           },
           "zaxis": {
            "backgroundcolor": "#E5ECF6",
            "gridcolor": "white",
            "gridwidth": 2,
            "linecolor": "white",
            "showbackground": true,
            "ticks": "",
            "zerolinecolor": "white"
           }
          },
          "shapedefaults": {
           "line": {
            "color": "#2a3f5f"
           }
          },
          "ternary": {
           "aaxis": {
            "gridcolor": "white",
            "linecolor": "white",
            "ticks": ""
           },
           "baxis": {
            "gridcolor": "white",
            "linecolor": "white",
            "ticks": ""
           },
           "bgcolor": "#E5ECF6",
           "caxis": {
            "gridcolor": "white",
            "linecolor": "white",
            "ticks": ""
           }
          },
          "title": {
           "x": 0.05
          },
          "xaxis": {
           "automargin": true,
           "gridcolor": "white",
           "linecolor": "white",
           "ticks": "",
           "title": {
            "standoff": 15
           },
           "zerolinecolor": "white",
           "zerolinewidth": 2
          },
          "yaxis": {
           "automargin": true,
           "gridcolor": "white",
           "linecolor": "white",
           "ticks": "",
           "title": {
            "standoff": 15
           },
           "zerolinecolor": "white",
           "zerolinewidth": 2
          }
         }
        },
        "title": {
         "text": "Bayesian Optimization History"
        },
        "xaxis": {
         "title": {
          "text": "Iteration"
         }
        },
        "yaxis": {
         "title": {
          "text": "Function Value"
         }
        }
       }
      }
     },
     "metadata": {},
     "output_type": "display_data"
    }
   ],
   "source": [
    "import plotly.graph_objects as go\n",
    "\n",
    "# Create a history plot for bo_data using Plotly\n",
    "def history_plot(bo_data):\n",
    "    fig = go.Figure()\n",
    "\n",
    "    # Plot y_new as blue dots\n",
    "    fig.add_trace(go.Scatter(\n",
    "        x=bo_data['Iteration'],\n",
    "        y=bo_data['y_new'],\n",
    "        mode='markers',\n",
    "        name='y_new',\n",
    "        marker=dict(color='blue')\n",
    "    ))\n",
    "\n",
    "    # Plot y_best as a blue line\n",
    "    fig.add_trace(go.Scatter(\n",
    "        x=bo_data['Iteration'],\n",
    "        y=bo_data['y_best'],\n",
    "        mode='lines',\n",
    "        name='y_best',\n",
    "        line=dict(color='blue')\n",
    "    ))\n",
    "\n",
    "    # Highlight points where Beta:n >= 1 with orange dots\n",
    "    high_beta_mask = bo_data['Beta:n'] >= 1\n",
    "    fig.add_trace(go.Scatter(\n",
    "        x=bo_data['Iteration'][high_beta_mask],\n",
    "        y=bo_data['y_new'][high_beta_mask],\n",
    "        mode='markers',\n",
    "        name='y_new (Beta:n >= 1)',\n",
    "        marker=dict(color='orange')\n",
    "    ))\n",
    "\n",
    "    # Customize the layout\n",
    "    fig.update_layout(\n",
    "        title=\"Bayesian Optimization History\",\n",
    "        xaxis_title=\"Iteration\",\n",
    "        yaxis_title=\"Function Value\",\n",
    "        legend_title=\"Metrics\"\n",
    "    )\n",
    "\n",
    "    fig.show()\n",
    "\n",
    "# Apply the function to plot the bo_data\n",
    "history_plot(df_combined)\n"
   ]
  },
  {
   "cell_type": "code",
   "execution_count": null,
   "metadata": {},
   "outputs": [],
   "source": []
  },
  {
   "cell_type": "code",
   "execution_count": null,
   "metadata": {},
   "outputs": [],
   "source": []
  },
  {
   "cell_type": "code",
   "execution_count": null,
   "metadata": {},
   "outputs": [],
   "source": []
  },
  {
   "cell_type": "markdown",
   "metadata": {},
   "source": [
    "## 比較"
   ]
  },
  {
   "cell_type": "code",
   "execution_count": 12,
   "metadata": {},
   "outputs": [
    {
     "name": "stdout",
     "output_type": "stream",
     "text": [
      "['2024-09-21_04-10-30_vanilla_bo_SinusoidalSynthetic_GP_EI_seed1.log', '2024-09-21_04-10-30_vanilla_bo_SinusoidalSynthetic_GP_POI_seed1.log', '2024-09-21_04-10-30_vanilla_bo_SinusoidalSynthetic_GP_UCB_seed1.log', '2024-09-21_04-10-30_vanilla_bo_SinusoidalSynthetic_TP_EI_seed1.log', '2024-09-21_04-10-30_vanilla_bo_SinusoidalSynthetic_TP_POI_seed1.log', '2024-09-21_04-10-30_vanilla_bo_SinusoidalSynthetic_TP_UCB_seed1.log']\n",
      "Failed to parse settings: invalid syntax (<unknown>, line 1)\n",
      "Failed to parse settings: invalid syntax (<unknown>, line 1)\n",
      "Failed to parse settings: invalid syntax (<unknown>, line 1)\n",
      "Failed to parse settings: invalid syntax (<unknown>, line 1)\n",
      "Failed to parse settings: invalid syntax (<unknown>, line 1)\n",
      "Failed to parse settings: invalid syntax (<unknown>, line 1)\n",
      "{'GP': {'EI':            X_new      y_new     y_best       Beta    Beta:n  Iteration\n",
      "0   [8.95173865]   8.787816 -25.430301   1.363539  0.340885          0\n",
      "1   [6.37751095] -25.430301 -25.430301   1.363539  0.340885          0\n",
      "2   [5.61780686]   2.258425 -25.430301   1.363539  0.340885          0\n",
      "3   [7.87984923]  -6.667529 -25.430301   1.363539  0.340885          0\n",
      "0    [6.5230417] -18.594090 -25.430301   1.363539  0.340885          1\n",
      "1     [6.507204] -19.565500 -25.430301   1.886475  0.377295          2\n",
      "2     [6.573468] -15.167486 -25.430301   2.605534  0.434256          3\n",
      "3    [6.4124947] -24.230114 -25.430301   3.330297  0.475757          4\n",
      "4      [6.36299] -25.842916 -25.842916   4.004209  0.500526          5\n",
      "5    [6.3114724] -26.898872 -26.898872   4.984040  0.553782          6\n",
      "6     [6.270938] -27.283918 -27.283918   6.399719  0.639972          7\n",
      "7         [10.0]  -6.801930 -27.283918   7.396562  0.672415          8\n",
      "8     [7.194594]  36.844480 -27.283918   8.286666  0.690555          9\n",
      "9          [5.0]  15.382359 -27.283918  14.058805  1.081447         10\n",
      "10    [8.316416] -52.904057 -52.904057  11.949569  0.853541         11\n",
      "11    [8.331877] -53.444360 -53.444360  21.509245  1.433950         12\n",
      "12    [8.342264] -53.747498 -53.747498  15.427344  0.964209         13\n",
      "13    [8.383234] -54.462708 -54.462708   8.208418  0.482848         14\n",
      "14   [8.4084425] -54.513430 -54.513430   8.454245  0.469680         15\n",
      "15    [8.421175] -54.424360 -54.513430   8.853133  0.465954         16\n",
      "16    [8.442438] -54.102510 -54.513430   8.967319  0.448366         17\n",
      "17    [8.342592] -53.756283 -54.513430   9.498668  0.452318         18\n",
      "18    [8.613289] -43.697346 -54.513430   9.497301  0.431696         19\n",
      "19    [9.820971]  33.416428 -54.513430  10.204230  0.443662         20\n",
      "20    [8.613289] -43.697346 -54.513430  11.629045  0.484544         21\n",
      "21    [9.204622]  52.000170 -54.513430  12.076738  0.483070         22\n",
      "22    [8.613289] -43.697346 -54.513430  12.183447  0.468594         23\n",
      "23    [9.204622]  52.000170 -54.513430  12.521613  0.463763         24\n",
      "24    [9.204622]  52.000170 -54.513430  12.426979  0.443821         25\n",
      "25    [9.204622]  52.000170 -54.513430  12.297910  0.424066         26\n",
      "26    [9.204622]  52.000170 -54.513430  12.454366  0.415146         27\n",
      "27    [9.204622]  52.000170 -54.513430  12.292710  0.396539         28\n",
      "28    [9.204622]  52.000170 -54.513430  12.537066  0.391783         29\n",
      "29    [9.204622]  52.000170 -54.513430  12.607227  0.382037         30\n",
      "30    [9.204622]  52.000170 -54.513430  12.550496  0.369132         31\n",
      "31    [9.204622]  52.000170 -54.513430  12.859401  0.367411         32\n",
      "32    [9.204622]  52.000170 -54.513430  13.250282  0.368063         33\n",
      "33   [6.4010596] -24.654312 -54.513430  20.909281  0.565116         34\n",
      "34   [6.4010596] -24.654312 -54.513430   8.691237  0.228717         35, 'POI':            X_new      y_new     y_best       Beta    Beta:n  Iteration\n",
      "0   [9.49467859]  71.173390 -54.495179   1.305678  0.326420          0\n",
      "1   [6.02951529] -22.168324 -54.495179   1.305678  0.326420          0\n",
      "2   [7.42453129]  38.251808 -54.495179   1.305678  0.326420          0\n",
      "3   [8.41220129] -54.495179 -54.495179   1.305678  0.326420          0\n",
      "0          [5.0]  15.382359 -54.495179   1.305678  0.326420          1\n",
      "1     [5.894756] -15.119402 -54.495179   1.716569  0.343314          2\n",
      "2     [5.953029] -18.421710 -54.495179   2.211617  0.368603          3\n",
      "3    [6.0190716] -21.703838 -54.495179   2.775822  0.396546          4\n",
      "4    [6.0595655] -23.410590 -54.495179   3.478975  0.434872          5\n",
      "5    [8.3834095] -54.464092 -54.495179   4.245847  0.471761          6\n",
      "6     [8.388509] -54.498127 -54.498127   7.101691  0.710169          7\n",
      "7     [8.390653] -54.508790 -54.508790  11.548446  1.049859          8\n",
      "8      [8.44146] -54.122080 -54.508790   5.924253  0.493688          9\n",
      "9     [8.565521] -47.978004 -54.508790   5.382314  0.414024         10\n",
      "10    [6.544769] -17.178350 -54.508790   5.877142  0.419796         11\n",
      "11    [8.244849] -49.075867 -54.508790   6.680161  0.445344         12\n",
      "12    [8.390579] -54.508465 -54.508790   7.125521  0.445345         13\n",
      "13         [5.0]  15.382359 -54.508790   7.237804  0.425753         14\n",
      "14         [5.0]  15.382359 -54.508790   7.448869  0.413826         15\n",
      "15         [5.0]  15.382359 -54.508790   7.640598  0.402137         16\n",
      "16         [5.0]  15.382359 -54.508790   7.786467  0.389323         17\n",
      "17         [5.0]  15.382359 -54.508790   7.824889  0.372614         18\n",
      "18         [5.0]  15.382359 -54.508790   8.150151  0.370461         19\n",
      "19         [5.0]  15.382359 -54.508790   8.284830  0.360210         20\n",
      "20         [5.0]  15.382359 -54.508790   8.300735  0.345864         21\n",
      "21         [5.0]  15.382359 -54.508790   8.562092  0.342484         22\n",
      "22    [9.820971]  33.416428 -54.508790   8.643164  0.332429         23\n",
      "23         [5.0]  15.382359 -54.508790   9.306284  0.344677         24\n",
      "24         [5.0]  15.382359 -54.508790   9.677358  0.345620         25\n",
      "25         [5.0]  15.382359 -54.508790   9.414378  0.324634         26\n",
      "26         [5.0]  15.382359 -54.508790   9.818552  0.327285         27\n",
      "27         [5.0]  15.382359 -54.508790  10.035562  0.323728         28\n",
      "28         [5.0]  15.382359 -54.508790  12.157431  0.379920         29\n",
      "29   [6.4010596] -24.654312 -54.508790  19.511021  0.591243         30, 'UCB':            X_new      y_new     y_best       Beta    Beta:n  Iteration\n",
      "0   [6.07605337] -24.029256 -42.111164   1.428672  0.357168          0\n",
      "1   [9.07643918]  31.607324 -42.111164   1.428672  0.357168          0\n",
      "2   [8.16117588] -42.111164 -42.111164   1.428672  0.357168          0\n",
      "3   [6.37608223] -25.473134 -42.111164   1.428672  0.357168          0\n",
      "0    [6.2962365] -27.089373 -42.111164   1.428672  0.357168          1\n",
      "1    [7.1560802]  34.979122 -42.111164   1.953327  0.390665          2\n",
      "2          [5.0]  15.382359 -42.111164   2.199320  0.366553          3\n",
      "3    [6.1755934] -26.692467 -42.111164   2.627599  0.375371          4\n",
      "4    [6.1678185] -26.555782 -42.111164   3.225795  0.403224          5\n",
      "5     [6.182458] -26.802475 -42.111164   4.120054  0.457784          6\n",
      "6     [8.153075] -41.312347 -42.111164   5.901093  0.590109          7\n",
      "7     [8.157648] -41.765785 -42.111164  10.183434  0.925767          8\n",
      "8     [8.162106] -42.201546 -42.201546  13.730571  1.144214          9\n",
      "9     [8.217434] -47.068043 -47.068043   5.882946  0.452534         10\n",
      "10    [8.301584] -52.287277 -52.287277   6.173727  0.440980         11\n",
      "11    [8.357577] -54.105274 -54.105274   6.761642  0.450776         12\n",
      "12    [8.356304] -54.079613 -54.105274   7.132141  0.445759         13\n",
      "13   [8.3661785] -54.259117 -54.259117   7.588128  0.446360         14\n",
      "14    [8.613289] -43.697346 -54.259117   7.721478  0.428971         15\n",
      "15         [5.0]  15.382359 -54.259117   8.561880  0.450625         16\n",
      "16         [5.0]  15.382359 -54.259117   8.554424  0.427721         17\n",
      "17         [5.0]  15.382359 -54.259117   8.380161  0.399055         18\n",
      "18         [5.0]  15.382359 -54.259117   8.601073  0.390958         19\n",
      "19         [5.0]  15.382359 -54.259117   8.792519  0.382283         20\n",
      "20         [5.0]  15.382359 -54.259117   8.837607  0.368234         21\n",
      "21         [5.0]  15.382359 -54.259117   9.041508  0.361660         22\n",
      "22         [5.0]  15.382359 -54.259117   9.226660  0.354872         23\n",
      "23         [5.0]  15.382359 -54.259117   9.236779  0.342103         24\n",
      "24         [5.0]  15.382359 -54.259117   9.459126  0.337826         25\n",
      "25         [5.0]  15.382359 -54.259117   9.583305  0.330459         26\n",
      "26         [5.0]  15.382359 -54.259117   9.580914  0.319364         27\n",
      "27         [5.0]  15.382359 -54.259117   9.872159  0.318457         28\n",
      "28         [5.0]  15.382359 -54.259117   7.185429  0.224545         29\n",
      "29         [5.0]  15.382359 -54.259117  13.243759  0.401326         30\n",
      "30         [5.0]  15.382359 -54.259117   6.801692  0.200050         31}, 'TP': {'EI':            X_new      y_new     y_best       Beta    Beta:n  Iteration\n",
      "0   [7.00176962]  23.974876 -44.523149   2.188304  0.547076          0\n",
      "1    [8.1870452] -44.523149 -44.523149   2.188304  0.547076          0\n",
      "2   [8.83212645] -12.897725 -44.523149   2.188304  0.547076          0\n",
      "3   [5.02722495]  15.887144 -44.523149   2.188304  0.547076          0\n",
      "0     [9.820971]  33.416428 -44.523149   2.188304  0.547076          1\n",
      "1     [8.613289] -43.697346 -44.523149   2.998832  0.599766          2\n",
      "2     [8.312584] -52.753860 -52.753860   3.927323  0.654554          3\n",
      "3     [8.294031] -51.936750 -52.753860   5.007395  0.715342          4\n",
      "4     [8.281385] -51.295856 -52.753860   6.600295  0.825037          5\n",
      "5     [8.276819] -51.048035 -52.753860   8.939984  0.993332          6\n",
      "6     [8.282875] -51.374832 -52.753860  10.407730  1.040773          7\n",
      "7     [8.302164] -52.313175 -52.753860  11.130126  1.011830          8\n",
      "8    [6.0017285] -20.897568 -52.753860   7.406790  0.617233          9\n",
      "9    [7.8482647]  -2.303484 -52.753860  11.077493  0.852115         10\n",
      "10    [8.398649] -54.529427 -54.529427  15.616069  1.115433         11\n",
      "11   [6.4069386] -24.440080 -54.529427   9.735200  0.649013         12\n",
      "12    [8.409592] -54.508568 -54.529427   8.296021  0.518501         13\n",
      "13    [9.284182]  61.674656 -54.529427   7.621983  0.448352         14\n",
      "14    [8.452005] -53.886753 -54.529427   7.148570  0.397143         15\n",
      "15   [7.4424024]  37.602627 -54.529427   7.154274  0.376541         16\n",
      "16    [8.613289] -43.697346 -54.529427   7.338450  0.366923         17\n",
      "17    [5.545743]   6.318102 -54.529427   7.373271  0.351108         18\n",
      "18    [8.613289] -43.697346 -54.529427   7.959307  0.361787         19\n",
      "19    [8.613289] -43.697346 -54.529427   8.107232  0.352488         20\n",
      "20    [9.204622]  52.000170 -54.529427   8.062317  0.335930         21\n",
      "21    [8.613289] -43.697346 -54.529427   7.747286  0.309891         22\n",
      "22    [9.204622]  52.000170 -54.529427   7.853027  0.302040         23\n",
      "23    [9.204622]  52.000170 -54.529427   7.499554  0.277761         24\n",
      "24    [9.204622]  52.000170 -54.529427   7.290347  0.260370         25\n",
      "25    [9.204622]  52.000170 -54.529427   7.021752  0.242129         26\n",
      "26    [9.204622]  52.000170 -54.529427   6.920705  0.230690         27\n",
      "27    [9.204622]  52.000170 -54.529427   6.657464  0.214757         28\n",
      "28    [9.204622]  52.000170 -54.529427   6.350005  0.198438         29\n",
      "29    [9.204622]  52.000170 -54.529427   6.172966  0.187060         30\n",
      "30    [9.204622]  52.000170 -54.529427   5.678542  0.167016         31\n",
      "31    [9.204622]  52.000170 -54.529427   5.756773  0.164479         32\n",
      "32   [6.4010596] -24.654312 -54.529427  11.476674  0.318797         33\n",
      "33    [9.204622]  52.000170 -54.529427   5.658140  0.152923         34, 'POI':            X_new      y_new     y_best       Beta    Beta:n  Iteration\n",
      "0   [6.97454449]  21.584548 -54.529446   2.057449  0.514362          0\n",
      "1   [9.18101866]  48.628990 -54.529446   2.057449  0.514362          0\n",
      "2   [8.39868184] -54.529446 -54.529446   2.057449  0.514362          0\n",
      "3   [5.56724508]   5.154926 -54.529446   2.057449  0.514362          0\n",
      "0          [5.0]  15.382359 -54.529446   2.057449  0.514362          1\n",
      "1          [5.0]  15.382359 -54.529446   2.806132  0.561226          2\n",
      "2     [8.261442] -50.150578 -54.529446   3.643749  0.607291          3\n",
      "3     [8.240584] -48.782220 -54.529446   4.795111  0.685016          4\n",
      "4     [8.222524] -47.462055 -54.529446   6.024301  0.753038          5\n",
      "5     [8.222482] -47.458862 -54.529446   7.971009  0.885668          6\n",
      "6     [8.252507] -49.585400 -54.529446  10.023221  1.002322          7\n",
      "7     [8.280435] -51.244965 -54.529446  11.770370  1.070034          8\n",
      "8    [7.8864946]  -7.590059 -54.529446  11.095669  0.924639          9\n",
      "9     [8.375422] -54.386276 -54.529446  13.784571  1.060352         10\n",
      "10        [10.0]  -6.801930 -54.529446   8.792436  0.628031         11\n",
      "11    [6.229177] -27.277609 -54.529446   8.164280  0.544285         12\n",
      "12    [8.389574] -54.503700 -54.529446  12.823862  0.801491         13\n",
      "13    [8.562949] -48.179253 -54.529446   6.603908  0.388465         14\n",
      "14    [5.959465] -18.765354 -54.529446   6.607967  0.367109         15\n",
      "15   [7.4506607]  37.264970 -54.529446   7.156740  0.376671         16\n",
      "16    [8.442791] -54.095333 -54.529446   7.416233  0.370812         17\n",
      "17    [6.533901] -17.898314 -54.529446   7.610858  0.362422         18\n",
      "18         [5.0]  15.382359 -54.529446   7.960988  0.361863         19\n",
      "19         [5.0]  15.382359 -54.529446   7.812361  0.339668         20\n",
      "20         [5.0]  15.382359 -54.529446   7.528502  0.313688         21\n",
      "21         [5.0]  15.382359 -54.529446   7.511156  0.300446         22\n",
      "22         [5.0]  15.382359 -54.529446   7.263737  0.279375         23\n",
      "23         [5.0]  15.382359 -54.529446   7.205195  0.266859         24\n",
      "24         [5.0]  15.382359 -54.529446   6.931658  0.247559         25\n",
      "25         [5.0]  15.382359 -54.529446   6.824481  0.235327         26\n",
      "26         [5.0]  15.382359 -54.529446   6.677251  0.222575         27\n",
      "27         [5.0]  15.382359 -54.529446   6.491188  0.209393         28\n",
      "28         [5.0]  15.382359 -54.529446   6.330755  0.197836         29\n",
      "29         [5.0]  15.382359 -54.529446   6.239687  0.189081         30\n",
      "30         [5.0]  15.382359 -54.529446   5.197714  0.152874         31\n",
      "31   [6.3807106] -25.332615 -54.529446   2.834826  0.080995         32, 'UCB':            X_new      y_new     y_best       Beta    Beta:n  Iteration\n",
      "0   [8.64174671] -40.672968 -40.672968   2.101685  0.525421          0\n",
      "1   [7.10707972]  32.043377 -40.672968   2.101685  0.525421          0\n",
      "2   [6.09399637] -24.648740 -40.672968   2.101685  0.525421          0\n",
      "3   [9.56236206]  68.488594 -40.672968   2.101685  0.525421          0\n",
      "0          [5.0]  15.382359 -40.672968   2.101685  0.525421          1\n",
      "1          [5.0]  15.382359 -40.672968   2.842585  0.568517          2\n",
      "2    [6.0338025] -22.354248 -40.672968   3.628283  0.604714          3\n",
      "3     [6.021125] -21.796434 -40.672968   4.602121  0.657446          4\n",
      "4     [6.028085] -22.105680 -40.672968   5.667781  0.708473          5\n",
      "5     [6.034056] -22.365166 -40.672968   7.014607  0.779401          6\n",
      "6     [8.473495] -53.241344 -53.241344   9.135859  0.913586          7\n",
      "7     [8.399697] -54.529884 -54.529884  12.692631  1.153876          8\n",
      "8     [8.369217] -54.305294 -54.529884  18.136896  1.511408          9\n",
      "9     [8.355868] -54.070652 -54.529884  18.669394  1.436107         10\n",
      "10    [8.349089] -53.920143 -54.529884   6.180544  0.441467         11\n",
      "11    [8.355885] -54.070990 -54.529884   5.373016  0.358201         12\n",
      "12         [5.0]  15.382359 -54.529884   5.063501  0.316469         13\n",
      "13         [5.0]  15.382359 -54.529884   5.049809  0.297048         14\n",
      "14         [5.0]  15.382359 -54.529884   5.024053  0.279114         15\n",
      "15         [5.0]  15.382359 -54.529884   4.787503  0.251974         16\n",
      "16         [5.0]  15.382359 -54.529884   4.744445  0.237222         17\n",
      "17         [5.0]  15.382359 -54.529884   4.625223  0.220249         18\n",
      "18         [5.0]  15.382359 -54.529884   4.578344  0.208107         19\n",
      "19         [5.0]  15.382359 -54.529884   4.516354  0.196363         20\n",
      "20         [5.0]  15.382359 -54.529884   4.412194  0.183841         21\n",
      "21         [5.0]  15.382359 -54.529884   4.287596  0.171504         22\n",
      "22         [5.0]  15.382359 -54.529884   4.209571  0.161907         23\n",
      "23         [5.0]  15.382359 -54.529884   4.112689  0.152322         24\n",
      "24         [5.0]  15.382359 -54.529884   3.794466  0.135517         25\n",
      "25         [5.0]  15.382359 -54.529884   4.248777  0.146510         26\n",
      "26         [5.0]  15.382359 -54.529884   1.696911  0.056564         27\n",
      "27         [5.0]  15.382359 -54.529884   1.554407  0.050142         28\n",
      "28         [5.0]  15.382359 -54.529884   1.458012  0.045563         29}}\n"
     ]
    }
   ],
   "source": [
    "target = os.path.join(LOG_DIR, 'E1')\n",
    "\n",
    "file_name_list = search_log_files(target, [\"seed1\", \"Sinusoidal\"])\n",
    "print(file_name_list)\n",
    "\n",
    "file_path_list = [os.path.join(target, file_name) for file_name in file_name_list]\n",
    "\n",
    "df_dict = {\n",
    "    \"GP\": {\n",
    "        \"EI\": None,\n",
    "        \"POI\": None,\n",
    "        \"UCB\": None\n",
    "    },\n",
    "    \"TP\": {\n",
    "        \"EI\": None,\n",
    "        \"POI\": None,\n",
    "        \"UCB\": None\n",
    "    }\n",
    "}\n",
    "\n",
    "for file_path in file_path_list:\n",
    "    parser = LogParser(file_path)\n",
    "    parser.parse_log_file()\n",
    "    df_combined = parser.create_combined_dataframe()\n",
    "    \n",
    "    # # Extract the acquisition function and the surrogate model\n",
    "    # model_name = parser.settings[\"surrogate_model\"]\n",
    "    # acq_fn = parser.settings[\"acquisition_function\"]\n",
    "    \n",
    "    model_name = \"GP\" if \"GP\" in file_path else \"TP\"\n",
    "    acq_fn = \"EI\" if \"EI\" in file_path else \"POI\" if \"POI\" in file_path else \"UCB\"\n",
    "\n",
    "    # Store the combined dataframe in the dictionary\n",
    "    df_dict[model_name][acq_fn] = df_combined\n",
    "\n",
    "\n",
    "print(df_dict)"
   ]
  },
  {
   "cell_type": "code",
   "execution_count": 25,
   "metadata": {},
   "outputs": [],
   "source": [
    "import plotly.graph_objects as go\n",
    "\n",
    "def add_history_plot(fig, df_dict, model_name, acq_fn):\n",
    "    color_dict = {\n",
    "        \"GP\": \"blue\",\n",
    "        \"TP\": \"red\"\n",
    "    }\n",
    "\n",
    "    df = df_dict[model_name][acq_fn]\n",
    "\n",
    "    # Plot y_new\n",
    "    fig.add_trace(go.Scatter(\n",
    "        x=df['Iteration'],\n",
    "        y=df['y_new'],\n",
    "        mode='markers',\n",
    "        name=f\"{model_name} - {acq_fn}\",\n",
    "        marker=dict(color=color_dict[model_name])\n",
    "    ))\n",
    "\n",
    "    # Plot y_best\n",
    "    fig.add_trace(go.Scatter(\n",
    "        x=df['Iteration'],\n",
    "        y=df['y_best'],\n",
    "        mode='lines',\n",
    "        name=f\"{model_name} - {acq_fn}\",\n",
    "        line=dict(color=color_dict[model_name])\n",
    "    ))\n",
    "\n",
    "    # # Highlight points where Beta:n >= 1 with orange dots\n",
    "    # high_beta_mask = df['Beta:n'] >= 1\n",
    "    # fig.add_trace(go.Scatter(\n",
    "    #     x=df['Iteration'][high_beta_mask],\n",
    "    #     y=df['y_new'][high_beta_mask],\n",
    "    #     mode='markers',\n",
    "    #     name=f\"{model_name} - {acq_fn} (Beta:n >= 1)\",\n",
    "    #     marker=dict(color='orange')\n",
    "    # ))\n",
    "\n",
    "    return None"
   ]
  },
  {
   "cell_type": "code",
   "execution_count": 26,
   "metadata": {},
   "outputs": [
    {
     "data": {
      "application/vnd.plotly.v1+json": {
       "config": {
        "plotlyServerURL": "https://plot.ly"
       },
       "data": [
        {
         "marker": {
          "color": "blue"
         },
         "mode": "markers",
         "name": "GP - EI",
         "type": "scatter",
         "x": [
          0,
          0,
          0,
          0,
          1,
          2,
          3,
          4,
          5,
          6,
          7,
          8,
          9,
          10,
          11,
          12,
          13,
          14,
          15,
          16,
          17,
          18,
          19,
          20,
          21,
          22,
          23,
          24,
          25,
          26,
          27,
          28,
          29,
          30,
          31,
          32,
          33,
          34,
          35
         ],
         "y": [
          8.78781564,
          -25.43030108,
          2.2584251,
          -6.66752874,
          -18.59409,
          -19.5655,
          -15.167486,
          -24.230114,
          -25.842916,
          -26.898872,
          -27.283918,
          -6.8019304,
          36.84448,
          15.3823595,
          -52.904057,
          -53.44436,
          -53.747498,
          -54.462708,
          -54.51343,
          -54.42436,
          -54.10251,
          -53.756283,
          -43.697346,
          33.416428,
          -43.697346,
          52.00017,
          -43.697346,
          52.00017,
          52.00017,
          52.00017,
          52.00017,
          52.00017,
          52.00017,
          52.00017,
          52.00017,
          52.00017,
          52.00017,
          -24.654312,
          -24.654312
         ]
        },
        {
         "line": {
          "color": "blue"
         },
         "mode": "lines",
         "name": "GP - EI",
         "type": "scatter",
         "x": [
          0,
          0,
          0,
          0,
          1,
          2,
          3,
          4,
          5,
          6,
          7,
          8,
          9,
          10,
          11,
          12,
          13,
          14,
          15,
          16,
          17,
          18,
          19,
          20,
          21,
          22,
          23,
          24,
          25,
          26,
          27,
          28,
          29,
          30,
          31,
          32,
          33,
          34,
          35
         ],
         "y": [
          -25.43030108,
          -25.43030108,
          -25.43030108,
          -25.43030108,
          -25.43030108,
          -25.43030108,
          -25.43030108,
          -25.43030108,
          -25.842916,
          -26.898872,
          -27.283918,
          -27.283918,
          -27.283918,
          -27.283918,
          -52.904057,
          -53.44436,
          -53.747498,
          -54.462708,
          -54.51343,
          -54.51343,
          -54.51343,
          -54.51343,
          -54.51343,
          -54.51343,
          -54.51343,
          -54.51343,
          -54.51343,
          -54.51343,
          -54.51343,
          -54.51343,
          -54.51343,
          -54.51343,
          -54.51343,
          -54.51343,
          -54.51343,
          -54.51343,
          -54.51343,
          -54.51343,
          -54.51343
         ]
        },
        {
         "marker": {
          "color": "red"
         },
         "mode": "markers",
         "name": "TP - EI",
         "type": "scatter",
         "x": [
          0,
          0,
          0,
          0,
          1,
          2,
          3,
          4,
          5,
          6,
          7,
          8,
          9,
          10,
          11,
          12,
          13,
          14,
          15,
          16,
          17,
          18,
          19,
          20,
          21,
          22,
          23,
          24,
          25,
          26,
          27,
          28,
          29,
          30,
          31,
          32,
          33,
          34
         ],
         "y": [
          23.97487587,
          -44.52314926,
          -12.897725,
          15.88714403,
          33.416428,
          -43.697346,
          -52.75386,
          -51.93675,
          -51.295856,
          -51.048035,
          -51.374832,
          -52.313175,
          -20.897568,
          -2.3034844,
          -54.529427,
          -24.44008,
          -54.508568,
          61.674656,
          -53.886753,
          37.602627,
          -43.697346,
          6.318102,
          -43.697346,
          -43.697346,
          52.00017,
          -43.697346,
          52.00017,
          52.00017,
          52.00017,
          52.00017,
          52.00017,
          52.00017,
          52.00017,
          52.00017,
          52.00017,
          52.00017,
          -24.654312,
          52.00017
         ]
        },
        {
         "line": {
          "color": "red"
         },
         "mode": "lines",
         "name": "TP - EI",
         "type": "scatter",
         "x": [
          0,
          0,
          0,
          0,
          1,
          2,
          3,
          4,
          5,
          6,
          7,
          8,
          9,
          10,
          11,
          12,
          13,
          14,
          15,
          16,
          17,
          18,
          19,
          20,
          21,
          22,
          23,
          24,
          25,
          26,
          27,
          28,
          29,
          30,
          31,
          32,
          33,
          34
         ],
         "y": [
          -44.52314926,
          -44.52314926,
          -44.52314926,
          -44.52314926,
          -44.52314926,
          -44.52314926,
          -52.75386,
          -52.75386,
          -52.75386,
          -52.75386,
          -52.75386,
          -52.75386,
          -52.75386,
          -52.75386,
          -54.529427,
          -54.529427,
          -54.529427,
          -54.529427,
          -54.529427,
          -54.529427,
          -54.529427,
          -54.529427,
          -54.529427,
          -54.529427,
          -54.529427,
          -54.529427,
          -54.529427,
          -54.529427,
          -54.529427,
          -54.529427,
          -54.529427,
          -54.529427,
          -54.529427,
          -54.529427,
          -54.529427,
          -54.529427,
          -54.529427,
          -54.529427
         ]
        }
       ],
       "layout": {
        "legend": {
         "title": {
          "text": "Metrics"
         }
        },
        "template": {
         "data": {
          "bar": [
           {
            "error_x": {
             "color": "#2a3f5f"
            },
            "error_y": {
             "color": "#2a3f5f"
            },
            "marker": {
             "line": {
              "color": "#E5ECF6",
              "width": 0.5
             },
             "pattern": {
              "fillmode": "overlay",
              "size": 10,
              "solidity": 0.2
             }
            },
            "type": "bar"
           }
          ],
          "barpolar": [
           {
            "marker": {
             "line": {
              "color": "#E5ECF6",
              "width": 0.5
             },
             "pattern": {
              "fillmode": "overlay",
              "size": 10,
              "solidity": 0.2
             }
            },
            "type": "barpolar"
           }
          ],
          "carpet": [
           {
            "aaxis": {
             "endlinecolor": "#2a3f5f",
             "gridcolor": "white",
             "linecolor": "white",
             "minorgridcolor": "white",
             "startlinecolor": "#2a3f5f"
            },
            "baxis": {
             "endlinecolor": "#2a3f5f",
             "gridcolor": "white",
             "linecolor": "white",
             "minorgridcolor": "white",
             "startlinecolor": "#2a3f5f"
            },
            "type": "carpet"
           }
          ],
          "choropleth": [
           {
            "colorbar": {
             "outlinewidth": 0,
             "ticks": ""
            },
            "type": "choropleth"
           }
          ],
          "contour": [
           {
            "colorbar": {
             "outlinewidth": 0,
             "ticks": ""
            },
            "colorscale": [
             [
              0,
              "#0d0887"
             ],
             [
              0.1111111111111111,
              "#46039f"
             ],
             [
              0.2222222222222222,
              "#7201a8"
             ],
             [
              0.3333333333333333,
              "#9c179e"
             ],
             [
              0.4444444444444444,
              "#bd3786"
             ],
             [
              0.5555555555555556,
              "#d8576b"
             ],
             [
              0.6666666666666666,
              "#ed7953"
             ],
             [
              0.7777777777777778,
              "#fb9f3a"
             ],
             [
              0.8888888888888888,
              "#fdca26"
             ],
             [
              1,
              "#f0f921"
             ]
            ],
            "type": "contour"
           }
          ],
          "contourcarpet": [
           {
            "colorbar": {
             "outlinewidth": 0,
             "ticks": ""
            },
            "type": "contourcarpet"
           }
          ],
          "heatmap": [
           {
            "colorbar": {
             "outlinewidth": 0,
             "ticks": ""
            },
            "colorscale": [
             [
              0,
              "#0d0887"
             ],
             [
              0.1111111111111111,
              "#46039f"
             ],
             [
              0.2222222222222222,
              "#7201a8"
             ],
             [
              0.3333333333333333,
              "#9c179e"
             ],
             [
              0.4444444444444444,
              "#bd3786"
             ],
             [
              0.5555555555555556,
              "#d8576b"
             ],
             [
              0.6666666666666666,
              "#ed7953"
             ],
             [
              0.7777777777777778,
              "#fb9f3a"
             ],
             [
              0.8888888888888888,
              "#fdca26"
             ],
             [
              1,
              "#f0f921"
             ]
            ],
            "type": "heatmap"
           }
          ],
          "heatmapgl": [
           {
            "colorbar": {
             "outlinewidth": 0,
             "ticks": ""
            },
            "colorscale": [
             [
              0,
              "#0d0887"
             ],
             [
              0.1111111111111111,
              "#46039f"
             ],
             [
              0.2222222222222222,
              "#7201a8"
             ],
             [
              0.3333333333333333,
              "#9c179e"
             ],
             [
              0.4444444444444444,
              "#bd3786"
             ],
             [
              0.5555555555555556,
              "#d8576b"
             ],
             [
              0.6666666666666666,
              "#ed7953"
             ],
             [
              0.7777777777777778,
              "#fb9f3a"
             ],
             [
              0.8888888888888888,
              "#fdca26"
             ],
             [
              1,
              "#f0f921"
             ]
            ],
            "type": "heatmapgl"
           }
          ],
          "histogram": [
           {
            "marker": {
             "pattern": {
              "fillmode": "overlay",
              "size": 10,
              "solidity": 0.2
             }
            },
            "type": "histogram"
           }
          ],
          "histogram2d": [
           {
            "colorbar": {
             "outlinewidth": 0,
             "ticks": ""
            },
            "colorscale": [
             [
              0,
              "#0d0887"
             ],
             [
              0.1111111111111111,
              "#46039f"
             ],
             [
              0.2222222222222222,
              "#7201a8"
             ],
             [
              0.3333333333333333,
              "#9c179e"
             ],
             [
              0.4444444444444444,
              "#bd3786"
             ],
             [
              0.5555555555555556,
              "#d8576b"
             ],
             [
              0.6666666666666666,
              "#ed7953"
             ],
             [
              0.7777777777777778,
              "#fb9f3a"
             ],
             [
              0.8888888888888888,
              "#fdca26"
             ],
             [
              1,
              "#f0f921"
             ]
            ],
            "type": "histogram2d"
           }
          ],
          "histogram2dcontour": [
           {
            "colorbar": {
             "outlinewidth": 0,
             "ticks": ""
            },
            "colorscale": [
             [
              0,
              "#0d0887"
             ],
             [
              0.1111111111111111,
              "#46039f"
             ],
             [
              0.2222222222222222,
              "#7201a8"
             ],
             [
              0.3333333333333333,
              "#9c179e"
             ],
             [
              0.4444444444444444,
              "#bd3786"
             ],
             [
              0.5555555555555556,
              "#d8576b"
             ],
             [
              0.6666666666666666,
              "#ed7953"
             ],
             [
              0.7777777777777778,
              "#fb9f3a"
             ],
             [
              0.8888888888888888,
              "#fdca26"
             ],
             [
              1,
              "#f0f921"
             ]
            ],
            "type": "histogram2dcontour"
           }
          ],
          "mesh3d": [
           {
            "colorbar": {
             "outlinewidth": 0,
             "ticks": ""
            },
            "type": "mesh3d"
           }
          ],
          "parcoords": [
           {
            "line": {
             "colorbar": {
              "outlinewidth": 0,
              "ticks": ""
             }
            },
            "type": "parcoords"
           }
          ],
          "pie": [
           {
            "automargin": true,
            "type": "pie"
           }
          ],
          "scatter": [
           {
            "fillpattern": {
             "fillmode": "overlay",
             "size": 10,
             "solidity": 0.2
            },
            "type": "scatter"
           }
          ],
          "scatter3d": [
           {
            "line": {
             "colorbar": {
              "outlinewidth": 0,
              "ticks": ""
             }
            },
            "marker": {
             "colorbar": {
              "outlinewidth": 0,
              "ticks": ""
             }
            },
            "type": "scatter3d"
           }
          ],
          "scattercarpet": [
           {
            "marker": {
             "colorbar": {
              "outlinewidth": 0,
              "ticks": ""
             }
            },
            "type": "scattercarpet"
           }
          ],
          "scattergeo": [
           {
            "marker": {
             "colorbar": {
              "outlinewidth": 0,
              "ticks": ""
             }
            },
            "type": "scattergeo"
           }
          ],
          "scattergl": [
           {
            "marker": {
             "colorbar": {
              "outlinewidth": 0,
              "ticks": ""
             }
            },
            "type": "scattergl"
           }
          ],
          "scattermapbox": [
           {
            "marker": {
             "colorbar": {
              "outlinewidth": 0,
              "ticks": ""
             }
            },
            "type": "scattermapbox"
           }
          ],
          "scatterpolar": [
           {
            "marker": {
             "colorbar": {
              "outlinewidth": 0,
              "ticks": ""
             }
            },
            "type": "scatterpolar"
           }
          ],
          "scatterpolargl": [
           {
            "marker": {
             "colorbar": {
              "outlinewidth": 0,
              "ticks": ""
             }
            },
            "type": "scatterpolargl"
           }
          ],
          "scatterternary": [
           {
            "marker": {
             "colorbar": {
              "outlinewidth": 0,
              "ticks": ""
             }
            },
            "type": "scatterternary"
           }
          ],
          "surface": [
           {
            "colorbar": {
             "outlinewidth": 0,
             "ticks": ""
            },
            "colorscale": [
             [
              0,
              "#0d0887"
             ],
             [
              0.1111111111111111,
              "#46039f"
             ],
             [
              0.2222222222222222,
              "#7201a8"
             ],
             [
              0.3333333333333333,
              "#9c179e"
             ],
             [
              0.4444444444444444,
              "#bd3786"
             ],
             [
              0.5555555555555556,
              "#d8576b"
             ],
             [
              0.6666666666666666,
              "#ed7953"
             ],
             [
              0.7777777777777778,
              "#fb9f3a"
             ],
             [
              0.8888888888888888,
              "#fdca26"
             ],
             [
              1,
              "#f0f921"
             ]
            ],
            "type": "surface"
           }
          ],
          "table": [
           {
            "cells": {
             "fill": {
              "color": "#EBF0F8"
             },
             "line": {
              "color": "white"
             }
            },
            "header": {
             "fill": {
              "color": "#C8D4E3"
             },
             "line": {
              "color": "white"
             }
            },
            "type": "table"
           }
          ]
         },
         "layout": {
          "annotationdefaults": {
           "arrowcolor": "#2a3f5f",
           "arrowhead": 0,
           "arrowwidth": 1
          },
          "autotypenumbers": "strict",
          "coloraxis": {
           "colorbar": {
            "outlinewidth": 0,
            "ticks": ""
           }
          },
          "colorscale": {
           "diverging": [
            [
             0,
             "#8e0152"
            ],
            [
             0.1,
             "#c51b7d"
            ],
            [
             0.2,
             "#de77ae"
            ],
            [
             0.3,
             "#f1b6da"
            ],
            [
             0.4,
             "#fde0ef"
            ],
            [
             0.5,
             "#f7f7f7"
            ],
            [
             0.6,
             "#e6f5d0"
            ],
            [
             0.7,
             "#b8e186"
            ],
            [
             0.8,
             "#7fbc41"
            ],
            [
             0.9,
             "#4d9221"
            ],
            [
             1,
             "#276419"
            ]
           ],
           "sequential": [
            [
             0,
             "#0d0887"
            ],
            [
             0.1111111111111111,
             "#46039f"
            ],
            [
             0.2222222222222222,
             "#7201a8"
            ],
            [
             0.3333333333333333,
             "#9c179e"
            ],
            [
             0.4444444444444444,
             "#bd3786"
            ],
            [
             0.5555555555555556,
             "#d8576b"
            ],
            [
             0.6666666666666666,
             "#ed7953"
            ],
            [
             0.7777777777777778,
             "#fb9f3a"
            ],
            [
             0.8888888888888888,
             "#fdca26"
            ],
            [
             1,
             "#f0f921"
            ]
           ],
           "sequentialminus": [
            [
             0,
             "#0d0887"
            ],
            [
             0.1111111111111111,
             "#46039f"
            ],
            [
             0.2222222222222222,
             "#7201a8"
            ],
            [
             0.3333333333333333,
             "#9c179e"
            ],
            [
             0.4444444444444444,
             "#bd3786"
            ],
            [
             0.5555555555555556,
             "#d8576b"
            ],
            [
             0.6666666666666666,
             "#ed7953"
            ],
            [
             0.7777777777777778,
             "#fb9f3a"
            ],
            [
             0.8888888888888888,
             "#fdca26"
            ],
            [
             1,
             "#f0f921"
            ]
           ]
          },
          "colorway": [
           "#636efa",
           "#EF553B",
           "#00cc96",
           "#ab63fa",
           "#FFA15A",
           "#19d3f3",
           "#FF6692",
           "#B6E880",
           "#FF97FF",
           "#FECB52"
          ],
          "font": {
           "color": "#2a3f5f"
          },
          "geo": {
           "bgcolor": "white",
           "lakecolor": "white",
           "landcolor": "#E5ECF6",
           "showlakes": true,
           "showland": true,
           "subunitcolor": "white"
          },
          "hoverlabel": {
           "align": "left"
          },
          "hovermode": "closest",
          "mapbox": {
           "style": "light"
          },
          "paper_bgcolor": "white",
          "plot_bgcolor": "#E5ECF6",
          "polar": {
           "angularaxis": {
            "gridcolor": "white",
            "linecolor": "white",
            "ticks": ""
           },
           "bgcolor": "#E5ECF6",
           "radialaxis": {
            "gridcolor": "white",
            "linecolor": "white",
            "ticks": ""
           }
          },
          "scene": {
           "xaxis": {
            "backgroundcolor": "#E5ECF6",
            "gridcolor": "white",
            "gridwidth": 2,
            "linecolor": "white",
            "showbackground": true,
            "ticks": "",
            "zerolinecolor": "white"
           },
           "yaxis": {
            "backgroundcolor": "#E5ECF6",
            "gridcolor": "white",
            "gridwidth": 2,
            "linecolor": "white",
            "showbackground": true,
            "ticks": "",
            "zerolinecolor": "white"
           },
           "zaxis": {
            "backgroundcolor": "#E5ECF6",
            "gridcolor": "white",
            "gridwidth": 2,
            "linecolor": "white",
            "showbackground": true,
            "ticks": "",
            "zerolinecolor": "white"
           }
          },
          "shapedefaults": {
           "line": {
            "color": "#2a3f5f"
           }
          },
          "ternary": {
           "aaxis": {
            "gridcolor": "white",
            "linecolor": "white",
            "ticks": ""
           },
           "baxis": {
            "gridcolor": "white",
            "linecolor": "white",
            "ticks": ""
           },
           "bgcolor": "#E5ECF6",
           "caxis": {
            "gridcolor": "white",
            "linecolor": "white",
            "ticks": ""
           }
          },
          "title": {
           "x": 0.05
          },
          "xaxis": {
           "automargin": true,
           "gridcolor": "white",
           "linecolor": "white",
           "ticks": "",
           "title": {
            "standoff": 15
           },
           "zerolinecolor": "white",
           "zerolinewidth": 2
          },
          "yaxis": {
           "automargin": true,
           "gridcolor": "white",
           "linecolor": "white",
           "ticks": "",
           "title": {
            "standoff": 15
           },
           "zerolinecolor": "white",
           "zerolinewidth": 2
          }
         }
        },
        "title": {
         "text": "Bayesian Optimization History"
        },
        "xaxis": {
         "title": {
          "text": "Iteration"
         }
        },
        "yaxis": {
         "title": {
          "text": "Function Value"
         }
        }
       }
      }
     },
     "metadata": {},
     "output_type": "display_data"
    }
   ],
   "source": [
    "fig = go.Figure()\n",
    "\n",
    "for model_name in df_dict.keys():\n",
    "    acq_fn = \"EI\"\n",
    "    add_history_plot(fig, df_dict, model_name, acq_fn)\n",
    "\n",
    "fig.update_layout(\n",
    "    title=\"Bayesian Optimization History\",\n",
    "    xaxis_title=\"Iteration\",\n",
    "    yaxis_title=\"Function Value\",\n",
    "    legend_title=\"Metrics\"\n",
    ")\n",
    "\n",
    "fig.show()"
   ]
  },
  {
   "cell_type": "code",
   "execution_count": null,
   "metadata": {},
   "outputs": [],
   "source": []
  },
  {
   "cell_type": "code",
   "execution_count": null,
   "metadata": {},
   "outputs": [],
   "source": []
  },
  {
   "cell_type": "code",
   "execution_count": null,
   "metadata": {},
   "outputs": [],
   "source": []
  },
  {
   "cell_type": "code",
   "execution_count": null,
   "metadata": {},
   "outputs": [],
   "source": []
  },
  {
   "cell_type": "code",
   "execution_count": null,
   "metadata": {},
   "outputs": [],
   "source": []
  },
  {
   "cell_type": "code",
   "execution_count": null,
   "metadata": {},
   "outputs": [],
   "source": []
  },
  {
   "cell_type": "code",
   "execution_count": null,
   "metadata": {},
   "outputs": [],
   "source": []
  }
 ],
 "metadata": {
  "kernelspec": {
   "display_name": ".venv",
   "language": "python",
   "name": "python3"
  },
  "language_info": {
   "codemirror_mode": {
    "name": "ipython",
    "version": 3
   },
   "file_extension": ".py",
   "mimetype": "text/x-python",
   "name": "python",
   "nbconvert_exporter": "python",
   "pygments_lexer": "ipython3",
   "version": "3.12.5"
  }
 },
 "nbformat": 4,
 "nbformat_minor": 2
}
