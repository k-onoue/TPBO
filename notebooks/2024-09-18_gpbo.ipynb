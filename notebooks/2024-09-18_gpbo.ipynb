{
 "cells": [
  {
   "cell_type": "code",
   "execution_count": 1,
   "metadata": {},
   "outputs": [
    {
     "data": {
      "application/vnd.plotly.v1+json": {
       "config": {
        "plotlyServerURL": "https://plot.ly"
       },
       "data": [
        {
         "mode": "lines",
         "name": "Objective Function",
         "type": "scatter",
         "x": [
          -10,
          -9.797979797979798,
          -9.595959595959595,
          -9.393939393939394,
          -9.191919191919192,
          -8.98989898989899,
          -8.787878787878787,
          -8.585858585858587,
          -8.383838383838384,
          -8.181818181818182,
          -7.979797979797979,
          -7.777777777777778,
          -7.575757575757576,
          -7.373737373737374,
          -7.171717171717171,
          -6.96969696969697,
          -6.767676767676768,
          -6.565656565656566,
          -6.363636363636363,
          -6.161616161616162,
          -5.959595959595959,
          -5.757575757575758,
          -5.555555555555555,
          -5.353535353535354,
          -5.151515151515151,
          -4.94949494949495,
          -4.747474747474747,
          -4.545454545454546,
          -4.343434343434343,
          -4.141414141414142,
          -3.9393939393939394,
          -3.737373737373738,
          -3.5353535353535355,
          -3.333333333333333,
          -3.1313131313131315,
          -2.929292929292929,
          -2.7272727272727275,
          -2.525252525252525,
          -2.3232323232323235,
          -2.121212121212121,
          -1.9191919191919187,
          -1.717171717171718,
          -1.5151515151515156,
          -1.3131313131313131,
          -1.1111111111111107,
          -0.9090909090909101,
          -0.7070707070707076,
          -0.5050505050505052,
          -0.30303030303030276,
          -0.10101010101010033,
          0.10101010101010033,
          0.30303030303030276,
          0.5050505050505052,
          0.7070707070707076,
          0.9090909090909083,
          1.1111111111111107,
          1.3131313131313131,
          1.5151515151515156,
          1.7171717171717162,
          1.9191919191919187,
          2.121212121212121,
          2.3232323232323235,
          2.525252525252524,
          2.7272727272727266,
          2.929292929292929,
          3.1313131313131315,
          3.333333333333334,
          3.5353535353535346,
          3.737373737373737,
          3.9393939393939394,
          4.141414141414142,
          4.3434343434343425,
          4.545454545454545,
          4.747474747474747,
          4.94949494949495,
          5.1515151515151505,
          5.353535353535353,
          5.555555555555555,
          5.757575757575758,
          5.9595959595959584,
          6.161616161616163,
          6.363636363636363,
          6.565656565656564,
          6.767676767676768,
          6.969696969696969,
          7.171717171717173,
          7.373737373737374,
          7.575757575757574,
          7.777777777777779,
          7.979797979797979,
          8.18181818181818,
          8.383838383838384,
          8.585858585858585,
          8.787878787878789,
          8.98989898989899,
          9.19191919191919,
          9.393939393939394,
          9.595959595959595,
          9.7979797979798,
          10
         ],
         "y": [
          -60.71650542348947,
          9.36361112032906,
          71.15939874257897,
          103.87782005973467,
          98.34483729616207,
          59.354998050684806,
          2.9593625193689874,
          -49.985022852058044,
          -81.45856291592277,
          -82.3378643173294,
          -54.861539241993476,
          -10.91837234107238,
          32.90471839184403,
          61.50670164353384,
          66.4077853989283,
          48.115905671687564,
          15.13058937301981,
          -19.76617488175776,
          -44.37701791143787,
          -51.28779529483061,
          -39.97670949495507,
          -16.289961685258213,
          10.269459873164998,
          30.25673064848751,
          37.58075560280809,
          31.25341357873721,
          15.138417463063726,
          -3.9867305016617722,
          -19.169400876201422,
          -25.746036686008594,
          -22.680719899255514,
          -12.436660506372501,
          0.3849828690837166,
          10.983445066523078,
          16.090939645795917,
          14.895925427646095,
          8.9352992404051,
          1.1487906812140498,
          -5.424956951251076,
          -8.766831741812199,
          -8.419765118234727,
          -5.347033697785053,
          -1.2807135003471126,
          2.0944432941753592,
          3.7700199929716867,
          3.6411766277950584,
          2.3205932352319096,
          0.7021154653703796,
          -0.4869937248457048,
          -0.9472793056346274,
          -0.8063278661759272,
          -0.41707168814297807,
          -0.10132981530651529,
          0.015329966645670802,
          0.005845504907110563,
          0.012148300261375908,
          0.08924722147632672,
          0.1359250924641372,
          -0.03511710740045868,
          -0.5275821813740598,
          -1.20450011468501,
          -1.6644025319388775,
          -1.406087861546227,
          -0.12812983786268595,
          1.9869353074428984,
          4.181017966782444,
          5.331078747601618,
          4.429843335222545,
          1.1512459844135254,
          -3.772202996982067,
          -8.598538296952015,
          -11.13010500947375,
          -9.620757964683426,
          -3.685445412865047,
          5.2095712907063625,
          13.984933111426388,
          18.95014712757387,
          17.26871132051003,
          8.328905868504426,
          -5.589301967968174,
          -19.75506095158345,
          -28.527914840355116,
          -27.52425531458654,
          -15.600625916881887,
          4.193406414414749,
          25.230451439833406,
          39.45306013057669,
          40.3869983573592,
          25.916245411443654,
          -0.32410157275869816,
          -29.662251275627042,
          -51.17769088604759,
          -55.69836197968037,
          -39.566479622740516,
          -6.667679233176197,
          32.25688063118889,
          63.030317088403486,
          73.13895953324287,
          56.698762854251584,
          17.354455763966904
         ]
        }
       ],
       "layout": {
        "showlegend": true,
        "template": {
         "data": {
          "bar": [
           {
            "error_x": {
             "color": "#2a3f5f"
            },
            "error_y": {
             "color": "#2a3f5f"
            },
            "marker": {
             "line": {
              "color": "#E5ECF6",
              "width": 0.5
             },
             "pattern": {
              "fillmode": "overlay",
              "size": 10,
              "solidity": 0.2
             }
            },
            "type": "bar"
           }
          ],
          "barpolar": [
           {
            "marker": {
             "line": {
              "color": "#E5ECF6",
              "width": 0.5
             },
             "pattern": {
              "fillmode": "overlay",
              "size": 10,
              "solidity": 0.2
             }
            },
            "type": "barpolar"
           }
          ],
          "carpet": [
           {
            "aaxis": {
             "endlinecolor": "#2a3f5f",
             "gridcolor": "white",
             "linecolor": "white",
             "minorgridcolor": "white",
             "startlinecolor": "#2a3f5f"
            },
            "baxis": {
             "endlinecolor": "#2a3f5f",
             "gridcolor": "white",
             "linecolor": "white",
             "minorgridcolor": "white",
             "startlinecolor": "#2a3f5f"
            },
            "type": "carpet"
           }
          ],
          "choropleth": [
           {
            "colorbar": {
             "outlinewidth": 0,
             "ticks": ""
            },
            "type": "choropleth"
           }
          ],
          "contour": [
           {
            "colorbar": {
             "outlinewidth": 0,
             "ticks": ""
            },
            "colorscale": [
             [
              0,
              "#0d0887"
             ],
             [
              0.1111111111111111,
              "#46039f"
             ],
             [
              0.2222222222222222,
              "#7201a8"
             ],
             [
              0.3333333333333333,
              "#9c179e"
             ],
             [
              0.4444444444444444,
              "#bd3786"
             ],
             [
              0.5555555555555556,
              "#d8576b"
             ],
             [
              0.6666666666666666,
              "#ed7953"
             ],
             [
              0.7777777777777778,
              "#fb9f3a"
             ],
             [
              0.8888888888888888,
              "#fdca26"
             ],
             [
              1,
              "#f0f921"
             ]
            ],
            "type": "contour"
           }
          ],
          "contourcarpet": [
           {
            "colorbar": {
             "outlinewidth": 0,
             "ticks": ""
            },
            "type": "contourcarpet"
           }
          ],
          "heatmap": [
           {
            "colorbar": {
             "outlinewidth": 0,
             "ticks": ""
            },
            "colorscale": [
             [
              0,
              "#0d0887"
             ],
             [
              0.1111111111111111,
              "#46039f"
             ],
             [
              0.2222222222222222,
              "#7201a8"
             ],
             [
              0.3333333333333333,
              "#9c179e"
             ],
             [
              0.4444444444444444,
              "#bd3786"
             ],
             [
              0.5555555555555556,
              "#d8576b"
             ],
             [
              0.6666666666666666,
              "#ed7953"
             ],
             [
              0.7777777777777778,
              "#fb9f3a"
             ],
             [
              0.8888888888888888,
              "#fdca26"
             ],
             [
              1,
              "#f0f921"
             ]
            ],
            "type": "heatmap"
           }
          ],
          "heatmapgl": [
           {
            "colorbar": {
             "outlinewidth": 0,
             "ticks": ""
            },
            "colorscale": [
             [
              0,
              "#0d0887"
             ],
             [
              0.1111111111111111,
              "#46039f"
             ],
             [
              0.2222222222222222,
              "#7201a8"
             ],
             [
              0.3333333333333333,
              "#9c179e"
             ],
             [
              0.4444444444444444,
              "#bd3786"
             ],
             [
              0.5555555555555556,
              "#d8576b"
             ],
             [
              0.6666666666666666,
              "#ed7953"
             ],
             [
              0.7777777777777778,
              "#fb9f3a"
             ],
             [
              0.8888888888888888,
              "#fdca26"
             ],
             [
              1,
              "#f0f921"
             ]
            ],
            "type": "heatmapgl"
           }
          ],
          "histogram": [
           {
            "marker": {
             "pattern": {
              "fillmode": "overlay",
              "size": 10,
              "solidity": 0.2
             }
            },
            "type": "histogram"
           }
          ],
          "histogram2d": [
           {
            "colorbar": {
             "outlinewidth": 0,
             "ticks": ""
            },
            "colorscale": [
             [
              0,
              "#0d0887"
             ],
             [
              0.1111111111111111,
              "#46039f"
             ],
             [
              0.2222222222222222,
              "#7201a8"
             ],
             [
              0.3333333333333333,
              "#9c179e"
             ],
             [
              0.4444444444444444,
              "#bd3786"
             ],
             [
              0.5555555555555556,
              "#d8576b"
             ],
             [
              0.6666666666666666,
              "#ed7953"
             ],
             [
              0.7777777777777778,
              "#fb9f3a"
             ],
             [
              0.8888888888888888,
              "#fdca26"
             ],
             [
              1,
              "#f0f921"
             ]
            ],
            "type": "histogram2d"
           }
          ],
          "histogram2dcontour": [
           {
            "colorbar": {
             "outlinewidth": 0,
             "ticks": ""
            },
            "colorscale": [
             [
              0,
              "#0d0887"
             ],
             [
              0.1111111111111111,
              "#46039f"
             ],
             [
              0.2222222222222222,
              "#7201a8"
             ],
             [
              0.3333333333333333,
              "#9c179e"
             ],
             [
              0.4444444444444444,
              "#bd3786"
             ],
             [
              0.5555555555555556,
              "#d8576b"
             ],
             [
              0.6666666666666666,
              "#ed7953"
             ],
             [
              0.7777777777777778,
              "#fb9f3a"
             ],
             [
              0.8888888888888888,
              "#fdca26"
             ],
             [
              1,
              "#f0f921"
             ]
            ],
            "type": "histogram2dcontour"
           }
          ],
          "mesh3d": [
           {
            "colorbar": {
             "outlinewidth": 0,
             "ticks": ""
            },
            "type": "mesh3d"
           }
          ],
          "parcoords": [
           {
            "line": {
             "colorbar": {
              "outlinewidth": 0,
              "ticks": ""
             }
            },
            "type": "parcoords"
           }
          ],
          "pie": [
           {
            "automargin": true,
            "type": "pie"
           }
          ],
          "scatter": [
           {
            "fillpattern": {
             "fillmode": "overlay",
             "size": 10,
             "solidity": 0.2
            },
            "type": "scatter"
           }
          ],
          "scatter3d": [
           {
            "line": {
             "colorbar": {
              "outlinewidth": 0,
              "ticks": ""
             }
            },
            "marker": {
             "colorbar": {
              "outlinewidth": 0,
              "ticks": ""
             }
            },
            "type": "scatter3d"
           }
          ],
          "scattercarpet": [
           {
            "marker": {
             "colorbar": {
              "outlinewidth": 0,
              "ticks": ""
             }
            },
            "type": "scattercarpet"
           }
          ],
          "scattergeo": [
           {
            "marker": {
             "colorbar": {
              "outlinewidth": 0,
              "ticks": ""
             }
            },
            "type": "scattergeo"
           }
          ],
          "scattergl": [
           {
            "marker": {
             "colorbar": {
              "outlinewidth": 0,
              "ticks": ""
             }
            },
            "type": "scattergl"
           }
          ],
          "scattermapbox": [
           {
            "marker": {
             "colorbar": {
              "outlinewidth": 0,
              "ticks": ""
             }
            },
            "type": "scattermapbox"
           }
          ],
          "scatterpolar": [
           {
            "marker": {
             "colorbar": {
              "outlinewidth": 0,
              "ticks": ""
             }
            },
            "type": "scatterpolar"
           }
          ],
          "scatterpolargl": [
           {
            "marker": {
             "colorbar": {
              "outlinewidth": 0,
              "ticks": ""
             }
            },
            "type": "scatterpolargl"
           }
          ],
          "scatterternary": [
           {
            "marker": {
             "colorbar": {
              "outlinewidth": 0,
              "ticks": ""
             }
            },
            "type": "scatterternary"
           }
          ],
          "surface": [
           {
            "colorbar": {
             "outlinewidth": 0,
             "ticks": ""
            },
            "colorscale": [
             [
              0,
              "#0d0887"
             ],
             [
              0.1111111111111111,
              "#46039f"
             ],
             [
              0.2222222222222222,
              "#7201a8"
             ],
             [
              0.3333333333333333,
              "#9c179e"
             ],
             [
              0.4444444444444444,
              "#bd3786"
             ],
             [
              0.5555555555555556,
              "#d8576b"
             ],
             [
              0.6666666666666666,
              "#ed7953"
             ],
             [
              0.7777777777777778,
              "#fb9f3a"
             ],
             [
              0.8888888888888888,
              "#fdca26"
             ],
             [
              1,
              "#f0f921"
             ]
            ],
            "type": "surface"
           }
          ],
          "table": [
           {
            "cells": {
             "fill": {
              "color": "#EBF0F8"
             },
             "line": {
              "color": "white"
             }
            },
            "header": {
             "fill": {
              "color": "#C8D4E3"
             },
             "line": {
              "color": "white"
             }
            },
            "type": "table"
           }
          ]
         },
         "layout": {
          "annotationdefaults": {
           "arrowcolor": "#2a3f5f",
           "arrowhead": 0,
           "arrowwidth": 1
          },
          "autotypenumbers": "strict",
          "coloraxis": {
           "colorbar": {
            "outlinewidth": 0,
            "ticks": ""
           }
          },
          "colorscale": {
           "diverging": [
            [
             0,
             "#8e0152"
            ],
            [
             0.1,
             "#c51b7d"
            ],
            [
             0.2,
             "#de77ae"
            ],
            [
             0.3,
             "#f1b6da"
            ],
            [
             0.4,
             "#fde0ef"
            ],
            [
             0.5,
             "#f7f7f7"
            ],
            [
             0.6,
             "#e6f5d0"
            ],
            [
             0.7,
             "#b8e186"
            ],
            [
             0.8,
             "#7fbc41"
            ],
            [
             0.9,
             "#4d9221"
            ],
            [
             1,
             "#276419"
            ]
           ],
           "sequential": [
            [
             0,
             "#0d0887"
            ],
            [
             0.1111111111111111,
             "#46039f"
            ],
            [
             0.2222222222222222,
             "#7201a8"
            ],
            [
             0.3333333333333333,
             "#9c179e"
            ],
            [
             0.4444444444444444,
             "#bd3786"
            ],
            [
             0.5555555555555556,
             "#d8576b"
            ],
            [
             0.6666666666666666,
             "#ed7953"
            ],
            [
             0.7777777777777778,
             "#fb9f3a"
            ],
            [
             0.8888888888888888,
             "#fdca26"
            ],
            [
             1,
             "#f0f921"
            ]
           ],
           "sequentialminus": [
            [
             0,
             "#0d0887"
            ],
            [
             0.1111111111111111,
             "#46039f"
            ],
            [
             0.2222222222222222,
             "#7201a8"
            ],
            [
             0.3333333333333333,
             "#9c179e"
            ],
            [
             0.4444444444444444,
             "#bd3786"
            ],
            [
             0.5555555555555556,
             "#d8576b"
            ],
            [
             0.6666666666666666,
             "#ed7953"
            ],
            [
             0.7777777777777778,
             "#fb9f3a"
            ],
            [
             0.8888888888888888,
             "#fdca26"
            ],
            [
             1,
             "#f0f921"
            ]
           ]
          },
          "colorway": [
           "#636efa",
           "#EF553B",
           "#00cc96",
           "#ab63fa",
           "#FFA15A",
           "#19d3f3",
           "#FF6692",
           "#B6E880",
           "#FF97FF",
           "#FECB52"
          ],
          "font": {
           "color": "#2a3f5f"
          },
          "geo": {
           "bgcolor": "white",
           "lakecolor": "white",
           "landcolor": "#E5ECF6",
           "showlakes": true,
           "showland": true,
           "subunitcolor": "white"
          },
          "hoverlabel": {
           "align": "left"
          },
          "hovermode": "closest",
          "mapbox": {
           "style": "light"
          },
          "paper_bgcolor": "white",
          "plot_bgcolor": "#E5ECF6",
          "polar": {
           "angularaxis": {
            "gridcolor": "white",
            "linecolor": "white",
            "ticks": ""
           },
           "bgcolor": "#E5ECF6",
           "radialaxis": {
            "gridcolor": "white",
            "linecolor": "white",
            "ticks": ""
           }
          },
          "scene": {
           "xaxis": {
            "backgroundcolor": "#E5ECF6",
            "gridcolor": "white",
            "gridwidth": 2,
            "linecolor": "white",
            "showbackground": true,
            "ticks": "",
            "zerolinecolor": "white"
           },
           "yaxis": {
            "backgroundcolor": "#E5ECF6",
            "gridcolor": "white",
            "gridwidth": 2,
            "linecolor": "white",
            "showbackground": true,
            "ticks": "",
            "zerolinecolor": "white"
           },
           "zaxis": {
            "backgroundcolor": "#E5ECF6",
            "gridcolor": "white",
            "gridwidth": 2,
            "linecolor": "white",
            "showbackground": true,
            "ticks": "",
            "zerolinecolor": "white"
           }
          },
          "shapedefaults": {
           "line": {
            "color": "#2a3f5f"
           }
          },
          "ternary": {
           "aaxis": {
            "gridcolor": "white",
            "linecolor": "white",
            "ticks": ""
           },
           "baxis": {
            "gridcolor": "white",
            "linecolor": "white",
            "ticks": ""
           },
           "bgcolor": "#E5ECF6",
           "caxis": {
            "gridcolor": "white",
            "linecolor": "white",
            "ticks": ""
           }
          },
          "title": {
           "x": 0.05
          },
          "xaxis": {
           "automargin": true,
           "gridcolor": "white",
           "linecolor": "white",
           "ticks": "",
           "title": {
            "standoff": 15
           },
           "zerolinecolor": "white",
           "zerolinewidth": 2
          },
          "yaxis": {
           "automargin": true,
           "gridcolor": "white",
           "linecolor": "white",
           "ticks": "",
           "title": {
            "standoff": 15
           },
           "zerolinecolor": "white",
           "zerolinewidth": 2
          }
         }
        },
        "title": {
         "text": "Objective Function Plot"
        },
        "xaxis": {
         "title": {
          "text": "x"
         }
        },
        "yaxis": {
         "title": {
          "text": "Objective Function Value"
         }
        }
       }
      }
     },
     "metadata": {},
     "output_type": "display_data"
    }
   ],
   "source": [
    "import numpy as np\n",
    "import plotly.graph_objects as go\n",
    "\n",
    "def sinusoidal_synthetic(x: np.ndarray) -> np.ndarray:\n",
    "    r\"\"\"\n",
    "    Computes the function f(x) = -(x-1)^2 * \\sin(3x + 5^{-1} + 1) for a given numpy input x.\n",
    "\n",
    "    Args:\n",
    "        x (np.ndarray): Input array of shape (N, 1) where N is the number of data points.\n",
    "                        If the input is (N,), it will be automatically reshaped to (N, 1).\n",
    "\n",
    "    Returns:\n",
    "        np.ndarray: Output array of shape (N, 1) representing the computed values of f(x).\n",
    "\n",
    "    f(x) = -(x-1)^2 \\sin(3x + 5^{-1} + 1)\n",
    "    \"\"\"\n",
    "    # If the input is of shape (N,), reshape it to (N, 1)\n",
    "    if x.ndim == 1:\n",
    "        x = x[:, None]\n",
    "    elif x.ndim == 2 and x.shape[1] == 1:\n",
    "        pass\n",
    "    else:\n",
    "        raise ValueError(\"Input must be of shape (N,) or (N, 1)\")\n",
    "\n",
    "    # Compute the function\n",
    "    term1 = -(x - 1) ** 2\n",
    "    term2 = np.sin(3 * x + 1 / 5 + 1)\n",
    "    val = term1 * term2\n",
    "    return val\n",
    "\n",
    "\n",
    "\n",
    "# Define the objective function\n",
    "def objective_function(x):\n",
    "    return sinusoidal_synthetic(x)\n",
    "\n",
    "# Generate input data (e.g., from -10 to 10)\n",
    "x_values = np.linspace(-10, 10, 100).reshape(-1, 1)\n",
    "y_values = objective_function(x_values)\n",
    "\n",
    "# Create the plot\n",
    "fig = go.Figure()\n",
    "\n",
    "# Add trace for the objective function\n",
    "fig.add_trace(go.Scatter(x=x_values.flatten(), y=y_values.flatten(), mode='lines', name='Objective Function'))\n",
    "\n",
    "# Update layout\n",
    "fig.update_layout(\n",
    "    title=\"Objective Function Plot\",\n",
    "    xaxis_title=\"x\",\n",
    "    yaxis_title=\"Objective Function Value\",\n",
    "    showlegend=True\n",
    ")\n",
    "\n",
    "# Show the plot\n",
    "fig.show()\n"
   ]
  },
  {
   "cell_type": "code",
   "execution_count": 5,
   "metadata": {},
   "outputs": [],
   "source": [
    "import sys\n",
    "sys.path.append('..')\n",
    "\n",
    "\n",
    "import jax\n",
    "import jax.numpy as jnp\n",
    "import numpy as np\n",
    "from gpax.acquisition import EI, optimize_acq\n",
    "from gpax.models.gp import ExactGP\n",
    "from jax import random\n",
    "\n",
    "from src.utils_bo import DataTransformer, generate_initial_data\n",
    "\n",
    "\n",
    "# Define the main function for running Bayesian Optimization\n",
    "def run_bo(experiment_settings):\n",
    "    # Extract settings from the dictionary\n",
    "    search_space = experiment_settings[\"search_space\"]\n",
    "    num_iterations = experiment_settings[\"num_iterations\"]\n",
    "    objective_function = experiment_settings[\"objective_function\"]\n",
    "\n",
    "    # Acquisition and surrogate settings\n",
    "    acq_settings = experiment_settings[\"acquisition\"]\n",
    "    surrogate_settings = experiment_settings[\"surrogate\"]\n",
    "\n",
    "    # Create the data transformer for normalization and standardization\n",
    "    data_transformer = DataTransformer(search_space, surrogate_settings)\n",
    "\n",
    "    # Step 1: Generate initial data using Sobol sequences\n",
    "    X_init, y_init = generate_initial_data(\n",
    "        objective_function, search_space, n=acq_settings[\"num_initial_guesses\"]\n",
    "    )\n",
    "\n",
    "    # Normalize the search space bounds\n",
    "    lb_normalized = data_transformer.normalize(\n",
    "        search_space[0].reshape(1, search_space.shape[1])\n",
    "    )\n",
    "    ub_normalized = data_transformer.normalize(\n",
    "        search_space[1].reshape(1, search_space.shape[1])\n",
    "    )\n",
    "\n",
    "    # Initialize history with the original (non-transformed) initial data\n",
    "    X_history = X_init\n",
    "    y_history = y_init\n",
    "\n",
    "    # Apply transformations (normalization and standardization)\n",
    "    X_normalized, y_standardized = data_transformer.apply_transformation(X_init, y_init)\n",
    "\n",
    "    # Step 2: Initialize the GP model\n",
    "    rng_key = random.PRNGKey(0)  # JAX random number generator\n",
    "    gp_model = ExactGP(\n",
    "        input_dim=search_space.shape[1], kernel=surrogate_settings[\"kernel\"]\n",
    "    )  # Using specified kernel\n",
    "    gp_model.fit(rng_key, jnp.array(X_normalized), jnp.array(y_standardized))\n",
    "\n",
    "    # Step 3: Main loop for Bayesian optimization\n",
    "    for i in range(num_iterations):\n",
    "        # Step 3.1: Optimize the acquisition function to find the next point\n",
    "        X_next_normalized = optimize_acq(\n",
    "            rng_key,\n",
    "            gp_model,\n",
    "            EI,\n",
    "            num_initial_guesses=acq_settings[\"num_initial_guesses\"],\n",
    "            lower_bound=lb_normalized,  # In normalized space\n",
    "            upper_bound=ub_normalized,  # In normalized space\n",
    "            best_f=jnp.min(jnp.array(y_standardized)),\n",
    "            maximize=acq_settings[\"maximize\"],\n",
    "            n=acq_settings[\"num_samples\"],\n",
    "        )\n",
    "\n",
    "        X_next_normalized = X_next_normalized.reshape(1, search_space.shape[1])  # Ensure shape is (1, search_space.shape[1])\n",
    "        \n",
    "        print()\n",
    "        print(f'x_next_normalized: {X_next_normalized}')\n",
    "\n",
    "        # Step 3.2: Inverse-transform the input back to original space\n",
    "        X_next = data_transformer.inverse_normalize(X_next_normalized)\n",
    "\n",
    "        print(f'x_next: {X_next}')  \n",
    "        print()\n",
    "\n",
    "        # Step 3.3: Evaluate the objective function at the selected point\n",
    "        y_next = objective_function(X_next)\n",
    "\n",
    "        # Step 3.4: Add the new (non-transformed) data point to the history\n",
    "        X_history = np.vstack((X_history, np.array(X_next)))\n",
    "        y_history = np.vstack((y_history, np.array(y_next)))\n",
    "\n",
    "        # Apply transformations to the updated dataset (for GP model fitting)\n",
    "        X_transformed, y_transformed = data_transformer.apply_transformation(X_history, y_history)\n",
    "\n",
    "        # Step 3.5: Re-train the GP model with the updated transformed dataset\n",
    "        gp_model.fit(rng_key, jnp.array(X_transformed), jnp.array(y_transformed))\n",
    "\n",
    "        # Step 3.6: Display progress\n",
    "        print(f\"Iteration {i + 1}: X_next = {X_next}, y_next = {y_next}\")\n",
    "\n",
    "    return X_history, y_history"
   ]
  },
  {
   "cell_type": "code",
   "execution_count": 7,
   "metadata": {},
   "outputs": [
    {
     "name": "stderr",
     "output_type": "stream",
     "text": [
      "sample: 100%|██████████| 4000/4000 [00:01<00:00, 2848.01it/s, 3 steps of size 6.50e-01. acc. prob=0.81]\n"
     ]
    },
    {
     "name": "stdout",
     "output_type": "stream",
     "text": [
      "\n",
      "                 mean       std    median      5.0%     95.0%     n_eff     r_hat\n",
      "k_length[0]      1.24      1.88      0.57      0.03      2.88    970.03      1.00\n",
      "    k_scale      1.15      1.32      0.74      0.04      2.50   1117.88      1.00\n",
      "      noise      1.12      0.72      0.97      0.17      2.01    853.72      1.00\n",
      "\n",
      "\n",
      "x_next_normalized: [[0.56605595]]\n",
      "x_next: [[1.3211193]]\n",
      "\n"
     ]
    },
    {
     "name": "stderr",
     "output_type": "stream",
     "text": [
      "sample: 100%|██████████| 4000/4000 [00:01<00:00, 2742.79it/s, 3 steps of size 5.54e-01. acc. prob=0.82]\n"
     ]
    },
    {
     "name": "stdout",
     "output_type": "stream",
     "text": [
      "\n",
      "                 mean       std    median      5.0%     95.0%     n_eff     r_hat\n",
      "k_length[0]      1.05      1.75      0.43      0.05      2.45    796.55      1.00\n",
      "    k_scale      1.29      1.45      0.83      0.06      2.80    834.29      1.00\n",
      "      noise      0.98      0.66      0.83      0.15      1.80    879.82      1.00\n",
      "\n",
      "Iteration 1: X_next = [[1.3211193]], y_next = [[0.09280846]]\n",
      "\n",
      "x_next_normalized: [[0.5599238]]\n",
      "x_next: [[1.1984768]]\n",
      "\n"
     ]
    },
    {
     "name": "stderr",
     "output_type": "stream",
     "text": [
      "sample: 100%|██████████| 4000/4000 [00:01<00:00, 2549.00it/s, 3 steps of size 3.55e-01. acc. prob=0.93] \n"
     ]
    },
    {
     "name": "stdout",
     "output_type": "stream",
     "text": [
      "\n",
      "                 mean       std    median      5.0%     95.0%     n_eff     r_hat\n",
      "k_length[0]      0.86      1.40      0.36      0.03      2.21    676.88      1.00\n",
      "    k_scale      1.44      1.50      0.99      0.05      3.18    786.80      1.00\n",
      "      noise      0.84      0.60      0.69      0.11      1.57    642.15      1.00\n",
      "\n",
      "Iteration 2: X_next = [[1.1984768]], y_next = [[0.03925729]]\n",
      "\n",
      "x_next_normalized: [[0.5611017]]\n",
      "x_next: [[1.2220335]]\n",
      "\n"
     ]
    },
    {
     "name": "stderr",
     "output_type": "stream",
     "text": [
      "sample: 100%|██████████| 4000/4000 [00:01<00:00, 2628.95it/s, 3 steps of size 4.10e-01. acc. prob=0.88] \n"
     ]
    },
    {
     "name": "stdout",
     "output_type": "stream",
     "text": [
      "\n",
      "                 mean       std    median      5.0%     95.0%     n_eff     r_hat\n",
      "k_length[0]      0.72      1.30      0.31      0.02      1.72    701.60      1.00\n",
      "    k_scale      1.59      1.64      1.10      0.07      3.46    753.36      1.00\n",
      "      noise      0.71      0.52      0.56      0.13      1.41    639.42      1.00\n",
      "\n",
      "Iteration 3: X_next = [[1.2220335]], y_next = [[0.04871763]]\n",
      "\n",
      "x_next_normalized: [[0.56622666]]\n",
      "x_next: [[1.3245335]]\n",
      "\n"
     ]
    },
    {
     "name": "stderr",
     "output_type": "stream",
     "text": [
      "sample: 100%|██████████| 4000/4000 [00:01<00:00, 2287.32it/s, 3 steps of size 4.18e-01. acc. prob=0.91]\n"
     ]
    },
    {
     "name": "stdout",
     "output_type": "stream",
     "text": [
      "\n",
      "                 mean       std    median      5.0%     95.0%     n_eff     r_hat\n",
      "k_length[0]      0.51      0.98      0.27      0.04      0.90    529.34      1.00\n",
      "    k_scale      1.81      1.74      1.28      0.04      3.81    625.44      1.00\n",
      "      noise      0.60      0.47      0.45      0.10      1.22    515.50      1.00\n",
      "\n",
      "Iteration 4: X_next = [[1.3245335]], y_next = [[0.09431731]]\n",
      "\n",
      "x_next_normalized: [[0.60602033]]\n",
      "x_next: [[2.120407]]\n",
      "\n"
     ]
    },
    {
     "name": "stderr",
     "output_type": "stream",
     "text": [
      "sample: 100%|██████████| 4000/4000 [00:01<00:00, 2222.53it/s, 3 steps of size 4.13e-01. acc. prob=0.93] \n"
     ]
    },
    {
     "name": "stdout",
     "output_type": "stream",
     "text": [
      "\n",
      "                 mean       std    median      5.0%     95.0%     n_eff     r_hat\n",
      "k_length[0]      0.38      0.65      0.26      0.07      0.53    420.18      1.00\n",
      "    k_scale      2.12      2.04      1.55      0.15      4.42    867.71      1.00\n",
      "      noise      0.47      0.36      0.36      0.09      0.95    559.61      1.00\n",
      "\n",
      "Iteration 5: X_next = [[2.120407]], y_next = [[-1.2018996]]\n",
      "\n",
      "x_next_normalized: [[0.55307674]]\n",
      "x_next: [[1.0615349]]\n",
      "\n"
     ]
    },
    {
     "name": "stderr",
     "output_type": "stream",
     "text": [
      "sample: 100%|██████████| 4000/4000 [00:02<00:00, 1622.58it/s, 3 steps of size 5.00e-01. acc. prob=0.88]\n"
     ]
    },
    {
     "name": "stdout",
     "output_type": "stream",
     "text": [
      "\n",
      "                 mean       std    median      5.0%     95.0%     n_eff     r_hat\n",
      "k_length[0]      0.31      0.39      0.24      0.07      0.47    438.08      1.00\n",
      "    k_scale      2.26      2.15      1.66      0.09      4.60    837.18      1.00\n",
      "      noise      0.40      0.29      0.31      0.07      0.77    615.21      1.00\n",
      "\n",
      "Iteration 6: X_next = [[1.0615349]], y_next = [[0.00358494]]\n",
      "\n",
      "x_next_normalized: [[0.6290013]]\n",
      "x_next: [[2.5800266]]\n",
      "\n"
     ]
    },
    {
     "name": "stderr",
     "output_type": "stream",
     "text": [
      "sample: 100%|██████████| 4000/4000 [00:02<00:00, 1947.97it/s, 3 steps of size 4.91e-01. acc. prob=0.91] \n"
     ]
    },
    {
     "name": "stdout",
     "output_type": "stream",
     "text": [
      "\n",
      "                 mean       std    median      5.0%     95.0%     n_eff     r_hat\n",
      "k_length[0]      0.28      0.29      0.23      0.08      0.44    319.91      1.00\n",
      "    k_scale      2.43      2.22      1.81      0.27      4.88    989.49      1.00\n",
      "      noise      0.34      0.23      0.28      0.08      0.61    670.95      1.00\n",
      "\n",
      "Iteration 7: X_next = [[2.5800266]], y_next = [[-1.1632153]]\n",
      "\n",
      "x_next_normalized: [[0.5998972]]\n",
      "x_next: [[1.9979439]]\n",
      "\n"
     ]
    },
    {
     "name": "stderr",
     "output_type": "stream",
     "text": [
      "sample: 100%|██████████| 4000/4000 [00:01<00:00, 2286.16it/s, 3 steps of size 5.95e-01. acc. prob=0.86]\n"
     ]
    },
    {
     "name": "stdout",
     "output_type": "stream",
     "text": [
      "\n",
      "                 mean       std    median      5.0%     95.0%     n_eff     r_hat\n",
      "k_length[0]      0.25      0.20      0.21      0.08      0.43    743.79      1.00\n",
      "    k_scale      2.60      2.15      1.96      0.31      5.22    862.22      1.00\n",
      "      noise      0.30      0.20      0.25      0.06      0.52    727.23      1.00\n",
      "\n",
      "Iteration 8: X_next = [[1.9979439]], y_next = [[-0.7866552]]\n",
      "\n",
      "x_next_normalized: [[0.64714265]]\n",
      "x_next: [[2.942853]]\n",
      "\n"
     ]
    },
    {
     "name": "stderr",
     "output_type": "stream",
     "text": [
      "sample: 100%|██████████| 4000/4000 [00:01<00:00, 2250.79it/s, 3 steps of size 4.76e-01. acc. prob=0.93]\n"
     ]
    },
    {
     "name": "stdout",
     "output_type": "stream",
     "text": [
      "\n",
      "                 mean       std    median      5.0%     95.0%     n_eff     r_hat\n",
      "k_length[0]      0.25      0.18      0.22      0.07      0.41    686.27      1.00\n",
      "    k_scale      2.80      2.44      2.11      0.38      5.66    992.77      1.00\n",
      "      noise      0.28      0.19      0.23      0.08      0.48    576.83      1.00\n",
      "\n",
      "Iteration 9: X_next = [[2.942853]], y_next = [[2.1431065]]\n",
      "\n",
      "x_next_normalized: [[0.47168505]]\n",
      "x_next: [[-0.56629944]]\n",
      "\n"
     ]
    },
    {
     "name": "stderr",
     "output_type": "stream",
     "text": [
      "sample: 100%|██████████| 4000/4000 [00:01<00:00, 2163.89it/s, 3 steps of size 5.60e-01. acc. prob=0.88]"
     ]
    },
    {
     "name": "stdout",
     "output_type": "stream",
     "text": [
      "\n",
      "                 mean       std    median      5.0%     95.0%     n_eff     r_hat\n",
      "k_length[0]      0.24      0.12      0.21      0.09      0.41    974.56      1.00\n",
      "    k_scale      2.90      2.44      2.15      0.39      5.99    884.11      1.00\n",
      "      noise      0.25      0.13      0.22      0.09      0.43    912.80      1.00\n",
      "\n",
      "Iteration 10: X_next = [[-0.56629944]], y_next = [[1.173799]]\n",
      "\n",
      "\n",
      "\n",
      "\n",
      "\n",
      "Final X history (in original space): [[ 4.49151982]\n",
      " [-7.58229332]\n",
      " [-2.70112146]\n",
      " [ 9.60065803]\n",
      " [ 5.4327099 ]\n",
      " [-2.34176656]\n",
      " [-7.37522177]\n",
      " [ 0.47585385]\n",
      " [ 1.32111931]\n",
      " [ 1.19847679]\n",
      " [ 1.2220335 ]\n",
      " [ 1.32453346]\n",
      " [ 2.1204071 ]\n",
      " [ 1.06153488]\n",
      " [ 2.58002663]\n",
      " [ 1.99794388]\n",
      " [ 2.94285297]\n",
      " [-0.56629944]]\n",
      "Final y history: [[-1.04723857e+01]\n",
      " [ 3.16570689e+01]\n",
      " [ 7.96119017e+00]\n",
      " [ 7.30633350e+01]\n",
      " [ 1.91780252e+01]\n",
      " [-4.93657898e+00]\n",
      " [ 6.13779081e+01]\n",
      " [-1.35081978e-01]\n",
      " [ 9.28084552e-02]\n",
      " [ 3.92572917e-02]\n",
      " [ 4.87176254e-02]\n",
      " [ 9.43173096e-02]\n",
      " [-1.20189965e+00]\n",
      " [ 3.58493836e-03]\n",
      " [-1.16321528e+00]\n",
      " [-7.86655188e-01]\n",
      " [ 2.14310646e+00]\n",
      " [ 1.17379904e+00]]\n",
      "Optimal X: [4.49151982]\n",
      "Optimal y: [-10.47238571]\n"
     ]
    },
    {
     "name": "stderr",
     "output_type": "stream",
     "text": [
      "\n"
     ]
    }
   ],
   "source": [
    "objective_function = sinusoidal_synthetic\n",
    "\n",
    "# Example experiment settings\n",
    "experiment_settings = {\n",
    "    \"search_space\": np.array([[-10], [10]]),  # 1D search space example\n",
    "    \"num_iterations\": 10,  # Number of optimization iterations\n",
    "    \"objective_function\": objective_function,  # Actual objective function\n",
    "    \"acquisition\": {  # Acquisition function settings\n",
    "        \"num_samples\": 10,  # Number of samples for acquisition function\n",
    "        \"num_initial_guesses\": 10,  # Number of initial guesses for acquisition\n",
    "        \"maximize\": False,  # Whether to maximize the acquisition function\n",
    "    },\n",
    "    \"surrogate\": {  # Surrogate model (GP) settings\n",
    "        \"kernel\": \"RBF\",  # Kernel for GP model\n",
    "        \"normalize\": True,  # Whether to normalize inputs\n",
    "        \"standardize\": True,  # Whether to standardize outputs\n",
    "    },\n",
    "}\n",
    "\n",
    "# Run the Bayesian optimization\n",
    "X_history, y_history = run_bo(experiment_settings)\n",
    "\n",
    "# Final result\n",
    "print()\n",
    "print()\n",
    "print()\n",
    "print()\n",
    "print()\n",
    "print(\"Final X history (in original space):\", X_history)\n",
    "print(\"Final y history:\", y_history)\n",
    "\n",
    "# The final result is in X_history and y_history, containing all evaluated points and their original function values.\n",
    "optimal_index = np.argmin(y_history)\n",
    "print(f\"Optimal X: {X_history[optimal_index]}\")\n",
    "print(f\"Optimal y: {y_history[optimal_index]}\")"
   ]
  }
 ],
 "metadata": {
  "kernelspec": {
   "display_name": ".venv",
   "language": "python",
   "name": "python3"
  },
  "language_info": {
   "codemirror_mode": {
    "name": "ipython",
    "version": 3
   },
   "file_extension": ".py",
   "mimetype": "text/x-python",
   "name": "python",
   "nbconvert_exporter": "python",
   "pygments_lexer": "ipython3",
   "version": "3.12.5"
  }
 },
 "nbformat": 4,
 "nbformat_minor": 2
}
